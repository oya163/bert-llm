{
 "cells": [
  {
   "cell_type": "markdown",
   "id": "f94c371f",
   "metadata": {
    "id": "X1G263eDDq-t",
    "papermill": {
     "duration": 0.043136,
     "end_time": "2023-11-28T01:57:17.894530",
     "exception": false,
     "start_time": "2023-11-28T01:57:17.851394",
     "status": "completed"
    },
    "tags": []
   },
   "source": [
    "# Sentiment Analysis in Nepali Language\n",
    "\n",
    "This google colab is about sentiment analysis in Nepali language by fine-tuning BERT-derivative model. The dataset used in this notebook is mainly from [here](https://github.com/oya163/nepali-sentiment-analysis/blob/master/data/nepcls/csv/ss_ac_at_txt_unbal.csv)"
   ]
  },
  {
   "cell_type": "markdown",
   "id": "7f40c05c",
   "metadata": {
    "id": "S7wpfzHCy8de",
    "papermill": {
     "duration": 0.042277,
     "end_time": "2023-11-28T01:57:17.980140",
     "exception": false,
     "start_time": "2023-11-28T01:57:17.937863",
     "status": "completed"
    },
    "tags": []
   },
   "source": [
    "## Installation"
   ]
  },
  {
   "cell_type": "code",
   "execution_count": 1,
   "id": "3b32d1ac",
   "metadata": {
    "execution": {
     "iopub.execute_input": "2023-11-28T01:57:18.065669Z",
     "iopub.status.busy": "2023-11-28T01:57:18.065351Z",
     "iopub.status.idle": "2023-11-28T01:58:32.915282Z",
     "shell.execute_reply": "2023-11-28T01:58:32.914148Z"
    },
    "executionInfo": {
     "elapsed": 45370,
     "status": "ok",
     "timestamp": 1701052501220,
     "user": {
      "displayName": "Oyesh Singh",
      "userId": "14095812393031823613"
     },
     "user_tz": 300
    },
    "id": "F0TjG-9xD1B8",
    "outputId": "2a3cda94-38c3-455b-a06b-e3706feb52c6",
    "papermill": {
     "duration": 74.895733,
     "end_time": "2023-11-28T01:58:32.917755",
     "exception": false,
     "start_time": "2023-11-28T01:57:18.022022",
     "status": "completed"
    },
    "tags": []
   },
   "outputs": [
    {
     "name": "stdout",
     "output_type": "stream",
     "text": [
      "Requirement already satisfied: huggingface_hub in /opt/conda/lib/python3.10/site-packages (0.17.3)\r\n",
      "Collecting huggingface_hub\r\n",
      "  Obtaining dependency information for huggingface_hub from https://files.pythonhosted.org/packages/05/09/1945ca6ba3ad8ad6e2872ba682ce8d68c5e63c8e55458ed8ab4885709f1d/huggingface_hub-0.19.4-py3-none-any.whl.metadata\r\n",
      "  Downloading huggingface_hub-0.19.4-py3-none-any.whl.metadata (14 kB)\r\n",
      "Requirement already satisfied: filelock in /opt/conda/lib/python3.10/site-packages (from huggingface_hub) (3.12.2)\r\n",
      "Requirement already satisfied: fsspec>=2023.5.0 in /opt/conda/lib/python3.10/site-packages (from huggingface_hub) (2023.10.0)\r\n",
      "Requirement already satisfied: requests in /opt/conda/lib/python3.10/site-packages (from huggingface_hub) (2.31.0)\r\n",
      "Requirement already satisfied: tqdm>=4.42.1 in /opt/conda/lib/python3.10/site-packages (from huggingface_hub) (4.66.1)\r\n",
      "Requirement already satisfied: pyyaml>=5.1 in /opt/conda/lib/python3.10/site-packages (from huggingface_hub) (6.0.1)\r\n",
      "Requirement already satisfied: typing-extensions>=3.7.4.3 in /opt/conda/lib/python3.10/site-packages (from huggingface_hub) (4.5.0)\r\n",
      "Requirement already satisfied: packaging>=20.9 in /opt/conda/lib/python3.10/site-packages (from huggingface_hub) (21.3)\r\n",
      "Requirement already satisfied: pyparsing!=3.0.5,>=2.0.2 in /opt/conda/lib/python3.10/site-packages (from packaging>=20.9->huggingface_hub) (3.0.9)\r\n",
      "Requirement already satisfied: charset-normalizer<4,>=2 in /opt/conda/lib/python3.10/site-packages (from requests->huggingface_hub) (3.2.0)\r\n",
      "Requirement already satisfied: idna<4,>=2.5 in /opt/conda/lib/python3.10/site-packages (from requests->huggingface_hub) (3.4)\r\n",
      "Requirement already satisfied: urllib3<3,>=1.21.1 in /opt/conda/lib/python3.10/site-packages (from requests->huggingface_hub) (1.26.15)\r\n",
      "Requirement already satisfied: certifi>=2017.4.17 in /opt/conda/lib/python3.10/site-packages (from requests->huggingface_hub) (2023.7.22)\r\n",
      "Downloading huggingface_hub-0.19.4-py3-none-any.whl (311 kB)\r\n",
      "\u001b[2K   \u001b[90m━━━━━━━━━━━━━━━━━━━━━━━━━━━━━━━━━━━━━━━━\u001b[0m \u001b[32m311.7/311.7 kB\u001b[0m \u001b[31m9.1 MB/s\u001b[0m eta \u001b[36m0:00:00\u001b[0m\r\n",
      "\u001b[?25hInstalling collected packages: huggingface_hub\r\n",
      "  Attempting uninstall: huggingface_hub\r\n",
      "    Found existing installation: huggingface-hub 0.17.3\r\n",
      "    Uninstalling huggingface-hub-0.17.3:\r\n",
      "      Successfully uninstalled huggingface-hub-0.17.3\r\n",
      "\u001b[31mERROR: pip's dependency resolver does not currently take into account all the packages that are installed. This behaviour is the source of the following dependency conflicts.\r\n",
      "tokenizers 0.14.1 requires huggingface_hub<0.18,>=0.16.4, but you have huggingface-hub 0.19.4 which is incompatible.\u001b[0m\u001b[31m\r\n",
      "\u001b[0mSuccessfully installed huggingface_hub-0.19.4\r\n",
      "Requirement already satisfied: transformers in /opt/conda/lib/python3.10/site-packages (4.35.0)\r\n",
      "Collecting transformers\r\n",
      "  Obtaining dependency information for transformers from https://files.pythonhosted.org/packages/12/dd/f17b11a93a9ca27728e12512d167eb1281c151c4c6881d3ab59eb58f4127/transformers-4.35.2-py3-none-any.whl.metadata\r\n",
      "  Downloading transformers-4.35.2-py3-none-any.whl.metadata (123 kB)\r\n",
      "\u001b[2K     \u001b[90m━━━━━━━━━━━━━━━━━━━━━━━━━━━━━━━━━━━━━━━\u001b[0m \u001b[32m123.5/123.5 kB\u001b[0m \u001b[31m5.8 MB/s\u001b[0m eta \u001b[36m0:00:00\u001b[0m\r\n",
      "\u001b[?25hRequirement already satisfied: filelock in /opt/conda/lib/python3.10/site-packages (from transformers) (3.12.2)\r\n",
      "Requirement already satisfied: huggingface-hub<1.0,>=0.16.4 in /opt/conda/lib/python3.10/site-packages (from transformers) (0.19.4)\r\n",
      "Requirement already satisfied: numpy>=1.17 in /opt/conda/lib/python3.10/site-packages (from transformers) (1.24.3)\r\n",
      "Requirement already satisfied: packaging>=20.0 in /opt/conda/lib/python3.10/site-packages (from transformers) (21.3)\r\n",
      "Requirement already satisfied: pyyaml>=5.1 in /opt/conda/lib/python3.10/site-packages (from transformers) (6.0.1)\r\n",
      "Requirement already satisfied: regex!=2019.12.17 in /opt/conda/lib/python3.10/site-packages (from transformers) (2023.8.8)\r\n",
      "Requirement already satisfied: requests in /opt/conda/lib/python3.10/site-packages (from transformers) (2.31.0)\r\n",
      "Requirement already satisfied: tokenizers<0.19,>=0.14 in /opt/conda/lib/python3.10/site-packages (from transformers) (0.14.1)\r\n",
      "Requirement already satisfied: safetensors>=0.3.1 in /opt/conda/lib/python3.10/site-packages (from transformers) (0.4.0)\r\n",
      "Requirement already satisfied: tqdm>=4.27 in /opt/conda/lib/python3.10/site-packages (from transformers) (4.66.1)\r\n",
      "Requirement already satisfied: fsspec>=2023.5.0 in /opt/conda/lib/python3.10/site-packages (from huggingface-hub<1.0,>=0.16.4->transformers) (2023.10.0)\r\n",
      "Requirement already satisfied: typing-extensions>=3.7.4.3 in /opt/conda/lib/python3.10/site-packages (from huggingface-hub<1.0,>=0.16.4->transformers) (4.5.0)\r\n",
      "Requirement already satisfied: pyparsing!=3.0.5,>=2.0.2 in /opt/conda/lib/python3.10/site-packages (from packaging>=20.0->transformers) (3.0.9)\r\n",
      "Collecting huggingface-hub<1.0,>=0.16.4 (from transformers)\r\n",
      "  Obtaining dependency information for huggingface-hub<1.0,>=0.16.4 from https://files.pythonhosted.org/packages/aa/f3/3fc97336a0e90516901befd4f500f08d691034d387406fdbde85bea827cc/huggingface_hub-0.17.3-py3-none-any.whl.metadata\r\n",
      "  Downloading huggingface_hub-0.17.3-py3-none-any.whl.metadata (13 kB)\r\n",
      "Requirement already satisfied: charset-normalizer<4,>=2 in /opt/conda/lib/python3.10/site-packages (from requests->transformers) (3.2.0)\r\n",
      "Requirement already satisfied: idna<4,>=2.5 in /opt/conda/lib/python3.10/site-packages (from requests->transformers) (3.4)\r\n",
      "Requirement already satisfied: urllib3<3,>=1.21.1 in /opt/conda/lib/python3.10/site-packages (from requests->transformers) (1.26.15)\r\n",
      "Requirement already satisfied: certifi>=2017.4.17 in /opt/conda/lib/python3.10/site-packages (from requests->transformers) (2023.7.22)\r\n",
      "Downloading transformers-4.35.2-py3-none-any.whl (7.9 MB)\r\n",
      "\u001b[2K   \u001b[90m━━━━━━━━━━━━━━━━━━━━━━━━━━━━━━━━━━━━━━━━\u001b[0m \u001b[32m7.9/7.9 MB\u001b[0m \u001b[31m79.1 MB/s\u001b[0m eta \u001b[36m0:00:00\u001b[0m\r\n",
      "\u001b[?25hDownloading huggingface_hub-0.17.3-py3-none-any.whl (295 kB)\r\n",
      "\u001b[2K   \u001b[90m━━━━━━━━━━━━━━━━━━━━━━━━━━━━━━━━━━━━━━━━\u001b[0m \u001b[32m295.0/295.0 kB\u001b[0m \u001b[31m28.1 MB/s\u001b[0m eta \u001b[36m0:00:00\u001b[0m\r\n",
      "\u001b[?25hInstalling collected packages: huggingface-hub, transformers\r\n",
      "  Attempting uninstall: huggingface-hub\r\n",
      "    Found existing installation: huggingface-hub 0.19.4\r\n",
      "    Uninstalling huggingface-hub-0.19.4:\r\n",
      "      Successfully uninstalled huggingface-hub-0.19.4\r\n",
      "  Attempting uninstall: transformers\r\n",
      "    Found existing installation: transformers 4.35.0\r\n",
      "    Uninstalling transformers-4.35.0:\r\n",
      "      Successfully uninstalled transformers-4.35.0\r\n",
      "Successfully installed huggingface-hub-0.17.3 transformers-4.35.2\r\n",
      "Requirement already satisfied: datasets in /opt/conda/lib/python3.10/site-packages (2.1.0)\r\n",
      "Collecting datasets\r\n",
      "  Obtaining dependency information for datasets from https://files.pythonhosted.org/packages/e2/cf/db41e572d7ed958e8679018f8190438ef700aeb501b62da9e1eed9e4d69a/datasets-2.15.0-py3-none-any.whl.metadata\r\n",
      "  Downloading datasets-2.15.0-py3-none-any.whl.metadata (20 kB)\r\n",
      "Collecting evaluate\r\n",
      "  Obtaining dependency information for evaluate from https://files.pythonhosted.org/packages/70/63/7644a1eb7b0297e585a6adec98ed9e575309bb973c33b394dae66bc35c69/evaluate-0.4.1-py3-none-any.whl.metadata\r\n",
      "  Downloading evaluate-0.4.1-py3-none-any.whl.metadata (9.4 kB)\r\n",
      "Requirement already satisfied: numpy>=1.17 in /opt/conda/lib/python3.10/site-packages (from datasets) (1.24.3)\r\n",
      "Requirement already satisfied: pyarrow>=8.0.0 in /opt/conda/lib/python3.10/site-packages (from datasets) (11.0.0)\r\n",
      "Collecting pyarrow-hotfix (from datasets)\r\n",
      "  Obtaining dependency information for pyarrow-hotfix from https://files.pythonhosted.org/packages/e4/f4/9ec2222f5f5f8ea04f66f184caafd991a39c8782e31f5b0266f101cb68ca/pyarrow_hotfix-0.6-py3-none-any.whl.metadata\r\n",
      "  Downloading pyarrow_hotfix-0.6-py3-none-any.whl.metadata (3.6 kB)\r\n",
      "Requirement already satisfied: dill<0.3.8,>=0.3.0 in /opt/conda/lib/python3.10/site-packages (from datasets) (0.3.7)\r\n",
      "Requirement already satisfied: pandas in /opt/conda/lib/python3.10/site-packages (from datasets) (2.0.3)\r\n",
      "Requirement already satisfied: requests>=2.19.0 in /opt/conda/lib/python3.10/site-packages (from datasets) (2.31.0)\r\n",
      "Requirement already satisfied: tqdm>=4.62.1 in /opt/conda/lib/python3.10/site-packages (from datasets) (4.66.1)\r\n",
      "Requirement already satisfied: xxhash in /opt/conda/lib/python3.10/site-packages (from datasets) (3.4.1)\r\n",
      "Requirement already satisfied: multiprocess in /opt/conda/lib/python3.10/site-packages (from datasets) (0.70.15)\r\n",
      "Requirement already satisfied: fsspec[http]<=2023.10.0,>=2023.1.0 in /opt/conda/lib/python3.10/site-packages (from datasets) (2023.10.0)\r\n",
      "Requirement already satisfied: aiohttp in /opt/conda/lib/python3.10/site-packages (from datasets) (3.8.5)\r\n",
      "Collecting huggingface-hub>=0.18.0 (from datasets)\r\n",
      "  Obtaining dependency information for huggingface-hub>=0.18.0 from https://files.pythonhosted.org/packages/05/09/1945ca6ba3ad8ad6e2872ba682ce8d68c5e63c8e55458ed8ab4885709f1d/huggingface_hub-0.19.4-py3-none-any.whl.metadata\r\n",
      "  Using cached huggingface_hub-0.19.4-py3-none-any.whl.metadata (14 kB)\r\n",
      "Requirement already satisfied: packaging in /opt/conda/lib/python3.10/site-packages (from datasets) (21.3)\r\n",
      "Requirement already satisfied: pyyaml>=5.1 in /opt/conda/lib/python3.10/site-packages (from datasets) (6.0.1)\r\n",
      "Requirement already satisfied: responses<0.19 in /opt/conda/lib/python3.10/site-packages (from evaluate) (0.18.0)\r\n",
      "Requirement already satisfied: attrs>=17.3.0 in /opt/conda/lib/python3.10/site-packages (from aiohttp->datasets) (23.1.0)\r\n",
      "Requirement already satisfied: charset-normalizer<4.0,>=2.0 in /opt/conda/lib/python3.10/site-packages (from aiohttp->datasets) (3.2.0)\r\n",
      "Requirement already satisfied: multidict<7.0,>=4.5 in /opt/conda/lib/python3.10/site-packages (from aiohttp->datasets) (6.0.4)\r\n",
      "Requirement already satisfied: async-timeout<5.0,>=4.0.0a3 in /opt/conda/lib/python3.10/site-packages (from aiohttp->datasets) (4.0.3)\r\n",
      "Requirement already satisfied: yarl<2.0,>=1.0 in /opt/conda/lib/python3.10/site-packages (from aiohttp->datasets) (1.9.2)\r\n",
      "Requirement already satisfied: frozenlist>=1.1.1 in /opt/conda/lib/python3.10/site-packages (from aiohttp->datasets) (1.4.0)\r\n",
      "Requirement already satisfied: aiosignal>=1.1.2 in /opt/conda/lib/python3.10/site-packages (from aiohttp->datasets) (1.3.1)\r\n",
      "Requirement already satisfied: filelock in /opt/conda/lib/python3.10/site-packages (from huggingface-hub>=0.18.0->datasets) (3.12.2)\r\n",
      "Requirement already satisfied: typing-extensions>=3.7.4.3 in /opt/conda/lib/python3.10/site-packages (from huggingface-hub>=0.18.0->datasets) (4.5.0)\r\n",
      "Requirement already satisfied: pyparsing!=3.0.5,>=2.0.2 in /opt/conda/lib/python3.10/site-packages (from packaging->datasets) (3.0.9)\r\n",
      "Requirement already satisfied: idna<4,>=2.5 in /opt/conda/lib/python3.10/site-packages (from requests>=2.19.0->datasets) (3.4)\r\n",
      "Requirement already satisfied: urllib3<3,>=1.21.1 in /opt/conda/lib/python3.10/site-packages (from requests>=2.19.0->datasets) (1.26.15)\r\n",
      "Requirement already satisfied: certifi>=2017.4.17 in /opt/conda/lib/python3.10/site-packages (from requests>=2.19.0->datasets) (2023.7.22)\r\n",
      "Requirement already satisfied: python-dateutil>=2.8.2 in /opt/conda/lib/python3.10/site-packages (from pandas->datasets) (2.8.2)\r\n",
      "Requirement already satisfied: pytz>=2020.1 in /opt/conda/lib/python3.10/site-packages (from pandas->datasets) (2023.3)\r\n",
      "Requirement already satisfied: tzdata>=2022.1 in /opt/conda/lib/python3.10/site-packages (from pandas->datasets) (2023.3)\r\n",
      "Requirement already satisfied: six>=1.5 in /opt/conda/lib/python3.10/site-packages (from python-dateutil>=2.8.2->pandas->datasets) (1.16.0)\r\n",
      "Downloading datasets-2.15.0-py3-none-any.whl (521 kB)\r\n",
      "\u001b[2K   \u001b[90m━━━━━━━━━━━━━━━━━━━━━━━━━━━━━━━━━━━━━━━━\u001b[0m \u001b[32m521.2/521.2 kB\u001b[0m \u001b[31m16.8 MB/s\u001b[0m eta \u001b[36m0:00:00\u001b[0m\r\n",
      "\u001b[?25hDownloading evaluate-0.4.1-py3-none-any.whl (84 kB)\r\n",
      "\u001b[2K   \u001b[90m━━━━━━━━━━━━━━━━━━━━━━━━━━━━━━━━━━━━━━━━\u001b[0m \u001b[32m84.1/84.1 kB\u001b[0m \u001b[31m9.0 MB/s\u001b[0m eta \u001b[36m0:00:00\u001b[0m\r\n",
      "\u001b[?25hUsing cached huggingface_hub-0.19.4-py3-none-any.whl (311 kB)\r\n",
      "Downloading pyarrow_hotfix-0.6-py3-none-any.whl (7.9 kB)\r\n",
      "Installing collected packages: pyarrow-hotfix, huggingface-hub, datasets, evaluate\r\n",
      "  Attempting uninstall: huggingface-hub\r\n",
      "    Found existing installation: huggingface-hub 0.17.3\r\n",
      "    Uninstalling huggingface-hub-0.17.3:\r\n",
      "      Successfully uninstalled huggingface-hub-0.17.3\r\n",
      "  Attempting uninstall: datasets\r\n",
      "    Found existing installation: datasets 2.1.0\r\n",
      "    Uninstalling datasets-2.1.0:\r\n",
      "      Successfully uninstalled datasets-2.1.0\r\n",
      "\u001b[31mERROR: pip's dependency resolver does not currently take into account all the packages that are installed. This behaviour is the source of the following dependency conflicts.\r\n",
      "tokenizers 0.14.1 requires huggingface_hub<0.18,>=0.16.4, but you have huggingface-hub 0.19.4 which is incompatible.\u001b[0m\u001b[31m\r\n",
      "\u001b[0mSuccessfully installed datasets-2.15.0 evaluate-0.4.1 huggingface-hub-0.19.4 pyarrow-hotfix-0.6\r\n",
      "Requirement already satisfied: accelerate in /opt/conda/lib/python3.10/site-packages (0.24.1)\r\n",
      "Requirement already satisfied: numpy>=1.17 in /opt/conda/lib/python3.10/site-packages (from accelerate) (1.24.3)\r\n",
      "Requirement already satisfied: packaging>=20.0 in /opt/conda/lib/python3.10/site-packages (from accelerate) (21.3)\r\n",
      "Requirement already satisfied: psutil in /opt/conda/lib/python3.10/site-packages (from accelerate) (5.9.3)\r\n",
      "Requirement already satisfied: pyyaml in /opt/conda/lib/python3.10/site-packages (from accelerate) (6.0.1)\r\n",
      "Requirement already satisfied: torch>=1.10.0 in /opt/conda/lib/python3.10/site-packages (from accelerate) (2.0.0)\r\n",
      "Requirement already satisfied: huggingface-hub in /opt/conda/lib/python3.10/site-packages (from accelerate) (0.19.4)\r\n",
      "Requirement already satisfied: pyparsing!=3.0.5,>=2.0.2 in /opt/conda/lib/python3.10/site-packages (from packaging>=20.0->accelerate) (3.0.9)\r\n",
      "Requirement already satisfied: filelock in /opt/conda/lib/python3.10/site-packages (from torch>=1.10.0->accelerate) (3.12.2)\r\n",
      "Requirement already satisfied: typing-extensions in /opt/conda/lib/python3.10/site-packages (from torch>=1.10.0->accelerate) (4.5.0)\r\n",
      "Requirement already satisfied: sympy in /opt/conda/lib/python3.10/site-packages (from torch>=1.10.0->accelerate) (1.12)\r\n",
      "Requirement already satisfied: networkx in /opt/conda/lib/python3.10/site-packages (from torch>=1.10.0->accelerate) (3.1)\r\n",
      "Requirement already satisfied: jinja2 in /opt/conda/lib/python3.10/site-packages (from torch>=1.10.0->accelerate) (3.1.2)\r\n",
      "Requirement already satisfied: fsspec>=2023.5.0 in /opt/conda/lib/python3.10/site-packages (from huggingface-hub->accelerate) (2023.10.0)\r\n",
      "Requirement already satisfied: requests in /opt/conda/lib/python3.10/site-packages (from huggingface-hub->accelerate) (2.31.0)\r\n",
      "Requirement already satisfied: tqdm>=4.42.1 in /opt/conda/lib/python3.10/site-packages (from huggingface-hub->accelerate) (4.66.1)\r\n",
      "Requirement already satisfied: MarkupSafe>=2.0 in /opt/conda/lib/python3.10/site-packages (from jinja2->torch>=1.10.0->accelerate) (2.1.3)\r\n",
      "Requirement already satisfied: charset-normalizer<4,>=2 in /opt/conda/lib/python3.10/site-packages (from requests->huggingface-hub->accelerate) (3.2.0)\r\n",
      "Requirement already satisfied: idna<4,>=2.5 in /opt/conda/lib/python3.10/site-packages (from requests->huggingface-hub->accelerate) (3.4)\r\n",
      "Requirement already satisfied: urllib3<3,>=1.21.1 in /opt/conda/lib/python3.10/site-packages (from requests->huggingface-hub->accelerate) (1.26.15)\r\n",
      "Requirement already satisfied: certifi>=2017.4.17 in /opt/conda/lib/python3.10/site-packages (from requests->huggingface-hub->accelerate) (2023.7.22)\r\n",
      "Requirement already satisfied: mpmath>=0.19 in /opt/conda/lib/python3.10/site-packages (from sympy->torch>=1.10.0->accelerate) (1.3.0)\r\n",
      "Collecting seqeval\r\n",
      "  Downloading seqeval-1.2.2.tar.gz (43 kB)\r\n",
      "\u001b[2K     \u001b[90m━━━━━━━━━━━━━━━━━━━━━━━━━━━━━━━━━━━━━━━━\u001b[0m \u001b[32m43.6/43.6 kB\u001b[0m \u001b[31m2.6 MB/s\u001b[0m eta \u001b[36m0:00:00\u001b[0m\r\n",
      "\u001b[?25h  Preparing metadata (setup.py) ... \u001b[?25l-\b \b\\\b \b|\b \bdone\r\n",
      "\u001b[?25hRequirement already satisfied: numpy>=1.14.0 in /opt/conda/lib/python3.10/site-packages (from seqeval) (1.24.3)\r\n",
      "Requirement already satisfied: scikit-learn>=0.21.3 in /opt/conda/lib/python3.10/site-packages (from seqeval) (1.2.2)\r\n",
      "Requirement already satisfied: scipy>=1.3.2 in /opt/conda/lib/python3.10/site-packages (from scikit-learn>=0.21.3->seqeval) (1.11.3)\r\n",
      "Requirement already satisfied: joblib>=1.1.1 in /opt/conda/lib/python3.10/site-packages (from scikit-learn>=0.21.3->seqeval) (1.3.2)\r\n",
      "Requirement already satisfied: threadpoolctl>=2.0.0 in /opt/conda/lib/python3.10/site-packages (from scikit-learn>=0.21.3->seqeval) (3.2.0)\r\n",
      "Building wheels for collected packages: seqeval\r\n",
      "  Building wheel for seqeval (setup.py) ... \u001b[?25l-\b \b\\\b \b|\b \bdone\r\n",
      "\u001b[?25h  Created wheel for seqeval: filename=seqeval-1.2.2-py3-none-any.whl size=16162 sha256=17aa6cf2cc2132fd6d7648a8484937e401605168fb1346e164b916c2bac03264\r\n",
      "  Stored in directory: /root/.cache/pip/wheels/1a/67/4a/ad4082dd7dfc30f2abfe4d80a2ed5926a506eb8a972b4767fa\r\n",
      "Successfully built seqeval\r\n",
      "Installing collected packages: seqeval\r\n",
      "Successfully installed seqeval-1.2.2\r\n"
     ]
    }
   ],
   "source": [
    "!python3 -m pip install -U huggingface_hub\n",
    "!python3 -m pip install -U transformers\n",
    "!python3 -m pip install -U datasets evaluate\n",
    "!python3 -m pip install -U accelerate\n",
    "!python3 -m pip install -U seqeval"
   ]
  },
  {
   "cell_type": "code",
   "execution_count": 2,
   "id": "b6c52c42",
   "metadata": {
    "execution": {
     "iopub.execute_input": "2023-11-28T01:58:33.016043Z",
     "iopub.status.busy": "2023-11-28T01:58:33.015723Z",
     "iopub.status.idle": "2023-11-28T01:58:44.838477Z",
     "shell.execute_reply": "2023-11-28T01:58:44.837484Z"
    },
    "papermill": {
     "duration": 11.874488,
     "end_time": "2023-11-28T01:58:44.840770",
     "exception": false,
     "start_time": "2023-11-28T01:58:32.966282",
     "status": "completed"
    },
    "tags": []
   },
   "outputs": [
    {
     "name": "stdout",
     "output_type": "stream",
     "text": [
      "Requirement already satisfied: wandb in /opt/conda/lib/python3.10/site-packages (0.16.0)\r\n",
      "Requirement already satisfied: Click!=8.0.0,>=7.1 in /opt/conda/lib/python3.10/site-packages (from wandb) (8.1.7)\r\n",
      "Requirement already satisfied: GitPython!=3.1.29,>=1.0.0 in /opt/conda/lib/python3.10/site-packages (from wandb) (3.1.32)\r\n",
      "Requirement already satisfied: requests<3,>=2.0.0 in /opt/conda/lib/python3.10/site-packages (from wandb) (2.31.0)\r\n",
      "Requirement already satisfied: psutil>=5.0.0 in /opt/conda/lib/python3.10/site-packages (from wandb) (5.9.3)\r\n",
      "Requirement already satisfied: sentry-sdk>=1.0.0 in /opt/conda/lib/python3.10/site-packages (from wandb) (1.34.0)\r\n",
      "Requirement already satisfied: docker-pycreds>=0.4.0 in /opt/conda/lib/python3.10/site-packages (from wandb) (0.4.0)\r\n",
      "Requirement already satisfied: PyYAML in /opt/conda/lib/python3.10/site-packages (from wandb) (6.0.1)\r\n",
      "Requirement already satisfied: setproctitle in /opt/conda/lib/python3.10/site-packages (from wandb) (1.3.3)\r\n",
      "Requirement already satisfied: setuptools in /opt/conda/lib/python3.10/site-packages (from wandb) (68.1.2)\r\n",
      "Requirement already satisfied: appdirs>=1.4.3 in /opt/conda/lib/python3.10/site-packages (from wandb) (1.4.4)\r\n",
      "Requirement already satisfied: protobuf!=4.21.0,<5,>=3.19.0 in /opt/conda/lib/python3.10/site-packages (from wandb) (3.20.3)\r\n",
      "Requirement already satisfied: six>=1.4.0 in /opt/conda/lib/python3.10/site-packages (from docker-pycreds>=0.4.0->wandb) (1.16.0)\r\n",
      "Requirement already satisfied: gitdb<5,>=4.0.1 in /opt/conda/lib/python3.10/site-packages (from GitPython!=3.1.29,>=1.0.0->wandb) (4.0.10)\r\n",
      "Requirement already satisfied: charset-normalizer<4,>=2 in /opt/conda/lib/python3.10/site-packages (from requests<3,>=2.0.0->wandb) (3.2.0)\r\n",
      "Requirement already satisfied: idna<4,>=2.5 in /opt/conda/lib/python3.10/site-packages (from requests<3,>=2.0.0->wandb) (3.4)\r\n",
      "Requirement already satisfied: urllib3<3,>=1.21.1 in /opt/conda/lib/python3.10/site-packages (from requests<3,>=2.0.0->wandb) (1.26.15)\r\n",
      "Requirement already satisfied: certifi>=2017.4.17 in /opt/conda/lib/python3.10/site-packages (from requests<3,>=2.0.0->wandb) (2023.7.22)\r\n",
      "Requirement already satisfied: smmap<6,>=3.0.1 in /opt/conda/lib/python3.10/site-packages (from gitdb<5,>=4.0.1->GitPython!=3.1.29,>=1.0.0->wandb) (5.0.0)\r\n"
     ]
    }
   ],
   "source": [
    "!python3 -m pip install -U wandb"
   ]
  },
  {
   "cell_type": "code",
   "execution_count": 3,
   "id": "ac8340c0",
   "metadata": {
    "execution": {
     "iopub.execute_input": "2023-11-28T01:58:44.940135Z",
     "iopub.status.busy": "2023-11-28T01:58:44.939719Z",
     "iopub.status.idle": "2023-11-28T01:58:44.945592Z",
     "shell.execute_reply": "2023-11-28T01:58:44.944787Z"
    },
    "executionInfo": {
     "elapsed": 120,
     "status": "ok",
     "timestamp": 1701052505280,
     "user": {
      "displayName": "Oyesh Singh",
      "userId": "14095812393031823613"
     },
     "user_tz": 300
    },
    "id": "wzVYX2goD4pf",
    "papermill": {
     "duration": 0.056906,
     "end_time": "2023-11-28T01:58:44.947527",
     "exception": false,
     "start_time": "2023-11-28T01:58:44.890621",
     "status": "completed"
    },
    "tags": []
   },
   "outputs": [],
   "source": [
    "# Wrap the text in ipython notebook\n",
    "from IPython.display import HTML, display\n",
    "\n",
    "def set_css():\n",
    "  display(HTML('''\n",
    "  <style>\n",
    "    pre {\n",
    "        white-space: pre-wrap;\n",
    "    }\n",
    "  </style>\n",
    "  '''))\n",
    "get_ipython().events.register('pre_run_cell', set_css)\n",
    "\n",
    "import warnings\n",
    "warnings.filterwarnings(\"ignore\")"
   ]
  },
  {
   "cell_type": "markdown",
   "id": "369f7820",
   "metadata": {
    "id": "cVHZma_ZD84H",
    "papermill": {
     "duration": 0.047624,
     "end_time": "2023-11-28T01:58:45.043342",
     "exception": false,
     "start_time": "2023-11-28T01:58:44.995718",
     "status": "completed"
    },
    "tags": []
   },
   "source": [
    "# Data Preprocessing"
   ]
  },
  {
   "cell_type": "markdown",
   "id": "d91b78af",
   "metadata": {
    "id": "T_WfbZ_1zK2C",
    "papermill": {
     "duration": 0.047801,
     "end_time": "2023-11-28T01:58:45.141831",
     "exception": false,
     "start_time": "2023-11-28T01:58:45.094030",
     "status": "completed"
    },
    "tags": []
   },
   "source": [
    "## Prepare NepSA dataset\n",
    "\n",
    "This is related to creating a dataset based off of the raw dataset from [Nepali Sentiment Analysis](https://raw.githubusercontent.com/oya163/nepali-sentiment-analysis/master/data/nepcls/csv/ss_ac_at_txt_unbal.csv) project"
   ]
  },
  {
   "cell_type": "code",
   "execution_count": 4,
   "id": "65fb182f",
   "metadata": {
    "execution": {
     "iopub.execute_input": "2023-11-28T01:58:45.239071Z",
     "iopub.status.busy": "2023-11-28T01:58:45.238740Z",
     "iopub.status.idle": "2023-11-28T01:58:45.245610Z",
     "shell.execute_reply": "2023-11-28T01:58:45.244781Z"
    },
    "executionInfo": {
     "elapsed": 17226,
     "status": "ok",
     "timestamp": 1701052525742,
     "user": {
      "displayName": "Oyesh Singh",
      "userId": "14095812393031823613"
     },
     "user_tz": 300
    },
    "id": "uoHsvIemmm7g",
    "outputId": "5f775373-1445-4986-8508-adf915f4576f",
    "papermill": {
     "duration": 0.05771,
     "end_time": "2023-11-28T01:58:45.247534",
     "exception": false,
     "start_time": "2023-11-28T01:58:45.189824",
     "status": "completed"
    },
    "tags": []
   },
   "outputs": [
    {
     "data": {
      "text/html": [
       "\n",
       "  <style>\n",
       "    pre {\n",
       "        white-space: pre-wrap;\n",
       "    }\n",
       "  </style>\n",
       "  "
      ],
      "text/plain": [
       "<IPython.core.display.HTML object>"
      ]
     },
     "metadata": {},
     "output_type": "display_data"
    }
   ],
   "source": [
    "# from google.colab import drive\n",
    "# drive.mount('/content/drive')"
   ]
  },
  {
   "cell_type": "code",
   "execution_count": 5,
   "id": "d5a69177",
   "metadata": {
    "execution": {
     "iopub.execute_input": "2023-11-28T01:58:45.347072Z",
     "iopub.status.busy": "2023-11-28T01:58:45.346514Z",
     "iopub.status.idle": "2023-11-28T01:58:45.352173Z",
     "shell.execute_reply": "2023-11-28T01:58:45.351288Z"
    },
    "executionInfo": {
     "elapsed": 144,
     "status": "ok",
     "timestamp": 1701052530109,
     "user": {
      "displayName": "Oyesh Singh",
      "userId": "14095812393031823613"
     },
     "user_tz": 300
    },
    "id": "WrmOo-iZw2JU",
    "outputId": "976ea646-3540-4dd1-ae31-cf7fde0fefdd",
    "papermill": {
     "duration": 0.05717,
     "end_time": "2023-11-28T01:58:45.353961",
     "exception": false,
     "start_time": "2023-11-28T01:58:45.296791",
     "status": "completed"
    },
    "tags": []
   },
   "outputs": [
    {
     "data": {
      "text/html": [
       "\n",
       "  <style>\n",
       "    pre {\n",
       "        white-space: pre-wrap;\n",
       "    }\n",
       "  </style>\n",
       "  "
      ],
      "text/plain": [
       "<IPython.core.display.HTML object>"
      ]
     },
     "metadata": {},
     "output_type": "display_data"
    }
   ],
   "source": [
    "# filepath = '/content/drive/MyDrive/nepsa_data/nepsa'"
   ]
  },
  {
   "cell_type": "code",
   "execution_count": 6,
   "id": "d949a3e5",
   "metadata": {
    "execution": {
     "iopub.execute_input": "2023-11-28T01:58:45.451706Z",
     "iopub.status.busy": "2023-11-28T01:58:45.451437Z",
     "iopub.status.idle": "2023-11-28T01:58:45.456578Z",
     "shell.execute_reply": "2023-11-28T01:58:45.455791Z"
    },
    "executionInfo": {
     "elapsed": 779,
     "status": "ok",
     "timestamp": 1701052557339,
     "user": {
      "displayName": "Oyesh Singh",
      "userId": "14095812393031823613"
     },
     "user_tz": 300
    },
    "id": "DQxYBuIETtQQ",
    "outputId": "3281e261-8ed1-4ba4-abe8-f0d7c3465f1c",
    "papermill": {
     "duration": 0.055997,
     "end_time": "2023-11-28T01:58:45.458451",
     "exception": false,
     "start_time": "2023-11-28T01:58:45.402454",
     "status": "completed"
    },
    "tags": []
   },
   "outputs": [
    {
     "data": {
      "text/html": [
       "\n",
       "  <style>\n",
       "    pre {\n",
       "        white-space: pre-wrap;\n",
       "    }\n",
       "  </style>\n",
       "  "
      ],
      "text/plain": [
       "<IPython.core.display.HTML object>"
      ]
     },
     "metadata": {},
     "output_type": "display_data"
    }
   ],
   "source": [
    "# !wget https://raw.githubusercontent.com/oya163/nepali-sentiment-analysis/master/data/nepcls/csv/ss_ac_at_txt_bal.csv"
   ]
  },
  {
   "cell_type": "code",
   "execution_count": 7,
   "id": "fcae69f2",
   "metadata": {
    "execution": {
     "iopub.execute_input": "2023-11-28T01:58:45.557373Z",
     "iopub.status.busy": "2023-11-28T01:58:45.556730Z",
     "iopub.status.idle": "2023-11-28T01:58:45.561827Z",
     "shell.execute_reply": "2023-11-28T01:58:45.561074Z"
    },
    "executionInfo": {
     "elapsed": 4,
     "status": "ok",
     "timestamp": 1701052557340,
     "user": {
      "displayName": "Oyesh Singh",
      "userId": "14095812393031823613"
     },
     "user_tz": 300
    },
    "id": "jWYKXYacTli4",
    "outputId": "808409b7-2a30-4365-fa98-13e0f1e4508a",
    "papermill": {
     "duration": 0.056403,
     "end_time": "2023-11-28T01:58:45.563835",
     "exception": false,
     "start_time": "2023-11-28T01:58:45.507432",
     "status": "completed"
    },
    "tags": []
   },
   "outputs": [
    {
     "data": {
      "text/html": [
       "\n",
       "  <style>\n",
       "    pre {\n",
       "        white-space: pre-wrap;\n",
       "    }\n",
       "  </style>\n",
       "  "
      ],
      "text/plain": [
       "<IPython.core.display.HTML object>"
      ]
     },
     "metadata": {},
     "output_type": "display_data"
    }
   ],
   "source": [
    "# import matplotlib.pyplot as plt\n",
    "# import os\n",
    "# import pandas as pd\n",
    "# import torch\n",
    "# import numpy as np\n",
    "# pd.set_option('display.max_colwidth', None)"
   ]
  },
  {
   "cell_type": "code",
   "execution_count": 8,
   "id": "69fd749c",
   "metadata": {
    "execution": {
     "iopub.execute_input": "2023-11-28T01:58:45.663243Z",
     "iopub.status.busy": "2023-11-28T01:58:45.662786Z",
     "iopub.status.idle": "2023-11-28T01:58:45.667860Z",
     "shell.execute_reply": "2023-11-28T01:58:45.666966Z"
    },
    "executionInfo": {
     "elapsed": 241,
     "status": "ok",
     "timestamp": 1701052563935,
     "user": {
      "displayName": "Oyesh Singh",
      "userId": "14095812393031823613"
     },
     "user_tz": 300
    },
    "id": "VIh1xofyUSKT",
    "outputId": "7bf1b600-7e2e-4516-bf33-fed3a5877103",
    "papermill": {
     "duration": 0.057289,
     "end_time": "2023-11-28T01:58:45.669850",
     "exception": false,
     "start_time": "2023-11-28T01:58:45.612561",
     "status": "completed"
    },
    "tags": []
   },
   "outputs": [
    {
     "data": {
      "text/html": [
       "\n",
       "  <style>\n",
       "    pre {\n",
       "        white-space: pre-wrap;\n",
       "    }\n",
       "  </style>\n",
       "  "
      ],
      "text/plain": [
       "<IPython.core.display.HTML object>"
      ]
     },
     "metadata": {},
     "output_type": "display_data"
    }
   ],
   "source": [
    "# filepath = \"/kaggle/working/ss_ac_at_txt_bal.csv\"\n",
    "# df = pd.read_csv(filepath,\n",
    "#                    names=[\"Severity\", \"Category\", \"Aspect Word\", \"text\"])"
   ]
  },
  {
   "cell_type": "code",
   "execution_count": 9,
   "id": "612e2795",
   "metadata": {
    "execution": {
     "iopub.execute_input": "2023-11-28T01:58:45.768321Z",
     "iopub.status.busy": "2023-11-28T01:58:45.768004Z",
     "iopub.status.idle": "2023-11-28T01:58:45.773086Z",
     "shell.execute_reply": "2023-11-28T01:58:45.772288Z"
    },
    "papermill": {
     "duration": 0.056206,
     "end_time": "2023-11-28T01:58:45.774849",
     "exception": false,
     "start_time": "2023-11-28T01:58:45.718643",
     "status": "completed"
    },
    "tags": []
   },
   "outputs": [
    {
     "data": {
      "text/html": [
       "\n",
       "  <style>\n",
       "    pre {\n",
       "        white-space: pre-wrap;\n",
       "    }\n",
       "  </style>\n",
       "  "
      ],
      "text/plain": [
       "<IPython.core.display.HTML object>"
      ]
     },
     "metadata": {},
     "output_type": "display_data"
    }
   ],
   "source": [
    "# df.head()"
   ]
  },
  {
   "cell_type": "code",
   "execution_count": 10,
   "id": "a65d17a2",
   "metadata": {
    "execution": {
     "iopub.execute_input": "2023-11-28T01:58:45.874071Z",
     "iopub.status.busy": "2023-11-28T01:58:45.873763Z",
     "iopub.status.idle": "2023-11-28T01:58:45.878866Z",
     "shell.execute_reply": "2023-11-28T01:58:45.878109Z"
    },
    "executionInfo": {
     "elapsed": 241,
     "status": "ok",
     "timestamp": 1701052563935,
     "user": {
      "displayName": "Oyesh Singh",
      "userId": "14095812393031823613"
     },
     "user_tz": 300
    },
    "id": "VIh1xofyUSKT",
    "outputId": "7bf1b600-7e2e-4516-bf33-fed3a5877103",
    "papermill": {
     "duration": 0.056967,
     "end_time": "2023-11-28T01:58:45.880820",
     "exception": false,
     "start_time": "2023-11-28T01:58:45.823853",
     "status": "completed"
    },
    "tags": []
   },
   "outputs": [
    {
     "data": {
      "text/html": [
       "\n",
       "  <style>\n",
       "    pre {\n",
       "        white-space: pre-wrap;\n",
       "    }\n",
       "  </style>\n",
       "  "
      ],
      "text/plain": [
       "<IPython.core.display.HTML object>"
      ]
     },
     "metadata": {},
     "output_type": "display_data"
    }
   ],
   "source": [
    "# df[df['Category']=='PROFANITY']"
   ]
  },
  {
   "cell_type": "code",
   "execution_count": 11,
   "id": "b63034b0",
   "metadata": {
    "execution": {
     "iopub.execute_input": "2023-11-28T01:58:45.981068Z",
     "iopub.status.busy": "2023-11-28T01:58:45.980528Z",
     "iopub.status.idle": "2023-11-28T01:58:45.985563Z",
     "shell.execute_reply": "2023-11-28T01:58:45.984761Z"
    },
    "executionInfo": {
     "elapsed": 4,
     "status": "ok",
     "timestamp": 1701052564068,
     "user": {
      "displayName": "Oyesh Singh",
      "userId": "14095812393031823613"
     },
     "user_tz": 300
    },
    "id": "1Uk_K9pEXuiD",
    "outputId": "3074ff5c-0fc2-40e6-f4b5-49f90dc786c5",
    "papermill": {
     "duration": 0.0571,
     "end_time": "2023-11-28T01:58:45.987492",
     "exception": false,
     "start_time": "2023-11-28T01:58:45.930392",
     "status": "completed"
    },
    "tags": []
   },
   "outputs": [
    {
     "data": {
      "text/html": [
       "\n",
       "  <style>\n",
       "    pre {\n",
       "        white-space: pre-wrap;\n",
       "    }\n",
       "  </style>\n",
       "  "
      ],
      "text/plain": [
       "<IPython.core.display.HTML object>"
      ]
     },
     "metadata": {},
     "output_type": "display_data"
    }
   ],
   "source": [
    "# df['Category'].unique()"
   ]
  },
  {
   "cell_type": "code",
   "execution_count": 12,
   "id": "9fb26109",
   "metadata": {
    "execution": {
     "iopub.execute_input": "2023-11-28T01:58:46.088493Z",
     "iopub.status.busy": "2023-11-28T01:58:46.088153Z",
     "iopub.status.idle": "2023-11-28T01:58:46.093196Z",
     "shell.execute_reply": "2023-11-28T01:58:46.092465Z"
    },
    "executionInfo": {
     "elapsed": 4,
     "status": "ok",
     "timestamp": 1701052564473,
     "user": {
      "displayName": "Oyesh Singh",
      "userId": "14095812393031823613"
     },
     "user_tz": 300
    },
    "id": "hNZ_LFNTTzeL",
    "outputId": "12398fb7-82f1-48d2-aee4-36a497c2fb8c",
    "papermill": {
     "duration": 0.058808,
     "end_time": "2023-11-28T01:58:46.095305",
     "exception": false,
     "start_time": "2023-11-28T01:58:46.036497",
     "status": "completed"
    },
    "tags": []
   },
   "outputs": [
    {
     "data": {
      "text/html": [
       "\n",
       "  <style>\n",
       "    pre {\n",
       "        white-space: pre-wrap;\n",
       "    }\n",
       "  </style>\n",
       "  "
      ],
      "text/plain": [
       "<IPython.core.display.HTML object>"
      ]
     },
     "metadata": {},
     "output_type": "display_data"
    }
   ],
   "source": [
    "# df = df[~df['Category'].isin(['FEEDBACK'])]\n",
    "# df['Category'].unique()"
   ]
  },
  {
   "cell_type": "code",
   "execution_count": 13,
   "id": "dcea026f",
   "metadata": {
    "execution": {
     "iopub.execute_input": "2023-11-28T01:58:46.196444Z",
     "iopub.status.busy": "2023-11-28T01:58:46.196145Z",
     "iopub.status.idle": "2023-11-28T01:58:46.202396Z",
     "shell.execute_reply": "2023-11-28T01:58:46.201459Z"
    },
    "executionInfo": {
     "elapsed": 122,
     "status": "ok",
     "timestamp": 1701052566469,
     "user": {
      "displayName": "Oyesh Singh",
      "userId": "14095812393031823613"
     },
     "user_tz": 300
    },
    "id": "z4jjhkI0Uw8Z",
    "outputId": "baaee01d-ba03-4210-c954-d68dcda9481d",
    "papermill": {
     "duration": 0.059467,
     "end_time": "2023-11-28T01:58:46.204460",
     "exception": false,
     "start_time": "2023-11-28T01:58:46.144993",
     "status": "completed"
    },
    "tags": []
   },
   "outputs": [
    {
     "data": {
      "text/html": [
       "\n",
       "  <style>\n",
       "    pre {\n",
       "        white-space: pre-wrap;\n",
       "    }\n",
       "  </style>\n",
       "  "
      ],
      "text/plain": [
       "<IPython.core.display.HTML object>"
      ]
     },
     "metadata": {},
     "output_type": "display_data"
    }
   ],
   "source": [
    "# def create_label(row):\n",
    "#     if row['Category'] == \"GENERAL\" and row['Severity'] == 0:\n",
    "#         return 0\n",
    "#     elif row['Category'] == \"GENERAL\" and row['Severity'] == 1:\n",
    "#         return 1\n",
    "#     elif row['Category'] == \"PROFANITY\":\n",
    "#         return 2\n",
    "#     elif row['Category'] == \"VIOLENCE\":\n",
    "#         return 3\n",
    "\n",
    "# df['label'] = df.apply(create_label, axis=1).astype(int)\n",
    "\n",
    "# df = df.drop(['Severity', 'Category', 'Aspect Word'], axis=1)\n",
    "# df.head()\n"
   ]
  },
  {
   "cell_type": "code",
   "execution_count": 14,
   "id": "99c939b0",
   "metadata": {
    "execution": {
     "iopub.execute_input": "2023-11-28T01:58:46.320614Z",
     "iopub.status.busy": "2023-11-28T01:58:46.320331Z",
     "iopub.status.idle": "2023-11-28T01:58:46.326154Z",
     "shell.execute_reply": "2023-11-28T01:58:46.325251Z"
    },
    "executionInfo": {
     "elapsed": 602,
     "status": "ok",
     "timestamp": 1701052610536,
     "user": {
      "displayName": "Oyesh Singh",
      "userId": "14095812393031823613"
     },
     "user_tz": 300
    },
    "id": "sEbUkKDnTlmg",
    "outputId": "8e8d56ad-bfb5-4379-ab88-3f28665a5603",
    "papermill": {
     "duration": 0.065852,
     "end_time": "2023-11-28T01:58:46.328311",
     "exception": false,
     "start_time": "2023-11-28T01:58:46.262459",
     "status": "completed"
    },
    "tags": []
   },
   "outputs": [
    {
     "data": {
      "text/html": [
       "\n",
       "  <style>\n",
       "    pre {\n",
       "        white-space: pre-wrap;\n",
       "    }\n",
       "  </style>\n",
       "  "
      ],
      "text/plain": [
       "<IPython.core.display.HTML object>"
      ]
     },
     "metadata": {},
     "output_type": "display_data"
    }
   ],
   "source": [
    "# from sklearn.model_selection import train_test_split\n",
    "\n",
    "# X_train, X_test, y_train, y_test = train_test_split(df['text'], df['label'], test_size=0.2, random_state=163)\n",
    "\n",
    "# X_train, X_val, y_train, y_val = train_test_split(X_train, y_train, test_size=0.25, random_state=163)\n"
   ]
  },
  {
   "cell_type": "code",
   "execution_count": 15,
   "id": "b16c074c",
   "metadata": {
    "execution": {
     "iopub.execute_input": "2023-11-28T01:58:46.431487Z",
     "iopub.status.busy": "2023-11-28T01:58:46.431226Z",
     "iopub.status.idle": "2023-11-28T01:58:46.436396Z",
     "shell.execute_reply": "2023-11-28T01:58:46.435615Z"
    },
    "executionInfo": {
     "elapsed": 136,
     "status": "ok",
     "timestamp": 1701052726498,
     "user": {
      "displayName": "Oyesh Singh",
      "userId": "14095812393031823613"
     },
     "user_tz": 300
    },
    "id": "6V0-GRWMTlrv",
    "outputId": "9ed53f27-4132-4de8-cfb5-42d7b4328840",
    "papermill": {
     "duration": 0.057253,
     "end_time": "2023-11-28T01:58:46.438254",
     "exception": false,
     "start_time": "2023-11-28T01:58:46.381001",
     "status": "completed"
    },
    "tags": []
   },
   "outputs": [
    {
     "data": {
      "text/html": [
       "\n",
       "  <style>\n",
       "    pre {\n",
       "        white-space: pre-wrap;\n",
       "    }\n",
       "  </style>\n",
       "  "
      ],
      "text/plain": [
       "<IPython.core.display.HTML object>"
      ]
     },
     "metadata": {},
     "output_type": "display_data"
    }
   ],
   "source": [
    "# def create_csv(X, y, filename):\n",
    "#     df = pd.DataFrame()\n",
    "#     df['text'] = X\n",
    "#     df['label'] = y\n",
    "#     df.to_csv(f\"{filename}.txt\", sep='\\t', header=False, index=False)\n",
    "\n",
    "# create_csv(X_train, y_train, 'train')\n",
    "# create_csv(X_val, y_val, 'valid')\n",
    "# create_csv(X_test, y_test, 'test')\n"
   ]
  },
  {
   "cell_type": "markdown",
   "id": "5e1a6cad",
   "metadata": {
    "id": "uLzGP88XdlAH",
    "papermill": {
     "duration": 0.048956,
     "end_time": "2023-11-28T01:58:46.536766",
     "exception": false,
     "start_time": "2023-11-28T01:58:46.487810",
     "status": "completed"
    },
    "tags": []
   },
   "source": [
    "## Load NepSA dataset"
   ]
  },
  {
   "cell_type": "code",
   "execution_count": 16,
   "id": "c80cab95",
   "metadata": {
    "execution": {
     "iopub.execute_input": "2023-11-28T01:58:46.638778Z",
     "iopub.status.busy": "2023-11-28T01:58:46.638494Z",
     "iopub.status.idle": "2023-11-28T01:58:48.792733Z",
     "shell.execute_reply": "2023-11-28T01:58:48.791893Z"
    },
    "executionInfo": {
     "elapsed": 1827,
     "status": "ok",
     "timestamp": 1701052898645,
     "user": {
      "displayName": "Oyesh Singh",
      "userId": "14095812393031823613"
     },
     "user_tz": 300
    },
    "id": "PzFOoAr-FXlF",
    "outputId": "b08b95eb-a1e7-4aaf-8cc9-84e7dad44063",
    "papermill": {
     "duration": 2.207847,
     "end_time": "2023-11-28T01:58:48.794745",
     "exception": false,
     "start_time": "2023-11-28T01:58:46.586898",
     "status": "completed"
    },
    "tags": []
   },
   "outputs": [
    {
     "data": {
      "text/html": [
       "\n",
       "  <style>\n",
       "    pre {\n",
       "        white-space: pre-wrap;\n",
       "    }\n",
       "  </style>\n",
       "  "
      ],
      "text/plain": [
       "<IPython.core.display.HTML object>"
      ]
     },
     "metadata": {},
     "output_type": "display_data"
    },
    {
     "data": {
      "application/vnd.jupyter.widget-view+json": {
       "model_id": "1d29d29efd8a44eca0bfe3a77895398f",
       "version_major": 2,
       "version_minor": 0
      },
      "text/plain": [
       "Downloading data files:   0%|          | 0/3 [00:00<?, ?it/s]"
      ]
     },
     "metadata": {},
     "output_type": "display_data"
    },
    {
     "data": {
      "application/vnd.jupyter.widget-view+json": {
       "model_id": "a0567c30c9e1469aaca08f125c0ea003",
       "version_major": 2,
       "version_minor": 0
      },
      "text/plain": [
       "Extracting data files:   0%|          | 0/3 [00:00<?, ?it/s]"
      ]
     },
     "metadata": {},
     "output_type": "display_data"
    },
    {
     "data": {
      "application/vnd.jupyter.widget-view+json": {
       "model_id": "4ef43bc1cd4a445fad01a160bb1d8c3e",
       "version_major": 2,
       "version_minor": 0
      },
      "text/plain": [
       "Generating train split: 0 examples [00:00, ? examples/s]"
      ]
     },
     "metadata": {},
     "output_type": "display_data"
    },
    {
     "data": {
      "application/vnd.jupyter.widget-view+json": {
       "model_id": "07bb659969e14c10b3cc9e4bf6e9ca18",
       "version_major": 2,
       "version_minor": 0
      },
      "text/plain": [
       "Generating validation split: 0 examples [00:00, ? examples/s]"
      ]
     },
     "metadata": {},
     "output_type": "display_data"
    },
    {
     "data": {
      "application/vnd.jupyter.widget-view+json": {
       "model_id": "5270414be5bc4f45859f414196a677f5",
       "version_major": 2,
       "version_minor": 0
      },
      "text/plain": [
       "Generating test split: 0 examples [00:00, ? examples/s]"
      ]
     },
     "metadata": {},
     "output_type": "display_data"
    }
   ],
   "source": [
    "import os\n",
    "from datasets import load_dataset\n",
    "\n",
    "filepath=\"/kaggle/input/nepsa-data\"\n",
    "data_files = {\n",
    "    \"train\": os.path.join(filepath, \"train.txt\"),\n",
    "    \"validation\": os.path.join(filepath, \"valid.txt\"),\n",
    "    \"test\": os.path.join(filepath, \"test.txt\"),\n",
    "}\n",
    "\n",
    "raw_datasets = load_dataset(os.path.join(filepath, \"load_sa.py\"), data_files=data_files)"
   ]
  },
  {
   "cell_type": "markdown",
   "id": "e917ffca",
   "metadata": {
    "id": "dWR6iKPv1VMC",
    "papermill": {
     "duration": 0.050321,
     "end_time": "2023-11-28T01:58:48.896204",
     "exception": false,
     "start_time": "2023-11-28T01:58:48.845883",
     "status": "completed"
    },
    "tags": []
   },
   "source": [
    "Check the basic information on the loaded dataset"
   ]
  },
  {
   "cell_type": "code",
   "execution_count": 17,
   "id": "77c58bbc",
   "metadata": {
    "execution": {
     "iopub.execute_input": "2023-11-28T01:58:48.998566Z",
     "iopub.status.busy": "2023-11-28T01:58:48.998022Z",
     "iopub.status.idle": "2023-11-28T01:58:49.005244Z",
     "shell.execute_reply": "2023-11-28T01:58:49.004416Z"
    },
    "executionInfo": {
     "elapsed": 352,
     "status": "ok",
     "timestamp": 1701052903939,
     "user": {
      "displayName": "Oyesh Singh",
      "userId": "14095812393031823613"
     },
     "user_tz": 300
    },
    "id": "Gfj48y-nLHTs",
    "outputId": "0fb76f59-5c98-40a4-b326-8a51fdb76ad8",
    "papermill": {
     "duration": 0.060676,
     "end_time": "2023-11-28T01:58:49.007216",
     "exception": false,
     "start_time": "2023-11-28T01:58:48.946540",
     "status": "completed"
    },
    "tags": []
   },
   "outputs": [
    {
     "data": {
      "text/html": [
       "\n",
       "  <style>\n",
       "    pre {\n",
       "        white-space: pre-wrap;\n",
       "    }\n",
       "  </style>\n",
       "  "
      ],
      "text/plain": [
       "<IPython.core.display.HTML object>"
      ]
     },
     "metadata": {},
     "output_type": "display_data"
    },
    {
     "data": {
      "text/plain": [
       "DatasetDict({\n",
       "    train: Dataset({\n",
       "        features: ['text', 'label'],\n",
       "        num_rows: 714\n",
       "    })\n",
       "    validation: Dataset({\n",
       "        features: ['text', 'label'],\n",
       "        num_rows: 239\n",
       "    })\n",
       "    test: Dataset({\n",
       "        features: ['text', 'label'],\n",
       "        num_rows: 239\n",
       "    })\n",
       "})"
      ]
     },
     "execution_count": 17,
     "metadata": {},
     "output_type": "execute_result"
    }
   ],
   "source": [
    "raw_datasets"
   ]
  },
  {
   "cell_type": "markdown",
   "id": "b170e4f5",
   "metadata": {
    "papermill": {
     "duration": 0.052318,
     "end_time": "2023-11-28T01:58:49.110024",
     "exception": false,
     "start_time": "2023-11-28T01:58:49.057706",
     "status": "completed"
    },
    "tags": []
   },
   "source": [
    "Check the data statistics"
   ]
  },
  {
   "cell_type": "code",
   "execution_count": 18,
   "id": "8ce72db5",
   "metadata": {
    "execution": {
     "iopub.execute_input": "2023-11-28T01:58:49.212112Z",
     "iopub.status.busy": "2023-11-28T01:58:49.211746Z",
     "iopub.status.idle": "2023-11-28T01:58:49.219813Z",
     "shell.execute_reply": "2023-11-28T01:58:49.218760Z"
    },
    "papermill": {
     "duration": 0.061374,
     "end_time": "2023-11-28T01:58:49.221804",
     "exception": false,
     "start_time": "2023-11-28T01:58:49.160430",
     "status": "completed"
    },
    "tags": []
   },
   "outputs": [
    {
     "data": {
      "text/html": [
       "\n",
       "  <style>\n",
       "    pre {\n",
       "        white-space: pre-wrap;\n",
       "    }\n",
       "  </style>\n",
       "  "
      ],
      "text/plain": [
       "<IPython.core.display.HTML object>"
      ]
     },
     "metadata": {},
     "output_type": "display_data"
    },
    {
     "name": "stdout",
     "output_type": "stream",
     "text": [
      "train Counter({2: 236, 1: 199, 3: 172, 0: 107})\n",
      "validation Counter({2: 86, 1: 63, 3: 59, 0: 31})\n",
      "test Counter({2: 85, 1: 61, 3: 54, 0: 39})\n"
     ]
    }
   ],
   "source": [
    "from collections import Counter\n",
    "\n",
    "for k, v in raw_datasets.items():\n",
    "    print(k, Counter(raw_datasets[k]['label']))"
   ]
  },
  {
   "cell_type": "code",
   "execution_count": 19,
   "id": "ab3c86ba",
   "metadata": {
    "execution": {
     "iopub.execute_input": "2023-11-28T01:58:49.324528Z",
     "iopub.status.busy": "2023-11-28T01:58:49.324246Z",
     "iopub.status.idle": "2023-11-28T01:58:49.329771Z",
     "shell.execute_reply": "2023-11-28T01:58:49.328954Z"
    },
    "executionInfo": {
     "elapsed": 383,
     "status": "ok",
     "timestamp": 1701052905970,
     "user": {
      "displayName": "Oyesh Singh",
      "userId": "14095812393031823613"
     },
     "user_tz": 300
    },
    "id": "TKNUqLFakTb5",
    "outputId": "834e68dc-7ae4-43bc-b344-e8974f1d9626",
    "papermill": {
     "duration": 0.059146,
     "end_time": "2023-11-28T01:58:49.331631",
     "exception": false,
     "start_time": "2023-11-28T01:58:49.272485",
     "status": "completed"
    },
    "tags": []
   },
   "outputs": [
    {
     "data": {
      "text/html": [
       "\n",
       "  <style>\n",
       "    pre {\n",
       "        white-space: pre-wrap;\n",
       "    }\n",
       "  </style>\n",
       "  "
      ],
      "text/plain": [
       "<IPython.core.display.HTML object>"
      ]
     },
     "metadata": {},
     "output_type": "display_data"
    }
   ],
   "source": [
    "train_data = raw_datasets['train']\n",
    "test_data = raw_datasets['test']\n",
    "valid_data = raw_datasets['validation']"
   ]
  },
  {
   "cell_type": "markdown",
   "id": "c91682ea",
   "metadata": {
    "id": "c-X82WgK1ZZV",
    "papermill": {
     "duration": 0.05062,
     "end_time": "2023-11-28T01:58:49.434065",
     "exception": false,
     "start_time": "2023-11-28T01:58:49.383445",
     "status": "completed"
    },
    "tags": []
   },
   "source": [
    "Check sample of tokens from train dataset"
   ]
  },
  {
   "cell_type": "code",
   "execution_count": 20,
   "id": "a010acd0",
   "metadata": {
    "execution": {
     "iopub.execute_input": "2023-11-28T01:58:49.537297Z",
     "iopub.status.busy": "2023-11-28T01:58:49.536697Z",
     "iopub.status.idle": "2023-11-28T01:58:49.543219Z",
     "shell.execute_reply": "2023-11-28T01:58:49.542236Z"
    },
    "executionInfo": {
     "elapsed": 155,
     "status": "ok",
     "timestamp": 1701052913180,
     "user": {
      "displayName": "Oyesh Singh",
      "userId": "14095812393031823613"
     },
     "user_tz": 300
    },
    "id": "GthOG3KemYn_",
    "outputId": "75c55113-f8d9-490f-fab3-37b5fb84e7b8",
    "papermill": {
     "duration": 0.060255,
     "end_time": "2023-11-28T01:58:49.545085",
     "exception": false,
     "start_time": "2023-11-28T01:58:49.484830",
     "status": "completed"
    },
    "tags": []
   },
   "outputs": [
    {
     "data": {
      "text/html": [
       "\n",
       "  <style>\n",
       "    pre {\n",
       "        white-space: pre-wrap;\n",
       "    }\n",
       "  </style>\n",
       "  "
      ],
      "text/plain": [
       "<IPython.core.display.HTML object>"
      ]
     },
     "metadata": {},
     "output_type": "display_data"
    },
    {
     "name": "stdout",
     "output_type": "stream",
     "text": [
      "यो खाते रन्डि को छोरा कस्तो मानव अधिकार बादी हो ?\n"
     ]
    }
   ],
   "source": [
    "print(train_data[10][\"text\"])"
   ]
  },
  {
   "cell_type": "markdown",
   "id": "e979a67e",
   "metadata": {
    "id": "DZ60Ictv1gsB",
    "papermill": {
     "duration": 0.051571,
     "end_time": "2023-11-28T01:58:49.648272",
     "exception": false,
     "start_time": "2023-11-28T01:58:49.596701",
     "status": "completed"
    },
    "tags": []
   },
   "source": [
    "Check the NER tags (its IDS) of the corresponding sample"
   ]
  },
  {
   "cell_type": "code",
   "execution_count": 21,
   "id": "61bb992c",
   "metadata": {
    "execution": {
     "iopub.execute_input": "2023-11-28T01:58:49.752601Z",
     "iopub.status.busy": "2023-11-28T01:58:49.751821Z",
     "iopub.status.idle": "2023-11-28T01:58:49.758350Z",
     "shell.execute_reply": "2023-11-28T01:58:49.757552Z"
    },
    "executionInfo": {
     "elapsed": 153,
     "status": "ok",
     "timestamp": 1701052914852,
     "user": {
      "displayName": "Oyesh Singh",
      "userId": "14095812393031823613"
     },
     "user_tz": 300
    },
    "id": "MWbI8SgdEHcU",
    "outputId": "0ad3a761-987d-4c40-f8a3-334379f1f940",
    "papermill": {
     "duration": 0.060764,
     "end_time": "2023-11-28T01:58:49.760327",
     "exception": false,
     "start_time": "2023-11-28T01:58:49.699563",
     "status": "completed"
    },
    "tags": []
   },
   "outputs": [
    {
     "data": {
      "text/html": [
       "\n",
       "  <style>\n",
       "    pre {\n",
       "        white-space: pre-wrap;\n",
       "    }\n",
       "  </style>\n",
       "  "
      ],
      "text/plain": [
       "<IPython.core.display.HTML object>"
      ]
     },
     "metadata": {},
     "output_type": "display_data"
    },
    {
     "name": "stdout",
     "output_type": "stream",
     "text": [
      "2\n"
     ]
    }
   ],
   "source": [
    "print(raw_datasets[\"train\"][10][\"label\"])"
   ]
  },
  {
   "cell_type": "code",
   "execution_count": 22,
   "id": "902d7284",
   "metadata": {
    "execution": {
     "iopub.execute_input": "2023-11-28T01:58:49.864657Z",
     "iopub.status.busy": "2023-11-28T01:58:49.864065Z",
     "iopub.status.idle": "2023-11-28T01:58:49.871528Z",
     "shell.execute_reply": "2023-11-28T01:58:49.870707Z"
    },
    "executionInfo": {
     "elapsed": 143,
     "status": "ok",
     "timestamp": 1701052920635,
     "user": {
      "displayName": "Oyesh Singh",
      "userId": "14095812393031823613"
     },
     "user_tz": 300
    },
    "id": "4h0gTlDNELsK",
    "outputId": "0a3e7624-13ea-4db3-e4d3-778c0841634d",
    "papermill": {
     "duration": 0.061655,
     "end_time": "2023-11-28T01:58:49.873394",
     "exception": false,
     "start_time": "2023-11-28T01:58:49.811739",
     "status": "completed"
    },
    "tags": []
   },
   "outputs": [
    {
     "data": {
      "text/html": [
       "\n",
       "  <style>\n",
       "    pre {\n",
       "        white-space: pre-wrap;\n",
       "    }\n",
       "  </style>\n",
       "  "
      ],
      "text/plain": [
       "<IPython.core.display.HTML object>"
      ]
     },
     "metadata": {},
     "output_type": "display_data"
    },
    {
     "data": {
      "text/plain": [
       "4"
      ]
     },
     "execution_count": 22,
     "metadata": {},
     "output_type": "execute_result"
    }
   ],
   "source": [
    "ner_feature = raw_datasets[\"train\"].features[\"label\"]\n",
    "ner_feature.num_classes"
   ]
  },
  {
   "cell_type": "markdown",
   "id": "cedf81b5",
   "metadata": {
    "id": "nQqAKrabE5RF",
    "papermill": {
     "duration": 0.054031,
     "end_time": "2023-11-28T01:58:49.979899",
     "exception": false,
     "start_time": "2023-11-28T01:58:49.925868",
     "status": "completed"
    },
    "tags": []
   },
   "source": [
    "## Tokenization"
   ]
  },
  {
   "cell_type": "code",
   "execution_count": 23,
   "id": "07c1b23f",
   "metadata": {
    "execution": {
     "iopub.execute_input": "2023-11-28T01:58:50.084447Z",
     "iopub.status.busy": "2023-11-28T01:58:50.083759Z",
     "iopub.status.idle": "2023-11-28T01:58:56.043307Z",
     "shell.execute_reply": "2023-11-28T01:58:56.042287Z"
    },
    "executionInfo": {
     "elapsed": 2683,
     "status": "ok",
     "timestamp": 1701052927145,
     "user": {
      "displayName": "Oyesh Singh",
      "userId": "14095812393031823613"
     },
     "user_tz": 300
    },
    "id": "DUXvTMz1EdZp",
    "outputId": "67b69803-b6bc-451e-f724-fd4a9da02d0a",
    "papermill": {
     "duration": 6.01467,
     "end_time": "2023-11-28T01:58:56.045671",
     "exception": false,
     "start_time": "2023-11-28T01:58:50.031001",
     "status": "completed"
    },
    "tags": []
   },
   "outputs": [
    {
     "data": {
      "text/html": [
       "\n",
       "  <style>\n",
       "    pre {\n",
       "        white-space: pre-wrap;\n",
       "    }\n",
       "  </style>\n",
       "  "
      ],
      "text/plain": [
       "<IPython.core.display.HTML object>"
      ]
     },
     "metadata": {},
     "output_type": "display_data"
    },
    {
     "data": {
      "application/vnd.jupyter.widget-view+json": {
       "model_id": "883ee0d4951b44b7a64c9b3effd5138d",
       "version_major": 2,
       "version_minor": 0
      },
      "text/plain": [
       "config.json:   0%|          | 0.00/569 [00:00<?, ?B/s]"
      ]
     },
     "metadata": {},
     "output_type": "display_data"
    },
    {
     "data": {
      "application/vnd.jupyter.widget-view+json": {
       "model_id": "c575ec91b1064b62b24e1bebbe18fa4d",
       "version_major": 2,
       "version_minor": 0
      },
      "text/plain": [
       "vocab.txt:   0%|          | 0.00/987k [00:00<?, ?B/s]"
      ]
     },
     "metadata": {},
     "output_type": "display_data"
    }
   ],
   "source": [
    "from transformers import AutoTokenizer\n",
    "\n",
    "# model_checkpoint = \"NepBERTa/NepBERTa\"\n",
    "model_checkpoint = \"Rajan/NepaliBERT\"\n",
    "# model_checkpoint = \"Rajan/nepbertaTorch\"\n",
    "# model_checkpoint = \"Sakonii/distilbert-base-nepali\"\n",
    "# model_checkpoint = \"xlm-roberta-large\"\n",
    "\n",
    "# model_checkpoint = \"/kaggle/input/nepsa-model/model\"\n",
    "\n",
    "tokenizer = AutoTokenizer.from_pretrained(model_checkpoint)"
   ]
  },
  {
   "cell_type": "markdown",
   "id": "f79efc50",
   "metadata": {
    "id": "_feyzph1k2lA",
    "papermill": {
     "duration": 0.054332,
     "end_time": "2023-11-28T01:58:56.153617",
     "exception": false,
     "start_time": "2023-11-28T01:58:56.099285",
     "status": "completed"
    },
    "tags": []
   },
   "source": [
    "## Data Preprocessing"
   ]
  },
  {
   "cell_type": "code",
   "execution_count": 24,
   "id": "e419ac6b",
   "metadata": {
    "execution": {
     "iopub.execute_input": "2023-11-28T01:58:56.259544Z",
     "iopub.status.busy": "2023-11-28T01:58:56.258637Z",
     "iopub.status.idle": "2023-11-28T01:58:56.483832Z",
     "shell.execute_reply": "2023-11-28T01:58:56.482839Z"
    },
    "executionInfo": {
     "elapsed": 991,
     "status": "ok",
     "timestamp": 1701052929718,
     "user": {
      "displayName": "Oyesh Singh",
      "userId": "14095812393031823613"
     },
     "user_tz": 300
    },
    "id": "E3c0HPlMkJTK",
    "outputId": "aef73ffb-0bbd-4654-cbec-f9db7c5e4371",
    "papermill": {
     "duration": 0.280232,
     "end_time": "2023-11-28T01:58:56.485755",
     "exception": false,
     "start_time": "2023-11-28T01:58:56.205523",
     "status": "completed"
    },
    "tags": []
   },
   "outputs": [
    {
     "data": {
      "text/html": [
       "\n",
       "  <style>\n",
       "    pre {\n",
       "        white-space: pre-wrap;\n",
       "    }\n",
       "  </style>\n",
       "  "
      ],
      "text/plain": [
       "<IPython.core.display.HTML object>"
      ]
     },
     "metadata": {},
     "output_type": "display_data"
    },
    {
     "data": {
      "application/vnd.jupyter.widget-view+json": {
       "model_id": "6cb0a3c4c6d34d3a9fc66f17f892fb0a",
       "version_major": 2,
       "version_minor": 0
      },
      "text/plain": [
       "Map:   0%|          | 0/714 [00:00<?, ? examples/s]"
      ]
     },
     "metadata": {},
     "output_type": "display_data"
    },
    {
     "data": {
      "application/vnd.jupyter.widget-view+json": {
       "model_id": "5ecd8ee9f3934994a3a811c5a99176a5",
       "version_major": 2,
       "version_minor": 0
      },
      "text/plain": [
       "Map:   0%|          | 0/239 [00:00<?, ? examples/s]"
      ]
     },
     "metadata": {},
     "output_type": "display_data"
    },
    {
     "data": {
      "application/vnd.jupyter.widget-view+json": {
       "model_id": "e46ad6cef74f427ab51580007cfb132a",
       "version_major": 2,
       "version_minor": 0
      },
      "text/plain": [
       "Map:   0%|          | 0/239 [00:00<?, ? examples/s]"
      ]
     },
     "metadata": {},
     "output_type": "display_data"
    }
   ],
   "source": [
    "def preprocess_function(examples):\n",
    "    return tokenizer(examples[\"text\"], truncation=False)\n",
    "\n",
    "tokenized_train = train_data.map(preprocess_function, batched=True)\n",
    "tokenized_test = test_data.map(preprocess_function, batched=True)\n",
    "tokenized_val = valid_data.map(preprocess_function, batched=True)"
   ]
  },
  {
   "cell_type": "markdown",
   "id": "94cccac2",
   "metadata": {
    "id": "IGu3qmRkG2N1",
    "papermill": {
     "duration": 0.052939,
     "end_time": "2023-11-28T01:58:56.592240",
     "exception": false,
     "start_time": "2023-11-28T01:58:56.539301",
     "status": "completed"
    },
    "tags": []
   },
   "source": [
    "# Fine Tuning"
   ]
  },
  {
   "cell_type": "markdown",
   "id": "8b36320d",
   "metadata": {
    "id": "BfrSd1tWG45r",
    "papermill": {
     "duration": 0.052238,
     "end_time": "2023-11-28T01:58:56.697396",
     "exception": false,
     "start_time": "2023-11-28T01:58:56.645158",
     "status": "completed"
    },
    "tags": []
   },
   "source": [
    "## Data Collation"
   ]
  },
  {
   "cell_type": "code",
   "execution_count": 25,
   "id": "84c75dbd",
   "metadata": {
    "execution": {
     "iopub.execute_input": "2023-11-28T01:58:56.804680Z",
     "iopub.status.busy": "2023-11-28T01:58:56.803993Z",
     "iopub.status.idle": "2023-11-28T01:59:07.261677Z",
     "shell.execute_reply": "2023-11-28T01:59:07.260652Z"
    },
    "executionInfo": {
     "elapsed": 178,
     "status": "ok",
     "timestamp": 1701052934854,
     "user": {
      "displayName": "Oyesh Singh",
      "userId": "14095812393031823613"
     },
     "user_tz": 300
    },
    "id": "t3R7wlG_GWL5",
    "outputId": "96b2ee85-ab7b-485d-aaf0-01b57b41e00f",
    "papermill": {
     "duration": 10.513994,
     "end_time": "2023-11-28T01:59:07.264087",
     "exception": false,
     "start_time": "2023-11-28T01:58:56.750093",
     "status": "completed"
    },
    "tags": []
   },
   "outputs": [
    {
     "data": {
      "text/html": [
       "\n",
       "  <style>\n",
       "    pre {\n",
       "        white-space: pre-wrap;\n",
       "    }\n",
       "  </style>\n",
       "  "
      ],
      "text/plain": [
       "<IPython.core.display.HTML object>"
      ]
     },
     "metadata": {},
     "output_type": "display_data"
    }
   ],
   "source": [
    "from transformers import DataCollatorWithPadding\n",
    "data_collator = DataCollatorWithPadding(tokenizer=tokenizer)"
   ]
  },
  {
   "cell_type": "markdown",
   "id": "07ea6044",
   "metadata": {
    "id": "Vdkc3LfJqBcw",
    "papermill": {
     "duration": 0.053099,
     "end_time": "2023-11-28T01:59:07.372370",
     "exception": false,
     "start_time": "2023-11-28T01:59:07.319271",
     "status": "completed"
    },
    "tags": []
   },
   "source": [
    "## Load pre-trained model"
   ]
  },
  {
   "cell_type": "code",
   "execution_count": 26,
   "id": "96ce1865",
   "metadata": {
    "execution": {
     "iopub.execute_input": "2023-11-28T01:59:07.480977Z",
     "iopub.status.busy": "2023-11-28T01:59:07.479789Z",
     "iopub.status.idle": "2023-11-28T01:59:10.691400Z",
     "shell.execute_reply": "2023-11-28T01:59:10.690555Z"
    },
    "executionInfo": {
     "elapsed": 46373,
     "status": "ok",
     "timestamp": 1701052981347,
     "user": {
      "displayName": "Oyesh Singh",
      "userId": "14095812393031823613"
     },
     "user_tz": 300
    },
    "id": "V-WBdKWblKMw",
    "outputId": "58423a63-7c99-46be-a50b-47d4a4db6fc4",
    "papermill": {
     "duration": 3.267595,
     "end_time": "2023-11-28T01:59:10.693465",
     "exception": false,
     "start_time": "2023-11-28T01:59:07.425870",
     "status": "completed"
    },
    "tags": []
   },
   "outputs": [
    {
     "data": {
      "text/html": [
       "\n",
       "  <style>\n",
       "    pre {\n",
       "        white-space: pre-wrap;\n",
       "    }\n",
       "  </style>\n",
       "  "
      ],
      "text/plain": [
       "<IPython.core.display.HTML object>"
      ]
     },
     "metadata": {},
     "output_type": "display_data"
    },
    {
     "data": {
      "application/vnd.jupyter.widget-view+json": {
       "model_id": "c59cb3dfb23f4591a73c2d284b91a5fc",
       "version_major": 2,
       "version_minor": 0
      },
      "text/plain": [
       "pytorch_model.bin:   0%|          | 0.00/328M [00:00<?, ?B/s]"
      ]
     },
     "metadata": {},
     "output_type": "display_data"
    },
    {
     "name": "stderr",
     "output_type": "stream",
     "text": [
      "Some weights of BertForSequenceClassification were not initialized from the model checkpoint at Rajan/NepaliBERT and are newly initialized: ['classifier.weight', 'bert.pooler.dense.weight', 'classifier.bias', 'bert.pooler.dense.bias']\n",
      "You should probably TRAIN this model on a down-stream task to be able to use it for predictions and inference.\n"
     ]
    }
   ],
   "source": [
    "from transformers import AutoModelForSequenceClassification\n",
    "model = AutoModelForSequenceClassification.from_pretrained(\n",
    "    model_checkpoint,\n",
    "    num_labels=4,\n",
    "    from_tf=True if model_checkpoint==\"NepBERTa/NepBERTa\" else False\n",
    ")"
   ]
  },
  {
   "cell_type": "markdown",
   "id": "e59774ea",
   "metadata": {
    "id": "V3iGcDJZnH7J",
    "papermill": {
     "duration": 0.052466,
     "end_time": "2023-11-28T01:59:10.799487",
     "exception": false,
     "start_time": "2023-11-28T01:59:10.747021",
     "status": "completed"
    },
    "tags": []
   },
   "source": [
    "## Setup Evaluation"
   ]
  },
  {
   "cell_type": "code",
   "execution_count": 27,
   "id": "18ba6f72",
   "metadata": {
    "execution": {
     "iopub.execute_input": "2023-11-28T01:59:10.906780Z",
     "iopub.status.busy": "2023-11-28T01:59:10.906450Z",
     "iopub.status.idle": "2023-11-28T01:59:10.914768Z",
     "shell.execute_reply": "2023-11-28T01:59:10.913899Z"
    },
    "executionInfo": {
     "elapsed": 147,
     "status": "ok",
     "timestamp": 1701052999835,
     "user": {
      "displayName": "Oyesh Singh",
      "userId": "14095812393031823613"
     },
     "user_tz": 300
    },
    "id": "q-69MVMlHXXP",
    "outputId": "72a36605-eb10-4d21-f8b1-3d4a18b9982c",
    "papermill": {
     "duration": 0.06444,
     "end_time": "2023-11-28T01:59:10.916692",
     "exception": false,
     "start_time": "2023-11-28T01:59:10.852252",
     "status": "completed"
    },
    "tags": []
   },
   "outputs": [
    {
     "data": {
      "text/html": [
       "\n",
       "  <style>\n",
       "    pre {\n",
       "        white-space: pre-wrap;\n",
       "    }\n",
       "  </style>\n",
       "  "
      ],
      "text/plain": [
       "<IPython.core.display.HTML object>"
      ]
     },
     "metadata": {},
     "output_type": "display_data"
    }
   ],
   "source": [
    "import numpy as np\n",
    "from sklearn.metrics import classification_report\n",
    "from datasets import load_metric\n",
    "\n",
    "def compute_metrics(eval_pred):\n",
    "    logits, labels = eval_pred\n",
    "    predictions = np.argmax(logits, axis=-1)\n",
    "    \n",
    "    report = classification_report(y_true=labels, y_pred=predictions, output_dict=True)\n",
    "\n",
    "    accuracy = report['accuracy']\n",
    "    recall = report['weighted avg']['recall']\n",
    "    precision = report['weighted avg']['precision']\n",
    "    f1 = report['weighted avg']['f1-score']\n",
    "    return {\n",
    "        \"accuracy\": accuracy,\n",
    "        \"recall\": recall,\n",
    "        \"precision\": precision,\n",
    "        \"f1\": f1\n",
    "    }\n",
    "\n"
   ]
  },
  {
   "cell_type": "code",
   "execution_count": 28,
   "id": "f0c96c6d",
   "metadata": {
    "execution": {
     "iopub.execute_input": "2023-11-28T01:59:11.024235Z",
     "iopub.status.busy": "2023-11-28T01:59:11.023972Z",
     "iopub.status.idle": "2023-11-28T01:59:11.031091Z",
     "shell.execute_reply": "2023-11-28T01:59:11.030252Z"
    },
    "executionInfo": {
     "elapsed": 5,
     "status": "ok",
     "timestamp": 1701053007417,
     "user": {
      "displayName": "Oyesh Singh",
      "userId": "14095812393031823613"
     },
     "user_tz": 300
    },
    "id": "ikGyFrkgIPhW",
    "outputId": "36b77ca1-d379-406c-d558-12e903eabedf",
    "papermill": {
     "duration": 0.062967,
     "end_time": "2023-11-28T01:59:11.032972",
     "exception": false,
     "start_time": "2023-11-28T01:59:10.970005",
     "status": "completed"
    },
    "tags": []
   },
   "outputs": [
    {
     "data": {
      "text/html": [
       "\n",
       "  <style>\n",
       "    pre {\n",
       "        white-space: pre-wrap;\n",
       "    }\n",
       "  </style>\n",
       "  "
      ],
      "text/plain": [
       "<IPython.core.display.HTML object>"
      ]
     },
     "metadata": {},
     "output_type": "display_data"
    },
    {
     "data": {
      "text/plain": [
       "4"
      ]
     },
     "execution_count": 28,
     "metadata": {},
     "output_type": "execute_result"
    }
   ],
   "source": [
    "model.config.num_labels"
   ]
  },
  {
   "cell_type": "markdown",
   "id": "1e48a9bb",
   "metadata": {
    "id": "4vvXDoFGsZMB",
    "papermill": {
     "duration": 0.053579,
     "end_time": "2023-11-28T01:59:11.139831",
     "exception": false,
     "start_time": "2023-11-28T01:59:11.086252",
     "status": "completed"
    },
    "tags": []
   },
   "source": [
    "## Training"
   ]
  },
  {
   "cell_type": "code",
   "execution_count": 29,
   "id": "5b51b9da",
   "metadata": {
    "execution": {
     "iopub.execute_input": "2023-11-28T01:59:11.248947Z",
     "iopub.status.busy": "2023-11-28T01:59:11.248605Z",
     "iopub.status.idle": "2023-11-28T01:59:11.254002Z",
     "shell.execute_reply": "2023-11-28T01:59:11.253201Z"
    },
    "executionInfo": {
     "elapsed": 4028,
     "status": "ok",
     "timestamp": 1701053012874,
     "user": {
      "displayName": "Oyesh Singh",
      "userId": "14095812393031823613"
     },
     "user_tz": 300
    },
    "id": "X_lupvWXIaCA",
    "outputId": "00f6a705-061e-4828-a9ef-23af9b649bb2",
    "papermill": {
     "duration": 0.061674,
     "end_time": "2023-11-28T01:59:11.255878",
     "exception": false,
     "start_time": "2023-11-28T01:59:11.194204",
     "status": "completed"
    },
    "tags": []
   },
   "outputs": [
    {
     "data": {
      "text/html": [
       "\n",
       "  <style>\n",
       "    pre {\n",
       "        white-space: pre-wrap;\n",
       "    }\n",
       "  </style>\n",
       "  "
      ],
      "text/plain": [
       "<IPython.core.display.HTML object>"
      ]
     },
     "metadata": {},
     "output_type": "display_data"
    }
   ],
   "source": [
    "# from google.colab import userdata\n",
    "# from huggingface_hub import login, notebook_login\n",
    "\n",
    "# login(token=userdata.get('hugging_face'))"
   ]
  },
  {
   "cell_type": "code",
   "execution_count": 30,
   "id": "e1b4461a",
   "metadata": {
    "execution": {
     "iopub.execute_input": "2023-11-28T01:59:11.365094Z",
     "iopub.status.busy": "2023-11-28T01:59:11.364732Z",
     "iopub.status.idle": "2023-11-28T01:59:16.862896Z",
     "shell.execute_reply": "2023-11-28T01:59:16.861956Z"
    },
    "executionInfo": {
     "elapsed": 123,
     "status": "error",
     "timestamp": 1701053033912,
     "user": {
      "displayName": "Oyesh Singh",
      "userId": "14095812393031823613"
     },
     "user_tz": 300
    },
    "id": "wiGQ-gUyIqay",
    "outputId": "f00db555-880f-4206-d01e-439f813d2110",
    "papermill": {
     "duration": 5.555703,
     "end_time": "2023-11-28T01:59:16.865162",
     "exception": false,
     "start_time": "2023-11-28T01:59:11.309459",
     "status": "completed"
    },
    "tags": []
   },
   "outputs": [
    {
     "data": {
      "text/html": [
       "\n",
       "  <style>\n",
       "    pre {\n",
       "        white-space: pre-wrap;\n",
       "    }\n",
       "  </style>\n",
       "  "
      ],
      "text/plain": [
       "<IPython.core.display.HTML object>"
      ]
     },
     "metadata": {},
     "output_type": "display_data"
    }
   ],
   "source": [
    "from transformers import TrainingArguments, Trainer\n",
    "\n",
    "model_name = \"nepsa\"\n",
    "\n",
    "args = TrainingArguments(\n",
    "    model_name,\n",
    "    evaluation_strategy=\"epoch\",\n",
    "    per_device_train_batch_size=8,\n",
    "    per_device_eval_batch_size=8,\n",
    "    learning_rate=2e-5,\n",
    "    num_train_epochs=4,\n",
    "    weight_decay=0.01,\n",
    "    push_to_hub=False,\n",
    ")\n",
    "\n",
    "trainer = Trainer(\n",
    "    model=model,\n",
    "    args=args,\n",
    "    train_dataset=tokenized_train,\n",
    "    eval_dataset=tokenized_val,\n",
    "    data_collator=data_collator,\n",
    "    compute_metrics=compute_metrics,\n",
    "    tokenizer=tokenizer,\n",
    ")"
   ]
  },
  {
   "cell_type": "code",
   "execution_count": 31,
   "id": "0a0c31fa",
   "metadata": {
    "execution": {
     "iopub.execute_input": "2023-11-28T01:59:16.975152Z",
     "iopub.status.busy": "2023-11-28T01:59:16.974806Z",
     "iopub.status.idle": "2023-11-28T02:00:09.070877Z",
     "shell.execute_reply": "2023-11-28T02:00:09.069680Z"
    },
    "executionInfo": {
     "elapsed": 123,
     "status": "error",
     "timestamp": 1701053033912,
     "user": {
      "displayName": "Oyesh Singh",
      "userId": "14095812393031823613"
     },
     "user_tz": 300
    },
    "id": "wiGQ-gUyIqay",
    "outputId": "f00db555-880f-4206-d01e-439f813d2110",
    "papermill": {
     "duration": 52.153389,
     "end_time": "2023-11-28T02:00:09.073351",
     "exception": false,
     "start_time": "2023-11-28T01:59:16.919962",
     "status": "completed"
    },
    "tags": []
   },
   "outputs": [
    {
     "data": {
      "text/html": [
       "\n",
       "  <style>\n",
       "    pre {\n",
       "        white-space: pre-wrap;\n",
       "    }\n",
       "  </style>\n",
       "  "
      ],
      "text/plain": [
       "<IPython.core.display.HTML object>"
      ]
     },
     "metadata": {},
     "output_type": "display_data"
    },
    {
     "name": "stderr",
     "output_type": "stream",
     "text": [
      "\u001b[34m\u001b[1mwandb\u001b[0m: W&B API key is configured. Use \u001b[1m`wandb login --relogin`\u001b[0m to force relogin\n",
      "\u001b[34m\u001b[1mwandb\u001b[0m: \u001b[33mWARNING\u001b[0m If you're specifying your api key in code, ensure this code is not shared publicly.\n",
      "\u001b[34m\u001b[1mwandb\u001b[0m: \u001b[33mWARNING\u001b[0m Consider setting the WANDB_API_KEY environment variable, or running `wandb login` from the command line.\n",
      "\u001b[34m\u001b[1mwandb\u001b[0m: Appending key for api.wandb.ai to your netrc file: /root/.netrc\n",
      "\u001b[34m\u001b[1mwandb\u001b[0m: Currently logged in as: \u001b[33moyashi163\u001b[0m. Use \u001b[1m`wandb login --relogin`\u001b[0m to force relogin\n",
      "\u001b[34m\u001b[1mwandb\u001b[0m: Tracking run with wandb version 0.16.0\n",
      "\u001b[34m\u001b[1mwandb\u001b[0m: Run data is saved locally in \u001b[35m\u001b[1m/kaggle/working/wandb/run-20231128_015918-qkfrrxw4\u001b[0m\n",
      "\u001b[34m\u001b[1mwandb\u001b[0m: Run \u001b[1m`wandb offline`\u001b[0m to turn off syncing.\n",
      "\u001b[34m\u001b[1mwandb\u001b[0m: Syncing run \u001b[33mrural-plasma-14\u001b[0m\n",
      "\u001b[34m\u001b[1mwandb\u001b[0m: ⭐️ View project at \u001b[34m\u001b[4mhttps://wandb.ai/oyashi163/huggingface\u001b[0m\n",
      "\u001b[34m\u001b[1mwandb\u001b[0m: 🚀 View run at \u001b[34m\u001b[4mhttps://wandb.ai/oyashi163/huggingface/runs/qkfrrxw4\u001b[0m\n",
      "You're using a BertTokenizerFast tokenizer. Please note that with a fast tokenizer, using the `__call__` method is faster than using a method to encode the text followed by a call to the `pad` method to get a padded encoding.\n"
     ]
    },
    {
     "data": {
      "text/html": [
       "\n",
       "    <div>\n",
       "      \n",
       "      <progress value='360' max='360' style='width:300px; height:20px; vertical-align: middle;'></progress>\n",
       "      [360/360 00:17, Epoch 4/4]\n",
       "    </div>\n",
       "    <table border=\"1\" class=\"dataframe\">\n",
       "  <thead>\n",
       " <tr style=\"text-align: left;\">\n",
       "      <th>Epoch</th>\n",
       "      <th>Training Loss</th>\n",
       "      <th>Validation Loss</th>\n",
       "      <th>Accuracy</th>\n",
       "      <th>Recall</th>\n",
       "      <th>Precision</th>\n",
       "      <th>F1</th>\n",
       "    </tr>\n",
       "  </thead>\n",
       "  <tbody>\n",
       "    <tr>\n",
       "      <td>1</td>\n",
       "      <td>No log</td>\n",
       "      <td>1.225829</td>\n",
       "      <td>0.426778</td>\n",
       "      <td>0.426778</td>\n",
       "      <td>0.568422</td>\n",
       "      <td>0.325188</td>\n",
       "    </tr>\n",
       "    <tr>\n",
       "      <td>2</td>\n",
       "      <td>No log</td>\n",
       "      <td>1.046008</td>\n",
       "      <td>0.527197</td>\n",
       "      <td>0.527197</td>\n",
       "      <td>0.515369</td>\n",
       "      <td>0.509505</td>\n",
       "    </tr>\n",
       "    <tr>\n",
       "      <td>3</td>\n",
       "      <td>No log</td>\n",
       "      <td>0.979369</td>\n",
       "      <td>0.569038</td>\n",
       "      <td>0.569038</td>\n",
       "      <td>0.562852</td>\n",
       "      <td>0.565349</td>\n",
       "    </tr>\n",
       "    <tr>\n",
       "      <td>4</td>\n",
       "      <td>No log</td>\n",
       "      <td>0.988519</td>\n",
       "      <td>0.573222</td>\n",
       "      <td>0.573222</td>\n",
       "      <td>0.576369</td>\n",
       "      <td>0.573632</td>\n",
       "    </tr>\n",
       "  </tbody>\n",
       "</table><p>"
      ],
      "text/plain": [
       "<IPython.core.display.HTML object>"
      ]
     },
     "metadata": {},
     "output_type": "display_data"
    },
    {
     "data": {
      "text/plain": [
       "TrainOutput(global_step=360, training_loss=0.9578731113009983, metrics={'train_runtime': 50.237, 'train_samples_per_second': 56.851, 'train_steps_per_second': 7.166, 'total_flos': 40321202557440.0, 'train_loss': 0.9578731113009983, 'epoch': 4.0})"
      ]
     },
     "execution_count": 31,
     "metadata": {},
     "output_type": "execute_result"
    }
   ],
   "source": [
    "from kaggle_secrets import UserSecretsClient\n",
    "import wandb\n",
    "\n",
    "user_secrets = UserSecretsClient()\n",
    "wandb_secret = user_secrets.get_secret(\"wandb\")\n",
    "wandb.login(key=wandb_secret)\n",
    "\n",
    "trainer.train()"
   ]
  },
  {
   "cell_type": "code",
   "execution_count": 32,
   "id": "9cade711",
   "metadata": {
    "execution": {
     "iopub.execute_input": "2023-11-28T02:00:09.190748Z",
     "iopub.status.busy": "2023-11-28T02:00:09.190304Z",
     "iopub.status.idle": "2023-11-28T02:00:09.575635Z",
     "shell.execute_reply": "2023-11-28T02:00:09.574215Z"
    },
    "executionInfo": {
     "elapsed": 3051,
     "status": "ok",
     "timestamp": 1701043333336,
     "user": {
      "displayName": "Merishna Suwal",
      "userId": "00324140771498152491"
     },
     "user_tz": 300
    },
    "id": "K3Wby-ayI7nk",
    "outputId": "8f362171-fda9-41eb-da45-230ca21bd115",
    "papermill": {
     "duration": 0.445832,
     "end_time": "2023-11-28T02:00:09.578119",
     "exception": false,
     "start_time": "2023-11-28T02:00:09.132287",
     "status": "completed"
    },
    "tags": []
   },
   "outputs": [
    {
     "data": {
      "text/html": [
       "\n",
       "  <style>\n",
       "    pre {\n",
       "        white-space: pre-wrap;\n",
       "    }\n",
       "  </style>\n",
       "  "
      ],
      "text/plain": [
       "<IPython.core.display.HTML object>"
      ]
     },
     "metadata": {},
     "output_type": "display_data"
    },
    {
     "data": {
      "text/html": [],
      "text/plain": [
       "<IPython.core.display.HTML object>"
      ]
     },
     "metadata": {},
     "output_type": "display_data"
    },
    {
     "data": {
      "text/plain": [
       "{'eval_loss': 0.9885188341140747,\n",
       " 'eval_accuracy': 0.5732217573221757,\n",
       " 'eval_recall': 0.5732217573221757,\n",
       " 'eval_precision': 0.5763693919463322,\n",
       " 'eval_f1': 0.5736315434185915,\n",
       " 'eval_runtime': 0.3699,\n",
       " 'eval_samples_per_second': 646.089,\n",
       " 'eval_steps_per_second': 81.099,\n",
       " 'epoch': 4.0}"
      ]
     },
     "execution_count": 32,
     "metadata": {},
     "output_type": "execute_result"
    }
   ],
   "source": [
    "trainer.evaluate()"
   ]
  },
  {
   "cell_type": "markdown",
   "id": "4ee823ac",
   "metadata": {
    "id": "edGfnEMhBKrq",
    "papermill": {
     "duration": 0.067523,
     "end_time": "2023-11-28T02:00:09.709538",
     "exception": false,
     "start_time": "2023-11-28T02:00:09.642015",
     "status": "completed"
    },
    "tags": []
   },
   "source": [
    "## Save the model"
   ]
  },
  {
   "cell_type": "code",
   "execution_count": 33,
   "id": "0bb2163e",
   "metadata": {
    "execution": {
     "iopub.execute_input": "2023-11-28T02:00:09.826707Z",
     "iopub.status.busy": "2023-11-28T02:00:09.826275Z",
     "iopub.status.idle": "2023-11-28T02:00:10.601840Z",
     "shell.execute_reply": "2023-11-28T02:00:10.601039Z"
    },
    "executionInfo": {
     "elapsed": 12306,
     "status": "ok",
     "timestamp": 1701043345619,
     "user": {
      "displayName": "Merishna Suwal",
      "userId": "00324140771498152491"
     },
     "user_tz": 300
    },
    "id": "94bAP6D_ud5e",
    "outputId": "054df1a1-b32b-4e13-834c-e440c9dbfd25",
    "papermill": {
     "duration": 0.836472,
     "end_time": "2023-11-28T02:00:10.604148",
     "exception": false,
     "start_time": "2023-11-28T02:00:09.767676",
     "status": "completed"
    },
    "tags": []
   },
   "outputs": [
    {
     "data": {
      "text/html": [
       "\n",
       "  <style>\n",
       "    pre {\n",
       "        white-space: pre-wrap;\n",
       "    }\n",
       "  </style>\n",
       "  "
      ],
      "text/plain": [
       "<IPython.core.display.HTML object>"
      ]
     },
     "metadata": {},
     "output_type": "display_data"
    }
   ],
   "source": [
    "saved_model_path='nepsa'\n",
    "trainer.save_model(saved_model_path)"
   ]
  },
  {
   "cell_type": "markdown",
   "id": "eaec0296",
   "metadata": {
    "id": "zOzIt3w0sbTi",
    "papermill": {
     "duration": 0.055985,
     "end_time": "2023-11-28T02:00:10.717176",
     "exception": false,
     "start_time": "2023-11-28T02:00:10.661191",
     "status": "completed"
    },
    "tags": []
   },
   "source": [
    "## Evaluation"
   ]
  },
  {
   "cell_type": "code",
   "execution_count": 34,
   "id": "da0bd925",
   "metadata": {
    "execution": {
     "iopub.execute_input": "2023-11-28T02:00:10.831294Z",
     "iopub.status.busy": "2023-11-28T02:00:10.830451Z",
     "iopub.status.idle": "2023-11-28T02:00:11.235829Z",
     "shell.execute_reply": "2023-11-28T02:00:11.234966Z"
    },
    "executionInfo": {
     "elapsed": 3781,
     "status": "ok",
     "timestamp": 1701043349365,
     "user": {
      "displayName": "Merishna Suwal",
      "userId": "00324140771498152491"
     },
     "user_tz": 300
    },
    "id": "lpnKhs83sc0H",
    "outputId": "140ec1fa-15f4-4195-a0f7-e4350e00bc7d",
    "papermill": {
     "duration": 0.464112,
     "end_time": "2023-11-28T02:00:11.237749",
     "exception": false,
     "start_time": "2023-11-28T02:00:10.773637",
     "status": "completed"
    },
    "tags": []
   },
   "outputs": [
    {
     "data": {
      "text/html": [
       "\n",
       "  <style>\n",
       "    pre {\n",
       "        white-space: pre-wrap;\n",
       "    }\n",
       "  </style>\n",
       "  "
      ],
      "text/plain": [
       "<IPython.core.display.HTML object>"
      ]
     },
     "metadata": {},
     "output_type": "display_data"
    }
   ],
   "source": [
    "predictions = trainer.predict(tokenized_test)"
   ]
  },
  {
   "cell_type": "code",
   "execution_count": 35,
   "id": "16cc892f",
   "metadata": {
    "execution": {
     "iopub.execute_input": "2023-11-28T02:00:11.355680Z",
     "iopub.status.busy": "2023-11-28T02:00:11.355105Z",
     "iopub.status.idle": "2023-11-28T02:00:11.371019Z",
     "shell.execute_reply": "2023-11-28T02:00:11.370130Z"
    },
    "papermill": {
     "duration": 0.075208,
     "end_time": "2023-11-28T02:00:11.373046",
     "exception": false,
     "start_time": "2023-11-28T02:00:11.297838",
     "status": "completed"
    },
    "tags": []
   },
   "outputs": [
    {
     "data": {
      "text/html": [
       "\n",
       "  <style>\n",
       "    pre {\n",
       "        white-space: pre-wrap;\n",
       "    }\n",
       "  </style>\n",
       "  "
      ],
      "text/plain": [
       "<IPython.core.display.HTML object>"
      ]
     },
     "metadata": {},
     "output_type": "display_data"
    }
   ],
   "source": [
    "import pandas as pd\n",
    "final_predictions = np.argmax(predictions.predictions, axis=1)\n",
    "\n",
    "label_map = {\n",
    "    0: 'GENERAL POSITIVE',\n",
    "    1: 'GENERAL NEGATIVE',\n",
    "    2: 'PROFANITY',\n",
    "    3: 'VIOLENCE'\n",
    "}\n",
    "\n",
    "prediction_data = []\n",
    "for text, gt, pt in zip(tokenized_test['text'], tokenized_test['label'], final_predictions):\n",
    "    prediction_data.append([text, gt, pt])\n",
    "    \n",
    "prediction_df = pd.DataFrame(prediction_data, columns=['text', 'ground_truth', 'predictions'])"
   ]
  },
  {
   "cell_type": "code",
   "execution_count": 36,
   "id": "8cffb5d8",
   "metadata": {
    "execution": {
     "iopub.execute_input": "2023-11-28T02:00:11.489941Z",
     "iopub.status.busy": "2023-11-28T02:00:11.489579Z",
     "iopub.status.idle": "2023-11-28T02:00:11.495032Z",
     "shell.execute_reply": "2023-11-28T02:00:11.494228Z"
    },
    "papermill": {
     "duration": 0.064443,
     "end_time": "2023-11-28T02:00:11.496897",
     "exception": false,
     "start_time": "2023-11-28T02:00:11.432454",
     "status": "completed"
    },
    "tags": []
   },
   "outputs": [
    {
     "data": {
      "text/html": [
       "\n",
       "  <style>\n",
       "    pre {\n",
       "        white-space: pre-wrap;\n",
       "    }\n",
       "  </style>\n",
       "  "
      ],
      "text/plain": [
       "<IPython.core.display.HTML object>"
      ]
     },
     "metadata": {},
     "output_type": "display_data"
    }
   ],
   "source": [
    "# prediction_df[prediction_df['predictions']==0]"
   ]
  },
  {
   "cell_type": "code",
   "execution_count": 37,
   "id": "79fb32bf",
   "metadata": {
    "execution": {
     "iopub.execute_input": "2023-11-28T02:00:11.610776Z",
     "iopub.status.busy": "2023-11-28T02:00:11.610453Z",
     "iopub.status.idle": "2023-11-28T02:00:11.629050Z",
     "shell.execute_reply": "2023-11-28T02:00:11.627937Z"
    },
    "papermill": {
     "duration": 0.077838,
     "end_time": "2023-11-28T02:00:11.631007",
     "exception": false,
     "start_time": "2023-11-28T02:00:11.553169",
     "status": "completed"
    },
    "tags": []
   },
   "outputs": [
    {
     "data": {
      "text/html": [
       "\n",
       "  <style>\n",
       "    pre {\n",
       "        white-space: pre-wrap;\n",
       "    }\n",
       "  </style>\n",
       "  "
      ],
      "text/plain": [
       "<IPython.core.display.HTML object>"
      ]
     },
     "metadata": {},
     "output_type": "display_data"
    },
    {
     "name": "stdout",
     "output_type": "stream",
     "text": [
      "              precision    recall  f1-score   support\n",
      "\n",
      "           0       0.69      0.62      0.65        39\n",
      "           1       0.46      0.57      0.51        61\n",
      "           2       0.65      0.60      0.62        85\n",
      "           3       0.67      0.61      0.64        54\n",
      "\n",
      "    accuracy                           0.60       239\n",
      "   macro avg       0.62      0.60      0.61       239\n",
      "weighted avg       0.61      0.60      0.60       239\n",
      "\n"
     ]
    }
   ],
   "source": [
    "from sklearn.metrics import classification_report\n",
    "report = classification_report(y_true=prediction_df['ground_truth'], y_pred=prediction_df['predictions'])\n",
    "print(report)"
   ]
  },
  {
   "cell_type": "code",
   "execution_count": 38,
   "id": "e55b06aa",
   "metadata": {
    "execution": {
     "iopub.execute_input": "2023-11-28T02:00:11.758526Z",
     "iopub.status.busy": "2023-11-28T02:00:11.757847Z",
     "iopub.status.idle": "2023-11-28T02:00:11.790506Z",
     "shell.execute_reply": "2023-11-28T02:00:11.789283Z"
    },
    "executionInfo": {
     "elapsed": 38,
     "status": "ok",
     "timestamp": 1701043349366,
     "user": {
      "displayName": "Merishna Suwal",
      "userId": "00324140771498152491"
     },
     "user_tz": 300
    },
    "id": "fnQSJrrZC-Fa",
    "outputId": "494fccbd-7957-4d49-e815-4f3cbc45b997",
    "papermill": {
     "duration": 0.103437,
     "end_time": "2023-11-28T02:00:11.792533",
     "exception": false,
     "start_time": "2023-11-28T02:00:11.689096",
     "status": "completed"
    },
    "tags": []
   },
   "outputs": [
    {
     "data": {
      "text/html": [
       "\n",
       "  <style>\n",
       "    pre {\n",
       "        white-space: pre-wrap;\n",
       "    }\n",
       "  </style>\n",
       "  "
      ],
      "text/plain": [
       "<IPython.core.display.HTML object>"
      ]
     },
     "metadata": {},
     "output_type": "display_data"
    },
    {
     "name": "stdout",
     "output_type": "stream",
     "text": [
      "Metric          Score\n",
      "--------------  -------------------\n",
      "test_accuracy   59.830000000000005%\n",
      "test_recall     59.830000000000005%\n",
      "test_precision  61.12%\n",
      "test_f1         60.22%\n"
     ]
    }
   ],
   "source": [
    "from tabulate import tabulate\n",
    "\n",
    "metrics = ['precision', 'recall', 'f1', 'accuracy']\n",
    "prediction_results = []\n",
    "\n",
    "for key, val in predictions.metrics.items():\n",
    "    if any(item in key for item in metrics):\n",
    "        prediction_results.append([key, str(round(val,4)*100)+'%'])\n",
    "\n",
    "print(tabulate(prediction_results, headers=['Metric', 'Score']))"
   ]
  },
  {
   "cell_type": "markdown",
   "id": "fb695086",
   "metadata": {
    "id": "3Wi7Cw03qZd_",
    "papermill": {
     "duration": 0.072334,
     "end_time": "2023-11-28T02:00:11.922695",
     "exception": false,
     "start_time": "2023-11-28T02:00:11.850361",
     "status": "completed"
    },
    "tags": []
   },
   "source": [
    "## Inference"
   ]
  },
  {
   "cell_type": "code",
   "execution_count": 39,
   "id": "a2004a3d",
   "metadata": {
    "execution": {
     "iopub.execute_input": "2023-11-28T02:00:12.041213Z",
     "iopub.status.busy": "2023-11-28T02:00:12.040834Z",
     "iopub.status.idle": "2023-11-28T02:00:14.572796Z",
     "shell.execute_reply": "2023-11-28T02:00:14.571781Z"
    },
    "executionInfo": {
     "elapsed": 23543,
     "status": "ok",
     "timestamp": 1701043548042,
     "user": {
      "displayName": "Merishna Suwal",
      "userId": "00324140771498152491"
     },
     "user_tz": 300
    },
    "id": "C3paUmtqqaar",
    "outputId": "b4c1b1d3-87d6-4e8d-fd23-2f92796b9ca3",
    "papermill": {
     "duration": 2.592073,
     "end_time": "2023-11-28T02:00:14.575190",
     "exception": false,
     "start_time": "2023-11-28T02:00:11.983117",
     "status": "completed"
    },
    "tags": []
   },
   "outputs": [
    {
     "data": {
      "text/html": [
       "\n",
       "  <style>\n",
       "    pre {\n",
       "        white-space: pre-wrap;\n",
       "    }\n",
       "  </style>\n",
       "  "
      ],
      "text/plain": [
       "<IPython.core.display.HTML object>"
      ]
     },
     "metadata": {},
     "output_type": "display_data"
    }
   ],
   "source": [
    "from transformers import pipeline\n",
    "\n",
    "text_classifier = pipeline(\"text-classification\", model=saved_model_path)"
   ]
  },
  {
   "cell_type": "code",
   "execution_count": 40,
   "id": "7e9b96f9",
   "metadata": {
    "execution": {
     "iopub.execute_input": "2023-11-28T02:00:14.692581Z",
     "iopub.status.busy": "2023-11-28T02:00:14.692231Z",
     "iopub.status.idle": "2023-11-28T02:00:15.007638Z",
     "shell.execute_reply": "2023-11-28T02:00:15.006610Z"
    },
    "executionInfo": {
     "elapsed": 393,
     "status": "ok",
     "timestamp": 1701044582273,
     "user": {
      "displayName": "Merishna Suwal",
      "userId": "00324140771498152491"
     },
     "user_tz": 300
    },
    "id": "ww9-NobDGjv-",
    "outputId": "561947d1-82d8-437f-b032-71f7a6673230",
    "papermill": {
     "duration": 0.376469,
     "end_time": "2023-11-28T02:00:15.010102",
     "exception": false,
     "start_time": "2023-11-28T02:00:14.633633",
     "status": "completed"
    },
    "tags": []
   },
   "outputs": [
    {
     "data": {
      "text/html": [
       "\n",
       "  <style>\n",
       "    pre {\n",
       "        white-space: pre-wrap;\n",
       "    }\n",
       "  </style>\n",
       "  "
      ],
      "text/plain": [
       "<IPython.core.display.HTML object>"
      ]
     },
     "metadata": {},
     "output_type": "display_data"
    }
   ],
   "source": [
    "inference_sentences = [\"वा जैनु जि तपाइलाइ धन्यबाद छ गगन्या चोर लाई मुख भरी जबाब दिएको मा\",\n",
    "                       \"ओली दलाल मुर्दाबाद\",\n",
    "                       \"यो गोविन्दे लाई देश निकाला गर्नु पर्छ\",\n",
    "                       \"यो मुला गोबिन्द ठिक छैन\",\n",
    "                       \"यो पुण्य गौतम जड्या हो जस्तो कस कस लाई लाग्छ ।\",\n",
    "                      \"तपाईं कुवा मा दुबेर मरे हुन्छ ।\",\n",
    "                      \"अनुहार हेर्दा ठमेल को भालू हो ।\"]\n",
    "\n",
    "results = text_classifier(inference_sentences)\n"
   ]
  },
  {
   "cell_type": "code",
   "execution_count": 41,
   "id": "185bf9c0",
   "metadata": {
    "execution": {
     "iopub.execute_input": "2023-11-28T02:00:15.127700Z",
     "iopub.status.busy": "2023-11-28T02:00:15.127358Z",
     "iopub.status.idle": "2023-11-28T02:00:15.137284Z",
     "shell.execute_reply": "2023-11-28T02:00:15.136462Z"
    },
    "executionInfo": {
     "elapsed": 13,
     "status": "ok",
     "timestamp": 1701044582274,
     "user": {
      "displayName": "Merishna Suwal",
      "userId": "00324140771498152491"
     },
     "user_tz": 300
    },
    "id": "oeFz1A4Fw_Dr",
    "outputId": "dba4e387-865a-4bde-ad91-aec966c9622d",
    "papermill": {
     "duration": 0.070495,
     "end_time": "2023-11-28T02:00:15.139171",
     "exception": false,
     "start_time": "2023-11-28T02:00:15.068676",
     "status": "completed"
    },
    "tags": []
   },
   "outputs": [
    {
     "data": {
      "text/html": [
       "\n",
       "  <style>\n",
       "    pre {\n",
       "        white-space: pre-wrap;\n",
       "    }\n",
       "  </style>\n",
       "  "
      ],
      "text/plain": [
       "<IPython.core.display.HTML object>"
      ]
     },
     "metadata": {},
     "output_type": "display_data"
    },
    {
     "name": "stdout",
     "output_type": "stream",
     "text": [
      "| Sentences                                                    |   Labels | Remarks          |\n",
      "|--------------------------------------------------------------+----------+------------------|\n",
      "| वा जैनु जि तपाइलाइ धन्यबाद छ गगन्या चोर लाई मुख भरी जबाब दिएको मा |        2 | PROFANITY        |\n",
      "| ओली दलाल मुर्दाबाद                                             |        0 | GENERAL POSITIVE |\n",
      "| यो गोविन्दे लाई देश निकाला गर्नु पर्छ                              |        3 | VIOLENCE         |\n",
      "| यो मुला गोबिन्द ठिक छैन                                         |        2 | PROFANITY        |\n",
      "| यो पुण्य गौतम जड्या हो जस्तो कस कस लाई लाग्छ ।                    |        3 | VIOLENCE         |\n",
      "| तपाईं कुवा मा दुबेर मरे हुन्छ ।                                     |        0 | GENERAL POSITIVE |\n",
      "| अनुहार हेर्दा ठमेल को भालू हो ।                                   |        2 | PROFANITY        |\n"
     ]
    }
   ],
   "source": [
    "label_map = {\n",
    "    0: 'GENERAL POSITIVE',\n",
    "    1: 'GENERAL NEGATIVE',\n",
    "    2: 'PROFANITY',\n",
    "    3: 'VIOLENCE'\n",
    "}\n",
    "\n",
    "prediction_results = []\n",
    "for sent, result in zip(inference_sentences, results):\n",
    "    pred = result['label'].split('_')[1]\n",
    "    prediction_results.append([sent, pred, label_map[int(pred)]])\n",
    "\n",
    "print(tabulate(prediction_results, headers=['Sentences', 'Labels', 'Remarks'], tablefmt='orgtbl'))\n"
   ]
  },
  {
   "cell_type": "markdown",
   "id": "e4534b16",
   "metadata": {
    "papermill": {
     "duration": 0.057702,
     "end_time": "2023-11-28T02:00:15.254926",
     "exception": false,
     "start_time": "2023-11-28T02:00:15.197224",
     "status": "completed"
    },
    "tags": []
   },
   "source": [
    "### Sakonii/distilbert-base-nepali\n",
    "\n",
    "\n",
    "                  precision    recall  f1-score   support\n",
    "\n",
    "               0       0.75      0.62      0.68        39\n",
    "               1       0.53      0.62      0.57        61\n",
    "               2       0.68      0.61      0.65        85\n",
    "               3       0.56      0.61      0.58        54\n",
    "\n",
    "        accuracy                           0.62       239\n",
    "    \n",
    "       macro avg       0.63      0.62      0.62       239\n",
    "    weighted avg       0.63      0.62      0.62       239\n",
    "\n"
   ]
  },
  {
   "cell_type": "markdown",
   "id": "a1166d81",
   "metadata": {
    "papermill": {
     "duration": 0.057421,
     "end_time": "2023-11-28T02:00:15.370146",
     "exception": false,
     "start_time": "2023-11-28T02:00:15.312725",
     "status": "completed"
    },
    "tags": []
   },
   "source": []
  },
  {
   "cell_type": "markdown",
   "id": "7e273fcf",
   "metadata": {
    "papermill": {
     "duration": 0.057264,
     "end_time": "2023-11-28T02:00:15.486041",
     "exception": false,
     "start_time": "2023-11-28T02:00:15.428777",
     "status": "completed"
    },
    "tags": []
   },
   "source": [
    "### xlm-roberta-large\n",
    "\n",
    "                    precision    recall  f1-score   support\n",
    "\n",
    "               0       0.00      0.00      0.00        39\n",
    "               1       0.00      0.00      0.00        61\n",
    "               2       0.36      1.00      0.52        85\n",
    "               3       0.00      0.00      0.00        54\n",
    "\n",
    "        accuracy                           0.36       239\n",
    "       macro avg       0.09      0.25      0.13       239\n",
    "    weighted avg       0.13      0.36      0.19       239"
   ]
  },
  {
   "cell_type": "markdown",
   "id": "9214f83c",
   "metadata": {
    "papermill": {
     "duration": 0.05731,
     "end_time": "2023-11-28T02:00:15.601440",
     "exception": false,
     "start_time": "2023-11-28T02:00:15.544130",
     "status": "completed"
    },
    "tags": []
   },
   "source": [
    "### Rajan/NepaliBERT\n",
    "\n",
    "                  precision    recall  f1-score   support\n",
    "\n",
    "               0       0.70      0.67      0.68        39\n",
    "               1       0.48      0.64      0.55        61\n",
    "               2       0.74      0.59      0.65        85\n",
    "               3       0.64      0.63      0.64        54\n",
    "\n",
    "        accuracy                           0.62       239\n",
    "       macro avg       0.64      0.63      0.63       239\n",
    "    weighted avg       0.64      0.62      0.63       239"
   ]
  },
  {
   "cell_type": "code",
   "execution_count": null,
   "id": "d981bd3c",
   "metadata": {
    "papermill": {
     "duration": 0.056938,
     "end_time": "2023-11-28T02:00:15.715939",
     "exception": false,
     "start_time": "2023-11-28T02:00:15.659001",
     "status": "completed"
    },
    "tags": []
   },
   "outputs": [],
   "source": []
  }
 ],
 "metadata": {
  "accelerator": "GPU",
  "colab": {
   "gpuType": "T4",
   "provenance": []
  },
  "kaggle": {
   "accelerator": "gpu",
   "dataSources": [
    {
     "datasetId": 4070644,
     "sourceId": 7068905,
     "sourceType": "datasetVersion"
    }
   ],
   "dockerImageVersionId": 30588,
   "isGpuEnabled": true,
   "isInternetEnabled": true,
   "language": "python",
   "sourceType": "notebook"
  },
  "kernelspec": {
   "display_name": "Python 3",
   "language": "python",
   "name": "python3"
  },
  "language_info": {
   "codemirror_mode": {
    "name": "ipython",
    "version": 3
   },
   "file_extension": ".py",
   "mimetype": "text/x-python",
   "name": "python",
   "nbconvert_exporter": "python",
   "pygments_lexer": "ipython3",
   "version": "3.10.12"
  },
  "papermill": {
   "default_parameters": {},
   "duration": 184.071406,
   "end_time": "2023-11-28T02:00:18.598430",
   "environment_variables": {},
   "exception": null,
   "input_path": "__notebook__.ipynb",
   "output_path": "__notebook__.ipynb",
   "parameters": {},
   "start_time": "2023-11-28T01:57:14.527024",
   "version": "2.4.0"
  },
  "widgets": {
   "application/vnd.jupyter.widget-state+json": {
    "state": {
     "03a04b32f3b646f9a99598cb1b76b0d3": {
      "model_module": "@jupyter-widgets/controls",
      "model_module_version": "1.5.0",
      "model_name": "HTMLModel",
      "state": {
       "_dom_classes": [],
       "_model_module": "@jupyter-widgets/controls",
       "_model_module_version": "1.5.0",
       "_model_name": "HTMLModel",
       "_view_count": null,
       "_view_module": "@jupyter-widgets/controls",
       "_view_module_version": "1.5.0",
       "_view_name": "HTMLView",
       "description": "",
       "description_tooltip": null,
       "layout": "IPY_MODEL_63eedbada87248a895337aed72da398b",
       "placeholder": "​",
       "style": "IPY_MODEL_1bfd5d6d5ede4b138b5e840689379f7f",
       "value": " 239/0 [00:00&lt;00:00, 10071.02 examples/s]"
      }
     },
     "0405ed3b549a4da0a0a405904c3b61cf": {
      "model_module": "@jupyter-widgets/base",
      "model_module_version": "1.2.0",
      "model_name": "LayoutModel",
      "state": {
       "_model_module": "@jupyter-widgets/base",
       "_model_module_version": "1.2.0",
       "_model_name": "LayoutModel",
       "_view_count": null,
       "_view_module": "@jupyter-widgets/base",
       "_view_module_version": "1.2.0",
       "_view_name": "LayoutView",
       "align_content": null,
       "align_items": null,
       "align_self": null,
       "border": null,
       "bottom": null,
       "display": null,
       "flex": null,
       "flex_flow": null,
       "grid_area": null,
       "grid_auto_columns": null,
       "grid_auto_flow": null,
       "grid_auto_rows": null,
       "grid_column": null,
       "grid_gap": null,
       "grid_row": null,
       "grid_template_areas": null,
       "grid_template_columns": null,
       "grid_template_rows": null,
       "height": null,
       "justify_content": null,
       "justify_items": null,
       "left": null,
       "margin": null,
       "max_height": null,
       "max_width": null,
       "min_height": null,
       "min_width": null,
       "object_fit": null,
       "object_position": null,
       "order": null,
       "overflow": null,
       "overflow_x": null,
       "overflow_y": null,
       "padding": null,
       "right": null,
       "top": null,
       "visibility": null,
       "width": null
      }
     },
     "071e56f975514289bd840e90d304e41c": {
      "model_module": "@jupyter-widgets/base",
      "model_module_version": "1.2.0",
      "model_name": "LayoutModel",
      "state": {
       "_model_module": "@jupyter-widgets/base",
       "_model_module_version": "1.2.0",
       "_model_name": "LayoutModel",
       "_view_count": null,
       "_view_module": "@jupyter-widgets/base",
       "_view_module_version": "1.2.0",
       "_view_name": "LayoutView",
       "align_content": null,
       "align_items": null,
       "align_self": null,
       "border": null,
       "bottom": null,
       "display": null,
       "flex": null,
       "flex_flow": null,
       "grid_area": null,
       "grid_auto_columns": null,
       "grid_auto_flow": null,
       "grid_auto_rows": null,
       "grid_column": null,
       "grid_gap": null,
       "grid_row": null,
       "grid_template_areas": null,
       "grid_template_columns": null,
       "grid_template_rows": null,
       "height": null,
       "justify_content": null,
       "justify_items": null,
       "left": null,
       "margin": null,
       "max_height": null,
       "max_width": null,
       "min_height": null,
       "min_width": null,
       "object_fit": null,
       "object_position": null,
       "order": null,
       "overflow": null,
       "overflow_x": null,
       "overflow_y": null,
       "padding": null,
       "right": null,
       "top": null,
       "visibility": null,
       "width": null
      }
     },
     "07bb659969e14c10b3cc9e4bf6e9ca18": {
      "model_module": "@jupyter-widgets/controls",
      "model_module_version": "1.5.0",
      "model_name": "HBoxModel",
      "state": {
       "_dom_classes": [],
       "_model_module": "@jupyter-widgets/controls",
       "_model_module_version": "1.5.0",
       "_model_name": "HBoxModel",
       "_view_count": null,
       "_view_module": "@jupyter-widgets/controls",
       "_view_module_version": "1.5.0",
       "_view_name": "HBoxView",
       "box_style": "",
       "children": [
        "IPY_MODEL_9f7eb9e1eba84ebdba54eb7b1cf5704d",
        "IPY_MODEL_abab12436622439e9076fd33b0e7187f",
        "IPY_MODEL_03a04b32f3b646f9a99598cb1b76b0d3"
       ],
       "layout": "IPY_MODEL_d991b160369a44a684ad0284244c8115"
      }
     },
     "080e3f42a20d492c9ef168a432835158": {
      "model_module": "@jupyter-widgets/controls",
      "model_module_version": "1.5.0",
      "model_name": "DescriptionStyleModel",
      "state": {
       "_model_module": "@jupyter-widgets/controls",
       "_model_module_version": "1.5.0",
       "_model_name": "DescriptionStyleModel",
       "_view_count": null,
       "_view_module": "@jupyter-widgets/base",
       "_view_module_version": "1.2.0",
       "_view_name": "StyleView",
       "description_width": ""
      }
     },
     "09455cf437b74df3b2df7415648defc7": {
      "model_module": "@jupyter-widgets/base",
      "model_module_version": "1.2.0",
      "model_name": "LayoutModel",
      "state": {
       "_model_module": "@jupyter-widgets/base",
       "_model_module_version": "1.2.0",
       "_model_name": "LayoutModel",
       "_view_count": null,
       "_view_module": "@jupyter-widgets/base",
       "_view_module_version": "1.2.0",
       "_view_name": "LayoutView",
       "align_content": null,
       "align_items": null,
       "align_self": null,
       "border": null,
       "bottom": null,
       "display": null,
       "flex": null,
       "flex_flow": null,
       "grid_area": null,
       "grid_auto_columns": null,
       "grid_auto_flow": null,
       "grid_auto_rows": null,
       "grid_column": null,
       "grid_gap": null,
       "grid_row": null,
       "grid_template_areas": null,
       "grid_template_columns": null,
       "grid_template_rows": null,
       "height": null,
       "justify_content": null,
       "justify_items": null,
       "left": null,
       "margin": null,
       "max_height": null,
       "max_width": null,
       "min_height": null,
       "min_width": null,
       "object_fit": null,
       "object_position": null,
       "order": null,
       "overflow": null,
       "overflow_x": null,
       "overflow_y": null,
       "padding": null,
       "right": null,
       "top": null,
       "visibility": null,
       "width": null
      }
     },
     "10292fa1a03f4bc987481eae1fa659e5": {
      "model_module": "@jupyter-widgets/controls",
      "model_module_version": "1.5.0",
      "model_name": "ProgressStyleModel",
      "state": {
       "_model_module": "@jupyter-widgets/controls",
       "_model_module_version": "1.5.0",
       "_model_name": "ProgressStyleModel",
       "_view_count": null,
       "_view_module": "@jupyter-widgets/base",
       "_view_module_version": "1.2.0",
       "_view_name": "StyleView",
       "bar_color": null,
       "description_width": ""
      }
     },
     "128e8453cec64e0a8bbdc794d6afbbc0": {
      "model_module": "@jupyter-widgets/controls",
      "model_module_version": "1.5.0",
      "model_name": "FloatProgressModel",
      "state": {
       "_dom_classes": [],
       "_model_module": "@jupyter-widgets/controls",
       "_model_module_version": "1.5.0",
       "_model_name": "FloatProgressModel",
       "_view_count": null,
       "_view_module": "@jupyter-widgets/controls",
       "_view_module_version": "1.5.0",
       "_view_name": "ProgressView",
       "bar_style": "success",
       "description": "",
       "description_tooltip": null,
       "layout": "IPY_MODEL_8ba91f8507b2469d9506849615825324",
       "max": 569.0,
       "min": 0.0,
       "orientation": "horizontal",
       "style": "IPY_MODEL_33b69deff8194ac1905e949bcf1cccce",
       "value": 569.0
      }
     },
     "1932911d13224e83ab3e01b1f0ce9191": {
      "model_module": "@jupyter-widgets/base",
      "model_module_version": "1.2.0",
      "model_name": "LayoutModel",
      "state": {
       "_model_module": "@jupyter-widgets/base",
       "_model_module_version": "1.2.0",
       "_model_name": "LayoutModel",
       "_view_count": null,
       "_view_module": "@jupyter-widgets/base",
       "_view_module_version": "1.2.0",
       "_view_name": "LayoutView",
       "align_content": null,
       "align_items": null,
       "align_self": null,
       "border": null,
       "bottom": null,
       "display": null,
       "flex": null,
       "flex_flow": null,
       "grid_area": null,
       "grid_auto_columns": null,
       "grid_auto_flow": null,
       "grid_auto_rows": null,
       "grid_column": null,
       "grid_gap": null,
       "grid_row": null,
       "grid_template_areas": null,
       "grid_template_columns": null,
       "grid_template_rows": null,
       "height": null,
       "justify_content": null,
       "justify_items": null,
       "left": null,
       "margin": null,
       "max_height": null,
       "max_width": null,
       "min_height": null,
       "min_width": null,
       "object_fit": null,
       "object_position": null,
       "order": null,
       "overflow": null,
       "overflow_x": null,
       "overflow_y": null,
       "padding": null,
       "right": null,
       "top": null,
       "visibility": null,
       "width": null
      }
     },
     "196ddf4774d24e16b5abe4376e4b7d41": {
      "model_module": "@jupyter-widgets/controls",
      "model_module_version": "1.5.0",
      "model_name": "HTMLModel",
      "state": {
       "_dom_classes": [],
       "_model_module": "@jupyter-widgets/controls",
       "_model_module_version": "1.5.0",
       "_model_name": "HTMLModel",
       "_view_count": null,
       "_view_module": "@jupyter-widgets/controls",
       "_view_module_version": "1.5.0",
       "_view_name": "HTMLView",
       "description": "",
       "description_tooltip": null,
       "layout": "IPY_MODEL_246ab04dd1cd475aa773f8b6181e449c",
       "placeholder": "​",
       "style": "IPY_MODEL_5e10a31d66554cd39ba2ea534c7e6f69",
       "value": "Generating train split: "
      }
     },
     "1bfd5d6d5ede4b138b5e840689379f7f": {
      "model_module": "@jupyter-widgets/controls",
      "model_module_version": "1.5.0",
      "model_name": "DescriptionStyleModel",
      "state": {
       "_model_module": "@jupyter-widgets/controls",
       "_model_module_version": "1.5.0",
       "_model_name": "DescriptionStyleModel",
       "_view_count": null,
       "_view_module": "@jupyter-widgets/base",
       "_view_module_version": "1.2.0",
       "_view_name": "StyleView",
       "description_width": ""
      }
     },
     "1d29d29efd8a44eca0bfe3a77895398f": {
      "model_module": "@jupyter-widgets/controls",
      "model_module_version": "1.5.0",
      "model_name": "HBoxModel",
      "state": {
       "_dom_classes": [],
       "_model_module": "@jupyter-widgets/controls",
       "_model_module_version": "1.5.0",
       "_model_name": "HBoxModel",
       "_view_count": null,
       "_view_module": "@jupyter-widgets/controls",
       "_view_module_version": "1.5.0",
       "_view_name": "HBoxView",
       "box_style": "",
       "children": [
        "IPY_MODEL_da5b0cdd1a45415092c6f41e5953f382",
        "IPY_MODEL_e53eb20303df4e69b4437aa10893b637",
        "IPY_MODEL_f0c7685e7bf64f51baa8c6c8a1cbcd23"
       ],
       "layout": "IPY_MODEL_8e67b25876e2440b9f550b72cddef813"
      }
     },
     "210c7bef432347cc9fda7de28fd3ca7f": {
      "model_module": "@jupyter-widgets/controls",
      "model_module_version": "1.5.0",
      "model_name": "ProgressStyleModel",
      "state": {
       "_model_module": "@jupyter-widgets/controls",
       "_model_module_version": "1.5.0",
       "_model_name": "ProgressStyleModel",
       "_view_count": null,
       "_view_module": "@jupyter-widgets/base",
       "_view_module_version": "1.2.0",
       "_view_name": "StyleView",
       "bar_color": null,
       "description_width": ""
      }
     },
     "24271e4639eb40d3b62f7c9350382cd9": {
      "model_module": "@jupyter-widgets/base",
      "model_module_version": "1.2.0",
      "model_name": "LayoutModel",
      "state": {
       "_model_module": "@jupyter-widgets/base",
       "_model_module_version": "1.2.0",
       "_model_name": "LayoutModel",
       "_view_count": null,
       "_view_module": "@jupyter-widgets/base",
       "_view_module_version": "1.2.0",
       "_view_name": "LayoutView",
       "align_content": null,
       "align_items": null,
       "align_self": null,
       "border": null,
       "bottom": null,
       "display": null,
       "flex": null,
       "flex_flow": null,
       "grid_area": null,
       "grid_auto_columns": null,
       "grid_auto_flow": null,
       "grid_auto_rows": null,
       "grid_column": null,
       "grid_gap": null,
       "grid_row": null,
       "grid_template_areas": null,
       "grid_template_columns": null,
       "grid_template_rows": null,
       "height": null,
       "justify_content": null,
       "justify_items": null,
       "left": null,
       "margin": null,
       "max_height": null,
       "max_width": null,
       "min_height": null,
       "min_width": null,
       "object_fit": null,
       "object_position": null,
       "order": null,
       "overflow": null,
       "overflow_x": null,
       "overflow_y": null,
       "padding": null,
       "right": null,
       "top": null,
       "visibility": null,
       "width": null
      }
     },
     "246ab04dd1cd475aa773f8b6181e449c": {
      "model_module": "@jupyter-widgets/base",
      "model_module_version": "1.2.0",
      "model_name": "LayoutModel",
      "state": {
       "_model_module": "@jupyter-widgets/base",
       "_model_module_version": "1.2.0",
       "_model_name": "LayoutModel",
       "_view_count": null,
       "_view_module": "@jupyter-widgets/base",
       "_view_module_version": "1.2.0",
       "_view_name": "LayoutView",
       "align_content": null,
       "align_items": null,
       "align_self": null,
       "border": null,
       "bottom": null,
       "display": null,
       "flex": null,
       "flex_flow": null,
       "grid_area": null,
       "grid_auto_columns": null,
       "grid_auto_flow": null,
       "grid_auto_rows": null,
       "grid_column": null,
       "grid_gap": null,
       "grid_row": null,
       "grid_template_areas": null,
       "grid_template_columns": null,
       "grid_template_rows": null,
       "height": null,
       "justify_content": null,
       "justify_items": null,
       "left": null,
       "margin": null,
       "max_height": null,
       "max_width": null,
       "min_height": null,
       "min_width": null,
       "object_fit": null,
       "object_position": null,
       "order": null,
       "overflow": null,
       "overflow_x": null,
       "overflow_y": null,
       "padding": null,
       "right": null,
       "top": null,
       "visibility": null,
       "width": null
      }
     },
     "248b169ec95846ab83f4c993567cc6bb": {
      "model_module": "@jupyter-widgets/controls",
      "model_module_version": "1.5.0",
      "model_name": "FloatProgressModel",
      "state": {
       "_dom_classes": [],
       "_model_module": "@jupyter-widgets/controls",
       "_model_module_version": "1.5.0",
       "_model_name": "FloatProgressModel",
       "_view_count": null,
       "_view_module": "@jupyter-widgets/controls",
       "_view_module_version": "1.5.0",
       "_view_name": "ProgressView",
       "bar_style": "success",
       "description": "",
       "description_tooltip": null,
       "layout": "IPY_MODEL_8760baa906654eea8fedc40fe13b1b2a",
       "max": 3.0,
       "min": 0.0,
       "orientation": "horizontal",
       "style": "IPY_MODEL_e27448bbe28e4d399615b7f85f89daa4",
       "value": 3.0
      }
     },
     "257f35c2787b41fb9fca183cceab9fd9": {
      "model_module": "@jupyter-widgets/controls",
      "model_module_version": "1.5.0",
      "model_name": "DescriptionStyleModel",
      "state": {
       "_model_module": "@jupyter-widgets/controls",
       "_model_module_version": "1.5.0",
       "_model_name": "DescriptionStyleModel",
       "_view_count": null,
       "_view_module": "@jupyter-widgets/base",
       "_view_module_version": "1.2.0",
       "_view_name": "StyleView",
       "description_width": ""
      }
     },
     "295043191b764ed6af5834059596e3ee": {
      "model_module": "@jupyter-widgets/controls",
      "model_module_version": "1.5.0",
      "model_name": "HTMLModel",
      "state": {
       "_dom_classes": [],
       "_model_module": "@jupyter-widgets/controls",
       "_model_module_version": "1.5.0",
       "_model_name": "HTMLModel",
       "_view_count": null,
       "_view_module": "@jupyter-widgets/controls",
       "_view_module_version": "1.5.0",
       "_view_name": "HTMLView",
       "description": "",
       "description_tooltip": null,
       "layout": "IPY_MODEL_36440c845f3342fea399d236d4e42593",
       "placeholder": "​",
       "style": "IPY_MODEL_794917c14f3e491384328eff8c4a5c9b",
       "value": "Computing checksums: 100%"
      }
     },
     "2c44b271bff847b28f3f0f9fa68b228b": {
      "model_module": "@jupyter-widgets/controls",
      "model_module_version": "1.5.0",
      "model_name": "DescriptionStyleModel",
      "state": {
       "_model_module": "@jupyter-widgets/controls",
       "_model_module_version": "1.5.0",
       "_model_name": "DescriptionStyleModel",
       "_view_count": null,
       "_view_module": "@jupyter-widgets/base",
       "_view_module_version": "1.2.0",
       "_view_name": "StyleView",
       "description_width": ""
      }
     },
     "301f5c7f05184b3bb309a48b9cdd9214": {
      "model_module": "@jupyter-widgets/controls",
      "model_module_version": "1.5.0",
      "model_name": "HTMLModel",
      "state": {
       "_dom_classes": [],
       "_model_module": "@jupyter-widgets/controls",
       "_model_module_version": "1.5.0",
       "_model_name": "HTMLModel",
       "_view_count": null,
       "_view_module": "@jupyter-widgets/controls",
       "_view_module_version": "1.5.0",
       "_view_name": "HTMLView",
       "description": "",
       "description_tooltip": null,
       "layout": "IPY_MODEL_5d9d40dec11240adbf531ed84e9ad14e",
       "placeholder": "​",
       "style": "IPY_MODEL_3695953ff330470ca0dc2f97857a70b8",
       "value": " 987k/987k [00:00&lt;00:00, 9.92MB/s]"
      }
     },
     "33026789056b412fa892bf6d00d1598a": {
      "model_module": "@jupyter-widgets/controls",
      "model_module_version": "1.5.0",
      "model_name": "HTMLModel",
      "state": {
       "_dom_classes": [],
       "_model_module": "@jupyter-widgets/controls",
       "_model_module_version": "1.5.0",
       "_model_name": "HTMLModel",
       "_view_count": null,
       "_view_module": "@jupyter-widgets/controls",
       "_view_module_version": "1.5.0",
       "_view_name": "HTMLView",
       "description": "",
       "description_tooltip": null,
       "layout": "IPY_MODEL_071e56f975514289bd840e90d304e41c",
       "placeholder": "​",
       "style": "IPY_MODEL_257f35c2787b41fb9fca183cceab9fd9",
       "value": " 239/239 [00:00&lt;00:00, 6144.43 examples/s]"
      }
     },
     "33b69deff8194ac1905e949bcf1cccce": {
      "model_module": "@jupyter-widgets/controls",
      "model_module_version": "1.5.0",
      "model_name": "ProgressStyleModel",
      "state": {
       "_model_module": "@jupyter-widgets/controls",
       "_model_module_version": "1.5.0",
       "_model_name": "ProgressStyleModel",
       "_view_count": null,
       "_view_module": "@jupyter-widgets/base",
       "_view_module_version": "1.2.0",
       "_view_name": "StyleView",
       "bar_color": null,
       "description_width": ""
      }
     },
     "35292c81717a416183f260e06f8a5ecb": {
      "model_module": "@jupyter-widgets/controls",
      "model_module_version": "1.5.0",
      "model_name": "DescriptionStyleModel",
      "state": {
       "_model_module": "@jupyter-widgets/controls",
       "_model_module_version": "1.5.0",
       "_model_name": "DescriptionStyleModel",
       "_view_count": null,
       "_view_module": "@jupyter-widgets/base",
       "_view_module_version": "1.2.0",
       "_view_name": "StyleView",
       "description_width": ""
      }
     },
     "36440c845f3342fea399d236d4e42593": {
      "model_module": "@jupyter-widgets/base",
      "model_module_version": "1.2.0",
      "model_name": "LayoutModel",
      "state": {
       "_model_module": "@jupyter-widgets/base",
       "_model_module_version": "1.2.0",
       "_model_name": "LayoutModel",
       "_view_count": null,
       "_view_module": "@jupyter-widgets/base",
       "_view_module_version": "1.2.0",
       "_view_name": "LayoutView",
       "align_content": null,
       "align_items": null,
       "align_self": null,
       "border": null,
       "bottom": null,
       "display": null,
       "flex": null,
       "flex_flow": null,
       "grid_area": null,
       "grid_auto_columns": null,
       "grid_auto_flow": null,
       "grid_auto_rows": null,
       "grid_column": null,
       "grid_gap": null,
       "grid_row": null,
       "grid_template_areas": null,
       "grid_template_columns": null,
       "grid_template_rows": null,
       "height": null,
       "justify_content": null,
       "justify_items": null,
       "left": null,
       "margin": null,
       "max_height": null,
       "max_width": null,
       "min_height": null,
       "min_width": null,
       "object_fit": null,
       "object_position": null,
       "order": null,
       "overflow": null,
       "overflow_x": null,
       "overflow_y": null,
       "padding": null,
       "right": null,
       "top": null,
       "visibility": null,
       "width": null
      }
     },
     "366027ddf1a6483d896ae3c616f87e59": {
      "model_module": "@jupyter-widgets/controls",
      "model_module_version": "1.5.0",
      "model_name": "HTMLModel",
      "state": {
       "_dom_classes": [],
       "_model_module": "@jupyter-widgets/controls",
       "_model_module_version": "1.5.0",
       "_model_name": "HTMLModel",
       "_view_count": null,
       "_view_module": "@jupyter-widgets/controls",
       "_view_module_version": "1.5.0",
       "_view_name": "HTMLView",
       "description": "",
       "description_tooltip": null,
       "layout": "IPY_MODEL_b0cabbfae8684d55bd07148e0356ea1a",
       "placeholder": "​",
       "style": "IPY_MODEL_69a01a236737489c8289181c2b1969ab",
       "value": " 3/3 [00:00&lt;00:00, 76.43it/s]"
      }
     },
     "3695953ff330470ca0dc2f97857a70b8": {
      "model_module": "@jupyter-widgets/controls",
      "model_module_version": "1.5.0",
      "model_name": "DescriptionStyleModel",
      "state": {
       "_model_module": "@jupyter-widgets/controls",
       "_model_module_version": "1.5.0",
       "_model_name": "DescriptionStyleModel",
       "_view_count": null,
       "_view_module": "@jupyter-widgets/base",
       "_view_module_version": "1.2.0",
       "_view_name": "StyleView",
       "description_width": ""
      }
     },
     "376ef9280fa4418daac50c45586b7023": {
      "model_module": "@jupyter-widgets/base",
      "model_module_version": "1.2.0",
      "model_name": "LayoutModel",
      "state": {
       "_model_module": "@jupyter-widgets/base",
       "_model_module_version": "1.2.0",
       "_model_name": "LayoutModel",
       "_view_count": null,
       "_view_module": "@jupyter-widgets/base",
       "_view_module_version": "1.2.0",
       "_view_name": "LayoutView",
       "align_content": null,
       "align_items": null,
       "align_self": null,
       "border": null,
       "bottom": null,
       "display": null,
       "flex": null,
       "flex_flow": null,
       "grid_area": null,
       "grid_auto_columns": null,
       "grid_auto_flow": null,
       "grid_auto_rows": null,
       "grid_column": null,
       "grid_gap": null,
       "grid_row": null,
       "grid_template_areas": null,
       "grid_template_columns": null,
       "grid_template_rows": null,
       "height": null,
       "justify_content": null,
       "justify_items": null,
       "left": null,
       "margin": null,
       "max_height": null,
       "max_width": null,
       "min_height": null,
       "min_width": null,
       "object_fit": null,
       "object_position": null,
       "order": null,
       "overflow": null,
       "overflow_x": null,
       "overflow_y": null,
       "padding": null,
       "right": null,
       "top": null,
       "visibility": null,
       "width": null
      }
     },
     "39b2820a615a4e4b9b05c15729d053ab": {
      "model_module": "@jupyter-widgets/base",
      "model_module_version": "1.2.0",
      "model_name": "LayoutModel",
      "state": {
       "_model_module": "@jupyter-widgets/base",
       "_model_module_version": "1.2.0",
       "_model_name": "LayoutModel",
       "_view_count": null,
       "_view_module": "@jupyter-widgets/base",
       "_view_module_version": "1.2.0",
       "_view_name": "LayoutView",
       "align_content": null,
       "align_items": null,
       "align_self": null,
       "border": null,
       "bottom": null,
       "display": null,
       "flex": null,
       "flex_flow": null,
       "grid_area": null,
       "grid_auto_columns": null,
       "grid_auto_flow": null,
       "grid_auto_rows": null,
       "grid_column": null,
       "grid_gap": null,
       "grid_row": null,
       "grid_template_areas": null,
       "grid_template_columns": null,
       "grid_template_rows": null,
       "height": null,
       "justify_content": null,
       "justify_items": null,
       "left": null,
       "margin": null,
       "max_height": null,
       "max_width": null,
       "min_height": null,
       "min_width": null,
       "object_fit": null,
       "object_position": null,
       "order": null,
       "overflow": null,
       "overflow_x": null,
       "overflow_y": null,
       "padding": null,
       "right": null,
       "top": null,
       "visibility": null,
       "width": null
      }
     },
     "39c6f47c9945467384b1643ca92c227e": {
      "model_module": "@jupyter-widgets/controls",
      "model_module_version": "1.5.0",
      "model_name": "DescriptionStyleModel",
      "state": {
       "_model_module": "@jupyter-widgets/controls",
       "_model_module_version": "1.5.0",
       "_model_name": "DescriptionStyleModel",
       "_view_count": null,
       "_view_module": "@jupyter-widgets/base",
       "_view_module_version": "1.2.0",
       "_view_name": "StyleView",
       "description_width": ""
      }
     },
     "39d68a4e40114953aa3695cbdea6f049": {
      "model_module": "@jupyter-widgets/controls",
      "model_module_version": "1.5.0",
      "model_name": "HTMLModel",
      "state": {
       "_dom_classes": [],
       "_model_module": "@jupyter-widgets/controls",
       "_model_module_version": "1.5.0",
       "_model_name": "HTMLModel",
       "_view_count": null,
       "_view_module": "@jupyter-widgets/controls",
       "_view_module_version": "1.5.0",
       "_view_name": "HTMLView",
       "description": "",
       "description_tooltip": null,
       "layout": "IPY_MODEL_24271e4639eb40d3b62f7c9350382cd9",
       "placeholder": "​",
       "style": "IPY_MODEL_c4555b9ef7f444a492bd18df5db136d5",
       "value": "Map: 100%"
      }
     },
     "41e3cbb94bdb4eef87551b0c3d9dc65c": {
      "model_module": "@jupyter-widgets/controls",
      "model_module_version": "1.5.0",
      "model_name": "FloatProgressModel",
      "state": {
       "_dom_classes": [],
       "_model_module": "@jupyter-widgets/controls",
       "_model_module_version": "1.5.0",
       "_model_name": "FloatProgressModel",
       "_view_count": null,
       "_view_module": "@jupyter-widgets/controls",
       "_view_module_version": "1.5.0",
       "_view_name": "ProgressView",
       "bar_style": "success",
       "description": "",
       "description_tooltip": null,
       "layout": "IPY_MODEL_b553196bb2b04382b766a11447b78c00",
       "max": 1.0,
       "min": 0.0,
       "orientation": "horizontal",
       "style": "IPY_MODEL_abd380e5c4324514aaaf1f7a749a6f64",
       "value": 1.0
      }
     },
     "43fa340eebd943afa6cb511c669a1ebe": {
      "model_module": "@jupyter-widgets/controls",
      "model_module_version": "1.5.0",
      "model_name": "HTMLModel",
      "state": {
       "_dom_classes": [],
       "_model_module": "@jupyter-widgets/controls",
       "_model_module_version": "1.5.0",
       "_model_name": "HTMLModel",
       "_view_count": null,
       "_view_module": "@jupyter-widgets/controls",
       "_view_module_version": "1.5.0",
       "_view_name": "HTMLView",
       "description": "",
       "description_tooltip": null,
       "layout": "IPY_MODEL_68e47106cd97479d9e64b2260c2dd62e",
       "placeholder": "​",
       "style": "IPY_MODEL_51b2f15f164944a5b20caed9599a349d",
       "value": " 714/714 [00:00&lt;00:00, 6939.05 examples/s]"
      }
     },
     "4c2157af4b8c494f96ebcd6d52f2f8a9": {
      "model_module": "@jupyter-widgets/controls",
      "model_module_version": "1.5.0",
      "model_name": "FloatProgressModel",
      "state": {
       "_dom_classes": [],
       "_model_module": "@jupyter-widgets/controls",
       "_model_module_version": "1.5.0",
       "_model_name": "FloatProgressModel",
       "_view_count": null,
       "_view_module": "@jupyter-widgets/controls",
       "_view_module_version": "1.5.0",
       "_view_name": "ProgressView",
       "bar_style": "success",
       "description": "",
       "description_tooltip": null,
       "layout": "IPY_MODEL_c422e614cf2b4cb0877ed1370c344230",
       "max": 239.0,
       "min": 0.0,
       "orientation": "horizontal",
       "style": "IPY_MODEL_bc9bfb4fabb54e34aa94a26fb45e20d4",
       "value": 239.0
      }
     },
     "4dc1210cff204b799ad2339abd5d7b63": {
      "model_module": "@jupyter-widgets/controls",
      "model_module_version": "1.5.0",
      "model_name": "DescriptionStyleModel",
      "state": {
       "_model_module": "@jupyter-widgets/controls",
       "_model_module_version": "1.5.0",
       "_model_name": "DescriptionStyleModel",
       "_view_count": null,
       "_view_module": "@jupyter-widgets/base",
       "_view_module_version": "1.2.0",
       "_view_name": "StyleView",
       "description_width": ""
      }
     },
     "4ef43bc1cd4a445fad01a160bb1d8c3e": {
      "model_module": "@jupyter-widgets/controls",
      "model_module_version": "1.5.0",
      "model_name": "HBoxModel",
      "state": {
       "_dom_classes": [],
       "_model_module": "@jupyter-widgets/controls",
       "_model_module_version": "1.5.0",
       "_model_name": "HBoxModel",
       "_view_count": null,
       "_view_module": "@jupyter-widgets/controls",
       "_view_module_version": "1.5.0",
       "_view_name": "HBoxView",
       "box_style": "",
       "children": [
        "IPY_MODEL_196ddf4774d24e16b5abe4376e4b7d41",
        "IPY_MODEL_41e3cbb94bdb4eef87551b0c3d9dc65c",
        "IPY_MODEL_d177b5c635d644989125ebd4291eb91e"
       ],
       "layout": "IPY_MODEL_68919f849d2f4d50b48f217c0a4998da"
      }
     },
     "51b2f15f164944a5b20caed9599a349d": {
      "model_module": "@jupyter-widgets/controls",
      "model_module_version": "1.5.0",
      "model_name": "DescriptionStyleModel",
      "state": {
       "_model_module": "@jupyter-widgets/controls",
       "_model_module_version": "1.5.0",
       "_model_name": "DescriptionStyleModel",
       "_view_count": null,
       "_view_module": "@jupyter-widgets/base",
       "_view_module_version": "1.2.0",
       "_view_name": "StyleView",
       "description_width": ""
      }
     },
     "5270414be5bc4f45859f414196a677f5": {
      "model_module": "@jupyter-widgets/controls",
      "model_module_version": "1.5.0",
      "model_name": "HBoxModel",
      "state": {
       "_dom_classes": [],
       "_model_module": "@jupyter-widgets/controls",
       "_model_module_version": "1.5.0",
       "_model_name": "HBoxModel",
       "_view_count": null,
       "_view_module": "@jupyter-widgets/controls",
       "_view_module_version": "1.5.0",
       "_view_name": "HBoxView",
       "box_style": "",
       "children": [
        "IPY_MODEL_8b747010862e4194bd5db7406d75ee48",
        "IPY_MODEL_b2a22585516c4a7e9471f9a9c70a0eae",
        "IPY_MODEL_a9efe924831f449abfd1880aed8a74e2"
       ],
       "layout": "IPY_MODEL_56eaa3c68e56440b840a74c806502577"
      }
     },
     "52aef85837964b0e865aaf0b51af2f1f": {
      "model_module": "@jupyter-widgets/base",
      "model_module_version": "1.2.0",
      "model_name": "LayoutModel",
      "state": {
       "_model_module": "@jupyter-widgets/base",
       "_model_module_version": "1.2.0",
       "_model_name": "LayoutModel",
       "_view_count": null,
       "_view_module": "@jupyter-widgets/base",
       "_view_module_version": "1.2.0",
       "_view_name": "LayoutView",
       "align_content": null,
       "align_items": null,
       "align_self": null,
       "border": null,
       "bottom": null,
       "display": null,
       "flex": null,
       "flex_flow": null,
       "grid_area": null,
       "grid_auto_columns": null,
       "grid_auto_flow": null,
       "grid_auto_rows": null,
       "grid_column": null,
       "grid_gap": null,
       "grid_row": null,
       "grid_template_areas": null,
       "grid_template_columns": null,
       "grid_template_rows": null,
       "height": null,
       "justify_content": null,
       "justify_items": null,
       "left": null,
       "margin": null,
       "max_height": null,
       "max_width": null,
       "min_height": null,
       "min_width": null,
       "object_fit": null,
       "object_position": null,
       "order": null,
       "overflow": null,
       "overflow_x": null,
       "overflow_y": null,
       "padding": null,
       "right": null,
       "top": null,
       "visibility": null,
       "width": null
      }
     },
     "53e01e4485a4472fa9d9f86511bd7ee6": {
      "model_module": "@jupyter-widgets/base",
      "model_module_version": "1.2.0",
      "model_name": "LayoutModel",
      "state": {
       "_model_module": "@jupyter-widgets/base",
       "_model_module_version": "1.2.0",
       "_model_name": "LayoutModel",
       "_view_count": null,
       "_view_module": "@jupyter-widgets/base",
       "_view_module_version": "1.2.0",
       "_view_name": "LayoutView",
       "align_content": null,
       "align_items": null,
       "align_self": null,
       "border": null,
       "bottom": null,
       "display": null,
       "flex": null,
       "flex_flow": null,
       "grid_area": null,
       "grid_auto_columns": null,
       "grid_auto_flow": null,
       "grid_auto_rows": null,
       "grid_column": null,
       "grid_gap": null,
       "grid_row": null,
       "grid_template_areas": null,
       "grid_template_columns": null,
       "grid_template_rows": null,
       "height": null,
       "justify_content": null,
       "justify_items": null,
       "left": null,
       "margin": null,
       "max_height": null,
       "max_width": null,
       "min_height": null,
       "min_width": null,
       "object_fit": null,
       "object_position": null,
       "order": null,
       "overflow": null,
       "overflow_x": null,
       "overflow_y": null,
       "padding": null,
       "right": null,
       "top": null,
       "visibility": null,
       "width": null
      }
     },
     "56eaa3c68e56440b840a74c806502577": {
      "model_module": "@jupyter-widgets/base",
      "model_module_version": "1.2.0",
      "model_name": "LayoutModel",
      "state": {
       "_model_module": "@jupyter-widgets/base",
       "_model_module_version": "1.2.0",
       "_model_name": "LayoutModel",
       "_view_count": null,
       "_view_module": "@jupyter-widgets/base",
       "_view_module_version": "1.2.0",
       "_view_name": "LayoutView",
       "align_content": null,
       "align_items": null,
       "align_self": null,
       "border": null,
       "bottom": null,
       "display": null,
       "flex": null,
       "flex_flow": null,
       "grid_area": null,
       "grid_auto_columns": null,
       "grid_auto_flow": null,
       "grid_auto_rows": null,
       "grid_column": null,
       "grid_gap": null,
       "grid_row": null,
       "grid_template_areas": null,
       "grid_template_columns": null,
       "grid_template_rows": null,
       "height": null,
       "justify_content": null,
       "justify_items": null,
       "left": null,
       "margin": null,
       "max_height": null,
       "max_width": null,
       "min_height": null,
       "min_width": null,
       "object_fit": null,
       "object_position": null,
       "order": null,
       "overflow": null,
       "overflow_x": null,
       "overflow_y": null,
       "padding": null,
       "right": null,
       "top": null,
       "visibility": null,
       "width": null
      }
     },
     "57e07bd008794f368fda0e2b6970bbac": {
      "model_module": "@jupyter-widgets/base",
      "model_module_version": "1.2.0",
      "model_name": "LayoutModel",
      "state": {
       "_model_module": "@jupyter-widgets/base",
       "_model_module_version": "1.2.0",
       "_model_name": "LayoutModel",
       "_view_count": null,
       "_view_module": "@jupyter-widgets/base",
       "_view_module_version": "1.2.0",
       "_view_name": "LayoutView",
       "align_content": null,
       "align_items": null,
       "align_self": null,
       "border": null,
       "bottom": null,
       "display": null,
       "flex": null,
       "flex_flow": null,
       "grid_area": null,
       "grid_auto_columns": null,
       "grid_auto_flow": null,
       "grid_auto_rows": null,
       "grid_column": null,
       "grid_gap": null,
       "grid_row": null,
       "grid_template_areas": null,
       "grid_template_columns": null,
       "grid_template_rows": null,
       "height": null,
       "justify_content": null,
       "justify_items": null,
       "left": null,
       "margin": null,
       "max_height": null,
       "max_width": null,
       "min_height": null,
       "min_width": null,
       "object_fit": null,
       "object_position": null,
       "order": null,
       "overflow": null,
       "overflow_x": null,
       "overflow_y": null,
       "padding": null,
       "right": null,
       "top": null,
       "visibility": null,
       "width": null
      }
     },
     "58a0778a1e8044beaaea153b61347f27": {
      "model_module": "@jupyter-widgets/controls",
      "model_module_version": "1.5.0",
      "model_name": "HTMLModel",
      "state": {
       "_dom_classes": [],
       "_model_module": "@jupyter-widgets/controls",
       "_model_module_version": "1.5.0",
       "_model_name": "HTMLModel",
       "_view_count": null,
       "_view_module": "@jupyter-widgets/controls",
       "_view_module_version": "1.5.0",
       "_view_name": "HTMLView",
       "description": "",
       "description_tooltip": null,
       "layout": "IPY_MODEL_67c97cff0832402c8179bd734c77165c",
       "placeholder": "​",
       "style": "IPY_MODEL_b58b4809ffb2483f8f1d35c459d1bc92",
       "value": "pytorch_model.bin: 100%"
      }
     },
     "598d269f247145c7a315916fd4be8236": {
      "model_module": "@jupyter-widgets/controls",
      "model_module_version": "1.5.0",
      "model_name": "FloatProgressModel",
      "state": {
       "_dom_classes": [],
       "_model_module": "@jupyter-widgets/controls",
       "_model_module_version": "1.5.0",
       "_model_name": "FloatProgressModel",
       "_view_count": null,
       "_view_module": "@jupyter-widgets/controls",
       "_view_module_version": "1.5.0",
       "_view_name": "ProgressView",
       "bar_style": "success",
       "description": "",
       "description_tooltip": null,
       "layout": "IPY_MODEL_9737b3b89ec34e8d997dcbbcea67f982",
       "max": 714.0,
       "min": 0.0,
       "orientation": "horizontal",
       "style": "IPY_MODEL_210c7bef432347cc9fda7de28fd3ca7f",
       "value": 714.0
      }
     },
     "5d9d40dec11240adbf531ed84e9ad14e": {
      "model_module": "@jupyter-widgets/base",
      "model_module_version": "1.2.0",
      "model_name": "LayoutModel",
      "state": {
       "_model_module": "@jupyter-widgets/base",
       "_model_module_version": "1.2.0",
       "_model_name": "LayoutModel",
       "_view_count": null,
       "_view_module": "@jupyter-widgets/base",
       "_view_module_version": "1.2.0",
       "_view_name": "LayoutView",
       "align_content": null,
       "align_items": null,
       "align_self": null,
       "border": null,
       "bottom": null,
       "display": null,
       "flex": null,
       "flex_flow": null,
       "grid_area": null,
       "grid_auto_columns": null,
       "grid_auto_flow": null,
       "grid_auto_rows": null,
       "grid_column": null,
       "grid_gap": null,
       "grid_row": null,
       "grid_template_areas": null,
       "grid_template_columns": null,
       "grid_template_rows": null,
       "height": null,
       "justify_content": null,
       "justify_items": null,
       "left": null,
       "margin": null,
       "max_height": null,
       "max_width": null,
       "min_height": null,
       "min_width": null,
       "object_fit": null,
       "object_position": null,
       "order": null,
       "overflow": null,
       "overflow_x": null,
       "overflow_y": null,
       "padding": null,
       "right": null,
       "top": null,
       "visibility": null,
       "width": null
      }
     },
     "5e10a31d66554cd39ba2ea534c7e6f69": {
      "model_module": "@jupyter-widgets/controls",
      "model_module_version": "1.5.0",
      "model_name": "DescriptionStyleModel",
      "state": {
       "_model_module": "@jupyter-widgets/controls",
       "_model_module_version": "1.5.0",
       "_model_name": "DescriptionStyleModel",
       "_view_count": null,
       "_view_module": "@jupyter-widgets/base",
       "_view_module_version": "1.2.0",
       "_view_name": "StyleView",
       "description_width": ""
      }
     },
     "5ecd8ee9f3934994a3a811c5a99176a5": {
      "model_module": "@jupyter-widgets/controls",
      "model_module_version": "1.5.0",
      "model_name": "HBoxModel",
      "state": {
       "_dom_classes": [],
       "_model_module": "@jupyter-widgets/controls",
       "_model_module_version": "1.5.0",
       "_model_name": "HBoxModel",
       "_view_count": null,
       "_view_module": "@jupyter-widgets/controls",
       "_view_module_version": "1.5.0",
       "_view_name": "HBoxView",
       "box_style": "",
       "children": [
        "IPY_MODEL_39d68a4e40114953aa3695cbdea6f049",
        "IPY_MODEL_bf8675ab99f245cab280a9c85f59a2ba",
        "IPY_MODEL_e89dfe60c24e43fcb7ab961b86dd1cd8"
       ],
       "layout": "IPY_MODEL_9781bbe1c1b54a2eac89ad40e154981d"
      }
     },
     "623cfa4870324a828a95ca71b984bd1b": {
      "model_module": "@jupyter-widgets/controls",
      "model_module_version": "1.5.0",
      "model_name": "ProgressStyleModel",
      "state": {
       "_model_module": "@jupyter-widgets/controls",
       "_model_module_version": "1.5.0",
       "_model_name": "ProgressStyleModel",
       "_view_count": null,
       "_view_module": "@jupyter-widgets/base",
       "_view_module_version": "1.2.0",
       "_view_name": "StyleView",
       "bar_color": null,
       "description_width": ""
      }
     },
     "63813cee966748f18776226b6e6bb255": {
      "model_module": "@jupyter-widgets/controls",
      "model_module_version": "1.5.0",
      "model_name": "HTMLModel",
      "state": {
       "_dom_classes": [],
       "_model_module": "@jupyter-widgets/controls",
       "_model_module_version": "1.5.0",
       "_model_name": "HTMLModel",
       "_view_count": null,
       "_view_module": "@jupyter-widgets/controls",
       "_view_module_version": "1.5.0",
       "_view_name": "HTMLView",
       "description": "",
       "description_tooltip": null,
       "layout": "IPY_MODEL_9d6538b3536e4d1eb41c97b163dd03c0",
       "placeholder": "​",
       "style": "IPY_MODEL_c1b7eda7b4784aa5aabefa051046bdc9",
       "value": "Map: 100%"
      }
     },
     "63eedbada87248a895337aed72da398b": {
      "model_module": "@jupyter-widgets/base",
      "model_module_version": "1.2.0",
      "model_name": "LayoutModel",
      "state": {
       "_model_module": "@jupyter-widgets/base",
       "_model_module_version": "1.2.0",
       "_model_name": "LayoutModel",
       "_view_count": null,
       "_view_module": "@jupyter-widgets/base",
       "_view_module_version": "1.2.0",
       "_view_name": "LayoutView",
       "align_content": null,
       "align_items": null,
       "align_self": null,
       "border": null,
       "bottom": null,
       "display": null,
       "flex": null,
       "flex_flow": null,
       "grid_area": null,
       "grid_auto_columns": null,
       "grid_auto_flow": null,
       "grid_auto_rows": null,
       "grid_column": null,
       "grid_gap": null,
       "grid_row": null,
       "grid_template_areas": null,
       "grid_template_columns": null,
       "grid_template_rows": null,
       "height": null,
       "justify_content": null,
       "justify_items": null,
       "left": null,
       "margin": null,
       "max_height": null,
       "max_width": null,
       "min_height": null,
       "min_width": null,
       "object_fit": null,
       "object_position": null,
       "order": null,
       "overflow": null,
       "overflow_x": null,
       "overflow_y": null,
       "padding": null,
       "right": null,
       "top": null,
       "visibility": null,
       "width": null
      }
     },
     "646211a6f9014c10920bd92141a922cb": {
      "model_module": "@jupyter-widgets/controls",
      "model_module_version": "1.5.0",
      "model_name": "HTMLModel",
      "state": {
       "_dom_classes": [],
       "_model_module": "@jupyter-widgets/controls",
       "_model_module_version": "1.5.0",
       "_model_name": "HTMLModel",
       "_view_count": null,
       "_view_module": "@jupyter-widgets/controls",
       "_view_module_version": "1.5.0",
       "_view_name": "HTMLView",
       "description": "",
       "description_tooltip": null,
       "layout": "IPY_MODEL_c9fc4a8b0e52430582609a2c27bc3b11",
       "placeholder": "​",
       "style": "IPY_MODEL_bc76a362b84942169eb5128ce1ba66bd",
       "value": "Extracting data files: 100%"
      }
     },
     "660bf0a13ace4869afb7703468a9c09b": {
      "model_module": "@jupyter-widgets/base",
      "model_module_version": "1.2.0",
      "model_name": "LayoutModel",
      "state": {
       "_model_module": "@jupyter-widgets/base",
       "_model_module_version": "1.2.0",
       "_model_name": "LayoutModel",
       "_view_count": null,
       "_view_module": "@jupyter-widgets/base",
       "_view_module_version": "1.2.0",
       "_view_name": "LayoutView",
       "align_content": null,
       "align_items": null,
       "align_self": null,
       "border": null,
       "bottom": null,
       "display": null,
       "flex": null,
       "flex_flow": null,
       "grid_area": null,
       "grid_auto_columns": null,
       "grid_auto_flow": null,
       "grid_auto_rows": null,
       "grid_column": null,
       "grid_gap": null,
       "grid_row": null,
       "grid_template_areas": null,
       "grid_template_columns": null,
       "grid_template_rows": null,
       "height": null,
       "justify_content": null,
       "justify_items": null,
       "left": null,
       "margin": null,
       "max_height": null,
       "max_width": null,
       "min_height": null,
       "min_width": null,
       "object_fit": null,
       "object_position": null,
       "order": null,
       "overflow": null,
       "overflow_x": null,
       "overflow_y": null,
       "padding": null,
       "right": null,
       "top": null,
       "visibility": null,
       "width": "20px"
      }
     },
     "67c97cff0832402c8179bd734c77165c": {
      "model_module": "@jupyter-widgets/base",
      "model_module_version": "1.2.0",
      "model_name": "LayoutModel",
      "state": {
       "_model_module": "@jupyter-widgets/base",
       "_model_module_version": "1.2.0",
       "_model_name": "LayoutModel",
       "_view_count": null,
       "_view_module": "@jupyter-widgets/base",
       "_view_module_version": "1.2.0",
       "_view_name": "LayoutView",
       "align_content": null,
       "align_items": null,
       "align_self": null,
       "border": null,
       "bottom": null,
       "display": null,
       "flex": null,
       "flex_flow": null,
       "grid_area": null,
       "grid_auto_columns": null,
       "grid_auto_flow": null,
       "grid_auto_rows": null,
       "grid_column": null,
       "grid_gap": null,
       "grid_row": null,
       "grid_template_areas": null,
       "grid_template_columns": null,
       "grid_template_rows": null,
       "height": null,
       "justify_content": null,
       "justify_items": null,
       "left": null,
       "margin": null,
       "max_height": null,
       "max_width": null,
       "min_height": null,
       "min_width": null,
       "object_fit": null,
       "object_position": null,
       "order": null,
       "overflow": null,
       "overflow_x": null,
       "overflow_y": null,
       "padding": null,
       "right": null,
       "top": null,
       "visibility": null,
       "width": null
      }
     },
     "68919f849d2f4d50b48f217c0a4998da": {
      "model_module": "@jupyter-widgets/base",
      "model_module_version": "1.2.0",
      "model_name": "LayoutModel",
      "state": {
       "_model_module": "@jupyter-widgets/base",
       "_model_module_version": "1.2.0",
       "_model_name": "LayoutModel",
       "_view_count": null,
       "_view_module": "@jupyter-widgets/base",
       "_view_module_version": "1.2.0",
       "_view_name": "LayoutView",
       "align_content": null,
       "align_items": null,
       "align_self": null,
       "border": null,
       "bottom": null,
       "display": null,
       "flex": null,
       "flex_flow": null,
       "grid_area": null,
       "grid_auto_columns": null,
       "grid_auto_flow": null,
       "grid_auto_rows": null,
       "grid_column": null,
       "grid_gap": null,
       "grid_row": null,
       "grid_template_areas": null,
       "grid_template_columns": null,
       "grid_template_rows": null,
       "height": null,
       "justify_content": null,
       "justify_items": null,
       "left": null,
       "margin": null,
       "max_height": null,
       "max_width": null,
       "min_height": null,
       "min_width": null,
       "object_fit": null,
       "object_position": null,
       "order": null,
       "overflow": null,
       "overflow_x": null,
       "overflow_y": null,
       "padding": null,
       "right": null,
       "top": null,
       "visibility": null,
       "width": null
      }
     },
     "68e47106cd97479d9e64b2260c2dd62e": {
      "model_module": "@jupyter-widgets/base",
      "model_module_version": "1.2.0",
      "model_name": "LayoutModel",
      "state": {
       "_model_module": "@jupyter-widgets/base",
       "_model_module_version": "1.2.0",
       "_model_name": "LayoutModel",
       "_view_count": null,
       "_view_module": "@jupyter-widgets/base",
       "_view_module_version": "1.2.0",
       "_view_name": "LayoutView",
       "align_content": null,
       "align_items": null,
       "align_self": null,
       "border": null,
       "bottom": null,
       "display": null,
       "flex": null,
       "flex_flow": null,
       "grid_area": null,
       "grid_auto_columns": null,
       "grid_auto_flow": null,
       "grid_auto_rows": null,
       "grid_column": null,
       "grid_gap": null,
       "grid_row": null,
       "grid_template_areas": null,
       "grid_template_columns": null,
       "grid_template_rows": null,
       "height": null,
       "justify_content": null,
       "justify_items": null,
       "left": null,
       "margin": null,
       "max_height": null,
       "max_width": null,
       "min_height": null,
       "min_width": null,
       "object_fit": null,
       "object_position": null,
       "order": null,
       "overflow": null,
       "overflow_x": null,
       "overflow_y": null,
       "padding": null,
       "right": null,
       "top": null,
       "visibility": null,
       "width": null
      }
     },
     "69a01a236737489c8289181c2b1969ab": {
      "model_module": "@jupyter-widgets/controls",
      "model_module_version": "1.5.0",
      "model_name": "DescriptionStyleModel",
      "state": {
       "_model_module": "@jupyter-widgets/controls",
       "_model_module_version": "1.5.0",
       "_model_name": "DescriptionStyleModel",
       "_view_count": null,
       "_view_module": "@jupyter-widgets/base",
       "_view_module_version": "1.2.0",
       "_view_name": "StyleView",
       "description_width": ""
      }
     },
     "6cb0a3c4c6d34d3a9fc66f17f892fb0a": {
      "model_module": "@jupyter-widgets/controls",
      "model_module_version": "1.5.0",
      "model_name": "HBoxModel",
      "state": {
       "_dom_classes": [],
       "_model_module": "@jupyter-widgets/controls",
       "_model_module_version": "1.5.0",
       "_model_name": "HBoxModel",
       "_view_count": null,
       "_view_module": "@jupyter-widgets/controls",
       "_view_module_version": "1.5.0",
       "_view_name": "HBoxView",
       "box_style": "",
       "children": [
        "IPY_MODEL_e626338c8a3d4b30badf8bd9a1801a39",
        "IPY_MODEL_598d269f247145c7a315916fd4be8236",
        "IPY_MODEL_43fa340eebd943afa6cb511c669a1ebe"
       ],
       "layout": "IPY_MODEL_e51f40b768d64586b96b599c927757e0"
      }
     },
     "6daf2648fdd64ae097b9d8ab64cf1e57": {
      "model_module": "@jupyter-widgets/base",
      "model_module_version": "1.2.0",
      "model_name": "LayoutModel",
      "state": {
       "_model_module": "@jupyter-widgets/base",
       "_model_module_version": "1.2.0",
       "_model_name": "LayoutModel",
       "_view_count": null,
       "_view_module": "@jupyter-widgets/base",
       "_view_module_version": "1.2.0",
       "_view_name": "LayoutView",
       "align_content": null,
       "align_items": null,
       "align_self": null,
       "border": null,
       "bottom": null,
       "display": null,
       "flex": null,
       "flex_flow": null,
       "grid_area": null,
       "grid_auto_columns": null,
       "grid_auto_flow": null,
       "grid_auto_rows": null,
       "grid_column": null,
       "grid_gap": null,
       "grid_row": null,
       "grid_template_areas": null,
       "grid_template_columns": null,
       "grid_template_rows": null,
       "height": null,
       "justify_content": null,
       "justify_items": null,
       "left": null,
       "margin": null,
       "max_height": null,
       "max_width": null,
       "min_height": null,
       "min_width": null,
       "object_fit": null,
       "object_position": null,
       "order": null,
       "overflow": null,
       "overflow_x": null,
       "overflow_y": null,
       "padding": null,
       "right": null,
       "top": null,
       "visibility": null,
       "width": null
      }
     },
     "6faec46df52e48309babda697ffdead5": {
      "model_module": "@jupyter-widgets/base",
      "model_module_version": "1.2.0",
      "model_name": "LayoutModel",
      "state": {
       "_model_module": "@jupyter-widgets/base",
       "_model_module_version": "1.2.0",
       "_model_name": "LayoutModel",
       "_view_count": null,
       "_view_module": "@jupyter-widgets/base",
       "_view_module_version": "1.2.0",
       "_view_name": "LayoutView",
       "align_content": null,
       "align_items": null,
       "align_self": null,
       "border": null,
       "bottom": null,
       "display": null,
       "flex": null,
       "flex_flow": null,
       "grid_area": null,
       "grid_auto_columns": null,
       "grid_auto_flow": null,
       "grid_auto_rows": null,
       "grid_column": null,
       "grid_gap": null,
       "grid_row": null,
       "grid_template_areas": null,
       "grid_template_columns": null,
       "grid_template_rows": null,
       "height": null,
       "justify_content": null,
       "justify_items": null,
       "left": null,
       "margin": null,
       "max_height": null,
       "max_width": null,
       "min_height": null,
       "min_width": null,
       "object_fit": null,
       "object_position": null,
       "order": null,
       "overflow": null,
       "overflow_x": null,
       "overflow_y": null,
       "padding": null,
       "right": null,
       "top": null,
       "visibility": null,
       "width": "20px"
      }
     },
     "74496918bc4a4e2193f26c5b4e267e47": {
      "model_module": "@jupyter-widgets/base",
      "model_module_version": "1.2.0",
      "model_name": "LayoutModel",
      "state": {
       "_model_module": "@jupyter-widgets/base",
       "_model_module_version": "1.2.0",
       "_model_name": "LayoutModel",
       "_view_count": null,
       "_view_module": "@jupyter-widgets/base",
       "_view_module_version": "1.2.0",
       "_view_name": "LayoutView",
       "align_content": null,
       "align_items": null,
       "align_self": null,
       "border": null,
       "bottom": null,
       "display": null,
       "flex": null,
       "flex_flow": null,
       "grid_area": null,
       "grid_auto_columns": null,
       "grid_auto_flow": null,
       "grid_auto_rows": null,
       "grid_column": null,
       "grid_gap": null,
       "grid_row": null,
       "grid_template_areas": null,
       "grid_template_columns": null,
       "grid_template_rows": null,
       "height": null,
       "justify_content": null,
       "justify_items": null,
       "left": null,
       "margin": null,
       "max_height": null,
       "max_width": null,
       "min_height": null,
       "min_width": null,
       "object_fit": null,
       "object_position": null,
       "order": null,
       "overflow": null,
       "overflow_x": null,
       "overflow_y": null,
       "padding": null,
       "right": null,
       "top": null,
       "visibility": null,
       "width": null
      }
     },
     "74dc95236c064ebaa71c8842ba1f624a": {
      "model_module": "@jupyter-widgets/controls",
      "model_module_version": "1.5.0",
      "model_name": "HBoxModel",
      "state": {
       "_dom_classes": [],
       "_model_module": "@jupyter-widgets/controls",
       "_model_module_version": "1.5.0",
       "_model_name": "HBoxModel",
       "_view_count": null,
       "_view_module": "@jupyter-widgets/controls",
       "_view_module_version": "1.5.0",
       "_view_name": "HBoxView",
       "box_style": "",
       "children": [
        "IPY_MODEL_295043191b764ed6af5834059596e3ee",
        "IPY_MODEL_92a508f10d044caaac1970bb1308b586",
        "IPY_MODEL_7ee310d3e78e48d78bc197c678722276"
       ],
       "layout": "IPY_MODEL_c74ad38c3ac54baa833e9a940ba58a5b"
      }
     },
     "76bee45ffc8c473aaa949514675e8d5a": {
      "model_module": "@jupyter-widgets/base",
      "model_module_version": "1.2.0",
      "model_name": "LayoutModel",
      "state": {
       "_model_module": "@jupyter-widgets/base",
       "_model_module_version": "1.2.0",
       "_model_name": "LayoutModel",
       "_view_count": null,
       "_view_module": "@jupyter-widgets/base",
       "_view_module_version": "1.2.0",
       "_view_name": "LayoutView",
       "align_content": null,
       "align_items": null,
       "align_self": null,
       "border": null,
       "bottom": null,
       "display": null,
       "flex": null,
       "flex_flow": null,
       "grid_area": null,
       "grid_auto_columns": null,
       "grid_auto_flow": null,
       "grid_auto_rows": null,
       "grid_column": null,
       "grid_gap": null,
       "grid_row": null,
       "grid_template_areas": null,
       "grid_template_columns": null,
       "grid_template_rows": null,
       "height": null,
       "justify_content": null,
       "justify_items": null,
       "left": null,
       "margin": null,
       "max_height": null,
       "max_width": null,
       "min_height": null,
       "min_width": null,
       "object_fit": null,
       "object_position": null,
       "order": null,
       "overflow": null,
       "overflow_x": null,
       "overflow_y": null,
       "padding": null,
       "right": null,
       "top": null,
       "visibility": null,
       "width": null
      }
     },
     "78521ddfc46444c792ce532d795bffe5": {
      "model_module": "@jupyter-widgets/controls",
      "model_module_version": "1.5.0",
      "model_name": "DescriptionStyleModel",
      "state": {
       "_model_module": "@jupyter-widgets/controls",
       "_model_module_version": "1.5.0",
       "_model_name": "DescriptionStyleModel",
       "_view_count": null,
       "_view_module": "@jupyter-widgets/base",
       "_view_module_version": "1.2.0",
       "_view_name": "StyleView",
       "description_width": ""
      }
     },
     "794917c14f3e491384328eff8c4a5c9b": {
      "model_module": "@jupyter-widgets/controls",
      "model_module_version": "1.5.0",
      "model_name": "DescriptionStyleModel",
      "state": {
       "_model_module": "@jupyter-widgets/controls",
       "_model_module_version": "1.5.0",
       "_model_name": "DescriptionStyleModel",
       "_view_count": null,
       "_view_module": "@jupyter-widgets/base",
       "_view_module_version": "1.2.0",
       "_view_name": "StyleView",
       "description_width": ""
      }
     },
     "7ee310d3e78e48d78bc197c678722276": {
      "model_module": "@jupyter-widgets/controls",
      "model_module_version": "1.5.0",
      "model_name": "HTMLModel",
      "state": {
       "_dom_classes": [],
       "_model_module": "@jupyter-widgets/controls",
       "_model_module_version": "1.5.0",
       "_model_name": "HTMLModel",
       "_view_count": null,
       "_view_module": "@jupyter-widgets/controls",
       "_view_module_version": "1.5.0",
       "_view_name": "HTMLView",
       "description": "",
       "description_tooltip": null,
       "layout": "IPY_MODEL_52aef85837964b0e865aaf0b51af2f1f",
       "placeholder": "​",
       "style": "IPY_MODEL_2c44b271bff847b28f3f0f9fa68b228b",
       "value": " 3/3 [00:00&lt;00:00, 374.70it/s]"
      }
     },
     "8760baa906654eea8fedc40fe13b1b2a": {
      "model_module": "@jupyter-widgets/base",
      "model_module_version": "1.2.0",
      "model_name": "LayoutModel",
      "state": {
       "_model_module": "@jupyter-widgets/base",
       "_model_module_version": "1.2.0",
       "_model_name": "LayoutModel",
       "_view_count": null,
       "_view_module": "@jupyter-widgets/base",
       "_view_module_version": "1.2.0",
       "_view_name": "LayoutView",
       "align_content": null,
       "align_items": null,
       "align_self": null,
       "border": null,
       "bottom": null,
       "display": null,
       "flex": null,
       "flex_flow": null,
       "grid_area": null,
       "grid_auto_columns": null,
       "grid_auto_flow": null,
       "grid_auto_rows": null,
       "grid_column": null,
       "grid_gap": null,
       "grid_row": null,
       "grid_template_areas": null,
       "grid_template_columns": null,
       "grid_template_rows": null,
       "height": null,
       "justify_content": null,
       "justify_items": null,
       "left": null,
       "margin": null,
       "max_height": null,
       "max_width": null,
       "min_height": null,
       "min_width": null,
       "object_fit": null,
       "object_position": null,
       "order": null,
       "overflow": null,
       "overflow_x": null,
       "overflow_y": null,
       "padding": null,
       "right": null,
       "top": null,
       "visibility": null,
       "width": null
      }
     },
     "883ee0d4951b44b7a64c9b3effd5138d": {
      "model_module": "@jupyter-widgets/controls",
      "model_module_version": "1.5.0",
      "model_name": "HBoxModel",
      "state": {
       "_dom_classes": [],
       "_model_module": "@jupyter-widgets/controls",
       "_model_module_version": "1.5.0",
       "_model_name": "HBoxModel",
       "_view_count": null,
       "_view_module": "@jupyter-widgets/controls",
       "_view_module_version": "1.5.0",
       "_view_name": "HBoxView",
       "box_style": "",
       "children": [
        "IPY_MODEL_e0f655f6e1a44539bcc14bf753bd8e45",
        "IPY_MODEL_128e8453cec64e0a8bbdc794d6afbbc0",
        "IPY_MODEL_9cf3476390684b498586566c8f5b8388"
       ],
       "layout": "IPY_MODEL_9fdb9c28d48849b499c8e28badb899a3"
      }
     },
     "8a096dd0f4f74674aaec28dbc23edc08": {
      "model_module": "@jupyter-widgets/base",
      "model_module_version": "1.2.0",
      "model_name": "LayoutModel",
      "state": {
       "_model_module": "@jupyter-widgets/base",
       "_model_module_version": "1.2.0",
       "_model_name": "LayoutModel",
       "_view_count": null,
       "_view_module": "@jupyter-widgets/base",
       "_view_module_version": "1.2.0",
       "_view_name": "LayoutView",
       "align_content": null,
       "align_items": null,
       "align_self": null,
       "border": null,
       "bottom": null,
       "display": null,
       "flex": null,
       "flex_flow": null,
       "grid_area": null,
       "grid_auto_columns": null,
       "grid_auto_flow": null,
       "grid_auto_rows": null,
       "grid_column": null,
       "grid_gap": null,
       "grid_row": null,
       "grid_template_areas": null,
       "grid_template_columns": null,
       "grid_template_rows": null,
       "height": null,
       "justify_content": null,
       "justify_items": null,
       "left": null,
       "margin": null,
       "max_height": null,
       "max_width": null,
       "min_height": null,
       "min_width": null,
       "object_fit": null,
       "object_position": null,
       "order": null,
       "overflow": null,
       "overflow_x": null,
       "overflow_y": null,
       "padding": null,
       "right": null,
       "top": null,
       "visibility": null,
       "width": null
      }
     },
     "8b747010862e4194bd5db7406d75ee48": {
      "model_module": "@jupyter-widgets/controls",
      "model_module_version": "1.5.0",
      "model_name": "HTMLModel",
      "state": {
       "_dom_classes": [],
       "_model_module": "@jupyter-widgets/controls",
       "_model_module_version": "1.5.0",
       "_model_name": "HTMLModel",
       "_view_count": null,
       "_view_module": "@jupyter-widgets/controls",
       "_view_module_version": "1.5.0",
       "_view_name": "HTMLView",
       "description": "",
       "description_tooltip": null,
       "layout": "IPY_MODEL_8a096dd0f4f74674aaec28dbc23edc08",
       "placeholder": "​",
       "style": "IPY_MODEL_39c6f47c9945467384b1643ca92c227e",
       "value": "Generating test split: "
      }
     },
     "8ba91f8507b2469d9506849615825324": {
      "model_module": "@jupyter-widgets/base",
      "model_module_version": "1.2.0",
      "model_name": "LayoutModel",
      "state": {
       "_model_module": "@jupyter-widgets/base",
       "_model_module_version": "1.2.0",
       "_model_name": "LayoutModel",
       "_view_count": null,
       "_view_module": "@jupyter-widgets/base",
       "_view_module_version": "1.2.0",
       "_view_name": "LayoutView",
       "align_content": null,
       "align_items": null,
       "align_self": null,
       "border": null,
       "bottom": null,
       "display": null,
       "flex": null,
       "flex_flow": null,
       "grid_area": null,
       "grid_auto_columns": null,
       "grid_auto_flow": null,
       "grid_auto_rows": null,
       "grid_column": null,
       "grid_gap": null,
       "grid_row": null,
       "grid_template_areas": null,
       "grid_template_columns": null,
       "grid_template_rows": null,
       "height": null,
       "justify_content": null,
       "justify_items": null,
       "left": null,
       "margin": null,
       "max_height": null,
       "max_width": null,
       "min_height": null,
       "min_width": null,
       "object_fit": null,
       "object_position": null,
       "order": null,
       "overflow": null,
       "overflow_x": null,
       "overflow_y": null,
       "padding": null,
       "right": null,
       "top": null,
       "visibility": null,
       "width": null
      }
     },
     "8e67b25876e2440b9f550b72cddef813": {
      "model_module": "@jupyter-widgets/base",
      "model_module_version": "1.2.0",
      "model_name": "LayoutModel",
      "state": {
       "_model_module": "@jupyter-widgets/base",
       "_model_module_version": "1.2.0",
       "_model_name": "LayoutModel",
       "_view_count": null,
       "_view_module": "@jupyter-widgets/base",
       "_view_module_version": "1.2.0",
       "_view_name": "LayoutView",
       "align_content": null,
       "align_items": null,
       "align_self": null,
       "border": null,
       "bottom": null,
       "display": null,
       "flex": null,
       "flex_flow": null,
       "grid_area": null,
       "grid_auto_columns": null,
       "grid_auto_flow": null,
       "grid_auto_rows": null,
       "grid_column": null,
       "grid_gap": null,
       "grid_row": null,
       "grid_template_areas": null,
       "grid_template_columns": null,
       "grid_template_rows": null,
       "height": null,
       "justify_content": null,
       "justify_items": null,
       "left": null,
       "margin": null,
       "max_height": null,
       "max_width": null,
       "min_height": null,
       "min_width": null,
       "object_fit": null,
       "object_position": null,
       "order": null,
       "overflow": null,
       "overflow_x": null,
       "overflow_y": null,
       "padding": null,
       "right": null,
       "top": null,
       "visibility": null,
       "width": null
      }
     },
     "8f0cd735f4c040eda0c9b64e14bdb5dc": {
      "model_module": "@jupyter-widgets/base",
      "model_module_version": "1.2.0",
      "model_name": "LayoutModel",
      "state": {
       "_model_module": "@jupyter-widgets/base",
       "_model_module_version": "1.2.0",
       "_model_name": "LayoutModel",
       "_view_count": null,
       "_view_module": "@jupyter-widgets/base",
       "_view_module_version": "1.2.0",
       "_view_name": "LayoutView",
       "align_content": null,
       "align_items": null,
       "align_self": null,
       "border": null,
       "bottom": null,
       "display": null,
       "flex": null,
       "flex_flow": null,
       "grid_area": null,
       "grid_auto_columns": null,
       "grid_auto_flow": null,
       "grid_auto_rows": null,
       "grid_column": null,
       "grid_gap": null,
       "grid_row": null,
       "grid_template_areas": null,
       "grid_template_columns": null,
       "grid_template_rows": null,
       "height": null,
       "justify_content": null,
       "justify_items": null,
       "left": null,
       "margin": null,
       "max_height": null,
       "max_width": null,
       "min_height": null,
       "min_width": null,
       "object_fit": null,
       "object_position": null,
       "order": null,
       "overflow": null,
       "overflow_x": null,
       "overflow_y": null,
       "padding": null,
       "right": null,
       "top": null,
       "visibility": null,
       "width": null
      }
     },
     "912540d49862451faacd7c4256886125": {
      "model_module": "@jupyter-widgets/controls",
      "model_module_version": "1.5.0",
      "model_name": "ProgressStyleModel",
      "state": {
       "_model_module": "@jupyter-widgets/controls",
       "_model_module_version": "1.5.0",
       "_model_name": "ProgressStyleModel",
       "_view_count": null,
       "_view_module": "@jupyter-widgets/base",
       "_view_module_version": "1.2.0",
       "_view_name": "StyleView",
       "bar_color": null,
       "description_width": ""
      }
     },
     "92a508f10d044caaac1970bb1308b586": {
      "model_module": "@jupyter-widgets/controls",
      "model_module_version": "1.5.0",
      "model_name": "FloatProgressModel",
      "state": {
       "_dom_classes": [],
       "_model_module": "@jupyter-widgets/controls",
       "_model_module_version": "1.5.0",
       "_model_name": "FloatProgressModel",
       "_view_count": null,
       "_view_module": "@jupyter-widgets/controls",
       "_view_module_version": "1.5.0",
       "_view_name": "ProgressView",
       "bar_style": "success",
       "description": "",
       "description_tooltip": null,
       "layout": "IPY_MODEL_bf91ae14e08c460bb3520b405d5c83b4",
       "max": 3.0,
       "min": 0.0,
       "orientation": "horizontal",
       "style": "IPY_MODEL_d9dc2f56b92a42d9afa8220ab9872cd3",
       "value": 3.0
      }
     },
     "94edb63f9542452483f32545392897e1": {
      "model_module": "@jupyter-widgets/controls",
      "model_module_version": "1.5.0",
      "model_name": "DescriptionStyleModel",
      "state": {
       "_model_module": "@jupyter-widgets/controls",
       "_model_module_version": "1.5.0",
       "_model_name": "DescriptionStyleModel",
       "_view_count": null,
       "_view_module": "@jupyter-widgets/base",
       "_view_module_version": "1.2.0",
       "_view_name": "StyleView",
       "description_width": ""
      }
     },
     "9737b3b89ec34e8d997dcbbcea67f982": {
      "model_module": "@jupyter-widgets/base",
      "model_module_version": "1.2.0",
      "model_name": "LayoutModel",
      "state": {
       "_model_module": "@jupyter-widgets/base",
       "_model_module_version": "1.2.0",
       "_model_name": "LayoutModel",
       "_view_count": null,
       "_view_module": "@jupyter-widgets/base",
       "_view_module_version": "1.2.0",
       "_view_name": "LayoutView",
       "align_content": null,
       "align_items": null,
       "align_self": null,
       "border": null,
       "bottom": null,
       "display": null,
       "flex": null,
       "flex_flow": null,
       "grid_area": null,
       "grid_auto_columns": null,
       "grid_auto_flow": null,
       "grid_auto_rows": null,
       "grid_column": null,
       "grid_gap": null,
       "grid_row": null,
       "grid_template_areas": null,
       "grid_template_columns": null,
       "grid_template_rows": null,
       "height": null,
       "justify_content": null,
       "justify_items": null,
       "left": null,
       "margin": null,
       "max_height": null,
       "max_width": null,
       "min_height": null,
       "min_width": null,
       "object_fit": null,
       "object_position": null,
       "order": null,
       "overflow": null,
       "overflow_x": null,
       "overflow_y": null,
       "padding": null,
       "right": null,
       "top": null,
       "visibility": null,
       "width": null
      }
     },
     "9781bbe1c1b54a2eac89ad40e154981d": {
      "model_module": "@jupyter-widgets/base",
      "model_module_version": "1.2.0",
      "model_name": "LayoutModel",
      "state": {
       "_model_module": "@jupyter-widgets/base",
       "_model_module_version": "1.2.0",
       "_model_name": "LayoutModel",
       "_view_count": null,
       "_view_module": "@jupyter-widgets/base",
       "_view_module_version": "1.2.0",
       "_view_name": "LayoutView",
       "align_content": null,
       "align_items": null,
       "align_self": null,
       "border": null,
       "bottom": null,
       "display": null,
       "flex": null,
       "flex_flow": null,
       "grid_area": null,
       "grid_auto_columns": null,
       "grid_auto_flow": null,
       "grid_auto_rows": null,
       "grid_column": null,
       "grid_gap": null,
       "grid_row": null,
       "grid_template_areas": null,
       "grid_template_columns": null,
       "grid_template_rows": null,
       "height": null,
       "justify_content": null,
       "justify_items": null,
       "left": null,
       "margin": null,
       "max_height": null,
       "max_width": null,
       "min_height": null,
       "min_width": null,
       "object_fit": null,
       "object_position": null,
       "order": null,
       "overflow": null,
       "overflow_x": null,
       "overflow_y": null,
       "padding": null,
       "right": null,
       "top": null,
       "visibility": null,
       "width": null
      }
     },
     "99ecce11290340688ec5a53b2b6f8268": {
      "model_module": "@jupyter-widgets/controls",
      "model_module_version": "1.5.0",
      "model_name": "DescriptionStyleModel",
      "state": {
       "_model_module": "@jupyter-widgets/controls",
       "_model_module_version": "1.5.0",
       "_model_name": "DescriptionStyleModel",
       "_view_count": null,
       "_view_module": "@jupyter-widgets/base",
       "_view_module_version": "1.2.0",
       "_view_name": "StyleView",
       "description_width": ""
      }
     },
     "9b716524e131419e9bcf01ee8be41436": {
      "model_module": "@jupyter-widgets/controls",
      "model_module_version": "1.5.0",
      "model_name": "ProgressStyleModel",
      "state": {
       "_model_module": "@jupyter-widgets/controls",
       "_model_module_version": "1.5.0",
       "_model_name": "ProgressStyleModel",
       "_view_count": null,
       "_view_module": "@jupyter-widgets/base",
       "_view_module_version": "1.2.0",
       "_view_name": "StyleView",
       "bar_color": null,
       "description_width": ""
      }
     },
     "9cf3476390684b498586566c8f5b8388": {
      "model_module": "@jupyter-widgets/controls",
      "model_module_version": "1.5.0",
      "model_name": "HTMLModel",
      "state": {
       "_dom_classes": [],
       "_model_module": "@jupyter-widgets/controls",
       "_model_module_version": "1.5.0",
       "_model_name": "HTMLModel",
       "_view_count": null,
       "_view_module": "@jupyter-widgets/controls",
       "_view_module_version": "1.5.0",
       "_view_name": "HTMLView",
       "description": "",
       "description_tooltip": null,
       "layout": "IPY_MODEL_b1c6f4f287564a309b69d7079761d1db",
       "placeholder": "​",
       "style": "IPY_MODEL_78521ddfc46444c792ce532d795bffe5",
       "value": " 569/569 [00:00&lt;00:00, 47.2kB/s]"
      }
     },
     "9d6538b3536e4d1eb41c97b163dd03c0": {
      "model_module": "@jupyter-widgets/base",
      "model_module_version": "1.2.0",
      "model_name": "LayoutModel",
      "state": {
       "_model_module": "@jupyter-widgets/base",
       "_model_module_version": "1.2.0",
       "_model_name": "LayoutModel",
       "_view_count": null,
       "_view_module": "@jupyter-widgets/base",
       "_view_module_version": "1.2.0",
       "_view_name": "LayoutView",
       "align_content": null,
       "align_items": null,
       "align_self": null,
       "border": null,
       "bottom": null,
       "display": null,
       "flex": null,
       "flex_flow": null,
       "grid_area": null,
       "grid_auto_columns": null,
       "grid_auto_flow": null,
       "grid_auto_rows": null,
       "grid_column": null,
       "grid_gap": null,
       "grid_row": null,
       "grid_template_areas": null,
       "grid_template_columns": null,
       "grid_template_rows": null,
       "height": null,
       "justify_content": null,
       "justify_items": null,
       "left": null,
       "margin": null,
       "max_height": null,
       "max_width": null,
       "min_height": null,
       "min_width": null,
       "object_fit": null,
       "object_position": null,
       "order": null,
       "overflow": null,
       "overflow_x": null,
       "overflow_y": null,
       "padding": null,
       "right": null,
       "top": null,
       "visibility": null,
       "width": null
      }
     },
     "9f7eb9e1eba84ebdba54eb7b1cf5704d": {
      "model_module": "@jupyter-widgets/controls",
      "model_module_version": "1.5.0",
      "model_name": "HTMLModel",
      "state": {
       "_dom_classes": [],
       "_model_module": "@jupyter-widgets/controls",
       "_model_module_version": "1.5.0",
       "_model_name": "HTMLModel",
       "_view_count": null,
       "_view_module": "@jupyter-widgets/controls",
       "_view_module_version": "1.5.0",
       "_view_name": "HTMLView",
       "description": "",
       "description_tooltip": null,
       "layout": "IPY_MODEL_e84f8f6892ce4b2abf22d45265cae288",
       "placeholder": "​",
       "style": "IPY_MODEL_4dc1210cff204b799ad2339abd5d7b63",
       "value": "Generating validation split: "
      }
     },
     "9fdb9c28d48849b499c8e28badb899a3": {
      "model_module": "@jupyter-widgets/base",
      "model_module_version": "1.2.0",
      "model_name": "LayoutModel",
      "state": {
       "_model_module": "@jupyter-widgets/base",
       "_model_module_version": "1.2.0",
       "_model_name": "LayoutModel",
       "_view_count": null,
       "_view_module": "@jupyter-widgets/base",
       "_view_module_version": "1.2.0",
       "_view_name": "LayoutView",
       "align_content": null,
       "align_items": null,
       "align_self": null,
       "border": null,
       "bottom": null,
       "display": null,
       "flex": null,
       "flex_flow": null,
       "grid_area": null,
       "grid_auto_columns": null,
       "grid_auto_flow": null,
       "grid_auto_rows": null,
       "grid_column": null,
       "grid_gap": null,
       "grid_row": null,
       "grid_template_areas": null,
       "grid_template_columns": null,
       "grid_template_rows": null,
       "height": null,
       "justify_content": null,
       "justify_items": null,
       "left": null,
       "margin": null,
       "max_height": null,
       "max_width": null,
       "min_height": null,
       "min_width": null,
       "object_fit": null,
       "object_position": null,
       "order": null,
       "overflow": null,
       "overflow_x": null,
       "overflow_y": null,
       "padding": null,
       "right": null,
       "top": null,
       "visibility": null,
       "width": null
      }
     },
     "a0567c30c9e1469aaca08f125c0ea003": {
      "model_module": "@jupyter-widgets/controls",
      "model_module_version": "1.5.0",
      "model_name": "HBoxModel",
      "state": {
       "_dom_classes": [],
       "_model_module": "@jupyter-widgets/controls",
       "_model_module_version": "1.5.0",
       "_model_name": "HBoxModel",
       "_view_count": null,
       "_view_module": "@jupyter-widgets/controls",
       "_view_module_version": "1.5.0",
       "_view_name": "HBoxView",
       "box_style": "",
       "children": [
        "IPY_MODEL_646211a6f9014c10920bd92141a922cb",
        "IPY_MODEL_248b169ec95846ab83f4c993567cc6bb",
        "IPY_MODEL_366027ddf1a6483d896ae3c616f87e59"
       ],
       "layout": "IPY_MODEL_e3c651a47dd1484c80ae40ef456c457f"
      }
     },
     "a59b53deb7034d14b7ff1bc16f9238fa": {
      "model_module": "@jupyter-widgets/controls",
      "model_module_version": "1.5.0",
      "model_name": "DescriptionStyleModel",
      "state": {
       "_model_module": "@jupyter-widgets/controls",
       "_model_module_version": "1.5.0",
       "_model_name": "DescriptionStyleModel",
       "_view_count": null,
       "_view_module": "@jupyter-widgets/base",
       "_view_module_version": "1.2.0",
       "_view_name": "StyleView",
       "description_width": ""
      }
     },
     "a8c924c9d0a84485b3013dd2e4bc387f": {
      "model_module": "@jupyter-widgets/controls",
      "model_module_version": "1.5.0",
      "model_name": "DescriptionStyleModel",
      "state": {
       "_model_module": "@jupyter-widgets/controls",
       "_model_module_version": "1.5.0",
       "_model_name": "DescriptionStyleModel",
       "_view_count": null,
       "_view_module": "@jupyter-widgets/base",
       "_view_module_version": "1.2.0",
       "_view_name": "StyleView",
       "description_width": ""
      }
     },
     "a9efe924831f449abfd1880aed8a74e2": {
      "model_module": "@jupyter-widgets/controls",
      "model_module_version": "1.5.0",
      "model_name": "HTMLModel",
      "state": {
       "_dom_classes": [],
       "_model_module": "@jupyter-widgets/controls",
       "_model_module_version": "1.5.0",
       "_model_name": "HTMLModel",
       "_view_count": null,
       "_view_module": "@jupyter-widgets/controls",
       "_view_module_version": "1.5.0",
       "_view_name": "HTMLView",
       "description": "",
       "description_tooltip": null,
       "layout": "IPY_MODEL_376ef9280fa4418daac50c45586b7023",
       "placeholder": "​",
       "style": "IPY_MODEL_a8c924c9d0a84485b3013dd2e4bc387f",
       "value": " 239/0 [00:00&lt;00:00, 8923.10 examples/s]"
      }
     },
     "aa636c7640e94cdea1d12318f8f0ade4": {
      "model_module": "@jupyter-widgets/controls",
      "model_module_version": "1.5.0",
      "model_name": "ProgressStyleModel",
      "state": {
       "_model_module": "@jupyter-widgets/controls",
       "_model_module_version": "1.5.0",
       "_model_name": "ProgressStyleModel",
       "_view_count": null,
       "_view_module": "@jupyter-widgets/base",
       "_view_module_version": "1.2.0",
       "_view_name": "StyleView",
       "bar_color": null,
       "description_width": ""
      }
     },
     "abab12436622439e9076fd33b0e7187f": {
      "model_module": "@jupyter-widgets/controls",
      "model_module_version": "1.5.0",
      "model_name": "FloatProgressModel",
      "state": {
       "_dom_classes": [],
       "_model_module": "@jupyter-widgets/controls",
       "_model_module_version": "1.5.0",
       "_model_name": "FloatProgressModel",
       "_view_count": null,
       "_view_module": "@jupyter-widgets/controls",
       "_view_module_version": "1.5.0",
       "_view_name": "ProgressView",
       "bar_style": "success",
       "description": "",
       "description_tooltip": null,
       "layout": "IPY_MODEL_660bf0a13ace4869afb7703468a9c09b",
       "max": 1.0,
       "min": 0.0,
       "orientation": "horizontal",
       "style": "IPY_MODEL_aa636c7640e94cdea1d12318f8f0ade4",
       "value": 1.0
      }
     },
     "abd380e5c4324514aaaf1f7a749a6f64": {
      "model_module": "@jupyter-widgets/controls",
      "model_module_version": "1.5.0",
      "model_name": "ProgressStyleModel",
      "state": {
       "_model_module": "@jupyter-widgets/controls",
       "_model_module_version": "1.5.0",
       "_model_name": "ProgressStyleModel",
       "_view_count": null,
       "_view_module": "@jupyter-widgets/base",
       "_view_module_version": "1.2.0",
       "_view_name": "StyleView",
       "bar_color": null,
       "description_width": ""
      }
     },
     "ae4940e6a21c4587aadd1cf72192605f": {
      "model_module": "@jupyter-widgets/base",
      "model_module_version": "1.2.0",
      "model_name": "LayoutModel",
      "state": {
       "_model_module": "@jupyter-widgets/base",
       "_model_module_version": "1.2.0",
       "_model_name": "LayoutModel",
       "_view_count": null,
       "_view_module": "@jupyter-widgets/base",
       "_view_module_version": "1.2.0",
       "_view_name": "LayoutView",
       "align_content": null,
       "align_items": null,
       "align_self": null,
       "border": null,
       "bottom": null,
       "display": null,
       "flex": null,
       "flex_flow": null,
       "grid_area": null,
       "grid_auto_columns": null,
       "grid_auto_flow": null,
       "grid_auto_rows": null,
       "grid_column": null,
       "grid_gap": null,
       "grid_row": null,
       "grid_template_areas": null,
       "grid_template_columns": null,
       "grid_template_rows": null,
       "height": null,
       "justify_content": null,
       "justify_items": null,
       "left": null,
       "margin": null,
       "max_height": null,
       "max_width": null,
       "min_height": null,
       "min_width": null,
       "object_fit": null,
       "object_position": null,
       "order": null,
       "overflow": null,
       "overflow_x": null,
       "overflow_y": null,
       "padding": null,
       "right": null,
       "top": null,
       "visibility": null,
       "width": null
      }
     },
     "b0cabbfae8684d55bd07148e0356ea1a": {
      "model_module": "@jupyter-widgets/base",
      "model_module_version": "1.2.0",
      "model_name": "LayoutModel",
      "state": {
       "_model_module": "@jupyter-widgets/base",
       "_model_module_version": "1.2.0",
       "_model_name": "LayoutModel",
       "_view_count": null,
       "_view_module": "@jupyter-widgets/base",
       "_view_module_version": "1.2.0",
       "_view_name": "LayoutView",
       "align_content": null,
       "align_items": null,
       "align_self": null,
       "border": null,
       "bottom": null,
       "display": null,
       "flex": null,
       "flex_flow": null,
       "grid_area": null,
       "grid_auto_columns": null,
       "grid_auto_flow": null,
       "grid_auto_rows": null,
       "grid_column": null,
       "grid_gap": null,
       "grid_row": null,
       "grid_template_areas": null,
       "grid_template_columns": null,
       "grid_template_rows": null,
       "height": null,
       "justify_content": null,
       "justify_items": null,
       "left": null,
       "margin": null,
       "max_height": null,
       "max_width": null,
       "min_height": null,
       "min_width": null,
       "object_fit": null,
       "object_position": null,
       "order": null,
       "overflow": null,
       "overflow_x": null,
       "overflow_y": null,
       "padding": null,
       "right": null,
       "top": null,
       "visibility": null,
       "width": null
      }
     },
     "b1c6f4f287564a309b69d7079761d1db": {
      "model_module": "@jupyter-widgets/base",
      "model_module_version": "1.2.0",
      "model_name": "LayoutModel",
      "state": {
       "_model_module": "@jupyter-widgets/base",
       "_model_module_version": "1.2.0",
       "_model_name": "LayoutModel",
       "_view_count": null,
       "_view_module": "@jupyter-widgets/base",
       "_view_module_version": "1.2.0",
       "_view_name": "LayoutView",
       "align_content": null,
       "align_items": null,
       "align_self": null,
       "border": null,
       "bottom": null,
       "display": null,
       "flex": null,
       "flex_flow": null,
       "grid_area": null,
       "grid_auto_columns": null,
       "grid_auto_flow": null,
       "grid_auto_rows": null,
       "grid_column": null,
       "grid_gap": null,
       "grid_row": null,
       "grid_template_areas": null,
       "grid_template_columns": null,
       "grid_template_rows": null,
       "height": null,
       "justify_content": null,
       "justify_items": null,
       "left": null,
       "margin": null,
       "max_height": null,
       "max_width": null,
       "min_height": null,
       "min_width": null,
       "object_fit": null,
       "object_position": null,
       "order": null,
       "overflow": null,
       "overflow_x": null,
       "overflow_y": null,
       "padding": null,
       "right": null,
       "top": null,
       "visibility": null,
       "width": null
      }
     },
     "b1ee202632da4f469550a0a01ea6d19b": {
      "model_module": "@jupyter-widgets/controls",
      "model_module_version": "1.5.0",
      "model_name": "FloatProgressModel",
      "state": {
       "_dom_classes": [],
       "_model_module": "@jupyter-widgets/controls",
       "_model_module_version": "1.5.0",
       "_model_name": "FloatProgressModel",
       "_view_count": null,
       "_view_module": "@jupyter-widgets/controls",
       "_view_module_version": "1.5.0",
       "_view_name": "ProgressView",
       "bar_style": "success",
       "description": "",
       "description_tooltip": null,
       "layout": "IPY_MODEL_ae4940e6a21c4587aadd1cf72192605f",
       "max": 987396.0,
       "min": 0.0,
       "orientation": "horizontal",
       "style": "IPY_MODEL_d334049b25d64ae4908bab6429f9b129",
       "value": 987396.0
      }
     },
     "b2a22585516c4a7e9471f9a9c70a0eae": {
      "model_module": "@jupyter-widgets/controls",
      "model_module_version": "1.5.0",
      "model_name": "FloatProgressModel",
      "state": {
       "_dom_classes": [],
       "_model_module": "@jupyter-widgets/controls",
       "_model_module_version": "1.5.0",
       "_model_name": "FloatProgressModel",
       "_view_count": null,
       "_view_module": "@jupyter-widgets/controls",
       "_view_module_version": "1.5.0",
       "_view_name": "ProgressView",
       "bar_style": "success",
       "description": "",
       "description_tooltip": null,
       "layout": "IPY_MODEL_6faec46df52e48309babda697ffdead5",
       "max": 1.0,
       "min": 0.0,
       "orientation": "horizontal",
       "style": "IPY_MODEL_10292fa1a03f4bc987481eae1fa659e5",
       "value": 1.0
      }
     },
     "b553196bb2b04382b766a11447b78c00": {
      "model_module": "@jupyter-widgets/base",
      "model_module_version": "1.2.0",
      "model_name": "LayoutModel",
      "state": {
       "_model_module": "@jupyter-widgets/base",
       "_model_module_version": "1.2.0",
       "_model_name": "LayoutModel",
       "_view_count": null,
       "_view_module": "@jupyter-widgets/base",
       "_view_module_version": "1.2.0",
       "_view_name": "LayoutView",
       "align_content": null,
       "align_items": null,
       "align_self": null,
       "border": null,
       "bottom": null,
       "display": null,
       "flex": null,
       "flex_flow": null,
       "grid_area": null,
       "grid_auto_columns": null,
       "grid_auto_flow": null,
       "grid_auto_rows": null,
       "grid_column": null,
       "grid_gap": null,
       "grid_row": null,
       "grid_template_areas": null,
       "grid_template_columns": null,
       "grid_template_rows": null,
       "height": null,
       "justify_content": null,
       "justify_items": null,
       "left": null,
       "margin": null,
       "max_height": null,
       "max_width": null,
       "min_height": null,
       "min_width": null,
       "object_fit": null,
       "object_position": null,
       "order": null,
       "overflow": null,
       "overflow_x": null,
       "overflow_y": null,
       "padding": null,
       "right": null,
       "top": null,
       "visibility": null,
       "width": "20px"
      }
     },
     "b56fb5af565f4f2f838a8a75a499deac": {
      "model_module": "@jupyter-widgets/controls",
      "model_module_version": "1.5.0",
      "model_name": "FloatProgressModel",
      "state": {
       "_dom_classes": [],
       "_model_module": "@jupyter-widgets/controls",
       "_model_module_version": "1.5.0",
       "_model_name": "FloatProgressModel",
       "_view_count": null,
       "_view_module": "@jupyter-widgets/controls",
       "_view_module_version": "1.5.0",
       "_view_name": "ProgressView",
       "bar_style": "success",
       "description": "",
       "description_tooltip": null,
       "layout": "IPY_MODEL_c8d5746ab4054fc28e16110daf9259bc",
       "max": 327911986.0,
       "min": 0.0,
       "orientation": "horizontal",
       "style": "IPY_MODEL_912540d49862451faacd7c4256886125",
       "value": 327911986.0
      }
     },
     "b58b4809ffb2483f8f1d35c459d1bc92": {
      "model_module": "@jupyter-widgets/controls",
      "model_module_version": "1.5.0",
      "model_name": "DescriptionStyleModel",
      "state": {
       "_model_module": "@jupyter-widgets/controls",
       "_model_module_version": "1.5.0",
       "_model_name": "DescriptionStyleModel",
       "_view_count": null,
       "_view_module": "@jupyter-widgets/base",
       "_view_module_version": "1.2.0",
       "_view_name": "StyleView",
       "description_width": ""
      }
     },
     "bc76a362b84942169eb5128ce1ba66bd": {
      "model_module": "@jupyter-widgets/controls",
      "model_module_version": "1.5.0",
      "model_name": "DescriptionStyleModel",
      "state": {
       "_model_module": "@jupyter-widgets/controls",
       "_model_module_version": "1.5.0",
       "_model_name": "DescriptionStyleModel",
       "_view_count": null,
       "_view_module": "@jupyter-widgets/base",
       "_view_module_version": "1.2.0",
       "_view_name": "StyleView",
       "description_width": ""
      }
     },
     "bc9bfb4fabb54e34aa94a26fb45e20d4": {
      "model_module": "@jupyter-widgets/controls",
      "model_module_version": "1.5.0",
      "model_name": "ProgressStyleModel",
      "state": {
       "_model_module": "@jupyter-widgets/controls",
       "_model_module_version": "1.5.0",
       "_model_name": "ProgressStyleModel",
       "_view_count": null,
       "_view_module": "@jupyter-widgets/base",
       "_view_module_version": "1.2.0",
       "_view_name": "StyleView",
       "bar_color": null,
       "description_width": ""
      }
     },
     "bdd23c59734a487ab75c68ff10548908": {
      "model_module": "@jupyter-widgets/controls",
      "model_module_version": "1.5.0",
      "model_name": "DescriptionStyleModel",
      "state": {
       "_model_module": "@jupyter-widgets/controls",
       "_model_module_version": "1.5.0",
       "_model_name": "DescriptionStyleModel",
       "_view_count": null,
       "_view_module": "@jupyter-widgets/base",
       "_view_module_version": "1.2.0",
       "_view_name": "StyleView",
       "description_width": ""
      }
     },
     "be89aea428024855ad08c76a4e1cf313": {
      "model_module": "@jupyter-widgets/base",
      "model_module_version": "1.2.0",
      "model_name": "LayoutModel",
      "state": {
       "_model_module": "@jupyter-widgets/base",
       "_model_module_version": "1.2.0",
       "_model_name": "LayoutModel",
       "_view_count": null,
       "_view_module": "@jupyter-widgets/base",
       "_view_module_version": "1.2.0",
       "_view_name": "LayoutView",
       "align_content": null,
       "align_items": null,
       "align_self": null,
       "border": null,
       "bottom": null,
       "display": null,
       "flex": null,
       "flex_flow": null,
       "grid_area": null,
       "grid_auto_columns": null,
       "grid_auto_flow": null,
       "grid_auto_rows": null,
       "grid_column": null,
       "grid_gap": null,
       "grid_row": null,
       "grid_template_areas": null,
       "grid_template_columns": null,
       "grid_template_rows": null,
       "height": null,
       "justify_content": null,
       "justify_items": null,
       "left": null,
       "margin": null,
       "max_height": null,
       "max_width": null,
       "min_height": null,
       "min_width": null,
       "object_fit": null,
       "object_position": null,
       "order": null,
       "overflow": null,
       "overflow_x": null,
       "overflow_y": null,
       "padding": null,
       "right": null,
       "top": null,
       "visibility": null,
       "width": null
      }
     },
     "bf8675ab99f245cab280a9c85f59a2ba": {
      "model_module": "@jupyter-widgets/controls",
      "model_module_version": "1.5.0",
      "model_name": "FloatProgressModel",
      "state": {
       "_dom_classes": [],
       "_model_module": "@jupyter-widgets/controls",
       "_model_module_version": "1.5.0",
       "_model_name": "FloatProgressModel",
       "_view_count": null,
       "_view_module": "@jupyter-widgets/controls",
       "_view_module_version": "1.5.0",
       "_view_name": "ProgressView",
       "bar_style": "success",
       "description": "",
       "description_tooltip": null,
       "layout": "IPY_MODEL_74496918bc4a4e2193f26c5b4e267e47",
       "max": 239.0,
       "min": 0.0,
       "orientation": "horizontal",
       "style": "IPY_MODEL_623cfa4870324a828a95ca71b984bd1b",
       "value": 239.0
      }
     },
     "bf91ae14e08c460bb3520b405d5c83b4": {
      "model_module": "@jupyter-widgets/base",
      "model_module_version": "1.2.0",
      "model_name": "LayoutModel",
      "state": {
       "_model_module": "@jupyter-widgets/base",
       "_model_module_version": "1.2.0",
       "_model_name": "LayoutModel",
       "_view_count": null,
       "_view_module": "@jupyter-widgets/base",
       "_view_module_version": "1.2.0",
       "_view_name": "LayoutView",
       "align_content": null,
       "align_items": null,
       "align_self": null,
       "border": null,
       "bottom": null,
       "display": null,
       "flex": null,
       "flex_flow": null,
       "grid_area": null,
       "grid_auto_columns": null,
       "grid_auto_flow": null,
       "grid_auto_rows": null,
       "grid_column": null,
       "grid_gap": null,
       "grid_row": null,
       "grid_template_areas": null,
       "grid_template_columns": null,
       "grid_template_rows": null,
       "height": null,
       "justify_content": null,
       "justify_items": null,
       "left": null,
       "margin": null,
       "max_height": null,
       "max_width": null,
       "min_height": null,
       "min_width": null,
       "object_fit": null,
       "object_position": null,
       "order": null,
       "overflow": null,
       "overflow_x": null,
       "overflow_y": null,
       "padding": null,
       "right": null,
       "top": null,
       "visibility": null,
       "width": null
      }
     },
     "c1b7eda7b4784aa5aabefa051046bdc9": {
      "model_module": "@jupyter-widgets/controls",
      "model_module_version": "1.5.0",
      "model_name": "DescriptionStyleModel",
      "state": {
       "_model_module": "@jupyter-widgets/controls",
       "_model_module_version": "1.5.0",
       "_model_name": "DescriptionStyleModel",
       "_view_count": null,
       "_view_module": "@jupyter-widgets/base",
       "_view_module_version": "1.2.0",
       "_view_name": "StyleView",
       "description_width": ""
      }
     },
     "c422e614cf2b4cb0877ed1370c344230": {
      "model_module": "@jupyter-widgets/base",
      "model_module_version": "1.2.0",
      "model_name": "LayoutModel",
      "state": {
       "_model_module": "@jupyter-widgets/base",
       "_model_module_version": "1.2.0",
       "_model_name": "LayoutModel",
       "_view_count": null,
       "_view_module": "@jupyter-widgets/base",
       "_view_module_version": "1.2.0",
       "_view_name": "LayoutView",
       "align_content": null,
       "align_items": null,
       "align_self": null,
       "border": null,
       "bottom": null,
       "display": null,
       "flex": null,
       "flex_flow": null,
       "grid_area": null,
       "grid_auto_columns": null,
       "grid_auto_flow": null,
       "grid_auto_rows": null,
       "grid_column": null,
       "grid_gap": null,
       "grid_row": null,
       "grid_template_areas": null,
       "grid_template_columns": null,
       "grid_template_rows": null,
       "height": null,
       "justify_content": null,
       "justify_items": null,
       "left": null,
       "margin": null,
       "max_height": null,
       "max_width": null,
       "min_height": null,
       "min_width": null,
       "object_fit": null,
       "object_position": null,
       "order": null,
       "overflow": null,
       "overflow_x": null,
       "overflow_y": null,
       "padding": null,
       "right": null,
       "top": null,
       "visibility": null,
       "width": null
      }
     },
     "c4555b9ef7f444a492bd18df5db136d5": {
      "model_module": "@jupyter-widgets/controls",
      "model_module_version": "1.5.0",
      "model_name": "DescriptionStyleModel",
      "state": {
       "_model_module": "@jupyter-widgets/controls",
       "_model_module_version": "1.5.0",
       "_model_name": "DescriptionStyleModel",
       "_view_count": null,
       "_view_module": "@jupyter-widgets/base",
       "_view_module_version": "1.2.0",
       "_view_name": "StyleView",
       "description_width": ""
      }
     },
     "c575ec91b1064b62b24e1bebbe18fa4d": {
      "model_module": "@jupyter-widgets/controls",
      "model_module_version": "1.5.0",
      "model_name": "HBoxModel",
      "state": {
       "_dom_classes": [],
       "_model_module": "@jupyter-widgets/controls",
       "_model_module_version": "1.5.0",
       "_model_name": "HBoxModel",
       "_view_count": null,
       "_view_module": "@jupyter-widgets/controls",
       "_view_module_version": "1.5.0",
       "_view_name": "HBoxView",
       "box_style": "",
       "children": [
        "IPY_MODEL_ecbb186263a7488a95df92daec8721c4",
        "IPY_MODEL_b1ee202632da4f469550a0a01ea6d19b",
        "IPY_MODEL_301f5c7f05184b3bb309a48b9cdd9214"
       ],
       "layout": "IPY_MODEL_1932911d13224e83ab3e01b1f0ce9191"
      }
     },
     "c59cb3dfb23f4591a73c2d284b91a5fc": {
      "model_module": "@jupyter-widgets/controls",
      "model_module_version": "1.5.0",
      "model_name": "HBoxModel",
      "state": {
       "_dom_classes": [],
       "_model_module": "@jupyter-widgets/controls",
       "_model_module_version": "1.5.0",
       "_model_name": "HBoxModel",
       "_view_count": null,
       "_view_module": "@jupyter-widgets/controls",
       "_view_module_version": "1.5.0",
       "_view_name": "HBoxView",
       "box_style": "",
       "children": [
        "IPY_MODEL_58a0778a1e8044beaaea153b61347f27",
        "IPY_MODEL_b56fb5af565f4f2f838a8a75a499deac",
        "IPY_MODEL_d442679484f14694818173dc46c9db1c"
       ],
       "layout": "IPY_MODEL_be89aea428024855ad08c76a4e1cf313"
      }
     },
     "c74ad38c3ac54baa833e9a940ba58a5b": {
      "model_module": "@jupyter-widgets/base",
      "model_module_version": "1.2.0",
      "model_name": "LayoutModel",
      "state": {
       "_model_module": "@jupyter-widgets/base",
       "_model_module_version": "1.2.0",
       "_model_name": "LayoutModel",
       "_view_count": null,
       "_view_module": "@jupyter-widgets/base",
       "_view_module_version": "1.2.0",
       "_view_name": "LayoutView",
       "align_content": null,
       "align_items": null,
       "align_self": null,
       "border": null,
       "bottom": null,
       "display": null,
       "flex": null,
       "flex_flow": null,
       "grid_area": null,
       "grid_auto_columns": null,
       "grid_auto_flow": null,
       "grid_auto_rows": null,
       "grid_column": null,
       "grid_gap": null,
       "grid_row": null,
       "grid_template_areas": null,
       "grid_template_columns": null,
       "grid_template_rows": null,
       "height": null,
       "justify_content": null,
       "justify_items": null,
       "left": null,
       "margin": null,
       "max_height": null,
       "max_width": null,
       "min_height": null,
       "min_width": null,
       "object_fit": null,
       "object_position": null,
       "order": null,
       "overflow": null,
       "overflow_x": null,
       "overflow_y": null,
       "padding": null,
       "right": null,
       "top": null,
       "visibility": null,
       "width": null
      }
     },
     "c8d5746ab4054fc28e16110daf9259bc": {
      "model_module": "@jupyter-widgets/base",
      "model_module_version": "1.2.0",
      "model_name": "LayoutModel",
      "state": {
       "_model_module": "@jupyter-widgets/base",
       "_model_module_version": "1.2.0",
       "_model_name": "LayoutModel",
       "_view_count": null,
       "_view_module": "@jupyter-widgets/base",
       "_view_module_version": "1.2.0",
       "_view_name": "LayoutView",
       "align_content": null,
       "align_items": null,
       "align_self": null,
       "border": null,
       "bottom": null,
       "display": null,
       "flex": null,
       "flex_flow": null,
       "grid_area": null,
       "grid_auto_columns": null,
       "grid_auto_flow": null,
       "grid_auto_rows": null,
       "grid_column": null,
       "grid_gap": null,
       "grid_row": null,
       "grid_template_areas": null,
       "grid_template_columns": null,
       "grid_template_rows": null,
       "height": null,
       "justify_content": null,
       "justify_items": null,
       "left": null,
       "margin": null,
       "max_height": null,
       "max_width": null,
       "min_height": null,
       "min_width": null,
       "object_fit": null,
       "object_position": null,
       "order": null,
       "overflow": null,
       "overflow_x": null,
       "overflow_y": null,
       "padding": null,
       "right": null,
       "top": null,
       "visibility": null,
       "width": null
      }
     },
     "c9fc4a8b0e52430582609a2c27bc3b11": {
      "model_module": "@jupyter-widgets/base",
      "model_module_version": "1.2.0",
      "model_name": "LayoutModel",
      "state": {
       "_model_module": "@jupyter-widgets/base",
       "_model_module_version": "1.2.0",
       "_model_name": "LayoutModel",
       "_view_count": null,
       "_view_module": "@jupyter-widgets/base",
       "_view_module_version": "1.2.0",
       "_view_name": "LayoutView",
       "align_content": null,
       "align_items": null,
       "align_self": null,
       "border": null,
       "bottom": null,
       "display": null,
       "flex": null,
       "flex_flow": null,
       "grid_area": null,
       "grid_auto_columns": null,
       "grid_auto_flow": null,
       "grid_auto_rows": null,
       "grid_column": null,
       "grid_gap": null,
       "grid_row": null,
       "grid_template_areas": null,
       "grid_template_columns": null,
       "grid_template_rows": null,
       "height": null,
       "justify_content": null,
       "justify_items": null,
       "left": null,
       "margin": null,
       "max_height": null,
       "max_width": null,
       "min_height": null,
       "min_width": null,
       "object_fit": null,
       "object_position": null,
       "order": null,
       "overflow": null,
       "overflow_x": null,
       "overflow_y": null,
       "padding": null,
       "right": null,
       "top": null,
       "visibility": null,
       "width": null
      }
     },
     "d177b5c635d644989125ebd4291eb91e": {
      "model_module": "@jupyter-widgets/controls",
      "model_module_version": "1.5.0",
      "model_name": "HTMLModel",
      "state": {
       "_dom_classes": [],
       "_model_module": "@jupyter-widgets/controls",
       "_model_module_version": "1.5.0",
       "_model_name": "HTMLModel",
       "_view_count": null,
       "_view_module": "@jupyter-widgets/controls",
       "_view_module_version": "1.5.0",
       "_view_name": "HTMLView",
       "description": "",
       "description_tooltip": null,
       "layout": "IPY_MODEL_57e07bd008794f368fda0e2b6970bbac",
       "placeholder": "​",
       "style": "IPY_MODEL_080e3f42a20d492c9ef168a432835158",
       "value": " 714/0 [00:00&lt;00:00, 12017.10 examples/s]"
      }
     },
     "d334049b25d64ae4908bab6429f9b129": {
      "model_module": "@jupyter-widgets/controls",
      "model_module_version": "1.5.0",
      "model_name": "ProgressStyleModel",
      "state": {
       "_model_module": "@jupyter-widgets/controls",
       "_model_module_version": "1.5.0",
       "_model_name": "ProgressStyleModel",
       "_view_count": null,
       "_view_module": "@jupyter-widgets/base",
       "_view_module_version": "1.2.0",
       "_view_name": "StyleView",
       "bar_color": null,
       "description_width": ""
      }
     },
     "d442679484f14694818173dc46c9db1c": {
      "model_module": "@jupyter-widgets/controls",
      "model_module_version": "1.5.0",
      "model_name": "HTMLModel",
      "state": {
       "_dom_classes": [],
       "_model_module": "@jupyter-widgets/controls",
       "_model_module_version": "1.5.0",
       "_model_name": "HTMLModel",
       "_view_count": null,
       "_view_module": "@jupyter-widgets/controls",
       "_view_module_version": "1.5.0",
       "_view_name": "HTMLView",
       "description": "",
       "description_tooltip": null,
       "layout": "IPY_MODEL_8f0cd735f4c040eda0c9b64e14bdb5dc",
       "placeholder": "​",
       "style": "IPY_MODEL_d9b84ad3dced4c5f84f34749d95ac392",
       "value": " 328M/328M [00:01&lt;00:00, 266MB/s]"
      }
     },
     "d991b160369a44a684ad0284244c8115": {
      "model_module": "@jupyter-widgets/base",
      "model_module_version": "1.2.0",
      "model_name": "LayoutModel",
      "state": {
       "_model_module": "@jupyter-widgets/base",
       "_model_module_version": "1.2.0",
       "_model_name": "LayoutModel",
       "_view_count": null,
       "_view_module": "@jupyter-widgets/base",
       "_view_module_version": "1.2.0",
       "_view_name": "LayoutView",
       "align_content": null,
       "align_items": null,
       "align_self": null,
       "border": null,
       "bottom": null,
       "display": null,
       "flex": null,
       "flex_flow": null,
       "grid_area": null,
       "grid_auto_columns": null,
       "grid_auto_flow": null,
       "grid_auto_rows": null,
       "grid_column": null,
       "grid_gap": null,
       "grid_row": null,
       "grid_template_areas": null,
       "grid_template_columns": null,
       "grid_template_rows": null,
       "height": null,
       "justify_content": null,
       "justify_items": null,
       "left": null,
       "margin": null,
       "max_height": null,
       "max_width": null,
       "min_height": null,
       "min_width": null,
       "object_fit": null,
       "object_position": null,
       "order": null,
       "overflow": null,
       "overflow_x": null,
       "overflow_y": null,
       "padding": null,
       "right": null,
       "top": null,
       "visibility": null,
       "width": null
      }
     },
     "d9b84ad3dced4c5f84f34749d95ac392": {
      "model_module": "@jupyter-widgets/controls",
      "model_module_version": "1.5.0",
      "model_name": "DescriptionStyleModel",
      "state": {
       "_model_module": "@jupyter-widgets/controls",
       "_model_module_version": "1.5.0",
       "_model_name": "DescriptionStyleModel",
       "_view_count": null,
       "_view_module": "@jupyter-widgets/base",
       "_view_module_version": "1.2.0",
       "_view_name": "StyleView",
       "description_width": ""
      }
     },
     "d9dc2f56b92a42d9afa8220ab9872cd3": {
      "model_module": "@jupyter-widgets/controls",
      "model_module_version": "1.5.0",
      "model_name": "ProgressStyleModel",
      "state": {
       "_model_module": "@jupyter-widgets/controls",
       "_model_module_version": "1.5.0",
       "_model_name": "ProgressStyleModel",
       "_view_count": null,
       "_view_module": "@jupyter-widgets/base",
       "_view_module_version": "1.2.0",
       "_view_name": "StyleView",
       "bar_color": null,
       "description_width": ""
      }
     },
     "da5b0cdd1a45415092c6f41e5953f382": {
      "model_module": "@jupyter-widgets/controls",
      "model_module_version": "1.5.0",
      "model_name": "HTMLModel",
      "state": {
       "_dom_classes": [],
       "_model_module": "@jupyter-widgets/controls",
       "_model_module_version": "1.5.0",
       "_model_name": "HTMLModel",
       "_view_count": null,
       "_view_module": "@jupyter-widgets/controls",
       "_view_module_version": "1.5.0",
       "_view_name": "HTMLView",
       "description": "",
       "description_tooltip": null,
       "layout": "IPY_MODEL_fd079688303543d88ddffc47c26aadf1",
       "placeholder": "​",
       "style": "IPY_MODEL_35292c81717a416183f260e06f8a5ecb",
       "value": "Downloading data files: 100%"
      }
     },
     "e0f655f6e1a44539bcc14bf753bd8e45": {
      "model_module": "@jupyter-widgets/controls",
      "model_module_version": "1.5.0",
      "model_name": "HTMLModel",
      "state": {
       "_dom_classes": [],
       "_model_module": "@jupyter-widgets/controls",
       "_model_module_version": "1.5.0",
       "_model_name": "HTMLModel",
       "_view_count": null,
       "_view_module": "@jupyter-widgets/controls",
       "_view_module_version": "1.5.0",
       "_view_name": "HTMLView",
       "description": "",
       "description_tooltip": null,
       "layout": "IPY_MODEL_76bee45ffc8c473aaa949514675e8d5a",
       "placeholder": "​",
       "style": "IPY_MODEL_94edb63f9542452483f32545392897e1",
       "value": "config.json: 100%"
      }
     },
     "e27448bbe28e4d399615b7f85f89daa4": {
      "model_module": "@jupyter-widgets/controls",
      "model_module_version": "1.5.0",
      "model_name": "ProgressStyleModel",
      "state": {
       "_model_module": "@jupyter-widgets/controls",
       "_model_module_version": "1.5.0",
       "_model_name": "ProgressStyleModel",
       "_view_count": null,
       "_view_module": "@jupyter-widgets/base",
       "_view_module_version": "1.2.0",
       "_view_name": "StyleView",
       "bar_color": null,
       "description_width": ""
      }
     },
     "e3c651a47dd1484c80ae40ef456c457f": {
      "model_module": "@jupyter-widgets/base",
      "model_module_version": "1.2.0",
      "model_name": "LayoutModel",
      "state": {
       "_model_module": "@jupyter-widgets/base",
       "_model_module_version": "1.2.0",
       "_model_name": "LayoutModel",
       "_view_count": null,
       "_view_module": "@jupyter-widgets/base",
       "_view_module_version": "1.2.0",
       "_view_name": "LayoutView",
       "align_content": null,
       "align_items": null,
       "align_self": null,
       "border": null,
       "bottom": null,
       "display": null,
       "flex": null,
       "flex_flow": null,
       "grid_area": null,
       "grid_auto_columns": null,
       "grid_auto_flow": null,
       "grid_auto_rows": null,
       "grid_column": null,
       "grid_gap": null,
       "grid_row": null,
       "grid_template_areas": null,
       "grid_template_columns": null,
       "grid_template_rows": null,
       "height": null,
       "justify_content": null,
       "justify_items": null,
       "left": null,
       "margin": null,
       "max_height": null,
       "max_width": null,
       "min_height": null,
       "min_width": null,
       "object_fit": null,
       "object_position": null,
       "order": null,
       "overflow": null,
       "overflow_x": null,
       "overflow_y": null,
       "padding": null,
       "right": null,
       "top": null,
       "visibility": null,
       "width": null
      }
     },
     "e46ad6cef74f427ab51580007cfb132a": {
      "model_module": "@jupyter-widgets/controls",
      "model_module_version": "1.5.0",
      "model_name": "HBoxModel",
      "state": {
       "_dom_classes": [],
       "_model_module": "@jupyter-widgets/controls",
       "_model_module_version": "1.5.0",
       "_model_name": "HBoxModel",
       "_view_count": null,
       "_view_module": "@jupyter-widgets/controls",
       "_view_module_version": "1.5.0",
       "_view_name": "HBoxView",
       "box_style": "",
       "children": [
        "IPY_MODEL_63813cee966748f18776226b6e6bb255",
        "IPY_MODEL_4c2157af4b8c494f96ebcd6d52f2f8a9",
        "IPY_MODEL_33026789056b412fa892bf6d00d1598a"
       ],
       "layout": "IPY_MODEL_53e01e4485a4472fa9d9f86511bd7ee6"
      }
     },
     "e51f40b768d64586b96b599c927757e0": {
      "model_module": "@jupyter-widgets/base",
      "model_module_version": "1.2.0",
      "model_name": "LayoutModel",
      "state": {
       "_model_module": "@jupyter-widgets/base",
       "_model_module_version": "1.2.0",
       "_model_name": "LayoutModel",
       "_view_count": null,
       "_view_module": "@jupyter-widgets/base",
       "_view_module_version": "1.2.0",
       "_view_name": "LayoutView",
       "align_content": null,
       "align_items": null,
       "align_self": null,
       "border": null,
       "bottom": null,
       "display": null,
       "flex": null,
       "flex_flow": null,
       "grid_area": null,
       "grid_auto_columns": null,
       "grid_auto_flow": null,
       "grid_auto_rows": null,
       "grid_column": null,
       "grid_gap": null,
       "grid_row": null,
       "grid_template_areas": null,
       "grid_template_columns": null,
       "grid_template_rows": null,
       "height": null,
       "justify_content": null,
       "justify_items": null,
       "left": null,
       "margin": null,
       "max_height": null,
       "max_width": null,
       "min_height": null,
       "min_width": null,
       "object_fit": null,
       "object_position": null,
       "order": null,
       "overflow": null,
       "overflow_x": null,
       "overflow_y": null,
       "padding": null,
       "right": null,
       "top": null,
       "visibility": null,
       "width": null
      }
     },
     "e53eb20303df4e69b4437aa10893b637": {
      "model_module": "@jupyter-widgets/controls",
      "model_module_version": "1.5.0",
      "model_name": "FloatProgressModel",
      "state": {
       "_dom_classes": [],
       "_model_module": "@jupyter-widgets/controls",
       "_model_module_version": "1.5.0",
       "_model_name": "FloatProgressModel",
       "_view_count": null,
       "_view_module": "@jupyter-widgets/controls",
       "_view_module_version": "1.5.0",
       "_view_name": "ProgressView",
       "bar_style": "success",
       "description": "",
       "description_tooltip": null,
       "layout": "IPY_MODEL_f3448ce3835647d3826ecfa66f180c97",
       "max": 3.0,
       "min": 0.0,
       "orientation": "horizontal",
       "style": "IPY_MODEL_9b716524e131419e9bcf01ee8be41436",
       "value": 3.0
      }
     },
     "e626338c8a3d4b30badf8bd9a1801a39": {
      "model_module": "@jupyter-widgets/controls",
      "model_module_version": "1.5.0",
      "model_name": "HTMLModel",
      "state": {
       "_dom_classes": [],
       "_model_module": "@jupyter-widgets/controls",
       "_model_module_version": "1.5.0",
       "_model_name": "HTMLModel",
       "_view_count": null,
       "_view_module": "@jupyter-widgets/controls",
       "_view_module_version": "1.5.0",
       "_view_name": "HTMLView",
       "description": "",
       "description_tooltip": null,
       "layout": "IPY_MODEL_09455cf437b74df3b2df7415648defc7",
       "placeholder": "​",
       "style": "IPY_MODEL_a59b53deb7034d14b7ff1bc16f9238fa",
       "value": "Map: 100%"
      }
     },
     "e84f8f6892ce4b2abf22d45265cae288": {
      "model_module": "@jupyter-widgets/base",
      "model_module_version": "1.2.0",
      "model_name": "LayoutModel",
      "state": {
       "_model_module": "@jupyter-widgets/base",
       "_model_module_version": "1.2.0",
       "_model_name": "LayoutModel",
       "_view_count": null,
       "_view_module": "@jupyter-widgets/base",
       "_view_module_version": "1.2.0",
       "_view_name": "LayoutView",
       "align_content": null,
       "align_items": null,
       "align_self": null,
       "border": null,
       "bottom": null,
       "display": null,
       "flex": null,
       "flex_flow": null,
       "grid_area": null,
       "grid_auto_columns": null,
       "grid_auto_flow": null,
       "grid_auto_rows": null,
       "grid_column": null,
       "grid_gap": null,
       "grid_row": null,
       "grid_template_areas": null,
       "grid_template_columns": null,
       "grid_template_rows": null,
       "height": null,
       "justify_content": null,
       "justify_items": null,
       "left": null,
       "margin": null,
       "max_height": null,
       "max_width": null,
       "min_height": null,
       "min_width": null,
       "object_fit": null,
       "object_position": null,
       "order": null,
       "overflow": null,
       "overflow_x": null,
       "overflow_y": null,
       "padding": null,
       "right": null,
       "top": null,
       "visibility": null,
       "width": null
      }
     },
     "e89dfe60c24e43fcb7ab961b86dd1cd8": {
      "model_module": "@jupyter-widgets/controls",
      "model_module_version": "1.5.0",
      "model_name": "HTMLModel",
      "state": {
       "_dom_classes": [],
       "_model_module": "@jupyter-widgets/controls",
       "_model_module_version": "1.5.0",
       "_model_name": "HTMLModel",
       "_view_count": null,
       "_view_module": "@jupyter-widgets/controls",
       "_view_module_version": "1.5.0",
       "_view_name": "HTMLView",
       "description": "",
       "description_tooltip": null,
       "layout": "IPY_MODEL_6daf2648fdd64ae097b9d8ab64cf1e57",
       "placeholder": "​",
       "style": "IPY_MODEL_bdd23c59734a487ab75c68ff10548908",
       "value": " 239/239 [00:00&lt;00:00, 6640.78 examples/s]"
      }
     },
     "ecbb186263a7488a95df92daec8721c4": {
      "model_module": "@jupyter-widgets/controls",
      "model_module_version": "1.5.0",
      "model_name": "HTMLModel",
      "state": {
       "_dom_classes": [],
       "_model_module": "@jupyter-widgets/controls",
       "_model_module_version": "1.5.0",
       "_model_name": "HTMLModel",
       "_view_count": null,
       "_view_module": "@jupyter-widgets/controls",
       "_view_module_version": "1.5.0",
       "_view_name": "HTMLView",
       "description": "",
       "description_tooltip": null,
       "layout": "IPY_MODEL_39b2820a615a4e4b9b05c15729d053ab",
       "placeholder": "​",
       "style": "IPY_MODEL_99ecce11290340688ec5a53b2b6f8268",
       "value": "vocab.txt: 100%"
      }
     },
     "f0c7685e7bf64f51baa8c6c8a1cbcd23": {
      "model_module": "@jupyter-widgets/controls",
      "model_module_version": "1.5.0",
      "model_name": "HTMLModel",
      "state": {
       "_dom_classes": [],
       "_model_module": "@jupyter-widgets/controls",
       "_model_module_version": "1.5.0",
       "_model_name": "HTMLModel",
       "_view_count": null,
       "_view_module": "@jupyter-widgets/controls",
       "_view_module_version": "1.5.0",
       "_view_name": "HTMLView",
       "description": "",
       "description_tooltip": null,
       "layout": "IPY_MODEL_0405ed3b549a4da0a0a405904c3b61cf",
       "placeholder": "​",
       "style": "IPY_MODEL_f6bfdb290d854181bcee81b96c21b7c1",
       "value": " 3/3 [00:00&lt;00:00, 259.70it/s]"
      }
     },
     "f3448ce3835647d3826ecfa66f180c97": {
      "model_module": "@jupyter-widgets/base",
      "model_module_version": "1.2.0",
      "model_name": "LayoutModel",
      "state": {
       "_model_module": "@jupyter-widgets/base",
       "_model_module_version": "1.2.0",
       "_model_name": "LayoutModel",
       "_view_count": null,
       "_view_module": "@jupyter-widgets/base",
       "_view_module_version": "1.2.0",
       "_view_name": "LayoutView",
       "align_content": null,
       "align_items": null,
       "align_self": null,
       "border": null,
       "bottom": null,
       "display": null,
       "flex": null,
       "flex_flow": null,
       "grid_area": null,
       "grid_auto_columns": null,
       "grid_auto_flow": null,
       "grid_auto_rows": null,
       "grid_column": null,
       "grid_gap": null,
       "grid_row": null,
       "grid_template_areas": null,
       "grid_template_columns": null,
       "grid_template_rows": null,
       "height": null,
       "justify_content": null,
       "justify_items": null,
       "left": null,
       "margin": null,
       "max_height": null,
       "max_width": null,
       "min_height": null,
       "min_width": null,
       "object_fit": null,
       "object_position": null,
       "order": null,
       "overflow": null,
       "overflow_x": null,
       "overflow_y": null,
       "padding": null,
       "right": null,
       "top": null,
       "visibility": null,
       "width": null
      }
     },
     "f6bfdb290d854181bcee81b96c21b7c1": {
      "model_module": "@jupyter-widgets/controls",
      "model_module_version": "1.5.0",
      "model_name": "DescriptionStyleModel",
      "state": {
       "_model_module": "@jupyter-widgets/controls",
       "_model_module_version": "1.5.0",
       "_model_name": "DescriptionStyleModel",
       "_view_count": null,
       "_view_module": "@jupyter-widgets/base",
       "_view_module_version": "1.2.0",
       "_view_name": "StyleView",
       "description_width": ""
      }
     },
     "fd079688303543d88ddffc47c26aadf1": {
      "model_module": "@jupyter-widgets/base",
      "model_module_version": "1.2.0",
      "model_name": "LayoutModel",
      "state": {
       "_model_module": "@jupyter-widgets/base",
       "_model_module_version": "1.2.0",
       "_model_name": "LayoutModel",
       "_view_count": null,
       "_view_module": "@jupyter-widgets/base",
       "_view_module_version": "1.2.0",
       "_view_name": "LayoutView",
       "align_content": null,
       "align_items": null,
       "align_self": null,
       "border": null,
       "bottom": null,
       "display": null,
       "flex": null,
       "flex_flow": null,
       "grid_area": null,
       "grid_auto_columns": null,
       "grid_auto_flow": null,
       "grid_auto_rows": null,
       "grid_column": null,
       "grid_gap": null,
       "grid_row": null,
       "grid_template_areas": null,
       "grid_template_columns": null,
       "grid_template_rows": null,
       "height": null,
       "justify_content": null,
       "justify_items": null,
       "left": null,
       "margin": null,
       "max_height": null,
       "max_width": null,
       "min_height": null,
       "min_width": null,
       "object_fit": null,
       "object_position": null,
       "order": null,
       "overflow": null,
       "overflow_x": null,
       "overflow_y": null,
       "padding": null,
       "right": null,
       "top": null,
       "visibility": null,
       "width": null
      }
     }
    },
    "version_major": 2,
    "version_minor": 0
   }
  }
 },
 "nbformat": 4,
 "nbformat_minor": 5
}
