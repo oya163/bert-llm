{
 "cells": [
  {
   "cell_type": "markdown",
   "id": "7d68014e",
   "metadata": {
    "id": "X1G263eDDq-t",
    "papermill": {
     "duration": 0.042433,
     "end_time": "2023-11-28T18:48:08.819205",
     "exception": false,
     "start_time": "2023-11-28T18:48:08.776772",
     "status": "completed"
    },
    "tags": []
   },
   "source": [
    "# Sentiment Analysis in Nepali Language\n",
    "\n",
    "This google colab is about sentiment analysis in Nepali language by fine-tuning BERT-derivative model. The dataset used in this notebook is mainly from [here](https://github.com/oya163/nepali-sentiment-analysis/blob/master/data/nepcls/csv/ss_ac_at_txt_unbal.csv)"
   ]
  },
  {
   "cell_type": "markdown",
   "id": "b9e80b0f",
   "metadata": {
    "id": "S7wpfzHCy8de",
    "papermill": {
     "duration": 0.041234,
     "end_time": "2023-11-28T18:48:08.903063",
     "exception": false,
     "start_time": "2023-11-28T18:48:08.861829",
     "status": "completed"
    },
    "tags": []
   },
   "source": [
    "## Installation"
   ]
  },
  {
   "cell_type": "code",
   "execution_count": 1,
   "id": "d039fd4a",
   "metadata": {
    "execution": {
     "iopub.execute_input": "2023-11-28T18:48:08.987367Z",
     "iopub.status.busy": "2023-11-28T18:48:08.986988Z",
     "iopub.status.idle": "2023-11-28T18:49:35.536604Z",
     "shell.execute_reply": "2023-11-28T18:49:35.535329Z"
    },
    "executionInfo": {
     "elapsed": 45370,
     "status": "ok",
     "timestamp": 1701052501220,
     "user": {
      "displayName": "Oyesh Singh",
      "userId": "14095812393031823613"
     },
     "user_tz": 300
    },
    "id": "F0TjG-9xD1B8",
    "outputId": "2a3cda94-38c3-455b-a06b-e3706feb52c6",
    "papermill": {
     "duration": 86.594986,
     "end_time": "2023-11-28T18:49:35.539214",
     "exception": false,
     "start_time": "2023-11-28T18:48:08.944228",
     "status": "completed"
    },
    "tags": []
   },
   "outputs": [],
   "source": [
    "%%capture\n",
    "!python3 -m pip install -U huggingface_hub\n",
    "!python3 -m pip install -U transformers\n",
    "!python3 -m pip install -U datasets evaluate\n",
    "!python3 -m pip install -U accelerate\n",
    "!python3 -m pip install -U seqeval\n",
    "!python3 -m pip install -U wandb"
   ]
  },
  {
   "cell_type": "code",
   "execution_count": 2,
   "id": "42d17316",
   "metadata": {
    "execution": {
     "iopub.execute_input": "2023-11-28T18:49:35.671718Z",
     "iopub.status.busy": "2023-11-28T18:49:35.670933Z",
     "iopub.status.idle": "2023-11-28T18:49:35.676145Z",
     "shell.execute_reply": "2023-11-28T18:49:35.675304Z"
    },
    "executionInfo": {
     "elapsed": 120,
     "status": "ok",
     "timestamp": 1701052505280,
     "user": {
      "displayName": "Oyesh Singh",
      "userId": "14095812393031823613"
     },
     "user_tz": 300
    },
    "id": "wzVYX2goD4pf",
    "papermill": {
     "duration": 0.095902,
     "end_time": "2023-11-28T18:49:35.678093",
     "exception": false,
     "start_time": "2023-11-28T18:49:35.582191",
     "status": "completed"
    },
    "tags": []
   },
   "outputs": [],
   "source": [
    "# Wrap the text in ipython notebook\n",
    "from IPython.display import HTML, display\n",
    "\n",
    "# def set_css():\n",
    "#   display(HTML('''\n",
    "#   <style>\n",
    "#     pre {\n",
    "#         white-space: pre-wrap;\n",
    "#     }\n",
    "#   </style>\n",
    "#   '''))\n",
    "# get_ipython().events.register('pre_run_cell', set_css)\n",
    "\n",
    "import warnings\n",
    "warnings.filterwarnings(\"ignore\")"
   ]
  },
  {
   "cell_type": "markdown",
   "id": "be75e21c",
   "metadata": {
    "id": "cVHZma_ZD84H",
    "papermill": {
     "duration": 0.043215,
     "end_time": "2023-11-28T18:49:35.763084",
     "exception": false,
     "start_time": "2023-11-28T18:49:35.719869",
     "status": "completed"
    },
    "tags": []
   },
   "source": [
    "# Data Preprocessing"
   ]
  },
  {
   "cell_type": "markdown",
   "id": "7966840e",
   "metadata": {
    "id": "T_WfbZ_1zK2C",
    "papermill": {
     "duration": 0.041508,
     "end_time": "2023-11-28T18:49:35.846672",
     "exception": false,
     "start_time": "2023-11-28T18:49:35.805164",
     "status": "completed"
    },
    "tags": []
   },
   "source": [
    "## Prepare NepSA dataset\n",
    "\n",
    "This is related to creating a dataset based off of the raw dataset from [Nepali Sentiment Analysis](https://raw.githubusercontent.com/oya163/nepali-sentiment-analysis/master/data/nepcls/csv/ss_ac_at_txt_unbal.csv) project"
   ]
  },
  {
   "cell_type": "code",
   "execution_count": 3,
   "id": "0d4764ba",
   "metadata": {
    "execution": {
     "iopub.execute_input": "2023-11-28T18:49:35.933518Z",
     "iopub.status.busy": "2023-11-28T18:49:35.932789Z",
     "iopub.status.idle": "2023-11-28T18:49:35.936589Z",
     "shell.execute_reply": "2023-11-28T18:49:35.935734Z"
    },
    "executionInfo": {
     "elapsed": 17226,
     "status": "ok",
     "timestamp": 1701052525742,
     "user": {
      "displayName": "Oyesh Singh",
      "userId": "14095812393031823613"
     },
     "user_tz": 300
    },
    "id": "uoHsvIemmm7g",
    "outputId": "5f775373-1445-4986-8508-adf915f4576f",
    "papermill": {
     "duration": 0.05009,
     "end_time": "2023-11-28T18:49:35.938733",
     "exception": false,
     "start_time": "2023-11-28T18:49:35.888643",
     "status": "completed"
    },
    "tags": []
   },
   "outputs": [],
   "source": [
    "# from google.colab import drive\n",
    "# drive.mount('/content/drive')"
   ]
  },
  {
   "cell_type": "code",
   "execution_count": 4,
   "id": "33bc95b9",
   "metadata": {
    "execution": {
     "iopub.execute_input": "2023-11-28T18:49:36.026389Z",
     "iopub.status.busy": "2023-11-28T18:49:36.025554Z",
     "iopub.status.idle": "2023-11-28T18:49:36.029855Z",
     "shell.execute_reply": "2023-11-28T18:49:36.029002Z"
    },
    "executionInfo": {
     "elapsed": 144,
     "status": "ok",
     "timestamp": 1701052530109,
     "user": {
      "displayName": "Oyesh Singh",
      "userId": "14095812393031823613"
     },
     "user_tz": 300
    },
    "id": "WrmOo-iZw2JU",
    "outputId": "976ea646-3540-4dd1-ae31-cf7fde0fefdd",
    "papermill": {
     "duration": 0.051007,
     "end_time": "2023-11-28T18:49:36.031829",
     "exception": false,
     "start_time": "2023-11-28T18:49:35.980822",
     "status": "completed"
    },
    "tags": []
   },
   "outputs": [],
   "source": [
    "# filepath = '/content/drive/MyDrive/nepsa_data/nepsa'"
   ]
  },
  {
   "cell_type": "code",
   "execution_count": 5,
   "id": "a24b70b3",
   "metadata": {
    "execution": {
     "iopub.execute_input": "2023-11-28T18:49:36.117657Z",
     "iopub.status.busy": "2023-11-28T18:49:36.117276Z",
     "iopub.status.idle": "2023-11-28T18:49:36.121332Z",
     "shell.execute_reply": "2023-11-28T18:49:36.120496Z"
    },
    "executionInfo": {
     "elapsed": 779,
     "status": "ok",
     "timestamp": 1701052557339,
     "user": {
      "displayName": "Oyesh Singh",
      "userId": "14095812393031823613"
     },
     "user_tz": 300
    },
    "id": "DQxYBuIETtQQ",
    "outputId": "3281e261-8ed1-4ba4-abe8-f0d7c3465f1c",
    "papermill": {
     "duration": 0.049088,
     "end_time": "2023-11-28T18:49:36.123309",
     "exception": false,
     "start_time": "2023-11-28T18:49:36.074221",
     "status": "completed"
    },
    "tags": []
   },
   "outputs": [],
   "source": [
    "# !wget https://raw.githubusercontent.com/oya163/nepali-sentiment-analysis/master/data/nepcls/csv/ss_ac_at_txt_bal.csv"
   ]
  },
  {
   "cell_type": "code",
   "execution_count": 6,
   "id": "fb58804e",
   "metadata": {
    "execution": {
     "iopub.execute_input": "2023-11-28T18:49:36.209340Z",
     "iopub.status.busy": "2023-11-28T18:49:36.208978Z",
     "iopub.status.idle": "2023-11-28T18:49:36.212847Z",
     "shell.execute_reply": "2023-11-28T18:49:36.211999Z"
    },
    "executionInfo": {
     "elapsed": 4,
     "status": "ok",
     "timestamp": 1701052557340,
     "user": {
      "displayName": "Oyesh Singh",
      "userId": "14095812393031823613"
     },
     "user_tz": 300
    },
    "id": "jWYKXYacTli4",
    "outputId": "808409b7-2a30-4365-fa98-13e0f1e4508a",
    "papermill": {
     "duration": 0.049082,
     "end_time": "2023-11-28T18:49:36.214776",
     "exception": false,
     "start_time": "2023-11-28T18:49:36.165694",
     "status": "completed"
    },
    "tags": []
   },
   "outputs": [],
   "source": [
    "# import matplotlib.pyplot as plt\n",
    "# import os\n",
    "# import pandas as pd\n",
    "# import torch\n",
    "# import numpy as np\n",
    "# pd.set_option('display.max_colwidth', None)"
   ]
  },
  {
   "cell_type": "code",
   "execution_count": 7,
   "id": "31fbca3d",
   "metadata": {
    "execution": {
     "iopub.execute_input": "2023-11-28T18:49:36.300790Z",
     "iopub.status.busy": "2023-11-28T18:49:36.300264Z",
     "iopub.status.idle": "2023-11-28T18:49:36.304627Z",
     "shell.execute_reply": "2023-11-28T18:49:36.303779Z"
    },
    "executionInfo": {
     "elapsed": 241,
     "status": "ok",
     "timestamp": 1701052563935,
     "user": {
      "displayName": "Oyesh Singh",
      "userId": "14095812393031823613"
     },
     "user_tz": 300
    },
    "id": "VIh1xofyUSKT",
    "outputId": "7bf1b600-7e2e-4516-bf33-fed3a5877103",
    "papermill": {
     "duration": 0.049285,
     "end_time": "2023-11-28T18:49:36.306443",
     "exception": false,
     "start_time": "2023-11-28T18:49:36.257158",
     "status": "completed"
    },
    "tags": []
   },
   "outputs": [],
   "source": [
    "# filepath = \"/kaggle/working/ss_ac_at_txt_bal.csv\"\n",
    "# df = pd.read_csv(filepath,\n",
    "#                    names=[\"Severity\", \"Category\", \"Aspect Word\", \"text\"])"
   ]
  },
  {
   "cell_type": "code",
   "execution_count": 8,
   "id": "6b1a070f",
   "metadata": {
    "execution": {
     "iopub.execute_input": "2023-11-28T18:49:36.392867Z",
     "iopub.status.busy": "2023-11-28T18:49:36.392023Z",
     "iopub.status.idle": "2023-11-28T18:49:36.396237Z",
     "shell.execute_reply": "2023-11-28T18:49:36.395391Z"
    },
    "papermill": {
     "duration": 0.04977,
     "end_time": "2023-11-28T18:49:36.398296",
     "exception": false,
     "start_time": "2023-11-28T18:49:36.348526",
     "status": "completed"
    },
    "tags": []
   },
   "outputs": [],
   "source": [
    "# df.head()"
   ]
  },
  {
   "cell_type": "code",
   "execution_count": 9,
   "id": "dfcf17fc",
   "metadata": {
    "execution": {
     "iopub.execute_input": "2023-11-28T18:49:36.483019Z",
     "iopub.status.busy": "2023-11-28T18:49:36.482710Z",
     "iopub.status.idle": "2023-11-28T18:49:36.486557Z",
     "shell.execute_reply": "2023-11-28T18:49:36.485728Z"
    },
    "executionInfo": {
     "elapsed": 241,
     "status": "ok",
     "timestamp": 1701052563935,
     "user": {
      "displayName": "Oyesh Singh",
      "userId": "14095812393031823613"
     },
     "user_tz": 300
    },
    "id": "VIh1xofyUSKT",
    "outputId": "7bf1b600-7e2e-4516-bf33-fed3a5877103",
    "papermill": {
     "duration": 0.048424,
     "end_time": "2023-11-28T18:49:36.488487",
     "exception": false,
     "start_time": "2023-11-28T18:49:36.440063",
     "status": "completed"
    },
    "tags": []
   },
   "outputs": [],
   "source": [
    "# df[df['Category']=='PROFANITY']"
   ]
  },
  {
   "cell_type": "code",
   "execution_count": 10,
   "id": "cbe87e78",
   "metadata": {
    "execution": {
     "iopub.execute_input": "2023-11-28T18:49:36.575057Z",
     "iopub.status.busy": "2023-11-28T18:49:36.574699Z",
     "iopub.status.idle": "2023-11-28T18:49:36.578666Z",
     "shell.execute_reply": "2023-11-28T18:49:36.577794Z"
    },
    "executionInfo": {
     "elapsed": 4,
     "status": "ok",
     "timestamp": 1701052564068,
     "user": {
      "displayName": "Oyesh Singh",
      "userId": "14095812393031823613"
     },
     "user_tz": 300
    },
    "id": "1Uk_K9pEXuiD",
    "outputId": "3074ff5c-0fc2-40e6-f4b5-49f90dc786c5",
    "papermill": {
     "duration": 0.048758,
     "end_time": "2023-11-28T18:49:36.580710",
     "exception": false,
     "start_time": "2023-11-28T18:49:36.531952",
     "status": "completed"
    },
    "tags": []
   },
   "outputs": [],
   "source": [
    "# df['Category'].unique()"
   ]
  },
  {
   "cell_type": "code",
   "execution_count": 11,
   "id": "68f9e6da",
   "metadata": {
    "execution": {
     "iopub.execute_input": "2023-11-28T18:49:36.666256Z",
     "iopub.status.busy": "2023-11-28T18:49:36.665656Z",
     "iopub.status.idle": "2023-11-28T18:49:36.669502Z",
     "shell.execute_reply": "2023-11-28T18:49:36.668648Z"
    },
    "executionInfo": {
     "elapsed": 4,
     "status": "ok",
     "timestamp": 1701052564473,
     "user": {
      "displayName": "Oyesh Singh",
      "userId": "14095812393031823613"
     },
     "user_tz": 300
    },
    "id": "hNZ_LFNTTzeL",
    "outputId": "12398fb7-82f1-48d2-aee4-36a497c2fb8c",
    "papermill": {
     "duration": 0.048883,
     "end_time": "2023-11-28T18:49:36.671504",
     "exception": false,
     "start_time": "2023-11-28T18:49:36.622621",
     "status": "completed"
    },
    "tags": []
   },
   "outputs": [],
   "source": [
    "# df = df[~df['Category'].isin(['FEEDBACK'])]\n",
    "# df['Category'].unique()"
   ]
  },
  {
   "cell_type": "code",
   "execution_count": 12,
   "id": "58733d08",
   "metadata": {
    "execution": {
     "iopub.execute_input": "2023-11-28T18:49:36.757549Z",
     "iopub.status.busy": "2023-11-28T18:49:36.757202Z",
     "iopub.status.idle": "2023-11-28T18:49:36.761336Z",
     "shell.execute_reply": "2023-11-28T18:49:36.760466Z"
    },
    "executionInfo": {
     "elapsed": 122,
     "status": "ok",
     "timestamp": 1701052566469,
     "user": {
      "displayName": "Oyesh Singh",
      "userId": "14095812393031823613"
     },
     "user_tz": 300
    },
    "id": "z4jjhkI0Uw8Z",
    "outputId": "baaee01d-ba03-4210-c954-d68dcda9481d",
    "papermill": {
     "duration": 0.04986,
     "end_time": "2023-11-28T18:49:36.763235",
     "exception": false,
     "start_time": "2023-11-28T18:49:36.713375",
     "status": "completed"
    },
    "tags": []
   },
   "outputs": [],
   "source": [
    "# def create_label(row):\n",
    "#     if row['Category'] == \"GENERAL\" and row['Severity'] == 0:\n",
    "#         return 0\n",
    "#     elif row['Category'] == \"GENERAL\" and row['Severity'] == 1:\n",
    "#         return 1\n",
    "#     elif row['Category'] == \"PROFANITY\":\n",
    "#         return 2\n",
    "#     elif row['Category'] == \"VIOLENCE\":\n",
    "#         return 3\n",
    "\n",
    "# df['label'] = df.apply(create_label, axis=1).astype(int)\n",
    "\n",
    "# df = df.drop(['Severity', 'Category', 'Aspect Word'], axis=1)\n",
    "# df.head()\n"
   ]
  },
  {
   "cell_type": "code",
   "execution_count": 13,
   "id": "2f59460b",
   "metadata": {
    "execution": {
     "iopub.execute_input": "2023-11-28T18:49:36.848892Z",
     "iopub.status.busy": "2023-11-28T18:49:36.848549Z",
     "iopub.status.idle": "2023-11-28T18:49:36.852513Z",
     "shell.execute_reply": "2023-11-28T18:49:36.851652Z"
    },
    "executionInfo": {
     "elapsed": 602,
     "status": "ok",
     "timestamp": 1701052610536,
     "user": {
      "displayName": "Oyesh Singh",
      "userId": "14095812393031823613"
     },
     "user_tz": 300
    },
    "id": "sEbUkKDnTlmg",
    "outputId": "8e8d56ad-bfb5-4379-ab88-3f28665a5603",
    "papermill": {
     "duration": 0.049045,
     "end_time": "2023-11-28T18:49:36.854483",
     "exception": false,
     "start_time": "2023-11-28T18:49:36.805438",
     "status": "completed"
    },
    "tags": []
   },
   "outputs": [],
   "source": [
    "# from sklearn.model_selection import train_test_split\n",
    "\n",
    "# X_train, X_test, y_train, y_test = train_test_split(df['text'], df['label'], test_size=0.2, random_state=163)\n",
    "\n",
    "# X_train, X_val, y_train, y_val = train_test_split(X_train, y_train, test_size=0.25, random_state=163)\n"
   ]
  },
  {
   "cell_type": "code",
   "execution_count": 14,
   "id": "0da6d7be",
   "metadata": {
    "execution": {
     "iopub.execute_input": "2023-11-28T18:49:36.939567Z",
     "iopub.status.busy": "2023-11-28T18:49:36.939229Z",
     "iopub.status.idle": "2023-11-28T18:49:36.943305Z",
     "shell.execute_reply": "2023-11-28T18:49:36.942461Z"
    },
    "executionInfo": {
     "elapsed": 136,
     "status": "ok",
     "timestamp": 1701052726498,
     "user": {
      "displayName": "Oyesh Singh",
      "userId": "14095812393031823613"
     },
     "user_tz": 300
    },
    "id": "6V0-GRWMTlrv",
    "outputId": "9ed53f27-4132-4de8-cfb5-42d7b4328840",
    "papermill": {
     "duration": 0.049021,
     "end_time": "2023-11-28T18:49:36.945368",
     "exception": false,
     "start_time": "2023-11-28T18:49:36.896347",
     "status": "completed"
    },
    "tags": []
   },
   "outputs": [],
   "source": [
    "# def create_csv(X, y, filename):\n",
    "#     df = pd.DataFrame()\n",
    "#     df['text'] = X\n",
    "#     df['label'] = y\n",
    "#     df.to_csv(f\"{filename}.txt\", sep='\\t', header=False, index=False)\n",
    "\n",
    "# create_csv(X_train, y_train, 'train')\n",
    "# create_csv(X_val, y_val, 'valid')\n",
    "# create_csv(X_test, y_test, 'test')\n"
   ]
  },
  {
   "cell_type": "markdown",
   "id": "d40fad04",
   "metadata": {
    "id": "uLzGP88XdlAH",
    "papermill": {
     "duration": 0.042384,
     "end_time": "2023-11-28T18:49:37.030175",
     "exception": false,
     "start_time": "2023-11-28T18:49:36.987791",
     "status": "completed"
    },
    "tags": []
   },
   "source": [
    "## Load NepSA dataset"
   ]
  },
  {
   "cell_type": "code",
   "execution_count": 15,
   "id": "599383cc",
   "metadata": {
    "execution": {
     "iopub.execute_input": "2023-11-28T18:49:37.116074Z",
     "iopub.status.busy": "2023-11-28T18:49:37.115257Z",
     "iopub.status.idle": "2023-11-28T18:49:40.236618Z",
     "shell.execute_reply": "2023-11-28T18:49:40.235848Z"
    },
    "executionInfo": {
     "elapsed": 1827,
     "status": "ok",
     "timestamp": 1701052898645,
     "user": {
      "displayName": "Oyesh Singh",
      "userId": "14095812393031823613"
     },
     "user_tz": 300
    },
    "id": "PzFOoAr-FXlF",
    "outputId": "b08b95eb-a1e7-4aaf-8cc9-84e7dad44063",
    "papermill": {
     "duration": 3.166409,
     "end_time": "2023-11-28T18:49:40.238646",
     "exception": false,
     "start_time": "2023-11-28T18:49:37.072237",
     "status": "completed"
    },
    "tags": []
   },
   "outputs": [
    {
     "data": {
      "application/vnd.jupyter.widget-view+json": {
       "model_id": "fc9897384abc4051a147bf61579a196d",
       "version_major": 2,
       "version_minor": 0
      },
      "text/plain": [
       "Downloading data files:   0%|          | 0/3 [00:00<?, ?it/s]"
      ]
     },
     "metadata": {},
     "output_type": "display_data"
    },
    {
     "data": {
      "application/vnd.jupyter.widget-view+json": {
       "model_id": "fdc3d9461dfb448690a9936f09bc8616",
       "version_major": 2,
       "version_minor": 0
      },
      "text/plain": [
       "Extracting data files:   0%|          | 0/3 [00:00<?, ?it/s]"
      ]
     },
     "metadata": {},
     "output_type": "display_data"
    },
    {
     "data": {
      "application/vnd.jupyter.widget-view+json": {
       "model_id": "2f4891aa63bb4873bddb665e4b92134d",
       "version_major": 2,
       "version_minor": 0
      },
      "text/plain": [
       "Generating train split: 0 examples [00:00, ? examples/s]"
      ]
     },
     "metadata": {},
     "output_type": "display_data"
    },
    {
     "data": {
      "application/vnd.jupyter.widget-view+json": {
       "model_id": "70d3f3e3368042149321ffdfc876616f",
       "version_major": 2,
       "version_minor": 0
      },
      "text/plain": [
       "Generating validation split: 0 examples [00:00, ? examples/s]"
      ]
     },
     "metadata": {},
     "output_type": "display_data"
    },
    {
     "data": {
      "application/vnd.jupyter.widget-view+json": {
       "model_id": "980a9fc8ac044c70a59b35dce87213fa",
       "version_major": 2,
       "version_minor": 0
      },
      "text/plain": [
       "Generating test split: 0 examples [00:00, ? examples/s]"
      ]
     },
     "metadata": {},
     "output_type": "display_data"
    }
   ],
   "source": [
    "import os\n",
    "from datasets import load_dataset\n",
    "\n",
    "filepath=\"/kaggle/input/nepsa-data\"\n",
    "data_files = {\n",
    "    \"train\": os.path.join(filepath, \"train.txt\"),\n",
    "    \"validation\": os.path.join(filepath, \"valid.txt\"),\n",
    "    \"test\": os.path.join(filepath, \"test.txt\"),\n",
    "}\n",
    "\n",
    "raw_datasets = load_dataset(os.path.join(filepath, \"load_sa.py\"), data_files=data_files)"
   ]
  },
  {
   "cell_type": "markdown",
   "id": "4318cb34",
   "metadata": {
    "id": "dWR6iKPv1VMC",
    "papermill": {
     "duration": 0.043009,
     "end_time": "2023-11-28T18:49:40.325611",
     "exception": false,
     "start_time": "2023-11-28T18:49:40.282602",
     "status": "completed"
    },
    "tags": []
   },
   "source": [
    "Check the basic information on the loaded dataset"
   ]
  },
  {
   "cell_type": "code",
   "execution_count": 16,
   "id": "fe7faf3c",
   "metadata": {
    "execution": {
     "iopub.execute_input": "2023-11-28T18:49:40.413800Z",
     "iopub.status.busy": "2023-11-28T18:49:40.412886Z",
     "iopub.status.idle": "2023-11-28T18:49:40.419512Z",
     "shell.execute_reply": "2023-11-28T18:49:40.418670Z"
    },
    "executionInfo": {
     "elapsed": 352,
     "status": "ok",
     "timestamp": 1701052903939,
     "user": {
      "displayName": "Oyesh Singh",
      "userId": "14095812393031823613"
     },
     "user_tz": 300
    },
    "id": "Gfj48y-nLHTs",
    "outputId": "0fb76f59-5c98-40a4-b326-8a51fdb76ad8",
    "papermill": {
     "duration": 0.053523,
     "end_time": "2023-11-28T18:49:40.421456",
     "exception": false,
     "start_time": "2023-11-28T18:49:40.367933",
     "status": "completed"
    },
    "tags": []
   },
   "outputs": [
    {
     "data": {
      "text/plain": [
       "DatasetDict({\n",
       "    train: Dataset({\n",
       "        features: ['text', 'label'],\n",
       "        num_rows: 714\n",
       "    })\n",
       "    validation: Dataset({\n",
       "        features: ['text', 'label'],\n",
       "        num_rows: 239\n",
       "    })\n",
       "    test: Dataset({\n",
       "        features: ['text', 'label'],\n",
       "        num_rows: 239\n",
       "    })\n",
       "})"
      ]
     },
     "execution_count": 16,
     "metadata": {},
     "output_type": "execute_result"
    }
   ],
   "source": [
    "raw_datasets"
   ]
  },
  {
   "cell_type": "markdown",
   "id": "ec9fc745",
   "metadata": {
    "papermill": {
     "duration": 0.042261,
     "end_time": "2023-11-28T18:49:40.506209",
     "exception": false,
     "start_time": "2023-11-28T18:49:40.463948",
     "status": "completed"
    },
    "tags": []
   },
   "source": [
    "Check the data statistics"
   ]
  },
  {
   "cell_type": "code",
   "execution_count": 17,
   "id": "2f53d908",
   "metadata": {
    "execution": {
     "iopub.execute_input": "2023-11-28T18:49:40.594101Z",
     "iopub.status.busy": "2023-11-28T18:49:40.593156Z",
     "iopub.status.idle": "2023-11-28T18:49:40.600730Z",
     "shell.execute_reply": "2023-11-28T18:49:40.599792Z"
    },
    "papermill": {
     "duration": 0.054605,
     "end_time": "2023-11-28T18:49:40.603455",
     "exception": false,
     "start_time": "2023-11-28T18:49:40.548850",
     "status": "completed"
    },
    "tags": []
   },
   "outputs": [
    {
     "name": "stdout",
     "output_type": "stream",
     "text": [
      "train Counter({2: 236, 1: 199, 3: 172, 0: 107})\n",
      "validation Counter({2: 86, 1: 63, 3: 59, 0: 31})\n",
      "test Counter({2: 85, 1: 61, 3: 54, 0: 39})\n"
     ]
    }
   ],
   "source": [
    "from collections import Counter\n",
    "\n",
    "for k, v in raw_datasets.items():\n",
    "    print(k, Counter(raw_datasets[k]['label']))"
   ]
  },
  {
   "cell_type": "code",
   "execution_count": 18,
   "id": "f486a227",
   "metadata": {
    "execution": {
     "iopub.execute_input": "2023-11-28T18:49:40.689860Z",
     "iopub.status.busy": "2023-11-28T18:49:40.689571Z",
     "iopub.status.idle": "2023-11-28T18:49:40.693935Z",
     "shell.execute_reply": "2023-11-28T18:49:40.693027Z"
    },
    "executionInfo": {
     "elapsed": 383,
     "status": "ok",
     "timestamp": 1701052905970,
     "user": {
      "displayName": "Oyesh Singh",
      "userId": "14095812393031823613"
     },
     "user_tz": 300
    },
    "id": "TKNUqLFakTb5",
    "outputId": "834e68dc-7ae4-43bc-b344-e8974f1d9626",
    "papermill": {
     "duration": 0.049548,
     "end_time": "2023-11-28T18:49:40.695918",
     "exception": false,
     "start_time": "2023-11-28T18:49:40.646370",
     "status": "completed"
    },
    "tags": []
   },
   "outputs": [],
   "source": [
    "train_data = raw_datasets['train']\n",
    "test_data = raw_datasets['test']\n",
    "valid_data = raw_datasets['validation']"
   ]
  },
  {
   "cell_type": "markdown",
   "id": "4a2bd33c",
   "metadata": {
    "id": "c-X82WgK1ZZV",
    "papermill": {
     "duration": 0.044538,
     "end_time": "2023-11-28T18:49:40.783127",
     "exception": false,
     "start_time": "2023-11-28T18:49:40.738589",
     "status": "completed"
    },
    "tags": []
   },
   "source": [
    "Check sample of tokens from train dataset"
   ]
  },
  {
   "cell_type": "code",
   "execution_count": 19,
   "id": "40957c7a",
   "metadata": {
    "execution": {
     "iopub.execute_input": "2023-11-28T18:49:40.872153Z",
     "iopub.status.busy": "2023-11-28T18:49:40.871256Z",
     "iopub.status.idle": "2023-11-28T18:49:40.876343Z",
     "shell.execute_reply": "2023-11-28T18:49:40.875493Z"
    },
    "executionInfo": {
     "elapsed": 155,
     "status": "ok",
     "timestamp": 1701052913180,
     "user": {
      "displayName": "Oyesh Singh",
      "userId": "14095812393031823613"
     },
     "user_tz": 300
    },
    "id": "GthOG3KemYn_",
    "outputId": "75c55113-f8d9-490f-fab3-37b5fb84e7b8",
    "papermill": {
     "duration": 0.052064,
     "end_time": "2023-11-28T18:49:40.878763",
     "exception": false,
     "start_time": "2023-11-28T18:49:40.826699",
     "status": "completed"
    },
    "tags": []
   },
   "outputs": [
    {
     "name": "stdout",
     "output_type": "stream",
     "text": [
      "यो खाते रन्डि को छोरा कस्तो मानव अधिकार बादी हो ?\n"
     ]
    }
   ],
   "source": [
    "print(train_data[10][\"text\"])"
   ]
  },
  {
   "cell_type": "markdown",
   "id": "3a8004ee",
   "metadata": {
    "id": "DZ60Ictv1gsB",
    "papermill": {
     "duration": 0.044766,
     "end_time": "2023-11-28T18:49:40.967171",
     "exception": false,
     "start_time": "2023-11-28T18:49:40.922405",
     "status": "completed"
    },
    "tags": []
   },
   "source": [
    "Check the NER tags (its IDS) of the corresponding sample"
   ]
  },
  {
   "cell_type": "code",
   "execution_count": 20,
   "id": "d7e1c093",
   "metadata": {
    "execution": {
     "iopub.execute_input": "2023-11-28T18:49:41.058644Z",
     "iopub.status.busy": "2023-11-28T18:49:41.058214Z",
     "iopub.status.idle": "2023-11-28T18:49:41.063496Z",
     "shell.execute_reply": "2023-11-28T18:49:41.062599Z"
    },
    "executionInfo": {
     "elapsed": 153,
     "status": "ok",
     "timestamp": 1701052914852,
     "user": {
      "displayName": "Oyesh Singh",
      "userId": "14095812393031823613"
     },
     "user_tz": 300
    },
    "id": "MWbI8SgdEHcU",
    "outputId": "0ad3a761-987d-4c40-f8a3-334379f1f940",
    "papermill": {
     "duration": 0.052595,
     "end_time": "2023-11-28T18:49:41.065768",
     "exception": false,
     "start_time": "2023-11-28T18:49:41.013173",
     "status": "completed"
    },
    "tags": []
   },
   "outputs": [
    {
     "name": "stdout",
     "output_type": "stream",
     "text": [
      "2\n"
     ]
    }
   ],
   "source": [
    "print(raw_datasets[\"train\"][10][\"label\"])"
   ]
  },
  {
   "cell_type": "code",
   "execution_count": 21,
   "id": "ae71f859",
   "metadata": {
    "execution": {
     "iopub.execute_input": "2023-11-28T18:49:41.155229Z",
     "iopub.status.busy": "2023-11-28T18:49:41.154882Z",
     "iopub.status.idle": "2023-11-28T18:49:41.161262Z",
     "shell.execute_reply": "2023-11-28T18:49:41.160335Z"
    },
    "executionInfo": {
     "elapsed": 143,
     "status": "ok",
     "timestamp": 1701052920635,
     "user": {
      "displayName": "Oyesh Singh",
      "userId": "14095812393031823613"
     },
     "user_tz": 300
    },
    "id": "4h0gTlDNELsK",
    "outputId": "0a3e7624-13ea-4db3-e4d3-778c0841634d",
    "papermill": {
     "duration": 0.053779,
     "end_time": "2023-11-28T18:49:41.163157",
     "exception": false,
     "start_time": "2023-11-28T18:49:41.109378",
     "status": "completed"
    },
    "tags": []
   },
   "outputs": [
    {
     "data": {
      "text/plain": [
       "4"
      ]
     },
     "execution_count": 21,
     "metadata": {},
     "output_type": "execute_result"
    }
   ],
   "source": [
    "ner_feature = raw_datasets[\"train\"].features[\"label\"]\n",
    "ner_feature.num_classes"
   ]
  },
  {
   "cell_type": "markdown",
   "id": "ef4bf4ea",
   "metadata": {
    "id": "nQqAKrabE5RF",
    "papermill": {
     "duration": 0.043449,
     "end_time": "2023-11-28T18:49:41.250996",
     "exception": false,
     "start_time": "2023-11-28T18:49:41.207547",
     "status": "completed"
    },
    "tags": []
   },
   "source": [
    "## Tokenization"
   ]
  },
  {
   "cell_type": "code",
   "execution_count": 22,
   "id": "cd13ddb8",
   "metadata": {
    "execution": {
     "iopub.execute_input": "2023-11-28T18:49:41.339261Z",
     "iopub.status.busy": "2023-11-28T18:49:41.338537Z",
     "iopub.status.idle": "2023-11-28T18:49:47.564150Z",
     "shell.execute_reply": "2023-11-28T18:49:47.563206Z"
    },
    "executionInfo": {
     "elapsed": 2683,
     "status": "ok",
     "timestamp": 1701052927145,
     "user": {
      "displayName": "Oyesh Singh",
      "userId": "14095812393031823613"
     },
     "user_tz": 300
    },
    "id": "DUXvTMz1EdZp",
    "outputId": "67b69803-b6bc-451e-f724-fd4a9da02d0a",
    "papermill": {
     "duration": 6.272444,
     "end_time": "2023-11-28T18:49:47.566451",
     "exception": false,
     "start_time": "2023-11-28T18:49:41.294007",
     "status": "completed"
    },
    "tags": []
   },
   "outputs": [
    {
     "data": {
      "application/vnd.jupyter.widget-view+json": {
       "model_id": "33552704c8fa45498d52196edffba276",
       "version_major": 2,
       "version_minor": 0
      },
      "text/plain": [
       "tokenizer_config.json:   0%|          | 0.00/414 [00:00<?, ?B/s]"
      ]
     },
     "metadata": {},
     "output_type": "display_data"
    },
    {
     "data": {
      "application/vnd.jupyter.widget-view+json": {
       "model_id": "e3e1552f27da4a4e9a925e1ae1d47250",
       "version_major": 2,
       "version_minor": 0
      },
      "text/plain": [
       "tokenizer.json:   0%|          | 0.00/1.35M [00:00<?, ?B/s]"
      ]
     },
     "metadata": {},
     "output_type": "display_data"
    },
    {
     "data": {
      "application/vnd.jupyter.widget-view+json": {
       "model_id": "72e851b7bafc4b3fb7e392b54fe1d937",
       "version_major": 2,
       "version_minor": 0
      },
      "text/plain": [
       "special_tokens_map.json:   0%|          | 0.00/239 [00:00<?, ?B/s]"
      ]
     },
     "metadata": {},
     "output_type": "display_data"
    }
   ],
   "source": [
    "from transformers import AutoTokenizer\n",
    "\n",
    "# model_checkpoint = \"NepBERTa/NepBERTa\"\n",
    "# model_checkpoint = \"Rajan/NepaliBERT\"\n",
    "# model_checkpoint = \"Rajan/nepbertaTorch\"\n",
    "model_checkpoint = \"Sakonii/distilbert-base-nepali\"\n",
    "# model_checkpoint = \"xlm-roberta-large\"\n",
    "# model_checkpoint = \"Sakonii/deberta-base-nepali\"\n",
    "# model_checkpoint = \"bert-base-multilingual-uncased\"\n",
    "# model_checkpoint = \"/kaggle/input/nepsa-model/model\"\n",
    "\n",
    "tokenizer = AutoTokenizer.from_pretrained(model_checkpoint)"
   ]
  },
  {
   "cell_type": "markdown",
   "id": "214f1daf",
   "metadata": {
    "id": "_feyzph1k2lA",
    "papermill": {
     "duration": 0.0431,
     "end_time": "2023-11-28T18:49:47.653929",
     "exception": false,
     "start_time": "2023-11-28T18:49:47.610829",
     "status": "completed"
    },
    "tags": []
   },
   "source": [
    "## Data Preprocessing"
   ]
  },
  {
   "cell_type": "code",
   "execution_count": 23,
   "id": "4f07bde4",
   "metadata": {
    "execution": {
     "iopub.execute_input": "2023-11-28T18:49:47.744521Z",
     "iopub.status.busy": "2023-11-28T18:49:47.743403Z",
     "iopub.status.idle": "2023-11-28T18:49:47.944128Z",
     "shell.execute_reply": "2023-11-28T18:49:47.943203Z"
    },
    "executionInfo": {
     "elapsed": 991,
     "status": "ok",
     "timestamp": 1701052929718,
     "user": {
      "displayName": "Oyesh Singh",
      "userId": "14095812393031823613"
     },
     "user_tz": 300
    },
    "id": "E3c0HPlMkJTK",
    "outputId": "aef73ffb-0bbd-4654-cbec-f9db7c5e4371",
    "papermill": {
     "duration": 0.247516,
     "end_time": "2023-11-28T18:49:47.946344",
     "exception": false,
     "start_time": "2023-11-28T18:49:47.698828",
     "status": "completed"
    },
    "tags": []
   },
   "outputs": [
    {
     "data": {
      "application/vnd.jupyter.widget-view+json": {
       "model_id": "93a6861fb7084d45ba00ec70ab710095",
       "version_major": 2,
       "version_minor": 0
      },
      "text/plain": [
       "Map:   0%|          | 0/714 [00:00<?, ? examples/s]"
      ]
     },
     "metadata": {},
     "output_type": "display_data"
    },
    {
     "data": {
      "application/vnd.jupyter.widget-view+json": {
       "model_id": "1a1cf71cd7034bc886b196880a0fb95d",
       "version_major": 2,
       "version_minor": 0
      },
      "text/plain": [
       "Map:   0%|          | 0/239 [00:00<?, ? examples/s]"
      ]
     },
     "metadata": {},
     "output_type": "display_data"
    },
    {
     "data": {
      "application/vnd.jupyter.widget-view+json": {
       "model_id": "cf7eca7af7c744dbb087f1d2569ea1a2",
       "version_major": 2,
       "version_minor": 0
      },
      "text/plain": [
       "Map:   0%|          | 0/239 [00:00<?, ? examples/s]"
      ]
     },
     "metadata": {},
     "output_type": "display_data"
    }
   ],
   "source": [
    "def preprocess_function(examples):\n",
    "    return tokenizer(examples[\"text\"], truncation=False)\n",
    "\n",
    "tokenized_train = train_data.map(preprocess_function, batched=True)\n",
    "tokenized_test = test_data.map(preprocess_function, batched=True)\n",
    "tokenized_val = valid_data.map(preprocess_function, batched=True)"
   ]
  },
  {
   "cell_type": "markdown",
   "id": "47b4e7fb",
   "metadata": {
    "id": "IGu3qmRkG2N1",
    "papermill": {
     "duration": 0.043912,
     "end_time": "2023-11-28T18:49:48.035255",
     "exception": false,
     "start_time": "2023-11-28T18:49:47.991343",
     "status": "completed"
    },
    "tags": []
   },
   "source": [
    "# Fine Tuning"
   ]
  },
  {
   "cell_type": "markdown",
   "id": "7570a559",
   "metadata": {
    "id": "BfrSd1tWG45r",
    "papermill": {
     "duration": 0.043325,
     "end_time": "2023-11-28T18:49:48.123044",
     "exception": false,
     "start_time": "2023-11-28T18:49:48.079719",
     "status": "completed"
    },
    "tags": []
   },
   "source": [
    "## Data Collation"
   ]
  },
  {
   "cell_type": "code",
   "execution_count": 24,
   "id": "fafb2501",
   "metadata": {
    "execution": {
     "iopub.execute_input": "2023-11-28T18:49:48.213054Z",
     "iopub.status.busy": "2023-11-28T18:49:48.212377Z",
     "iopub.status.idle": "2023-11-28T18:49:57.924060Z",
     "shell.execute_reply": "2023-11-28T18:49:57.923240Z"
    },
    "executionInfo": {
     "elapsed": 178,
     "status": "ok",
     "timestamp": 1701052934854,
     "user": {
      "displayName": "Oyesh Singh",
      "userId": "14095812393031823613"
     },
     "user_tz": 300
    },
    "id": "t3R7wlG_GWL5",
    "outputId": "96b2ee85-ab7b-485d-aaf0-01b57b41e00f",
    "papermill": {
     "duration": 9.7595,
     "end_time": "2023-11-28T18:49:57.926397",
     "exception": false,
     "start_time": "2023-11-28T18:49:48.166897",
     "status": "completed"
    },
    "tags": []
   },
   "outputs": [],
   "source": [
    "from transformers import DataCollatorWithPadding\n",
    "data_collator = DataCollatorWithPadding(tokenizer=tokenizer)"
   ]
  },
  {
   "cell_type": "markdown",
   "id": "b07fc2c1",
   "metadata": {
    "id": "Vdkc3LfJqBcw",
    "papermill": {
     "duration": 0.044631,
     "end_time": "2023-11-28T18:49:58.016027",
     "exception": false,
     "start_time": "2023-11-28T18:49:57.971396",
     "status": "completed"
    },
    "tags": []
   },
   "source": [
    "## Load pre-trained model"
   ]
  },
  {
   "cell_type": "code",
   "execution_count": 25,
   "id": "dd594ca0",
   "metadata": {
    "execution": {
     "iopub.execute_input": "2023-11-28T18:49:58.107391Z",
     "iopub.status.busy": "2023-11-28T18:49:58.106748Z",
     "iopub.status.idle": "2023-11-28T18:50:08.346221Z",
     "shell.execute_reply": "2023-11-28T18:50:08.345303Z"
    },
    "executionInfo": {
     "elapsed": 46373,
     "status": "ok",
     "timestamp": 1701052981347,
     "user": {
      "displayName": "Oyesh Singh",
      "userId": "14095812393031823613"
     },
     "user_tz": 300
    },
    "id": "V-WBdKWblKMw",
    "outputId": "58423a63-7c99-46be-a50b-47d4a4db6fc4",
    "papermill": {
     "duration": 10.288014,
     "end_time": "2023-11-28T18:50:08.348406",
     "exception": false,
     "start_time": "2023-11-28T18:49:58.060392",
     "status": "completed"
    },
    "tags": []
   },
   "outputs": [
    {
     "data": {
      "application/vnd.jupyter.widget-view+json": {
       "model_id": "81927b5b8b9f4a45b60aafeb507d42ee",
       "version_major": 2,
       "version_minor": 0
      },
      "text/plain": [
       "config.json:   0%|          | 0.00/559 [00:00<?, ?B/s]"
      ]
     },
     "metadata": {},
     "output_type": "display_data"
    },
    {
     "data": {
      "application/vnd.jupyter.widget-view+json": {
       "model_id": "7126fb8bfd9244efae489861c941a681",
       "version_major": 2,
       "version_minor": 0
      },
      "text/plain": [
       "model.safetensors:   0%|          | 0.00/268M [00:00<?, ?B/s]"
      ]
     },
     "metadata": {},
     "output_type": "display_data"
    },
    {
     "name": "stderr",
     "output_type": "stream",
     "text": [
      "Some weights of DistilBertForSequenceClassification were not initialized from the model checkpoint at Sakonii/distilbert-base-nepali and are newly initialized: ['pre_classifier.weight', 'pre_classifier.bias', 'classifier.weight', 'classifier.bias']\n",
      "You should probably TRAIN this model on a down-stream task to be able to use it for predictions and inference.\n"
     ]
    }
   ],
   "source": [
    "from transformers import AutoModelForSequenceClassification\n",
    "model = AutoModelForSequenceClassification.from_pretrained(\n",
    "    model_checkpoint,\n",
    "    num_labels=4,\n",
    "    from_tf=True if model_checkpoint==\"NepBERTa/NepBERTa\" else False\n",
    ")"
   ]
  },
  {
   "cell_type": "markdown",
   "id": "819a660f",
   "metadata": {
    "id": "V3iGcDJZnH7J",
    "papermill": {
     "duration": 0.044363,
     "end_time": "2023-11-28T18:50:08.438052",
     "exception": false,
     "start_time": "2023-11-28T18:50:08.393689",
     "status": "completed"
    },
    "tags": []
   },
   "source": [
    "## Setup Evaluation"
   ]
  },
  {
   "cell_type": "code",
   "execution_count": 26,
   "id": "3c6cfc2a",
   "metadata": {
    "execution": {
     "iopub.execute_input": "2023-11-28T18:50:08.528942Z",
     "iopub.status.busy": "2023-11-28T18:50:08.528580Z",
     "iopub.status.idle": "2023-11-28T18:50:08.535512Z",
     "shell.execute_reply": "2023-11-28T18:50:08.534628Z"
    },
    "executionInfo": {
     "elapsed": 147,
     "status": "ok",
     "timestamp": 1701052999835,
     "user": {
      "displayName": "Oyesh Singh",
      "userId": "14095812393031823613"
     },
     "user_tz": 300
    },
    "id": "q-69MVMlHXXP",
    "outputId": "72a36605-eb10-4d21-f8b1-3d4a18b9982c",
    "papermill": {
     "duration": 0.05495,
     "end_time": "2023-11-28T18:50:08.537523",
     "exception": false,
     "start_time": "2023-11-28T18:50:08.482573",
     "status": "completed"
    },
    "tags": []
   },
   "outputs": [],
   "source": [
    "import numpy as np\n",
    "from sklearn.metrics import classification_report\n",
    "from datasets import load_metric\n",
    "\n",
    "def compute_metrics(eval_pred):\n",
    "    logits, labels = eval_pred\n",
    "    predictions = np.argmax(logits, axis=-1)\n",
    "    \n",
    "    report = classification_report(y_true=labels, y_pred=predictions, output_dict=True)\n",
    "\n",
    "    accuracy = report['accuracy']\n",
    "    recall = report['weighted avg']['recall']\n",
    "    precision = report['weighted avg']['precision']\n",
    "    f1 = report['weighted avg']['f1-score']\n",
    "    return {\n",
    "        \"accuracy\": accuracy,\n",
    "        \"recall\": recall,\n",
    "        \"precision\": precision,\n",
    "        \"f1\": f1\n",
    "    }\n",
    "\n"
   ]
  },
  {
   "cell_type": "code",
   "execution_count": 27,
   "id": "137b3287",
   "metadata": {
    "execution": {
     "iopub.execute_input": "2023-11-28T18:50:08.628889Z",
     "iopub.status.busy": "2023-11-28T18:50:08.627861Z",
     "iopub.status.idle": "2023-11-28T18:50:08.634022Z",
     "shell.execute_reply": "2023-11-28T18:50:08.633192Z"
    },
    "executionInfo": {
     "elapsed": 5,
     "status": "ok",
     "timestamp": 1701053007417,
     "user": {
      "displayName": "Oyesh Singh",
      "userId": "14095812393031823613"
     },
     "user_tz": 300
    },
    "id": "ikGyFrkgIPhW",
    "outputId": "36b77ca1-d379-406c-d558-12e903eabedf",
    "papermill": {
     "duration": 0.053575,
     "end_time": "2023-11-28T18:50:08.635943",
     "exception": false,
     "start_time": "2023-11-28T18:50:08.582368",
     "status": "completed"
    },
    "tags": []
   },
   "outputs": [
    {
     "data": {
      "text/plain": [
       "4"
      ]
     },
     "execution_count": 27,
     "metadata": {},
     "output_type": "execute_result"
    }
   ],
   "source": [
    "model.config.num_labels"
   ]
  },
  {
   "cell_type": "markdown",
   "id": "866e8299",
   "metadata": {
    "id": "4vvXDoFGsZMB",
    "papermill": {
     "duration": 0.04433,
     "end_time": "2023-11-28T18:50:08.724904",
     "exception": false,
     "start_time": "2023-11-28T18:50:08.680574",
     "status": "completed"
    },
    "tags": []
   },
   "source": [
    "## Training"
   ]
  },
  {
   "cell_type": "code",
   "execution_count": 28,
   "id": "36434ad2",
   "metadata": {
    "execution": {
     "iopub.execute_input": "2023-11-28T18:50:08.815561Z",
     "iopub.status.busy": "2023-11-28T18:50:08.815199Z",
     "iopub.status.idle": "2023-11-28T18:50:08.819349Z",
     "shell.execute_reply": "2023-11-28T18:50:08.818501Z"
    },
    "executionInfo": {
     "elapsed": 4028,
     "status": "ok",
     "timestamp": 1701053012874,
     "user": {
      "displayName": "Oyesh Singh",
      "userId": "14095812393031823613"
     },
     "user_tz": 300
    },
    "id": "X_lupvWXIaCA",
    "outputId": "00f6a705-061e-4828-a9ef-23af9b649bb2",
    "papermill": {
     "duration": 0.052101,
     "end_time": "2023-11-28T18:50:08.821271",
     "exception": false,
     "start_time": "2023-11-28T18:50:08.769170",
     "status": "completed"
    },
    "tags": []
   },
   "outputs": [],
   "source": [
    "# from google.colab import userdata\n",
    "# from huggingface_hub import login, notebook_login\n",
    "\n",
    "# login(token=userdata.get('hugging_face'))"
   ]
  },
  {
   "cell_type": "code",
   "execution_count": 29,
   "id": "1bb0ec79",
   "metadata": {
    "execution": {
     "iopub.execute_input": "2023-11-28T18:50:08.913372Z",
     "iopub.status.busy": "2023-11-28T18:50:08.913010Z",
     "iopub.status.idle": "2023-11-28T18:50:13.629846Z",
     "shell.execute_reply": "2023-11-28T18:50:13.628975Z"
    },
    "executionInfo": {
     "elapsed": 123,
     "status": "error",
     "timestamp": 1701053033912,
     "user": {
      "displayName": "Oyesh Singh",
      "userId": "14095812393031823613"
     },
     "user_tz": 300
    },
    "id": "wiGQ-gUyIqay",
    "outputId": "f00db555-880f-4206-d01e-439f813d2110",
    "papermill": {
     "duration": 4.764849,
     "end_time": "2023-11-28T18:50:13.632213",
     "exception": false,
     "start_time": "2023-11-28T18:50:08.867364",
     "status": "completed"
    },
    "tags": []
   },
   "outputs": [],
   "source": [
    "from transformers import TrainingArguments, Trainer\n",
    "from transformers import EarlyStoppingCallback, IntervalStrategy\n",
    "\n",
    "model_name = \"nepsa\"\n",
    "\n",
    "args = TrainingArguments(\n",
    "    model_name,\n",
    "    evaluation_strategy=IntervalStrategy.STEPS,\n",
    "    eval_steps = 100,\n",
    "    save_total_limit = 2,\n",
    "    per_device_train_batch_size=2,\n",
    "    per_device_eval_batch_size=2,\n",
    "    learning_rate=2e-5,\n",
    "    num_train_epochs=6,\n",
    "    weight_decay=0.01,\n",
    "    push_to_hub=False,\n",
    "    metric_for_best_model = 'f1',\n",
    "    load_best_model_at_end=True\n",
    ")\n",
    "\n",
    "trainer = Trainer(\n",
    "    model=model,\n",
    "    args=args,\n",
    "    train_dataset=tokenized_train,\n",
    "    eval_dataset=tokenized_val,\n",
    "    data_collator=data_collator,\n",
    "    compute_metrics=compute_metrics,\n",
    "    tokenizer=tokenizer,\n",
    "    callbacks = [EarlyStoppingCallback(early_stopping_patience=2)]\n",
    ")"
   ]
  },
  {
   "cell_type": "code",
   "execution_count": 30,
   "id": "d310c661",
   "metadata": {
    "execution": {
     "iopub.execute_input": "2023-11-28T18:50:13.724298Z",
     "iopub.status.busy": "2023-11-28T18:50:13.723942Z",
     "iopub.status.idle": "2023-11-28T18:52:15.520895Z",
     "shell.execute_reply": "2023-11-28T18:52:15.520098Z"
    },
    "executionInfo": {
     "elapsed": 123,
     "status": "error",
     "timestamp": 1701053033912,
     "user": {
      "displayName": "Oyesh Singh",
      "userId": "14095812393031823613"
     },
     "user_tz": 300
    },
    "id": "wiGQ-gUyIqay",
    "outputId": "f00db555-880f-4206-d01e-439f813d2110",
    "papermill": {
     "duration": 121.84481,
     "end_time": "2023-11-28T18:52:15.522830",
     "exception": false,
     "start_time": "2023-11-28T18:50:13.678020",
     "status": "completed"
    },
    "tags": []
   },
   "outputs": [
    {
     "name": "stderr",
     "output_type": "stream",
     "text": [
      "\u001b[34m\u001b[1mwandb\u001b[0m: W&B API key is configured. Use \u001b[1m`wandb login --relogin`\u001b[0m to force relogin\n",
      "\u001b[34m\u001b[1mwandb\u001b[0m: \u001b[33mWARNING\u001b[0m If you're specifying your api key in code, ensure this code is not shared publicly.\n",
      "\u001b[34m\u001b[1mwandb\u001b[0m: \u001b[33mWARNING\u001b[0m Consider setting the WANDB_API_KEY environment variable, or running `wandb login` from the command line.\n",
      "\u001b[34m\u001b[1mwandb\u001b[0m: Appending key for api.wandb.ai to your netrc file: /root/.netrc\n",
      "\u001b[34m\u001b[1mwandb\u001b[0m: Currently logged in as: \u001b[33moyashi163\u001b[0m. Use \u001b[1m`wandb login --relogin`\u001b[0m to force relogin\n",
      "\u001b[34m\u001b[1mwandb\u001b[0m: Tracking run with wandb version 0.16.0\n",
      "\u001b[34m\u001b[1mwandb\u001b[0m: Run data is saved locally in \u001b[35m\u001b[1m/kaggle/working/wandb/run-20231128_185016-f42cw4hp\u001b[0m\n",
      "\u001b[34m\u001b[1mwandb\u001b[0m: Run \u001b[1m`wandb offline`\u001b[0m to turn off syncing.\n",
      "\u001b[34m\u001b[1mwandb\u001b[0m: Syncing run \u001b[33musual-yogurt-24\u001b[0m\n",
      "\u001b[34m\u001b[1mwandb\u001b[0m: ⭐️ View project at \u001b[34m\u001b[4mhttps://wandb.ai/oyashi163/huggingface\u001b[0m\n",
      "\u001b[34m\u001b[1mwandb\u001b[0m: 🚀 View run at \u001b[34m\u001b[4mhttps://wandb.ai/oyashi163/huggingface/runs/f42cw4hp\u001b[0m\n",
      "You're using a XLMRobertaTokenizerFast tokenizer. Please note that with a fast tokenizer, using the `__call__` method is faster than using a method to encode the text followed by a call to the `pad` method to get a padded encoding.\n"
     ]
    },
    {
     "data": {
      "text/html": [
       "\n",
       "    <div>\n",
       "      \n",
       "      <progress value='2142' max='2142' style='width:300px; height:20px; vertical-align: middle;'></progress>\n",
       "      [2142/2142 01:26, Epoch 6/6]\n",
       "    </div>\n",
       "    <table border=\"1\" class=\"dataframe\">\n",
       "  <thead>\n",
       " <tr style=\"text-align: left;\">\n",
       "      <th>Step</th>\n",
       "      <th>Training Loss</th>\n",
       "      <th>Validation Loss</th>\n",
       "      <th>Accuracy</th>\n",
       "      <th>Recall</th>\n",
       "      <th>Precision</th>\n",
       "      <th>F1</th>\n",
       "    </tr>\n",
       "  </thead>\n",
       "  <tbody>\n",
       "    <tr>\n",
       "      <td>100</td>\n",
       "      <td>No log</td>\n",
       "      <td>1.312885</td>\n",
       "      <td>0.351464</td>\n",
       "      <td>0.351464</td>\n",
       "      <td>0.280521</td>\n",
       "      <td>0.273618</td>\n",
       "    </tr>\n",
       "    <tr>\n",
       "      <td>200</td>\n",
       "      <td>No log</td>\n",
       "      <td>1.235498</td>\n",
       "      <td>0.422594</td>\n",
       "      <td>0.422594</td>\n",
       "      <td>0.544112</td>\n",
       "      <td>0.334263</td>\n",
       "    </tr>\n",
       "    <tr>\n",
       "      <td>300</td>\n",
       "      <td>No log</td>\n",
       "      <td>1.134891</td>\n",
       "      <td>0.485356</td>\n",
       "      <td>0.485356</td>\n",
       "      <td>0.588691</td>\n",
       "      <td>0.457831</td>\n",
       "    </tr>\n",
       "    <tr>\n",
       "      <td>400</td>\n",
       "      <td>No log</td>\n",
       "      <td>1.036294</td>\n",
       "      <td>0.564854</td>\n",
       "      <td>0.564854</td>\n",
       "      <td>0.582020</td>\n",
       "      <td>0.565628</td>\n",
       "    </tr>\n",
       "    <tr>\n",
       "      <td>500</td>\n",
       "      <td>1.153900</td>\n",
       "      <td>0.999386</td>\n",
       "      <td>0.581590</td>\n",
       "      <td>0.581590</td>\n",
       "      <td>0.582514</td>\n",
       "      <td>0.578021</td>\n",
       "    </tr>\n",
       "    <tr>\n",
       "      <td>600</td>\n",
       "      <td>1.153900</td>\n",
       "      <td>0.990986</td>\n",
       "      <td>0.602510</td>\n",
       "      <td>0.602510</td>\n",
       "      <td>0.603060</td>\n",
       "      <td>0.597647</td>\n",
       "    </tr>\n",
       "    <tr>\n",
       "      <td>700</td>\n",
       "      <td>1.153900</td>\n",
       "      <td>1.108117</td>\n",
       "      <td>0.598326</td>\n",
       "      <td>0.598326</td>\n",
       "      <td>0.644136</td>\n",
       "      <td>0.571993</td>\n",
       "    </tr>\n",
       "    <tr>\n",
       "      <td>800</td>\n",
       "      <td>1.153900</td>\n",
       "      <td>0.945812</td>\n",
       "      <td>0.635983</td>\n",
       "      <td>0.635983</td>\n",
       "      <td>0.632019</td>\n",
       "      <td>0.630802</td>\n",
       "    </tr>\n",
       "    <tr>\n",
       "      <td>900</td>\n",
       "      <td>1.153900</td>\n",
       "      <td>1.150024</td>\n",
       "      <td>0.577406</td>\n",
       "      <td>0.577406</td>\n",
       "      <td>0.576098</td>\n",
       "      <td>0.571937</td>\n",
       "    </tr>\n",
       "    <tr>\n",
       "      <td>1000</td>\n",
       "      <td>0.738000</td>\n",
       "      <td>1.269696</td>\n",
       "      <td>0.606695</td>\n",
       "      <td>0.606695</td>\n",
       "      <td>0.624631</td>\n",
       "      <td>0.603008</td>\n",
       "    </tr>\n",
       "    <tr>\n",
       "      <td>1100</td>\n",
       "      <td>0.738000</td>\n",
       "      <td>1.348995</td>\n",
       "      <td>0.615063</td>\n",
       "      <td>0.615063</td>\n",
       "      <td>0.622151</td>\n",
       "      <td>0.614032</td>\n",
       "    </tr>\n",
       "    <tr>\n",
       "      <td>1200</td>\n",
       "      <td>0.738000</td>\n",
       "      <td>1.451588</td>\n",
       "      <td>0.606695</td>\n",
       "      <td>0.606695</td>\n",
       "      <td>0.630807</td>\n",
       "      <td>0.609182</td>\n",
       "    </tr>\n",
       "    <tr>\n",
       "      <td>1300</td>\n",
       "      <td>0.738000</td>\n",
       "      <td>1.507943</td>\n",
       "      <td>0.615063</td>\n",
       "      <td>0.615063</td>\n",
       "      <td>0.623770</td>\n",
       "      <td>0.612205</td>\n",
       "    </tr>\n",
       "    <tr>\n",
       "      <td>1400</td>\n",
       "      <td>0.738000</td>\n",
       "      <td>1.593020</td>\n",
       "      <td>0.606695</td>\n",
       "      <td>0.606695</td>\n",
       "      <td>0.614097</td>\n",
       "      <td>0.607803</td>\n",
       "    </tr>\n",
       "    <tr>\n",
       "      <td>1500</td>\n",
       "      <td>0.499600</td>\n",
       "      <td>1.665225</td>\n",
       "      <td>0.598326</td>\n",
       "      <td>0.598326</td>\n",
       "      <td>0.625636</td>\n",
       "      <td>0.601751</td>\n",
       "    </tr>\n",
       "    <tr>\n",
       "      <td>1600</td>\n",
       "      <td>0.499600</td>\n",
       "      <td>1.690671</td>\n",
       "      <td>0.615063</td>\n",
       "      <td>0.615063</td>\n",
       "      <td>0.634244</td>\n",
       "      <td>0.619552</td>\n",
       "    </tr>\n",
       "    <tr>\n",
       "      <td>1700</td>\n",
       "      <td>0.499600</td>\n",
       "      <td>1.718066</td>\n",
       "      <td>0.606695</td>\n",
       "      <td>0.606695</td>\n",
       "      <td>0.617061</td>\n",
       "      <td>0.609379</td>\n",
       "    </tr>\n",
       "    <tr>\n",
       "      <td>1800</td>\n",
       "      <td>0.499600</td>\n",
       "      <td>1.782412</td>\n",
       "      <td>0.619247</td>\n",
       "      <td>0.619247</td>\n",
       "      <td>0.641243</td>\n",
       "      <td>0.621938</td>\n",
       "    </tr>\n",
       "    <tr>\n",
       "      <td>1900</td>\n",
       "      <td>0.499600</td>\n",
       "      <td>1.802775</td>\n",
       "      <td>0.619247</td>\n",
       "      <td>0.619247</td>\n",
       "      <td>0.634960</td>\n",
       "      <td>0.622526</td>\n",
       "    </tr>\n",
       "    <tr>\n",
       "      <td>2000</td>\n",
       "      <td>0.410500</td>\n",
       "      <td>1.812408</td>\n",
       "      <td>0.602510</td>\n",
       "      <td>0.602510</td>\n",
       "      <td>0.617596</td>\n",
       "      <td>0.605874</td>\n",
       "    </tr>\n",
       "    <tr>\n",
       "      <td>2100</td>\n",
       "      <td>0.410500</td>\n",
       "      <td>1.829879</td>\n",
       "      <td>0.598326</td>\n",
       "      <td>0.598326</td>\n",
       "      <td>0.617924</td>\n",
       "      <td>0.601957</td>\n",
       "    </tr>\n",
       "  </tbody>\n",
       "</table><p>"
      ],
      "text/plain": [
       "<IPython.core.display.HTML object>"
      ]
     },
     "metadata": {},
     "output_type": "display_data"
    },
    {
     "data": {
      "text/plain": [
       "TrainOutput(global_step=2142, training_loss=0.6809723655494099, metrics={'train_runtime': 119.0452, 'train_samples_per_second': 35.986, 'train_steps_per_second': 17.993, 'total_flos': 41809444068672.0, 'train_loss': 0.6809723655494099, 'epoch': 6.0})"
      ]
     },
     "execution_count": 30,
     "metadata": {},
     "output_type": "execute_result"
    }
   ],
   "source": [
    "from kaggle_secrets import UserSecretsClient\n",
    "import wandb\n",
    "\n",
    "user_secrets = UserSecretsClient()\n",
    "wandb_secret = user_secrets.get_secret(\"wandb\")\n",
    "wandb.login(key=wandb_secret)\n",
    "\n",
    "trainer.train()"
   ]
  },
  {
   "cell_type": "code",
   "execution_count": 31,
   "id": "feeb1ac5",
   "metadata": {
    "execution": {
     "iopub.execute_input": "2023-11-28T18:52:15.617064Z",
     "iopub.status.busy": "2023-11-28T18:52:15.616721Z",
     "iopub.status.idle": "2023-11-28T18:52:16.446195Z",
     "shell.execute_reply": "2023-11-28T18:52:16.445296Z"
    },
    "executionInfo": {
     "elapsed": 3051,
     "status": "ok",
     "timestamp": 1701043333336,
     "user": {
      "displayName": "Merishna Suwal",
      "userId": "00324140771498152491"
     },
     "user_tz": 300
    },
    "id": "K3Wby-ayI7nk",
    "outputId": "8f362171-fda9-41eb-da45-230ca21bd115",
    "papermill": {
     "duration": 0.878791,
     "end_time": "2023-11-28T18:52:16.448406",
     "exception": false,
     "start_time": "2023-11-28T18:52:15.569615",
     "status": "completed"
    },
    "tags": []
   },
   "outputs": [
    {
     "data": {
      "text/html": [],
      "text/plain": [
       "<IPython.core.display.HTML object>"
      ]
     },
     "metadata": {},
     "output_type": "display_data"
    },
    {
     "data": {
      "text/plain": [
       "{'eval_loss': 1.8124080896377563,\n",
       " 'eval_accuracy': 0.602510460251046,\n",
       " 'eval_recall': 0.602510460251046,\n",
       " 'eval_precision': 0.6175961341067085,\n",
       " 'eval_f1': 0.6058744850376651,\n",
       " 'eval_runtime': 0.8183,\n",
       " 'eval_samples_per_second': 292.069,\n",
       " 'eval_steps_per_second': 146.645,\n",
       " 'epoch': 6.0}"
      ]
     },
     "execution_count": 31,
     "metadata": {},
     "output_type": "execute_result"
    }
   ],
   "source": [
    "trainer.evaluate()"
   ]
  },
  {
   "cell_type": "markdown",
   "id": "15eb2aca",
   "metadata": {
    "id": "edGfnEMhBKrq",
    "papermill": {
     "duration": 0.046468,
     "end_time": "2023-11-28T18:52:16.543874",
     "exception": false,
     "start_time": "2023-11-28T18:52:16.497406",
     "status": "completed"
    },
    "tags": []
   },
   "source": [
    "## Save the model"
   ]
  },
  {
   "cell_type": "code",
   "execution_count": 32,
   "id": "b11ea63c",
   "metadata": {
    "execution": {
     "iopub.execute_input": "2023-11-28T18:52:16.638256Z",
     "iopub.status.busy": "2023-11-28T18:52:16.637895Z",
     "iopub.status.idle": "2023-11-28T18:52:17.230104Z",
     "shell.execute_reply": "2023-11-28T18:52:17.229300Z"
    },
    "executionInfo": {
     "elapsed": 12306,
     "status": "ok",
     "timestamp": 1701043345619,
     "user": {
      "displayName": "Merishna Suwal",
      "userId": "00324140771498152491"
     },
     "user_tz": 300
    },
    "id": "94bAP6D_ud5e",
    "outputId": "054df1a1-b32b-4e13-834c-e440c9dbfd25",
    "papermill": {
     "duration": 0.642409,
     "end_time": "2023-11-28T18:52:17.232462",
     "exception": false,
     "start_time": "2023-11-28T18:52:16.590053",
     "status": "completed"
    },
    "tags": []
   },
   "outputs": [],
   "source": [
    "saved_model_path='nepsa'\n",
    "trainer.save_model(saved_model_path)"
   ]
  },
  {
   "cell_type": "markdown",
   "id": "77ae79dc",
   "metadata": {
    "id": "zOzIt3w0sbTi",
    "papermill": {
     "duration": 0.048629,
     "end_time": "2023-11-28T18:52:17.329240",
     "exception": false,
     "start_time": "2023-11-28T18:52:17.280611",
     "status": "completed"
    },
    "tags": []
   },
   "source": [
    "## Evaluation"
   ]
  },
  {
   "cell_type": "code",
   "execution_count": 33,
   "id": "b32e3b99",
   "metadata": {
    "execution": {
     "iopub.execute_input": "2023-11-28T18:52:17.424215Z",
     "iopub.status.busy": "2023-11-28T18:52:17.423236Z",
     "iopub.status.idle": "2023-11-28T18:52:18.420185Z",
     "shell.execute_reply": "2023-11-28T18:52:18.419312Z"
    },
    "executionInfo": {
     "elapsed": 3781,
     "status": "ok",
     "timestamp": 1701043349365,
     "user": {
      "displayName": "Merishna Suwal",
      "userId": "00324140771498152491"
     },
     "user_tz": 300
    },
    "id": "lpnKhs83sc0H",
    "outputId": "140ec1fa-15f4-4195-a0f7-e4350e00bc7d",
    "papermill": {
     "duration": 1.046759,
     "end_time": "2023-11-28T18:52:18.422337",
     "exception": false,
     "start_time": "2023-11-28T18:52:17.375578",
     "status": "completed"
    },
    "tags": []
   },
   "outputs": [],
   "source": [
    "predictions = trainer.predict(tokenized_test)"
   ]
  },
  {
   "cell_type": "code",
   "execution_count": 34,
   "id": "ce57ed1d",
   "metadata": {
    "execution": {
     "iopub.execute_input": "2023-11-28T18:52:18.518460Z",
     "iopub.status.busy": "2023-11-28T18:52:18.518084Z",
     "iopub.status.idle": "2023-11-28T18:52:18.530816Z",
     "shell.execute_reply": "2023-11-28T18:52:18.529884Z"
    },
    "papermill": {
     "duration": 0.062377,
     "end_time": "2023-11-28T18:52:18.532696",
     "exception": false,
     "start_time": "2023-11-28T18:52:18.470319",
     "status": "completed"
    },
    "tags": []
   },
   "outputs": [],
   "source": [
    "import pandas as pd\n",
    "final_predictions = np.argmax(predictions.predictions, axis=1)\n",
    "\n",
    "label_map = {\n",
    "    0: 'GENERAL POSITIVE',\n",
    "    1: 'GENERAL NEGATIVE',\n",
    "    2: 'PROFANITY',\n",
    "    3: 'VIOLENCE'\n",
    "}\n",
    "\n",
    "prediction_data = []\n",
    "for text, gt, pt in zip(tokenized_test['text'], tokenized_test['label'], final_predictions):\n",
    "    prediction_data.append([text, gt, pt])\n",
    "    \n",
    "prediction_df = pd.DataFrame(prediction_data, columns=['text', 'ground_truth', 'predictions'])"
   ]
  },
  {
   "cell_type": "code",
   "execution_count": 35,
   "id": "b4527169",
   "metadata": {
    "execution": {
     "iopub.execute_input": "2023-11-28T18:52:18.627379Z",
     "iopub.status.busy": "2023-11-28T18:52:18.626719Z",
     "iopub.status.idle": "2023-11-28T18:52:18.630741Z",
     "shell.execute_reply": "2023-11-28T18:52:18.629891Z"
    },
    "papermill": {
     "duration": 0.053589,
     "end_time": "2023-11-28T18:52:18.632650",
     "exception": false,
     "start_time": "2023-11-28T18:52:18.579061",
     "status": "completed"
    },
    "tags": []
   },
   "outputs": [],
   "source": [
    "# prediction_df[prediction_df['predictions']==0]"
   ]
  },
  {
   "cell_type": "code",
   "execution_count": 36,
   "id": "34bbf580",
   "metadata": {
    "execution": {
     "iopub.execute_input": "2023-11-28T18:52:18.726776Z",
     "iopub.status.busy": "2023-11-28T18:52:18.726426Z",
     "iopub.status.idle": "2023-11-28T18:52:18.744060Z",
     "shell.execute_reply": "2023-11-28T18:52:18.743154Z"
    },
    "papermill": {
     "duration": 0.066975,
     "end_time": "2023-11-28T18:52:18.746087",
     "exception": false,
     "start_time": "2023-11-28T18:52:18.679112",
     "status": "completed"
    },
    "tags": []
   },
   "outputs": [
    {
     "name": "stdout",
     "output_type": "stream",
     "text": [
      "              precision    recall  f1-score   support\n",
      "\n",
      "           0       0.89      0.62      0.73        39\n",
      "           1       0.58      0.69      0.63        61\n",
      "           2       0.70      0.67      0.68        85\n",
      "           3       0.59      0.63      0.61        54\n",
      "\n",
      "    accuracy                           0.66       239\n",
      "   macro avg       0.69      0.65      0.66       239\n",
      "weighted avg       0.67      0.66      0.66       239\n",
      "\n"
     ]
    }
   ],
   "source": [
    "from sklearn.metrics import classification_report\n",
    "report = classification_report(y_true=prediction_df['ground_truth'], y_pred=prediction_df['predictions'])\n",
    "print(report)"
   ]
  },
  {
   "cell_type": "code",
   "execution_count": 37,
   "id": "ecbc3619",
   "metadata": {
    "execution": {
     "iopub.execute_input": "2023-11-28T18:52:18.839520Z",
     "iopub.status.busy": "2023-11-28T18:52:18.839185Z",
     "iopub.status.idle": "2023-11-28T18:52:18.866903Z",
     "shell.execute_reply": "2023-11-28T18:52:18.865807Z"
    },
    "executionInfo": {
     "elapsed": 38,
     "status": "ok",
     "timestamp": 1701043349366,
     "user": {
      "displayName": "Merishna Suwal",
      "userId": "00324140771498152491"
     },
     "user_tz": 300
    },
    "id": "fnQSJrrZC-Fa",
    "outputId": "494fccbd-7957-4d49-e815-4f3cbc45b997",
    "papermill": {
     "duration": 0.076854,
     "end_time": "2023-11-28T18:52:18.868944",
     "exception": false,
     "start_time": "2023-11-28T18:52:18.792090",
     "status": "completed"
    },
    "tags": []
   },
   "outputs": [
    {
     "name": "stdout",
     "output_type": "stream",
     "text": [
      "Metric          Score\n",
      "--------------  -------\n",
      "test_accuracy   65.69%\n",
      "test_recall     65.69%\n",
      "test_precision  67.36%\n",
      "test_f1         65.98%\n"
     ]
    }
   ],
   "source": [
    "from tabulate import tabulate\n",
    "\n",
    "metrics = ['precision', 'recall', 'f1', 'accuracy']\n",
    "prediction_results = []\n",
    "\n",
    "for key, val in predictions.metrics.items():\n",
    "    if any(item in key for item in metrics):\n",
    "        prediction_results.append([key, str(round(val,4)*100)+'%'])\n",
    "\n",
    "print(tabulate(prediction_results, headers=['Metric', 'Score']))"
   ]
  },
  {
   "cell_type": "markdown",
   "id": "408b1073",
   "metadata": {
    "id": "3Wi7Cw03qZd_",
    "papermill": {
     "duration": 0.050666,
     "end_time": "2023-11-28T18:52:18.966711",
     "exception": false,
     "start_time": "2023-11-28T18:52:18.916045",
     "status": "completed"
    },
    "tags": []
   },
   "source": [
    "## Inference"
   ]
  },
  {
   "cell_type": "code",
   "execution_count": 38,
   "id": "eaaf5e5e",
   "metadata": {
    "execution": {
     "iopub.execute_input": "2023-11-28T18:52:19.612769Z",
     "iopub.status.busy": "2023-11-28T18:52:19.611680Z",
     "iopub.status.idle": "2023-11-28T18:52:22.058005Z",
     "shell.execute_reply": "2023-11-28T18:52:22.057178Z"
    },
    "executionInfo": {
     "elapsed": 23543,
     "status": "ok",
     "timestamp": 1701043548042,
     "user": {
      "displayName": "Merishna Suwal",
      "userId": "00324140771498152491"
     },
     "user_tz": 300
    },
    "id": "C3paUmtqqaar",
    "outputId": "b4c1b1d3-87d6-4e8d-fd23-2f92796b9ca3",
    "papermill": {
     "duration": 2.541254,
     "end_time": "2023-11-28T18:52:22.060335",
     "exception": false,
     "start_time": "2023-11-28T18:52:19.519081",
     "status": "completed"
    },
    "tags": []
   },
   "outputs": [],
   "source": [
    "from transformers import pipeline\n",
    "\n",
    "text_classifier = pipeline(\"text-classification\", model=saved_model_path)"
   ]
  },
  {
   "cell_type": "code",
   "execution_count": 39,
   "id": "498845c5",
   "metadata": {
    "execution": {
     "iopub.execute_input": "2023-11-28T18:52:22.156140Z",
     "iopub.status.busy": "2023-11-28T18:52:22.155784Z",
     "iopub.status.idle": "2023-11-28T18:52:22.456687Z",
     "shell.execute_reply": "2023-11-28T18:52:22.455840Z"
    },
    "executionInfo": {
     "elapsed": 393,
     "status": "ok",
     "timestamp": 1701044582273,
     "user": {
      "displayName": "Merishna Suwal",
      "userId": "00324140771498152491"
     },
     "user_tz": 300
    },
    "id": "ww9-NobDGjv-",
    "outputId": "561947d1-82d8-437f-b032-71f7a6673230",
    "papermill": {
     "duration": 0.351259,
     "end_time": "2023-11-28T18:52:22.459075",
     "exception": false,
     "start_time": "2023-11-28T18:52:22.107816",
     "status": "completed"
    },
    "tags": []
   },
   "outputs": [],
   "source": [
    "inference_sentences = [\"वा जैनु जि तपाइलाइ धन्यबाद छ गगन्या चोर लाई मुख भरी जबाब दिएको मा\",\n",
    "                       \"ओली दलाल मुर्दाबाद\",\n",
    "                       \"यो गोविन्दे लाई देश निकाला गर्नु पर्छ\",\n",
    "                       \"यो मुला गोबिन्द ठिक छैन\",\n",
    "                       \"यो पुण्य गौतम जड्या हो जस्तो कस कस लाई लाग्छ ।\",\n",
    "                      \"तपाईं कुवा मा दुबेर मरे हुन्छ ।\",\n",
    "                      \"अनुहार हेर्दा ठमेल को भालू हो ।\"]\n",
    "\n",
    "results = text_classifier(inference_sentences)\n"
   ]
  },
  {
   "cell_type": "code",
   "execution_count": 40,
   "id": "875e2a75",
   "metadata": {
    "execution": {
     "iopub.execute_input": "2023-11-28T18:52:22.554945Z",
     "iopub.status.busy": "2023-11-28T18:52:22.554541Z",
     "iopub.status.idle": "2023-11-28T18:52:22.563314Z",
     "shell.execute_reply": "2023-11-28T18:52:22.562316Z"
    },
    "executionInfo": {
     "elapsed": 13,
     "status": "ok",
     "timestamp": 1701044582274,
     "user": {
      "displayName": "Merishna Suwal",
      "userId": "00324140771498152491"
     },
     "user_tz": 300
    },
    "id": "oeFz1A4Fw_Dr",
    "outputId": "dba4e387-865a-4bde-ad91-aec966c9622d",
    "papermill": {
     "duration": 0.058322,
     "end_time": "2023-11-28T18:52:22.565147",
     "exception": false,
     "start_time": "2023-11-28T18:52:22.506825",
     "status": "completed"
    },
    "tags": []
   },
   "outputs": [
    {
     "name": "stdout",
     "output_type": "stream",
     "text": [
      "| Sentences                                                    |   Labels | Remarks          |\n",
      "|--------------------------------------------------------------+----------+------------------|\n",
      "| वा जैनु जि तपाइलाइ धन्यबाद छ गगन्या चोर लाई मुख भरी जबाब दिएको मा |        1 | GENERAL NEGATIVE |\n",
      "| ओली दलाल मुर्दाबाद                                             |        1 | GENERAL NEGATIVE |\n",
      "| यो गोविन्दे लाई देश निकाला गर्नु पर्छ                              |        1 | GENERAL NEGATIVE |\n",
      "| यो मुला गोबिन्द ठिक छैन                                         |        2 | PROFANITY        |\n",
      "| यो पुण्य गौतम जड्या हो जस्तो कस कस लाई लाग्छ ।                    |        2 | PROFANITY        |\n",
      "| तपाईं कुवा मा दुबेर मरे हुन्छ ।                                     |        3 | VIOLENCE         |\n",
      "| अनुहार हेर्दा ठमेल को भालू हो ।                                   |        2 | PROFANITY        |\n"
     ]
    }
   ],
   "source": [
    "label_map = {\n",
    "    0: 'GENERAL POSITIVE',\n",
    "    1: 'GENERAL NEGATIVE',\n",
    "    2: 'PROFANITY',\n",
    "    3: 'VIOLENCE'\n",
    "}\n",
    "\n",
    "prediction_results = []\n",
    "for sent, result in zip(inference_sentences, results):\n",
    "    pred = result['label'].split('_')[1]\n",
    "    prediction_results.append([sent, pred, label_map[int(pred)]])\n",
    "\n",
    "print(tabulate(prediction_results, headers=['Sentences', 'Labels', 'Remarks'], tablefmt='orgtbl'))\n"
   ]
  },
  {
   "cell_type": "markdown",
   "id": "eadfd27f",
   "metadata": {
    "papermill": {
     "duration": 0.045965,
     "end_time": "2023-11-28T18:52:22.657796",
     "exception": false,
     "start_time": "2023-11-28T18:52:22.611831",
     "status": "completed"
    },
    "tags": []
   },
   "source": [
    "## Conclusion\n",
    "\n",
    "### Sakonii/distilbert-base-nepali - epoch - 6\n",
    "\n",
    "\n",
    "                  precision    recall  f1-score   support\n",
    "\n",
    "               0       0.87      0.67      0.75        39\n",
    "               1       0.56      0.70      0.62        61\n",
    "               2       0.71      0.69      0.70        85\n",
    "               3       0.61      0.56      0.58        54\n",
    "\n",
    "        accuracy                           0.66       239\n",
    "       macro avg       0.69      0.66      0.67       239\n",
    "    weighted avg       0.68      0.66      0.66       239\n",
    "\n",
    "\n",
    "\n",
    "### xlm-roberta-large - epoch 6\n",
    "\n",
    "                    precision    recall  f1-score   support\n",
    "\n",
    "               0       0.00      0.00      0.00        39\n",
    "               1       0.00      0.00      0.00        61\n",
    "               2       0.36      1.00      0.52        85\n",
    "               3       0.00      0.00      0.00        54\n",
    "\n",
    "        accuracy                           0.36       239\n",
    "       macro avg       0.09      0.25      0.13       239\n",
    "    weighted avg       0.13      0.36      0.19       239\n",
    "\n",
    "### Rajan/NepaliBERT\n",
    "\n",
    "                  precision    recall  f1-score   support\n",
    "\n",
    "               0       0.64      0.64      0.64        39\n",
    "               1       0.44      0.51      0.47        61\n",
    "               2       0.65      0.52      0.58        85\n",
    "               3       0.61      0.70      0.66        54\n",
    "\n",
    "        accuracy                           0.58       239\n",
    "       macro avg       0.59      0.59      0.59       239\n",
    "    weighted avg       0.59      0.58      0.58       239\n",
    "    \n",
    "### bert-base-multilingual-uncased - epoch - 6\n",
    "        \n",
    "                  precision    recall  f1-score   support\n",
    "\n",
    "               0       0.74      0.64      0.68        39\n",
    "               1       0.48      0.52      0.50        61\n",
    "               2       0.76      0.67      0.71        85\n",
    "               3       0.59      0.69      0.63        54\n",
    "\n",
    "        accuracy                           0.63       239\n",
    "       macro avg       0.64      0.63      0.63       239\n",
    "    weighted avg       0.64      0.63      0.64       239\n",
    "    \n",
    "    \n",
    "### Sakonii/deberta-base-nepali - epoch - 6\n",
    "\n",
    "                  precision    recall  f1-score   support\n",
    "\n",
    "               0       0.83      0.64      0.72        39\n",
    "               1       0.56      0.59      0.58        61\n",
    "               2       0.69      0.58      0.63        85\n",
    "               3       0.54      0.74      0.62        54\n",
    "\n",
    "        accuracy                           0.63       239\n",
    "       macro avg       0.66      0.64      0.64       239\n",
    "    weighted avg       0.65      0.63      0.63       239\n",
    "    \n",
    "\n"
   ]
  },
  {
   "cell_type": "code",
   "execution_count": null,
   "id": "75d9cc1b",
   "metadata": {
    "papermill": {
     "duration": 0.046738,
     "end_time": "2023-11-28T18:52:22.751124",
     "exception": false,
     "start_time": "2023-11-28T18:52:22.704386",
     "status": "completed"
    },
    "tags": []
   },
   "outputs": [],
   "source": []
  }
 ],
 "metadata": {
  "accelerator": "GPU",
  "colab": {
   "gpuType": "T4",
   "provenance": []
  },
  "kaggle": {
   "accelerator": "gpu",
   "dataSources": [
    {
     "datasetId": 4070644,
     "sourceId": 7068905,
     "sourceType": "datasetVersion"
    }
   ],
   "dockerImageVersionId": 30588,
   "isGpuEnabled": true,
   "isInternetEnabled": true,
   "language": "python",
   "sourceType": "notebook"
  },
  "kernelspec": {
   "display_name": "Python 3",
   "language": "python",
   "name": "python3"
  },
  "language_info": {
   "codemirror_mode": {
    "name": "ipython",
    "version": 3
   },
   "file_extension": ".py",
   "mimetype": "text/x-python",
   "name": "python",
   "nbconvert_exporter": "python",
   "pygments_lexer": "ipython3",
   "version": "3.10.12"
  },
  "papermill": {
   "default_parameters": {},
   "duration": 260.164303,
   "end_time": "2023-11-28T18:52:25.623150",
   "environment_variables": {},
   "exception": null,
   "input_path": "__notebook__.ipynb",
   "output_path": "__notebook__.ipynb",
   "parameters": {},
   "start_time": "2023-11-28T18:48:05.458847",
   "version": "2.4.0"
  },
  "widgets": {
   "application/vnd.jupyter.widget-state+json": {
    "state": {
     "004fb5f0b6dd4a1096f21709368e14df": {
      "model_module": "@jupyter-widgets/base",
      "model_module_version": "1.2.0",
      "model_name": "LayoutModel",
      "state": {
       "_model_module": "@jupyter-widgets/base",
       "_model_module_version": "1.2.0",
       "_model_name": "LayoutModel",
       "_view_count": null,
       "_view_module": "@jupyter-widgets/base",
       "_view_module_version": "1.2.0",
       "_view_name": "LayoutView",
       "align_content": null,
       "align_items": null,
       "align_self": null,
       "border": null,
       "bottom": null,
       "display": null,
       "flex": null,
       "flex_flow": null,
       "grid_area": null,
       "grid_auto_columns": null,
       "grid_auto_flow": null,
       "grid_auto_rows": null,
       "grid_column": null,
       "grid_gap": null,
       "grid_row": null,
       "grid_template_areas": null,
       "grid_template_columns": null,
       "grid_template_rows": null,
       "height": null,
       "justify_content": null,
       "justify_items": null,
       "left": null,
       "margin": null,
       "max_height": null,
       "max_width": null,
       "min_height": null,
       "min_width": null,
       "object_fit": null,
       "object_position": null,
       "order": null,
       "overflow": null,
       "overflow_x": null,
       "overflow_y": null,
       "padding": null,
       "right": null,
       "top": null,
       "visibility": null,
       "width": null
      }
     },
     "033e91ced287497290aeeab329b599c5": {
      "model_module": "@jupyter-widgets/controls",
      "model_module_version": "1.5.0",
      "model_name": "HBoxModel",
      "state": {
       "_dom_classes": [],
       "_model_module": "@jupyter-widgets/controls",
       "_model_module_version": "1.5.0",
       "_model_name": "HBoxModel",
       "_view_count": null,
       "_view_module": "@jupyter-widgets/controls",
       "_view_module_version": "1.5.0",
       "_view_name": "HBoxView",
       "box_style": "",
       "children": [
        "IPY_MODEL_0708aceb79b04eaf96efc9abcffdcb61",
        "IPY_MODEL_a2ceb758364b4d579fd73b13cacbaca3",
        "IPY_MODEL_ff50f38140c34d9da6398c36d7045e39"
       ],
       "layout": "IPY_MODEL_3219c39208384a0f8014c453331d49a3"
      }
     },
     "0397c42bea2d4e5b8007d528a0ee99de": {
      "model_module": "@jupyter-widgets/base",
      "model_module_version": "1.2.0",
      "model_name": "LayoutModel",
      "state": {
       "_model_module": "@jupyter-widgets/base",
       "_model_module_version": "1.2.0",
       "_model_name": "LayoutModel",
       "_view_count": null,
       "_view_module": "@jupyter-widgets/base",
       "_view_module_version": "1.2.0",
       "_view_name": "LayoutView",
       "align_content": null,
       "align_items": null,
       "align_self": null,
       "border": null,
       "bottom": null,
       "display": null,
       "flex": null,
       "flex_flow": null,
       "grid_area": null,
       "grid_auto_columns": null,
       "grid_auto_flow": null,
       "grid_auto_rows": null,
       "grid_column": null,
       "grid_gap": null,
       "grid_row": null,
       "grid_template_areas": null,
       "grid_template_columns": null,
       "grid_template_rows": null,
       "height": null,
       "justify_content": null,
       "justify_items": null,
       "left": null,
       "margin": null,
       "max_height": null,
       "max_width": null,
       "min_height": null,
       "min_width": null,
       "object_fit": null,
       "object_position": null,
       "order": null,
       "overflow": null,
       "overflow_x": null,
       "overflow_y": null,
       "padding": null,
       "right": null,
       "top": null,
       "visibility": null,
       "width": null
      }
     },
     "055be09b0f8047169e2363e35ee1c678": {
      "model_module": "@jupyter-widgets/controls",
      "model_module_version": "1.5.0",
      "model_name": "HTMLModel",
      "state": {
       "_dom_classes": [],
       "_model_module": "@jupyter-widgets/controls",
       "_model_module_version": "1.5.0",
       "_model_name": "HTMLModel",
       "_view_count": null,
       "_view_module": "@jupyter-widgets/controls",
       "_view_module_version": "1.5.0",
       "_view_name": "HTMLView",
       "description": "",
       "description_tooltip": null,
       "layout": "IPY_MODEL_391fad0d156d49c1a468f597c14edaaa",
       "placeholder": "​",
       "style": "IPY_MODEL_d640ba50d10b4ae6881de3594f297a65",
       "value": "Map: 100%"
      }
     },
     "06a9b711f88643258dc9543174e73466": {
      "model_module": "@jupyter-widgets/controls",
      "model_module_version": "1.5.0",
      "model_name": "DescriptionStyleModel",
      "state": {
       "_model_module": "@jupyter-widgets/controls",
       "_model_module_version": "1.5.0",
       "_model_name": "DescriptionStyleModel",
       "_view_count": null,
       "_view_module": "@jupyter-widgets/base",
       "_view_module_version": "1.2.0",
       "_view_name": "StyleView",
       "description_width": ""
      }
     },
     "0708aceb79b04eaf96efc9abcffdcb61": {
      "model_module": "@jupyter-widgets/controls",
      "model_module_version": "1.5.0",
      "model_name": "HTMLModel",
      "state": {
       "_dom_classes": [],
       "_model_module": "@jupyter-widgets/controls",
       "_model_module_version": "1.5.0",
       "_model_name": "HTMLModel",
       "_view_count": null,
       "_view_module": "@jupyter-widgets/controls",
       "_view_module_version": "1.5.0",
       "_view_name": "HTMLView",
       "description": "",
       "description_tooltip": null,
       "layout": "IPY_MODEL_21cb9141ecb5495b84ff84c3a93ad1d5",
       "placeholder": "​",
       "style": "IPY_MODEL_ca9987e818e8459fbdd10ca82e535d2d",
       "value": "Computing checksums: 100%"
      }
     },
     "0a8c3adb33724911a677c1ad280a99fd": {
      "model_module": "@jupyter-widgets/base",
      "model_module_version": "1.2.0",
      "model_name": "LayoutModel",
      "state": {
       "_model_module": "@jupyter-widgets/base",
       "_model_module_version": "1.2.0",
       "_model_name": "LayoutModel",
       "_view_count": null,
       "_view_module": "@jupyter-widgets/base",
       "_view_module_version": "1.2.0",
       "_view_name": "LayoutView",
       "align_content": null,
       "align_items": null,
       "align_self": null,
       "border": null,
       "bottom": null,
       "display": null,
       "flex": null,
       "flex_flow": null,
       "grid_area": null,
       "grid_auto_columns": null,
       "grid_auto_flow": null,
       "grid_auto_rows": null,
       "grid_column": null,
       "grid_gap": null,
       "grid_row": null,
       "grid_template_areas": null,
       "grid_template_columns": null,
       "grid_template_rows": null,
       "height": null,
       "justify_content": null,
       "justify_items": null,
       "left": null,
       "margin": null,
       "max_height": null,
       "max_width": null,
       "min_height": null,
       "min_width": null,
       "object_fit": null,
       "object_position": null,
       "order": null,
       "overflow": null,
       "overflow_x": null,
       "overflow_y": null,
       "padding": null,
       "right": null,
       "top": null,
       "visibility": null,
       "width": null
      }
     },
     "0c21ecd618294b5590c6b24c8a811562": {
      "model_module": "@jupyter-widgets/controls",
      "model_module_version": "1.5.0",
      "model_name": "ProgressStyleModel",
      "state": {
       "_model_module": "@jupyter-widgets/controls",
       "_model_module_version": "1.5.0",
       "_model_name": "ProgressStyleModel",
       "_view_count": null,
       "_view_module": "@jupyter-widgets/base",
       "_view_module_version": "1.2.0",
       "_view_name": "StyleView",
       "bar_color": null,
       "description_width": ""
      }
     },
     "0e1cdc902ed34718a0a210e92a6fc0b2": {
      "model_module": "@jupyter-widgets/controls",
      "model_module_version": "1.5.0",
      "model_name": "DescriptionStyleModel",
      "state": {
       "_model_module": "@jupyter-widgets/controls",
       "_model_module_version": "1.5.0",
       "_model_name": "DescriptionStyleModel",
       "_view_count": null,
       "_view_module": "@jupyter-widgets/base",
       "_view_module_version": "1.2.0",
       "_view_name": "StyleView",
       "description_width": ""
      }
     },
     "0f7c4b8e5b964891a3b1961da1a4ffdf": {
      "model_module": "@jupyter-widgets/base",
      "model_module_version": "1.2.0",
      "model_name": "LayoutModel",
      "state": {
       "_model_module": "@jupyter-widgets/base",
       "_model_module_version": "1.2.0",
       "_model_name": "LayoutModel",
       "_view_count": null,
       "_view_module": "@jupyter-widgets/base",
       "_view_module_version": "1.2.0",
       "_view_name": "LayoutView",
       "align_content": null,
       "align_items": null,
       "align_self": null,
       "border": null,
       "bottom": null,
       "display": null,
       "flex": null,
       "flex_flow": null,
       "grid_area": null,
       "grid_auto_columns": null,
       "grid_auto_flow": null,
       "grid_auto_rows": null,
       "grid_column": null,
       "grid_gap": null,
       "grid_row": null,
       "grid_template_areas": null,
       "grid_template_columns": null,
       "grid_template_rows": null,
       "height": null,
       "justify_content": null,
       "justify_items": null,
       "left": null,
       "margin": null,
       "max_height": null,
       "max_width": null,
       "min_height": null,
       "min_width": null,
       "object_fit": null,
       "object_position": null,
       "order": null,
       "overflow": null,
       "overflow_x": null,
       "overflow_y": null,
       "padding": null,
       "right": null,
       "top": null,
       "visibility": null,
       "width": null
      }
     },
     "13cda5ef90dd4a42803ae19f61a7a22d": {
      "model_module": "@jupyter-widgets/controls",
      "model_module_version": "1.5.0",
      "model_name": "DescriptionStyleModel",
      "state": {
       "_model_module": "@jupyter-widgets/controls",
       "_model_module_version": "1.5.0",
       "_model_name": "DescriptionStyleModel",
       "_view_count": null,
       "_view_module": "@jupyter-widgets/base",
       "_view_module_version": "1.2.0",
       "_view_name": "StyleView",
       "description_width": ""
      }
     },
     "1475c09610bf40abbc50a3fe5f3065c3": {
      "model_module": "@jupyter-widgets/controls",
      "model_module_version": "1.5.0",
      "model_name": "HTMLModel",
      "state": {
       "_dom_classes": [],
       "_model_module": "@jupyter-widgets/controls",
       "_model_module_version": "1.5.0",
       "_model_name": "HTMLModel",
       "_view_count": null,
       "_view_module": "@jupyter-widgets/controls",
       "_view_module_version": "1.5.0",
       "_view_name": "HTMLView",
       "description": "",
       "description_tooltip": null,
       "layout": "IPY_MODEL_6bbb721dffec45baac3fb58047dd2e85",
       "placeholder": "​",
       "style": "IPY_MODEL_0e1cdc902ed34718a0a210e92a6fc0b2",
       "value": " 239/239 [00:00&lt;00:00, 6947.87 examples/s]"
      }
     },
     "155752cc788f46fc9565b7169bd133df": {
      "model_module": "@jupyter-widgets/controls",
      "model_module_version": "1.5.0",
      "model_name": "ProgressStyleModel",
      "state": {
       "_model_module": "@jupyter-widgets/controls",
       "_model_module_version": "1.5.0",
       "_model_name": "ProgressStyleModel",
       "_view_count": null,
       "_view_module": "@jupyter-widgets/base",
       "_view_module_version": "1.2.0",
       "_view_name": "StyleView",
       "bar_color": null,
       "description_width": ""
      }
     },
     "17361f19fdca4bf08a75f0bc8c996a92": {
      "model_module": "@jupyter-widgets/base",
      "model_module_version": "1.2.0",
      "model_name": "LayoutModel",
      "state": {
       "_model_module": "@jupyter-widgets/base",
       "_model_module_version": "1.2.0",
       "_model_name": "LayoutModel",
       "_view_count": null,
       "_view_module": "@jupyter-widgets/base",
       "_view_module_version": "1.2.0",
       "_view_name": "LayoutView",
       "align_content": null,
       "align_items": null,
       "align_self": null,
       "border": null,
       "bottom": null,
       "display": null,
       "flex": null,
       "flex_flow": null,
       "grid_area": null,
       "grid_auto_columns": null,
       "grid_auto_flow": null,
       "grid_auto_rows": null,
       "grid_column": null,
       "grid_gap": null,
       "grid_row": null,
       "grid_template_areas": null,
       "grid_template_columns": null,
       "grid_template_rows": null,
       "height": null,
       "justify_content": null,
       "justify_items": null,
       "left": null,
       "margin": null,
       "max_height": null,
       "max_width": null,
       "min_height": null,
       "min_width": null,
       "object_fit": null,
       "object_position": null,
       "order": null,
       "overflow": null,
       "overflow_x": null,
       "overflow_y": null,
       "padding": null,
       "right": null,
       "top": null,
       "visibility": null,
       "width": null
      }
     },
     "180f568e749745718df13fcc6764e540": {
      "model_module": "@jupyter-widgets/controls",
      "model_module_version": "1.5.0",
      "model_name": "FloatProgressModel",
      "state": {
       "_dom_classes": [],
       "_model_module": "@jupyter-widgets/controls",
       "_model_module_version": "1.5.0",
       "_model_name": "FloatProgressModel",
       "_view_count": null,
       "_view_module": "@jupyter-widgets/controls",
       "_view_module_version": "1.5.0",
       "_view_name": "ProgressView",
       "bar_style": "success",
       "description": "",
       "description_tooltip": null,
       "layout": "IPY_MODEL_a6d75e8475154c4f8a0e3ff312ea3a91",
       "max": 559.0,
       "min": 0.0,
       "orientation": "horizontal",
       "style": "IPY_MODEL_ad7cebea7a274a70b263dca362ca65a1",
       "value": 559.0
      }
     },
     "1891962a9ade4b14aec8d70c7c813c80": {
      "model_module": "@jupyter-widgets/base",
      "model_module_version": "1.2.0",
      "model_name": "LayoutModel",
      "state": {
       "_model_module": "@jupyter-widgets/base",
       "_model_module_version": "1.2.0",
       "_model_name": "LayoutModel",
       "_view_count": null,
       "_view_module": "@jupyter-widgets/base",
       "_view_module_version": "1.2.0",
       "_view_name": "LayoutView",
       "align_content": null,
       "align_items": null,
       "align_self": null,
       "border": null,
       "bottom": null,
       "display": null,
       "flex": null,
       "flex_flow": null,
       "grid_area": null,
       "grid_auto_columns": null,
       "grid_auto_flow": null,
       "grid_auto_rows": null,
       "grid_column": null,
       "grid_gap": null,
       "grid_row": null,
       "grid_template_areas": null,
       "grid_template_columns": null,
       "grid_template_rows": null,
       "height": null,
       "justify_content": null,
       "justify_items": null,
       "left": null,
       "margin": null,
       "max_height": null,
       "max_width": null,
       "min_height": null,
       "min_width": null,
       "object_fit": null,
       "object_position": null,
       "order": null,
       "overflow": null,
       "overflow_x": null,
       "overflow_y": null,
       "padding": null,
       "right": null,
       "top": null,
       "visibility": null,
       "width": null
      }
     },
     "1a1cf71cd7034bc886b196880a0fb95d": {
      "model_module": "@jupyter-widgets/controls",
      "model_module_version": "1.5.0",
      "model_name": "HBoxModel",
      "state": {
       "_dom_classes": [],
       "_model_module": "@jupyter-widgets/controls",
       "_model_module_version": "1.5.0",
       "_model_name": "HBoxModel",
       "_view_count": null,
       "_view_module": "@jupyter-widgets/controls",
       "_view_module_version": "1.5.0",
       "_view_name": "HBoxView",
       "box_style": "",
       "children": [
        "IPY_MODEL_055be09b0f8047169e2363e35ee1c678",
        "IPY_MODEL_47c56d3a74124c4b8a31da5b91c1d44d",
        "IPY_MODEL_f60367e292584ab6b6cfc058d9a32c8d"
       ],
       "layout": "IPY_MODEL_17361f19fdca4bf08a75f0bc8c996a92"
      }
     },
     "1db93fc340fc4a6286d5edb11218422f": {
      "model_module": "@jupyter-widgets/controls",
      "model_module_version": "1.5.0",
      "model_name": "ProgressStyleModel",
      "state": {
       "_model_module": "@jupyter-widgets/controls",
       "_model_module_version": "1.5.0",
       "_model_name": "ProgressStyleModel",
       "_view_count": null,
       "_view_module": "@jupyter-widgets/base",
       "_view_module_version": "1.2.0",
       "_view_name": "StyleView",
       "bar_color": null,
       "description_width": ""
      }
     },
     "1e2487296e29432db27201c2b5d918d9": {
      "model_module": "@jupyter-widgets/base",
      "model_module_version": "1.2.0",
      "model_name": "LayoutModel",
      "state": {
       "_model_module": "@jupyter-widgets/base",
       "_model_module_version": "1.2.0",
       "_model_name": "LayoutModel",
       "_view_count": null,
       "_view_module": "@jupyter-widgets/base",
       "_view_module_version": "1.2.0",
       "_view_name": "LayoutView",
       "align_content": null,
       "align_items": null,
       "align_self": null,
       "border": null,
       "bottom": null,
       "display": null,
       "flex": null,
       "flex_flow": null,
       "grid_area": null,
       "grid_auto_columns": null,
       "grid_auto_flow": null,
       "grid_auto_rows": null,
       "grid_column": null,
       "grid_gap": null,
       "grid_row": null,
       "grid_template_areas": null,
       "grid_template_columns": null,
       "grid_template_rows": null,
       "height": null,
       "justify_content": null,
       "justify_items": null,
       "left": null,
       "margin": null,
       "max_height": null,
       "max_width": null,
       "min_height": null,
       "min_width": null,
       "object_fit": null,
       "object_position": null,
       "order": null,
       "overflow": null,
       "overflow_x": null,
       "overflow_y": null,
       "padding": null,
       "right": null,
       "top": null,
       "visibility": null,
       "width": null
      }
     },
     "21cb9141ecb5495b84ff84c3a93ad1d5": {
      "model_module": "@jupyter-widgets/base",
      "model_module_version": "1.2.0",
      "model_name": "LayoutModel",
      "state": {
       "_model_module": "@jupyter-widgets/base",
       "_model_module_version": "1.2.0",
       "_model_name": "LayoutModel",
       "_view_count": null,
       "_view_module": "@jupyter-widgets/base",
       "_view_module_version": "1.2.0",
       "_view_name": "LayoutView",
       "align_content": null,
       "align_items": null,
       "align_self": null,
       "border": null,
       "bottom": null,
       "display": null,
       "flex": null,
       "flex_flow": null,
       "grid_area": null,
       "grid_auto_columns": null,
       "grid_auto_flow": null,
       "grid_auto_rows": null,
       "grid_column": null,
       "grid_gap": null,
       "grid_row": null,
       "grid_template_areas": null,
       "grid_template_columns": null,
       "grid_template_rows": null,
       "height": null,
       "justify_content": null,
       "justify_items": null,
       "left": null,
       "margin": null,
       "max_height": null,
       "max_width": null,
       "min_height": null,
       "min_width": null,
       "object_fit": null,
       "object_position": null,
       "order": null,
       "overflow": null,
       "overflow_x": null,
       "overflow_y": null,
       "padding": null,
       "right": null,
       "top": null,
       "visibility": null,
       "width": null
      }
     },
     "2385baa43def4edaa85a37f2cfcb8f2c": {
      "model_module": "@jupyter-widgets/controls",
      "model_module_version": "1.5.0",
      "model_name": "ProgressStyleModel",
      "state": {
       "_model_module": "@jupyter-widgets/controls",
       "_model_module_version": "1.5.0",
       "_model_name": "ProgressStyleModel",
       "_view_count": null,
       "_view_module": "@jupyter-widgets/base",
       "_view_module_version": "1.2.0",
       "_view_name": "StyleView",
       "bar_color": null,
       "description_width": ""
      }
     },
     "246198f1b0894361994dc2b2a284bf5c": {
      "model_module": "@jupyter-widgets/base",
      "model_module_version": "1.2.0",
      "model_name": "LayoutModel",
      "state": {
       "_model_module": "@jupyter-widgets/base",
       "_model_module_version": "1.2.0",
       "_model_name": "LayoutModel",
       "_view_count": null,
       "_view_module": "@jupyter-widgets/base",
       "_view_module_version": "1.2.0",
       "_view_name": "LayoutView",
       "align_content": null,
       "align_items": null,
       "align_self": null,
       "border": null,
       "bottom": null,
       "display": null,
       "flex": null,
       "flex_flow": null,
       "grid_area": null,
       "grid_auto_columns": null,
       "grid_auto_flow": null,
       "grid_auto_rows": null,
       "grid_column": null,
       "grid_gap": null,
       "grid_row": null,
       "grid_template_areas": null,
       "grid_template_columns": null,
       "grid_template_rows": null,
       "height": null,
       "justify_content": null,
       "justify_items": null,
       "left": null,
       "margin": null,
       "max_height": null,
       "max_width": null,
       "min_height": null,
       "min_width": null,
       "object_fit": null,
       "object_position": null,
       "order": null,
       "overflow": null,
       "overflow_x": null,
       "overflow_y": null,
       "padding": null,
       "right": null,
       "top": null,
       "visibility": null,
       "width": null
      }
     },
     "251b77f569b749ea890f4b57c37ac190": {
      "model_module": "@jupyter-widgets/base",
      "model_module_version": "1.2.0",
      "model_name": "LayoutModel",
      "state": {
       "_model_module": "@jupyter-widgets/base",
       "_model_module_version": "1.2.0",
       "_model_name": "LayoutModel",
       "_view_count": null,
       "_view_module": "@jupyter-widgets/base",
       "_view_module_version": "1.2.0",
       "_view_name": "LayoutView",
       "align_content": null,
       "align_items": null,
       "align_self": null,
       "border": null,
       "bottom": null,
       "display": null,
       "flex": null,
       "flex_flow": null,
       "grid_area": null,
       "grid_auto_columns": null,
       "grid_auto_flow": null,
       "grid_auto_rows": null,
       "grid_column": null,
       "grid_gap": null,
       "grid_row": null,
       "grid_template_areas": null,
       "grid_template_columns": null,
       "grid_template_rows": null,
       "height": null,
       "justify_content": null,
       "justify_items": null,
       "left": null,
       "margin": null,
       "max_height": null,
       "max_width": null,
       "min_height": null,
       "min_width": null,
       "object_fit": null,
       "object_position": null,
       "order": null,
       "overflow": null,
       "overflow_x": null,
       "overflow_y": null,
       "padding": null,
       "right": null,
       "top": null,
       "visibility": null,
       "width": null
      }
     },
     "27dc9c930fe143688bcc2a44dd811fc9": {
      "model_module": "@jupyter-widgets/controls",
      "model_module_version": "1.5.0",
      "model_name": "DescriptionStyleModel",
      "state": {
       "_model_module": "@jupyter-widgets/controls",
       "_model_module_version": "1.5.0",
       "_model_name": "DescriptionStyleModel",
       "_view_count": null,
       "_view_module": "@jupyter-widgets/base",
       "_view_module_version": "1.2.0",
       "_view_name": "StyleView",
       "description_width": ""
      }
     },
     "2ab990ee63ff4a38892d8d6220de4a65": {
      "model_module": "@jupyter-widgets/controls",
      "model_module_version": "1.5.0",
      "model_name": "ProgressStyleModel",
      "state": {
       "_model_module": "@jupyter-widgets/controls",
       "_model_module_version": "1.5.0",
       "_model_name": "ProgressStyleModel",
       "_view_count": null,
       "_view_module": "@jupyter-widgets/base",
       "_view_module_version": "1.2.0",
       "_view_name": "StyleView",
       "bar_color": null,
       "description_width": ""
      }
     },
     "2c03f375fbea49babe3c8dadbd1fa89e": {
      "model_module": "@jupyter-widgets/controls",
      "model_module_version": "1.5.0",
      "model_name": "FloatProgressModel",
      "state": {
       "_dom_classes": [],
       "_model_module": "@jupyter-widgets/controls",
       "_model_module_version": "1.5.0",
       "_model_name": "FloatProgressModel",
       "_view_count": null,
       "_view_module": "@jupyter-widgets/controls",
       "_view_module_version": "1.5.0",
       "_view_name": "ProgressView",
       "bar_style": "success",
       "description": "",
       "description_tooltip": null,
       "layout": "IPY_MODEL_6454c3963cd24d1197c68aae26cba3e7",
       "max": 267954768.0,
       "min": 0.0,
       "orientation": "horizontal",
       "style": "IPY_MODEL_2385baa43def4edaa85a37f2cfcb8f2c",
       "value": 267954768.0
      }
     },
     "2c0a9e1a997e401b88eaa40c645b8f69": {
      "model_module": "@jupyter-widgets/base",
      "model_module_version": "1.2.0",
      "model_name": "LayoutModel",
      "state": {
       "_model_module": "@jupyter-widgets/base",
       "_model_module_version": "1.2.0",
       "_model_name": "LayoutModel",
       "_view_count": null,
       "_view_module": "@jupyter-widgets/base",
       "_view_module_version": "1.2.0",
       "_view_name": "LayoutView",
       "align_content": null,
       "align_items": null,
       "align_self": null,
       "border": null,
       "bottom": null,
       "display": null,
       "flex": null,
       "flex_flow": null,
       "grid_area": null,
       "grid_auto_columns": null,
       "grid_auto_flow": null,
       "grid_auto_rows": null,
       "grid_column": null,
       "grid_gap": null,
       "grid_row": null,
       "grid_template_areas": null,
       "grid_template_columns": null,
       "grid_template_rows": null,
       "height": null,
       "justify_content": null,
       "justify_items": null,
       "left": null,
       "margin": null,
       "max_height": null,
       "max_width": null,
       "min_height": null,
       "min_width": null,
       "object_fit": null,
       "object_position": null,
       "order": null,
       "overflow": null,
       "overflow_x": null,
       "overflow_y": null,
       "padding": null,
       "right": null,
       "top": null,
       "visibility": null,
       "width": "20px"
      }
     },
     "2f4891aa63bb4873bddb665e4b92134d": {
      "model_module": "@jupyter-widgets/controls",
      "model_module_version": "1.5.0",
      "model_name": "HBoxModel",
      "state": {
       "_dom_classes": [],
       "_model_module": "@jupyter-widgets/controls",
       "_model_module_version": "1.5.0",
       "_model_name": "HBoxModel",
       "_view_count": null,
       "_view_module": "@jupyter-widgets/controls",
       "_view_module_version": "1.5.0",
       "_view_name": "HBoxView",
       "box_style": "",
       "children": [
        "IPY_MODEL_f7ff4284ea004729876cf6d80bdf6b7b",
        "IPY_MODEL_697bdd6686c64f8889b93cc8103bde5b",
        "IPY_MODEL_7d6f6acb38b94dce8af14e55973f55d4"
       ],
       "layout": "IPY_MODEL_9bc4368f41f84262a5078b3e5edf7a3a"
      }
     },
     "3219c39208384a0f8014c453331d49a3": {
      "model_module": "@jupyter-widgets/base",
      "model_module_version": "1.2.0",
      "model_name": "LayoutModel",
      "state": {
       "_model_module": "@jupyter-widgets/base",
       "_model_module_version": "1.2.0",
       "_model_name": "LayoutModel",
       "_view_count": null,
       "_view_module": "@jupyter-widgets/base",
       "_view_module_version": "1.2.0",
       "_view_name": "LayoutView",
       "align_content": null,
       "align_items": null,
       "align_self": null,
       "border": null,
       "bottom": null,
       "display": null,
       "flex": null,
       "flex_flow": null,
       "grid_area": null,
       "grid_auto_columns": null,
       "grid_auto_flow": null,
       "grid_auto_rows": null,
       "grid_column": null,
       "grid_gap": null,
       "grid_row": null,
       "grid_template_areas": null,
       "grid_template_columns": null,
       "grid_template_rows": null,
       "height": null,
       "justify_content": null,
       "justify_items": null,
       "left": null,
       "margin": null,
       "max_height": null,
       "max_width": null,
       "min_height": null,
       "min_width": null,
       "object_fit": null,
       "object_position": null,
       "order": null,
       "overflow": null,
       "overflow_x": null,
       "overflow_y": null,
       "padding": null,
       "right": null,
       "top": null,
       "visibility": null,
       "width": null
      }
     },
     "3243a00685994452ac002c5097709216": {
      "model_module": "@jupyter-widgets/controls",
      "model_module_version": "1.5.0",
      "model_name": "HTMLModel",
      "state": {
       "_dom_classes": [],
       "_model_module": "@jupyter-widgets/controls",
       "_model_module_version": "1.5.0",
       "_model_name": "HTMLModel",
       "_view_count": null,
       "_view_module": "@jupyter-widgets/controls",
       "_view_module_version": "1.5.0",
       "_view_name": "HTMLView",
       "description": "",
       "description_tooltip": null,
       "layout": "IPY_MODEL_0f7c4b8e5b964891a3b1961da1a4ffdf",
       "placeholder": "​",
       "style": "IPY_MODEL_27dc9c930fe143688bcc2a44dd811fc9",
       "value": "Generating test split: "
      }
     },
     "33552704c8fa45498d52196edffba276": {
      "model_module": "@jupyter-widgets/controls",
      "model_module_version": "1.5.0",
      "model_name": "HBoxModel",
      "state": {
       "_dom_classes": [],
       "_model_module": "@jupyter-widgets/controls",
       "_model_module_version": "1.5.0",
       "_model_name": "HBoxModel",
       "_view_count": null,
       "_view_module": "@jupyter-widgets/controls",
       "_view_module_version": "1.5.0",
       "_view_name": "HBoxView",
       "box_style": "",
       "children": [
        "IPY_MODEL_833d546bdb734d86843688e103ebd4b9",
        "IPY_MODEL_ccdf654cdce248b6b8ecd9216cc53be3",
        "IPY_MODEL_5309288116254f71af18890c4fa21688"
       ],
       "layout": "IPY_MODEL_df6cbe8087cb42cb8dd1aabd099b418e"
      }
     },
     "33fafedb7dad4414bcf0531cc626963e": {
      "model_module": "@jupyter-widgets/base",
      "model_module_version": "1.2.0",
      "model_name": "LayoutModel",
      "state": {
       "_model_module": "@jupyter-widgets/base",
       "_model_module_version": "1.2.0",
       "_model_name": "LayoutModel",
       "_view_count": null,
       "_view_module": "@jupyter-widgets/base",
       "_view_module_version": "1.2.0",
       "_view_name": "LayoutView",
       "align_content": null,
       "align_items": null,
       "align_self": null,
       "border": null,
       "bottom": null,
       "display": null,
       "flex": null,
       "flex_flow": null,
       "grid_area": null,
       "grid_auto_columns": null,
       "grid_auto_flow": null,
       "grid_auto_rows": null,
       "grid_column": null,
       "grid_gap": null,
       "grid_row": null,
       "grid_template_areas": null,
       "grid_template_columns": null,
       "grid_template_rows": null,
       "height": null,
       "justify_content": null,
       "justify_items": null,
       "left": null,
       "margin": null,
       "max_height": null,
       "max_width": null,
       "min_height": null,
       "min_width": null,
       "object_fit": null,
       "object_position": null,
       "order": null,
       "overflow": null,
       "overflow_x": null,
       "overflow_y": null,
       "padding": null,
       "right": null,
       "top": null,
       "visibility": null,
       "width": null
      }
     },
     "36f1408aed8e44d69881e2bf931bd0ba": {
      "model_module": "@jupyter-widgets/controls",
      "model_module_version": "1.5.0",
      "model_name": "DescriptionStyleModel",
      "state": {
       "_model_module": "@jupyter-widgets/controls",
       "_model_module_version": "1.5.0",
       "_model_name": "DescriptionStyleModel",
       "_view_count": null,
       "_view_module": "@jupyter-widgets/base",
       "_view_module_version": "1.2.0",
       "_view_name": "StyleView",
       "description_width": ""
      }
     },
     "391fad0d156d49c1a468f597c14edaaa": {
      "model_module": "@jupyter-widgets/base",
      "model_module_version": "1.2.0",
      "model_name": "LayoutModel",
      "state": {
       "_model_module": "@jupyter-widgets/base",
       "_model_module_version": "1.2.0",
       "_model_name": "LayoutModel",
       "_view_count": null,
       "_view_module": "@jupyter-widgets/base",
       "_view_module_version": "1.2.0",
       "_view_name": "LayoutView",
       "align_content": null,
       "align_items": null,
       "align_self": null,
       "border": null,
       "bottom": null,
       "display": null,
       "flex": null,
       "flex_flow": null,
       "grid_area": null,
       "grid_auto_columns": null,
       "grid_auto_flow": null,
       "grid_auto_rows": null,
       "grid_column": null,
       "grid_gap": null,
       "grid_row": null,
       "grid_template_areas": null,
       "grid_template_columns": null,
       "grid_template_rows": null,
       "height": null,
       "justify_content": null,
       "justify_items": null,
       "left": null,
       "margin": null,
       "max_height": null,
       "max_width": null,
       "min_height": null,
       "min_width": null,
       "object_fit": null,
       "object_position": null,
       "order": null,
       "overflow": null,
       "overflow_x": null,
       "overflow_y": null,
       "padding": null,
       "right": null,
       "top": null,
       "visibility": null,
       "width": null
      }
     },
     "3dc3244ee9ff4af6856939a293fbc745": {
      "model_module": "@jupyter-widgets/controls",
      "model_module_version": "1.5.0",
      "model_name": "FloatProgressModel",
      "state": {
       "_dom_classes": [],
       "_model_module": "@jupyter-widgets/controls",
       "_model_module_version": "1.5.0",
       "_model_name": "FloatProgressModel",
       "_view_count": null,
       "_view_module": "@jupyter-widgets/controls",
       "_view_module_version": "1.5.0",
       "_view_name": "ProgressView",
       "bar_style": "success",
       "description": "",
       "description_tooltip": null,
       "layout": "IPY_MODEL_9451068769e142deab902397e88a9f7a",
       "max": 239.0,
       "min": 0.0,
       "orientation": "horizontal",
       "style": "IPY_MODEL_c16018d4c3b54145a481411ccd9bbbd8",
       "value": 239.0
      }
     },
     "3fe486115413491180b3616bdb82911f": {
      "model_module": "@jupyter-widgets/controls",
      "model_module_version": "1.5.0",
      "model_name": "DescriptionStyleModel",
      "state": {
       "_model_module": "@jupyter-widgets/controls",
       "_model_module_version": "1.5.0",
       "_model_name": "DescriptionStyleModel",
       "_view_count": null,
       "_view_module": "@jupyter-widgets/base",
       "_view_module_version": "1.2.0",
       "_view_name": "StyleView",
       "description_width": ""
      }
     },
     "4212d517814c4c46900d55268ae11995": {
      "model_module": "@jupyter-widgets/controls",
      "model_module_version": "1.5.0",
      "model_name": "DescriptionStyleModel",
      "state": {
       "_model_module": "@jupyter-widgets/controls",
       "_model_module_version": "1.5.0",
       "_model_name": "DescriptionStyleModel",
       "_view_count": null,
       "_view_module": "@jupyter-widgets/base",
       "_view_module_version": "1.2.0",
       "_view_name": "StyleView",
       "description_width": ""
      }
     },
     "42797fd131db4e6aaaa8ed28aa3e1d6d": {
      "model_module": "@jupyter-widgets/controls",
      "model_module_version": "1.5.0",
      "model_name": "HTMLModel",
      "state": {
       "_dom_classes": [],
       "_model_module": "@jupyter-widgets/controls",
       "_model_module_version": "1.5.0",
       "_model_name": "HTMLModel",
       "_view_count": null,
       "_view_module": "@jupyter-widgets/controls",
       "_view_module_version": "1.5.0",
       "_view_name": "HTMLView",
       "description": "",
       "description_tooltip": null,
       "layout": "IPY_MODEL_64c42f126a1f4d20a815985e705f9786",
       "placeholder": "​",
       "style": "IPY_MODEL_dc012c0c38fe469ebfa1eac793285050",
       "value": "Extracting data files: 100%"
      }
     },
     "4631ab8b5e804ef885916ecf690359b7": {
      "model_module": "@jupyter-widgets/base",
      "model_module_version": "1.2.0",
      "model_name": "LayoutModel",
      "state": {
       "_model_module": "@jupyter-widgets/base",
       "_model_module_version": "1.2.0",
       "_model_name": "LayoutModel",
       "_view_count": null,
       "_view_module": "@jupyter-widgets/base",
       "_view_module_version": "1.2.0",
       "_view_name": "LayoutView",
       "align_content": null,
       "align_items": null,
       "align_self": null,
       "border": null,
       "bottom": null,
       "display": null,
       "flex": null,
       "flex_flow": null,
       "grid_area": null,
       "grid_auto_columns": null,
       "grid_auto_flow": null,
       "grid_auto_rows": null,
       "grid_column": null,
       "grid_gap": null,
       "grid_row": null,
       "grid_template_areas": null,
       "grid_template_columns": null,
       "grid_template_rows": null,
       "height": null,
       "justify_content": null,
       "justify_items": null,
       "left": null,
       "margin": null,
       "max_height": null,
       "max_width": null,
       "min_height": null,
       "min_width": null,
       "object_fit": null,
       "object_position": null,
       "order": null,
       "overflow": null,
       "overflow_x": null,
       "overflow_y": null,
       "padding": null,
       "right": null,
       "top": null,
       "visibility": null,
       "width": null
      }
     },
     "47c56d3a74124c4b8a31da5b91c1d44d": {
      "model_module": "@jupyter-widgets/controls",
      "model_module_version": "1.5.0",
      "model_name": "FloatProgressModel",
      "state": {
       "_dom_classes": [],
       "_model_module": "@jupyter-widgets/controls",
       "_model_module_version": "1.5.0",
       "_model_name": "FloatProgressModel",
       "_view_count": null,
       "_view_module": "@jupyter-widgets/controls",
       "_view_module_version": "1.5.0",
       "_view_name": "ProgressView",
       "bar_style": "success",
       "description": "",
       "description_tooltip": null,
       "layout": "IPY_MODEL_786269aae0824274ad9829f68dbda85a",
       "max": 239.0,
       "min": 0.0,
       "orientation": "horizontal",
       "style": "IPY_MODEL_fb708438f3954a24a0c28c8f28a5ea76",
       "value": 239.0
      }
     },
     "497eb238a8114bcf8fc1af416cc8d399": {
      "model_module": "@jupyter-widgets/controls",
      "model_module_version": "1.5.0",
      "model_name": "HTMLModel",
      "state": {
       "_dom_classes": [],
       "_model_module": "@jupyter-widgets/controls",
       "_model_module_version": "1.5.0",
       "_model_name": "HTMLModel",
       "_view_count": null,
       "_view_module": "@jupyter-widgets/controls",
       "_view_module_version": "1.5.0",
       "_view_name": "HTMLView",
       "description": "",
       "description_tooltip": null,
       "layout": "IPY_MODEL_919b8e62f0b044ebafc4780025d75589",
       "placeholder": "​",
       "style": "IPY_MODEL_6d4029fd389b4d779bbabc71c3fa0339",
       "value": " 1.35M/1.35M [00:00&lt;00:00, 24.8MB/s]"
      }
     },
     "4a8f0c390b1d47c6945da5d0db02de1c": {
      "model_module": "@jupyter-widgets/base",
      "model_module_version": "1.2.0",
      "model_name": "LayoutModel",
      "state": {
       "_model_module": "@jupyter-widgets/base",
       "_model_module_version": "1.2.0",
       "_model_name": "LayoutModel",
       "_view_count": null,
       "_view_module": "@jupyter-widgets/base",
       "_view_module_version": "1.2.0",
       "_view_name": "LayoutView",
       "align_content": null,
       "align_items": null,
       "align_self": null,
       "border": null,
       "bottom": null,
       "display": null,
       "flex": null,
       "flex_flow": null,
       "grid_area": null,
       "grid_auto_columns": null,
       "grid_auto_flow": null,
       "grid_auto_rows": null,
       "grid_column": null,
       "grid_gap": null,
       "grid_row": null,
       "grid_template_areas": null,
       "grid_template_columns": null,
       "grid_template_rows": null,
       "height": null,
       "justify_content": null,
       "justify_items": null,
       "left": null,
       "margin": null,
       "max_height": null,
       "max_width": null,
       "min_height": null,
       "min_width": null,
       "object_fit": null,
       "object_position": null,
       "order": null,
       "overflow": null,
       "overflow_x": null,
       "overflow_y": null,
       "padding": null,
       "right": null,
       "top": null,
       "visibility": null,
       "width": null
      }
     },
     "4e3e75649b7e4b6db709c6525406ed8f": {
      "model_module": "@jupyter-widgets/controls",
      "model_module_version": "1.5.0",
      "model_name": "HTMLModel",
      "state": {
       "_dom_classes": [],
       "_model_module": "@jupyter-widgets/controls",
       "_model_module_version": "1.5.0",
       "_model_name": "HTMLModel",
       "_view_count": null,
       "_view_module": "@jupyter-widgets/controls",
       "_view_module_version": "1.5.0",
       "_view_name": "HTMLView",
       "description": "",
       "description_tooltip": null,
       "layout": "IPY_MODEL_8c8fd75a6be1458b93b5c80321849fd8",
       "placeholder": "​",
       "style": "IPY_MODEL_ea673ac2a9d94930b542aa02c2b8291b",
       "value": " 239/239 [00:00&lt;00:00, 22.9kB/s]"
      }
     },
     "4e68defcc68a4906aff8f52e109bd89a": {
      "model_module": "@jupyter-widgets/controls",
      "model_module_version": "1.5.0",
      "model_name": "HTMLModel",
      "state": {
       "_dom_classes": [],
       "_model_module": "@jupyter-widgets/controls",
       "_model_module_version": "1.5.0",
       "_model_name": "HTMLModel",
       "_view_count": null,
       "_view_module": "@jupyter-widgets/controls",
       "_view_module_version": "1.5.0",
       "_view_name": "HTMLView",
       "description": "",
       "description_tooltip": null,
       "layout": "IPY_MODEL_b2ebd40d22984a9f9ab7c37abfa048a1",
       "placeholder": "​",
       "style": "IPY_MODEL_b096adaad3544557b0936b1d551c8fc1",
       "value": " 239/0 [00:00&lt;00:00, 9447.70 examples/s]"
      }
     },
     "4f1728dba3184c7aae4f148a636f9630": {
      "model_module": "@jupyter-widgets/base",
      "model_module_version": "1.2.0",
      "model_name": "LayoutModel",
      "state": {
       "_model_module": "@jupyter-widgets/base",
       "_model_module_version": "1.2.0",
       "_model_name": "LayoutModel",
       "_view_count": null,
       "_view_module": "@jupyter-widgets/base",
       "_view_module_version": "1.2.0",
       "_view_name": "LayoutView",
       "align_content": null,
       "align_items": null,
       "align_self": null,
       "border": null,
       "bottom": null,
       "display": null,
       "flex": null,
       "flex_flow": null,
       "grid_area": null,
       "grid_auto_columns": null,
       "grid_auto_flow": null,
       "grid_auto_rows": null,
       "grid_column": null,
       "grid_gap": null,
       "grid_row": null,
       "grid_template_areas": null,
       "grid_template_columns": null,
       "grid_template_rows": null,
       "height": null,
       "justify_content": null,
       "justify_items": null,
       "left": null,
       "margin": null,
       "max_height": null,
       "max_width": null,
       "min_height": null,
       "min_width": null,
       "object_fit": null,
       "object_position": null,
       "order": null,
       "overflow": null,
       "overflow_x": null,
       "overflow_y": null,
       "padding": null,
       "right": null,
       "top": null,
       "visibility": null,
       "width": null
      }
     },
     "514176dac0194030a59bd065d7393a3b": {
      "model_module": "@jupyter-widgets/controls",
      "model_module_version": "1.5.0",
      "model_name": "FloatProgressModel",
      "state": {
       "_dom_classes": [],
       "_model_module": "@jupyter-widgets/controls",
       "_model_module_version": "1.5.0",
       "_model_name": "FloatProgressModel",
       "_view_count": null,
       "_view_module": "@jupyter-widgets/controls",
       "_view_module_version": "1.5.0",
       "_view_name": "ProgressView",
       "bar_style": "success",
       "description": "",
       "description_tooltip": null,
       "layout": "IPY_MODEL_bcb5b186283e45f8af9aa6ccec2fe870",
       "max": 1.0,
       "min": 0.0,
       "orientation": "horizontal",
       "style": "IPY_MODEL_6f6bc0902a634162be3284e4ee96e4c4",
       "value": 1.0
      }
     },
     "5309288116254f71af18890c4fa21688": {
      "model_module": "@jupyter-widgets/controls",
      "model_module_version": "1.5.0",
      "model_name": "HTMLModel",
      "state": {
       "_dom_classes": [],
       "_model_module": "@jupyter-widgets/controls",
       "_model_module_version": "1.5.0",
       "_model_name": "HTMLModel",
       "_view_count": null,
       "_view_module": "@jupyter-widgets/controls",
       "_view_module_version": "1.5.0",
       "_view_name": "HTMLView",
       "description": "",
       "description_tooltip": null,
       "layout": "IPY_MODEL_b349c1da1caf487fa495365feb17c058",
       "placeholder": "​",
       "style": "IPY_MODEL_c15754e5e6734d02811368997aa1a928",
       "value": " 414/414 [00:00&lt;00:00, 34.4kB/s]"
      }
     },
     "574d279973c64918a940b57fa45b85b2": {
      "model_module": "@jupyter-widgets/controls",
      "model_module_version": "1.5.0",
      "model_name": "HTMLModel",
      "state": {
       "_dom_classes": [],
       "_model_module": "@jupyter-widgets/controls",
       "_model_module_version": "1.5.0",
       "_model_name": "HTMLModel",
       "_view_count": null,
       "_view_module": "@jupyter-widgets/controls",
       "_view_module_version": "1.5.0",
       "_view_name": "HTMLView",
       "description": "",
       "description_tooltip": null,
       "layout": "IPY_MODEL_faf9d16acdac4660b293d6b77257e040",
       "placeholder": "​",
       "style": "IPY_MODEL_9fd1eaef878046f19f3ed3c62896dbae",
       "value": " 714/714 [00:00&lt;00:00, 7084.57 examples/s]"
      }
     },
     "5976f50a4cac4b12ad3723cdc3b70cfe": {
      "model_module": "@jupyter-widgets/base",
      "model_module_version": "1.2.0",
      "model_name": "LayoutModel",
      "state": {
       "_model_module": "@jupyter-widgets/base",
       "_model_module_version": "1.2.0",
       "_model_name": "LayoutModel",
       "_view_count": null,
       "_view_module": "@jupyter-widgets/base",
       "_view_module_version": "1.2.0",
       "_view_name": "LayoutView",
       "align_content": null,
       "align_items": null,
       "align_self": null,
       "border": null,
       "bottom": null,
       "display": null,
       "flex": null,
       "flex_flow": null,
       "grid_area": null,
       "grid_auto_columns": null,
       "grid_auto_flow": null,
       "grid_auto_rows": null,
       "grid_column": null,
       "grid_gap": null,
       "grid_row": null,
       "grid_template_areas": null,
       "grid_template_columns": null,
       "grid_template_rows": null,
       "height": null,
       "justify_content": null,
       "justify_items": null,
       "left": null,
       "margin": null,
       "max_height": null,
       "max_width": null,
       "min_height": null,
       "min_width": null,
       "object_fit": null,
       "object_position": null,
       "order": null,
       "overflow": null,
       "overflow_x": null,
       "overflow_y": null,
       "padding": null,
       "right": null,
       "top": null,
       "visibility": null,
       "width": null
      }
     },
     "5ad8a3a7cabe42c4bf60171d1f6a2038": {
      "model_module": "@jupyter-widgets/base",
      "model_module_version": "1.2.0",
      "model_name": "LayoutModel",
      "state": {
       "_model_module": "@jupyter-widgets/base",
       "_model_module_version": "1.2.0",
       "_model_name": "LayoutModel",
       "_view_count": null,
       "_view_module": "@jupyter-widgets/base",
       "_view_module_version": "1.2.0",
       "_view_name": "LayoutView",
       "align_content": null,
       "align_items": null,
       "align_self": null,
       "border": null,
       "bottom": null,
       "display": null,
       "flex": null,
       "flex_flow": null,
       "grid_area": null,
       "grid_auto_columns": null,
       "grid_auto_flow": null,
       "grid_auto_rows": null,
       "grid_column": null,
       "grid_gap": null,
       "grid_row": null,
       "grid_template_areas": null,
       "grid_template_columns": null,
       "grid_template_rows": null,
       "height": null,
       "justify_content": null,
       "justify_items": null,
       "left": null,
       "margin": null,
       "max_height": null,
       "max_width": null,
       "min_height": null,
       "min_width": null,
       "object_fit": null,
       "object_position": null,
       "order": null,
       "overflow": null,
       "overflow_x": null,
       "overflow_y": null,
       "padding": null,
       "right": null,
       "top": null,
       "visibility": null,
       "width": null
      }
     },
     "5dd410e116f54f9bb4437b6b16320fe5": {
      "model_module": "@jupyter-widgets/base",
      "model_module_version": "1.2.0",
      "model_name": "LayoutModel",
      "state": {
       "_model_module": "@jupyter-widgets/base",
       "_model_module_version": "1.2.0",
       "_model_name": "LayoutModel",
       "_view_count": null,
       "_view_module": "@jupyter-widgets/base",
       "_view_module_version": "1.2.0",
       "_view_name": "LayoutView",
       "align_content": null,
       "align_items": null,
       "align_self": null,
       "border": null,
       "bottom": null,
       "display": null,
       "flex": null,
       "flex_flow": null,
       "grid_area": null,
       "grid_auto_columns": null,
       "grid_auto_flow": null,
       "grid_auto_rows": null,
       "grid_column": null,
       "grid_gap": null,
       "grid_row": null,
       "grid_template_areas": null,
       "grid_template_columns": null,
       "grid_template_rows": null,
       "height": null,
       "justify_content": null,
       "justify_items": null,
       "left": null,
       "margin": null,
       "max_height": null,
       "max_width": null,
       "min_height": null,
       "min_width": null,
       "object_fit": null,
       "object_position": null,
       "order": null,
       "overflow": null,
       "overflow_x": null,
       "overflow_y": null,
       "padding": null,
       "right": null,
       "top": null,
       "visibility": null,
       "width": null
      }
     },
     "61cb2797021a481890b025faaf8b8f63": {
      "model_module": "@jupyter-widgets/base",
      "model_module_version": "1.2.0",
      "model_name": "LayoutModel",
      "state": {
       "_model_module": "@jupyter-widgets/base",
       "_model_module_version": "1.2.0",
       "_model_name": "LayoutModel",
       "_view_count": null,
       "_view_module": "@jupyter-widgets/base",
       "_view_module_version": "1.2.0",
       "_view_name": "LayoutView",
       "align_content": null,
       "align_items": null,
       "align_self": null,
       "border": null,
       "bottom": null,
       "display": null,
       "flex": null,
       "flex_flow": null,
       "grid_area": null,
       "grid_auto_columns": null,
       "grid_auto_flow": null,
       "grid_auto_rows": null,
       "grid_column": null,
       "grid_gap": null,
       "grid_row": null,
       "grid_template_areas": null,
       "grid_template_columns": null,
       "grid_template_rows": null,
       "height": null,
       "justify_content": null,
       "justify_items": null,
       "left": null,
       "margin": null,
       "max_height": null,
       "max_width": null,
       "min_height": null,
       "min_width": null,
       "object_fit": null,
       "object_position": null,
       "order": null,
       "overflow": null,
       "overflow_x": null,
       "overflow_y": null,
       "padding": null,
       "right": null,
       "top": null,
       "visibility": null,
       "width": null
      }
     },
     "63219ce7c8dc4e1588e9402e02e5d636": {
      "model_module": "@jupyter-widgets/controls",
      "model_module_version": "1.5.0",
      "model_name": "HTMLModel",
      "state": {
       "_dom_classes": [],
       "_model_module": "@jupyter-widgets/controls",
       "_model_module_version": "1.5.0",
       "_model_name": "HTMLModel",
       "_view_count": null,
       "_view_module": "@jupyter-widgets/controls",
       "_view_module_version": "1.5.0",
       "_view_name": "HTMLView",
       "description": "",
       "description_tooltip": null,
       "layout": "IPY_MODEL_5976f50a4cac4b12ad3723cdc3b70cfe",
       "placeholder": "​",
       "style": "IPY_MODEL_06a9b711f88643258dc9543174e73466",
       "value": " 559/559 [00:00&lt;00:00, 46.2kB/s]"
      }
     },
     "642a5d8c682a41779ed6dd1cb818de88": {
      "model_module": "@jupyter-widgets/base",
      "model_module_version": "1.2.0",
      "model_name": "LayoutModel",
      "state": {
       "_model_module": "@jupyter-widgets/base",
       "_model_module_version": "1.2.0",
       "_model_name": "LayoutModel",
       "_view_count": null,
       "_view_module": "@jupyter-widgets/base",
       "_view_module_version": "1.2.0",
       "_view_name": "LayoutView",
       "align_content": null,
       "align_items": null,
       "align_self": null,
       "border": null,
       "bottom": null,
       "display": null,
       "flex": null,
       "flex_flow": null,
       "grid_area": null,
       "grid_auto_columns": null,
       "grid_auto_flow": null,
       "grid_auto_rows": null,
       "grid_column": null,
       "grid_gap": null,
       "grid_row": null,
       "grid_template_areas": null,
       "grid_template_columns": null,
       "grid_template_rows": null,
       "height": null,
       "justify_content": null,
       "justify_items": null,
       "left": null,
       "margin": null,
       "max_height": null,
       "max_width": null,
       "min_height": null,
       "min_width": null,
       "object_fit": null,
       "object_position": null,
       "order": null,
       "overflow": null,
       "overflow_x": null,
       "overflow_y": null,
       "padding": null,
       "right": null,
       "top": null,
       "visibility": null,
       "width": null
      }
     },
     "6454c3963cd24d1197c68aae26cba3e7": {
      "model_module": "@jupyter-widgets/base",
      "model_module_version": "1.2.0",
      "model_name": "LayoutModel",
      "state": {
       "_model_module": "@jupyter-widgets/base",
       "_model_module_version": "1.2.0",
       "_model_name": "LayoutModel",
       "_view_count": null,
       "_view_module": "@jupyter-widgets/base",
       "_view_module_version": "1.2.0",
       "_view_name": "LayoutView",
       "align_content": null,
       "align_items": null,
       "align_self": null,
       "border": null,
       "bottom": null,
       "display": null,
       "flex": null,
       "flex_flow": null,
       "grid_area": null,
       "grid_auto_columns": null,
       "grid_auto_flow": null,
       "grid_auto_rows": null,
       "grid_column": null,
       "grid_gap": null,
       "grid_row": null,
       "grid_template_areas": null,
       "grid_template_columns": null,
       "grid_template_rows": null,
       "height": null,
       "justify_content": null,
       "justify_items": null,
       "left": null,
       "margin": null,
       "max_height": null,
       "max_width": null,
       "min_height": null,
       "min_width": null,
       "object_fit": null,
       "object_position": null,
       "order": null,
       "overflow": null,
       "overflow_x": null,
       "overflow_y": null,
       "padding": null,
       "right": null,
       "top": null,
       "visibility": null,
       "width": null
      }
     },
     "64c42f126a1f4d20a815985e705f9786": {
      "model_module": "@jupyter-widgets/base",
      "model_module_version": "1.2.0",
      "model_name": "LayoutModel",
      "state": {
       "_model_module": "@jupyter-widgets/base",
       "_model_module_version": "1.2.0",
       "_model_name": "LayoutModel",
       "_view_count": null,
       "_view_module": "@jupyter-widgets/base",
       "_view_module_version": "1.2.0",
       "_view_name": "LayoutView",
       "align_content": null,
       "align_items": null,
       "align_self": null,
       "border": null,
       "bottom": null,
       "display": null,
       "flex": null,
       "flex_flow": null,
       "grid_area": null,
       "grid_auto_columns": null,
       "grid_auto_flow": null,
       "grid_auto_rows": null,
       "grid_column": null,
       "grid_gap": null,
       "grid_row": null,
       "grid_template_areas": null,
       "grid_template_columns": null,
       "grid_template_rows": null,
       "height": null,
       "justify_content": null,
       "justify_items": null,
       "left": null,
       "margin": null,
       "max_height": null,
       "max_width": null,
       "min_height": null,
       "min_width": null,
       "object_fit": null,
       "object_position": null,
       "order": null,
       "overflow": null,
       "overflow_x": null,
       "overflow_y": null,
       "padding": null,
       "right": null,
       "top": null,
       "visibility": null,
       "width": null
      }
     },
     "67caacecf9aa40eba7fd85cb208ab1a6": {
      "model_module": "@jupyter-widgets/base",
      "model_module_version": "1.2.0",
      "model_name": "LayoutModel",
      "state": {
       "_model_module": "@jupyter-widgets/base",
       "_model_module_version": "1.2.0",
       "_model_name": "LayoutModel",
       "_view_count": null,
       "_view_module": "@jupyter-widgets/base",
       "_view_module_version": "1.2.0",
       "_view_name": "LayoutView",
       "align_content": null,
       "align_items": null,
       "align_self": null,
       "border": null,
       "bottom": null,
       "display": null,
       "flex": null,
       "flex_flow": null,
       "grid_area": null,
       "grid_auto_columns": null,
       "grid_auto_flow": null,
       "grid_auto_rows": null,
       "grid_column": null,
       "grid_gap": null,
       "grid_row": null,
       "grid_template_areas": null,
       "grid_template_columns": null,
       "grid_template_rows": null,
       "height": null,
       "justify_content": null,
       "justify_items": null,
       "left": null,
       "margin": null,
       "max_height": null,
       "max_width": null,
       "min_height": null,
       "min_width": null,
       "object_fit": null,
       "object_position": null,
       "order": null,
       "overflow": null,
       "overflow_x": null,
       "overflow_y": null,
       "padding": null,
       "right": null,
       "top": null,
       "visibility": null,
       "width": null
      }
     },
     "68306b32e1b5432eb084630376a118dc": {
      "model_module": "@jupyter-widgets/controls",
      "model_module_version": "1.5.0",
      "model_name": "HTMLModel",
      "state": {
       "_dom_classes": [],
       "_model_module": "@jupyter-widgets/controls",
       "_model_module_version": "1.5.0",
       "_model_name": "HTMLModel",
       "_view_count": null,
       "_view_module": "@jupyter-widgets/controls",
       "_view_module_version": "1.5.0",
       "_view_name": "HTMLView",
       "description": "",
       "description_tooltip": null,
       "layout": "IPY_MODEL_246198f1b0894361994dc2b2a284bf5c",
       "placeholder": "​",
       "style": "IPY_MODEL_aec2855d05ba4c2ab445768f70082739",
       "value": "config.json: 100%"
      }
     },
     "697bdd6686c64f8889b93cc8103bde5b": {
      "model_module": "@jupyter-widgets/controls",
      "model_module_version": "1.5.0",
      "model_name": "FloatProgressModel",
      "state": {
       "_dom_classes": [],
       "_model_module": "@jupyter-widgets/controls",
       "_model_module_version": "1.5.0",
       "_model_name": "FloatProgressModel",
       "_view_count": null,
       "_view_module": "@jupyter-widgets/controls",
       "_view_module_version": "1.5.0",
       "_view_name": "ProgressView",
       "bar_style": "success",
       "description": "",
       "description_tooltip": null,
       "layout": "IPY_MODEL_2c0a9e1a997e401b88eaa40c645b8f69",
       "max": 1.0,
       "min": 0.0,
       "orientation": "horizontal",
       "style": "IPY_MODEL_0c21ecd618294b5590c6b24c8a811562",
       "value": 1.0
      }
     },
     "69bd2f79b34a4484afb3c39d17ad4176": {
      "model_module": "@jupyter-widgets/controls",
      "model_module_version": "1.5.0",
      "model_name": "HTMLModel",
      "state": {
       "_dom_classes": [],
       "_model_module": "@jupyter-widgets/controls",
       "_model_module_version": "1.5.0",
       "_model_name": "HTMLModel",
       "_view_count": null,
       "_view_module": "@jupyter-widgets/controls",
       "_view_module_version": "1.5.0",
       "_view_name": "HTMLView",
       "description": "",
       "description_tooltip": null,
       "layout": "IPY_MODEL_1891962a9ade4b14aec8d70c7c813c80",
       "placeholder": "​",
       "style": "IPY_MODEL_9d49533cf25b4c1283d4a4080fe352b4",
       "value": "tokenizer.json: 100%"
      }
     },
     "6bbb721dffec45baac3fb58047dd2e85": {
      "model_module": "@jupyter-widgets/base",
      "model_module_version": "1.2.0",
      "model_name": "LayoutModel",
      "state": {
       "_model_module": "@jupyter-widgets/base",
       "_model_module_version": "1.2.0",
       "_model_name": "LayoutModel",
       "_view_count": null,
       "_view_module": "@jupyter-widgets/base",
       "_view_module_version": "1.2.0",
       "_view_name": "LayoutView",
       "align_content": null,
       "align_items": null,
       "align_self": null,
       "border": null,
       "bottom": null,
       "display": null,
       "flex": null,
       "flex_flow": null,
       "grid_area": null,
       "grid_auto_columns": null,
       "grid_auto_flow": null,
       "grid_auto_rows": null,
       "grid_column": null,
       "grid_gap": null,
       "grid_row": null,
       "grid_template_areas": null,
       "grid_template_columns": null,
       "grid_template_rows": null,
       "height": null,
       "justify_content": null,
       "justify_items": null,
       "left": null,
       "margin": null,
       "max_height": null,
       "max_width": null,
       "min_height": null,
       "min_width": null,
       "object_fit": null,
       "object_position": null,
       "order": null,
       "overflow": null,
       "overflow_x": null,
       "overflow_y": null,
       "padding": null,
       "right": null,
       "top": null,
       "visibility": null,
       "width": null
      }
     },
     "6d4029fd389b4d779bbabc71c3fa0339": {
      "model_module": "@jupyter-widgets/controls",
      "model_module_version": "1.5.0",
      "model_name": "DescriptionStyleModel",
      "state": {
       "_model_module": "@jupyter-widgets/controls",
       "_model_module_version": "1.5.0",
       "_model_name": "DescriptionStyleModel",
       "_view_count": null,
       "_view_module": "@jupyter-widgets/base",
       "_view_module_version": "1.2.0",
       "_view_name": "StyleView",
       "description_width": ""
      }
     },
     "6d729503ed01407d85052cc2d4ceeea6": {
      "model_module": "@jupyter-widgets/base",
      "model_module_version": "1.2.0",
      "model_name": "LayoutModel",
      "state": {
       "_model_module": "@jupyter-widgets/base",
       "_model_module_version": "1.2.0",
       "_model_name": "LayoutModel",
       "_view_count": null,
       "_view_module": "@jupyter-widgets/base",
       "_view_module_version": "1.2.0",
       "_view_name": "LayoutView",
       "align_content": null,
       "align_items": null,
       "align_self": null,
       "border": null,
       "bottom": null,
       "display": null,
       "flex": null,
       "flex_flow": null,
       "grid_area": null,
       "grid_auto_columns": null,
       "grid_auto_flow": null,
       "grid_auto_rows": null,
       "grid_column": null,
       "grid_gap": null,
       "grid_row": null,
       "grid_template_areas": null,
       "grid_template_columns": null,
       "grid_template_rows": null,
       "height": null,
       "justify_content": null,
       "justify_items": null,
       "left": null,
       "margin": null,
       "max_height": null,
       "max_width": null,
       "min_height": null,
       "min_width": null,
       "object_fit": null,
       "object_position": null,
       "order": null,
       "overflow": null,
       "overflow_x": null,
       "overflow_y": null,
       "padding": null,
       "right": null,
       "top": null,
       "visibility": null,
       "width": null
      }
     },
     "6f6bc0902a634162be3284e4ee96e4c4": {
      "model_module": "@jupyter-widgets/controls",
      "model_module_version": "1.5.0",
      "model_name": "ProgressStyleModel",
      "state": {
       "_model_module": "@jupyter-widgets/controls",
       "_model_module_version": "1.5.0",
       "_model_name": "ProgressStyleModel",
       "_view_count": null,
       "_view_module": "@jupyter-widgets/base",
       "_view_module_version": "1.2.0",
       "_view_name": "StyleView",
       "bar_color": null,
       "description_width": ""
      }
     },
     "70d3f3e3368042149321ffdfc876616f": {
      "model_module": "@jupyter-widgets/controls",
      "model_module_version": "1.5.0",
      "model_name": "HBoxModel",
      "state": {
       "_dom_classes": [],
       "_model_module": "@jupyter-widgets/controls",
       "_model_module_version": "1.5.0",
       "_model_name": "HBoxModel",
       "_view_count": null,
       "_view_module": "@jupyter-widgets/controls",
       "_view_module_version": "1.5.0",
       "_view_name": "HBoxView",
       "box_style": "",
       "children": [
        "IPY_MODEL_cf79571230b241c8b7a143bd6a385884",
        "IPY_MODEL_b40cea12b58c47a399feaa9e04678d66",
        "IPY_MODEL_c1405dfd08444eafa3f50b91e47b9392"
       ],
       "layout": "IPY_MODEL_6d729503ed01407d85052cc2d4ceeea6"
      }
     },
     "7126fb8bfd9244efae489861c941a681": {
      "model_module": "@jupyter-widgets/controls",
      "model_module_version": "1.5.0",
      "model_name": "HBoxModel",
      "state": {
       "_dom_classes": [],
       "_model_module": "@jupyter-widgets/controls",
       "_model_module_version": "1.5.0",
       "_model_name": "HBoxModel",
       "_view_count": null,
       "_view_module": "@jupyter-widgets/controls",
       "_view_module_version": "1.5.0",
       "_view_name": "HBoxView",
       "box_style": "",
       "children": [
        "IPY_MODEL_9a7db9f582574115bd65c614c0d3ab6d",
        "IPY_MODEL_2c03f375fbea49babe3c8dadbd1fa89e",
        "IPY_MODEL_c97da304a7784a83bdd84fb824e511b8"
       ],
       "layout": "IPY_MODEL_ec632d1658bc462fbe51755a8ed86640"
      }
     },
     "72e851b7bafc4b3fb7e392b54fe1d937": {
      "model_module": "@jupyter-widgets/controls",
      "model_module_version": "1.5.0",
      "model_name": "HBoxModel",
      "state": {
       "_dom_classes": [],
       "_model_module": "@jupyter-widgets/controls",
       "_model_module_version": "1.5.0",
       "_model_name": "HBoxModel",
       "_view_count": null,
       "_view_module": "@jupyter-widgets/controls",
       "_view_module_version": "1.5.0",
       "_view_name": "HBoxView",
       "box_style": "",
       "children": [
        "IPY_MODEL_def3d215420548058ca0667ad3d97bfb",
        "IPY_MODEL_fe0f0058ae2b4b95937ccf5d3c47d90e",
        "IPY_MODEL_4e3e75649b7e4b6db709c6525406ed8f"
       ],
       "layout": "IPY_MODEL_f7ee38a77ec34a0eb076deb1bb2eeb67"
      }
     },
     "76a183fd77074d8bac9da8902095b1d3": {
      "model_module": "@jupyter-widgets/controls",
      "model_module_version": "1.5.0",
      "model_name": "DescriptionStyleModel",
      "state": {
       "_model_module": "@jupyter-widgets/controls",
       "_model_module_version": "1.5.0",
       "_model_name": "DescriptionStyleModel",
       "_view_count": null,
       "_view_module": "@jupyter-widgets/base",
       "_view_module_version": "1.2.0",
       "_view_name": "StyleView",
       "description_width": ""
      }
     },
     "786269aae0824274ad9829f68dbda85a": {
      "model_module": "@jupyter-widgets/base",
      "model_module_version": "1.2.0",
      "model_name": "LayoutModel",
      "state": {
       "_model_module": "@jupyter-widgets/base",
       "_model_module_version": "1.2.0",
       "_model_name": "LayoutModel",
       "_view_count": null,
       "_view_module": "@jupyter-widgets/base",
       "_view_module_version": "1.2.0",
       "_view_name": "LayoutView",
       "align_content": null,
       "align_items": null,
       "align_self": null,
       "border": null,
       "bottom": null,
       "display": null,
       "flex": null,
       "flex_flow": null,
       "grid_area": null,
       "grid_auto_columns": null,
       "grid_auto_flow": null,
       "grid_auto_rows": null,
       "grid_column": null,
       "grid_gap": null,
       "grid_row": null,
       "grid_template_areas": null,
       "grid_template_columns": null,
       "grid_template_rows": null,
       "height": null,
       "justify_content": null,
       "justify_items": null,
       "left": null,
       "margin": null,
       "max_height": null,
       "max_width": null,
       "min_height": null,
       "min_width": null,
       "object_fit": null,
       "object_position": null,
       "order": null,
       "overflow": null,
       "overflow_x": null,
       "overflow_y": null,
       "padding": null,
       "right": null,
       "top": null,
       "visibility": null,
       "width": null
      }
     },
     "787c3b890ca9423a9e6bea6f9c234315": {
      "model_module": "@jupyter-widgets/base",
      "model_module_version": "1.2.0",
      "model_name": "LayoutModel",
      "state": {
       "_model_module": "@jupyter-widgets/base",
       "_model_module_version": "1.2.0",
       "_model_name": "LayoutModel",
       "_view_count": null,
       "_view_module": "@jupyter-widgets/base",
       "_view_module_version": "1.2.0",
       "_view_name": "LayoutView",
       "align_content": null,
       "align_items": null,
       "align_self": null,
       "border": null,
       "bottom": null,
       "display": null,
       "flex": null,
       "flex_flow": null,
       "grid_area": null,
       "grid_auto_columns": null,
       "grid_auto_flow": null,
       "grid_auto_rows": null,
       "grid_column": null,
       "grid_gap": null,
       "grid_row": null,
       "grid_template_areas": null,
       "grid_template_columns": null,
       "grid_template_rows": null,
       "height": null,
       "justify_content": null,
       "justify_items": null,
       "left": null,
       "margin": null,
       "max_height": null,
       "max_width": null,
       "min_height": null,
       "min_width": null,
       "object_fit": null,
       "object_position": null,
       "order": null,
       "overflow": null,
       "overflow_x": null,
       "overflow_y": null,
       "padding": null,
       "right": null,
       "top": null,
       "visibility": null,
       "width": null
      }
     },
     "7d6f6acb38b94dce8af14e55973f55d4": {
      "model_module": "@jupyter-widgets/controls",
      "model_module_version": "1.5.0",
      "model_name": "HTMLModel",
      "state": {
       "_dom_classes": [],
       "_model_module": "@jupyter-widgets/controls",
       "_model_module_version": "1.5.0",
       "_model_name": "HTMLModel",
       "_view_count": null,
       "_view_module": "@jupyter-widgets/controls",
       "_view_module_version": "1.5.0",
       "_view_name": "HTMLView",
       "description": "",
       "description_tooltip": null,
       "layout": "IPY_MODEL_4a8f0c390b1d47c6945da5d0db02de1c",
       "placeholder": "​",
       "style": "IPY_MODEL_f305fa15de5b4cb1b1590cbbbdb46583",
       "value": " 714/0 [00:00&lt;00:00, 12147.54 examples/s]"
      }
     },
     "8154fd99c473469eb61d1e6bb8bf1f4c": {
      "model_module": "@jupyter-widgets/base",
      "model_module_version": "1.2.0",
      "model_name": "LayoutModel",
      "state": {
       "_model_module": "@jupyter-widgets/base",
       "_model_module_version": "1.2.0",
       "_model_name": "LayoutModel",
       "_view_count": null,
       "_view_module": "@jupyter-widgets/base",
       "_view_module_version": "1.2.0",
       "_view_name": "LayoutView",
       "align_content": null,
       "align_items": null,
       "align_self": null,
       "border": null,
       "bottom": null,
       "display": null,
       "flex": null,
       "flex_flow": null,
       "grid_area": null,
       "grid_auto_columns": null,
       "grid_auto_flow": null,
       "grid_auto_rows": null,
       "grid_column": null,
       "grid_gap": null,
       "grid_row": null,
       "grid_template_areas": null,
       "grid_template_columns": null,
       "grid_template_rows": null,
       "height": null,
       "justify_content": null,
       "justify_items": null,
       "left": null,
       "margin": null,
       "max_height": null,
       "max_width": null,
       "min_height": null,
       "min_width": null,
       "object_fit": null,
       "object_position": null,
       "order": null,
       "overflow": null,
       "overflow_x": null,
       "overflow_y": null,
       "padding": null,
       "right": null,
       "top": null,
       "visibility": null,
       "width": null
      }
     },
     "81927b5b8b9f4a45b60aafeb507d42ee": {
      "model_module": "@jupyter-widgets/controls",
      "model_module_version": "1.5.0",
      "model_name": "HBoxModel",
      "state": {
       "_dom_classes": [],
       "_model_module": "@jupyter-widgets/controls",
       "_model_module_version": "1.5.0",
       "_model_name": "HBoxModel",
       "_view_count": null,
       "_view_module": "@jupyter-widgets/controls",
       "_view_module_version": "1.5.0",
       "_view_name": "HBoxView",
       "box_style": "",
       "children": [
        "IPY_MODEL_68306b32e1b5432eb084630376a118dc",
        "IPY_MODEL_180f568e749745718df13fcc6764e540",
        "IPY_MODEL_63219ce7c8dc4e1588e9402e02e5d636"
       ],
       "layout": "IPY_MODEL_004fb5f0b6dd4a1096f21709368e14df"
      }
     },
     "833d546bdb734d86843688e103ebd4b9": {
      "model_module": "@jupyter-widgets/controls",
      "model_module_version": "1.5.0",
      "model_name": "HTMLModel",
      "state": {
       "_dom_classes": [],
       "_model_module": "@jupyter-widgets/controls",
       "_model_module_version": "1.5.0",
       "_model_name": "HTMLModel",
       "_view_count": null,
       "_view_module": "@jupyter-widgets/controls",
       "_view_module_version": "1.5.0",
       "_view_name": "HTMLView",
       "description": "",
       "description_tooltip": null,
       "layout": "IPY_MODEL_5ad8a3a7cabe42c4bf60171d1f6a2038",
       "placeholder": "​",
       "style": "IPY_MODEL_3fe486115413491180b3616bdb82911f",
       "value": "tokenizer_config.json: 100%"
      }
     },
     "8ae4ca00d76a4542a1a5e92eb10646f5": {
      "model_module": "@jupyter-widgets/base",
      "model_module_version": "1.2.0",
      "model_name": "LayoutModel",
      "state": {
       "_model_module": "@jupyter-widgets/base",
       "_model_module_version": "1.2.0",
       "_model_name": "LayoutModel",
       "_view_count": null,
       "_view_module": "@jupyter-widgets/base",
       "_view_module_version": "1.2.0",
       "_view_name": "LayoutView",
       "align_content": null,
       "align_items": null,
       "align_self": null,
       "border": null,
       "bottom": null,
       "display": null,
       "flex": null,
       "flex_flow": null,
       "grid_area": null,
       "grid_auto_columns": null,
       "grid_auto_flow": null,
       "grid_auto_rows": null,
       "grid_column": null,
       "grid_gap": null,
       "grid_row": null,
       "grid_template_areas": null,
       "grid_template_columns": null,
       "grid_template_rows": null,
       "height": null,
       "justify_content": null,
       "justify_items": null,
       "left": null,
       "margin": null,
       "max_height": null,
       "max_width": null,
       "min_height": null,
       "min_width": null,
       "object_fit": null,
       "object_position": null,
       "order": null,
       "overflow": null,
       "overflow_x": null,
       "overflow_y": null,
       "padding": null,
       "right": null,
       "top": null,
       "visibility": null,
       "width": null
      }
     },
     "8c8fd75a6be1458b93b5c80321849fd8": {
      "model_module": "@jupyter-widgets/base",
      "model_module_version": "1.2.0",
      "model_name": "LayoutModel",
      "state": {
       "_model_module": "@jupyter-widgets/base",
       "_model_module_version": "1.2.0",
       "_model_name": "LayoutModel",
       "_view_count": null,
       "_view_module": "@jupyter-widgets/base",
       "_view_module_version": "1.2.0",
       "_view_name": "LayoutView",
       "align_content": null,
       "align_items": null,
       "align_self": null,
       "border": null,
       "bottom": null,
       "display": null,
       "flex": null,
       "flex_flow": null,
       "grid_area": null,
       "grid_auto_columns": null,
       "grid_auto_flow": null,
       "grid_auto_rows": null,
       "grid_column": null,
       "grid_gap": null,
       "grid_row": null,
       "grid_template_areas": null,
       "grid_template_columns": null,
       "grid_template_rows": null,
       "height": null,
       "justify_content": null,
       "justify_items": null,
       "left": null,
       "margin": null,
       "max_height": null,
       "max_width": null,
       "min_height": null,
       "min_width": null,
       "object_fit": null,
       "object_position": null,
       "order": null,
       "overflow": null,
       "overflow_x": null,
       "overflow_y": null,
       "padding": null,
       "right": null,
       "top": null,
       "visibility": null,
       "width": null
      }
     },
     "8f415a82087e4353ad9dffd141760a1a": {
      "model_module": "@jupyter-widgets/controls",
      "model_module_version": "1.5.0",
      "model_name": "FloatProgressModel",
      "state": {
       "_dom_classes": [],
       "_model_module": "@jupyter-widgets/controls",
       "_model_module_version": "1.5.0",
       "_model_name": "FloatProgressModel",
       "_view_count": null,
       "_view_module": "@jupyter-widgets/controls",
       "_view_module_version": "1.5.0",
       "_view_name": "ProgressView",
       "bar_style": "success",
       "description": "",
       "description_tooltip": null,
       "layout": "IPY_MODEL_4f1728dba3184c7aae4f148a636f9630",
       "max": 3.0,
       "min": 0.0,
       "orientation": "horizontal",
       "style": "IPY_MODEL_1db93fc340fc4a6286d5edb11218422f",
       "value": 3.0
      }
     },
     "8f4c60306b1b4759ab3cea568eb0d251": {
      "model_module": "@jupyter-widgets/controls",
      "model_module_version": "1.5.0",
      "model_name": "DescriptionStyleModel",
      "state": {
       "_model_module": "@jupyter-widgets/controls",
       "_model_module_version": "1.5.0",
       "_model_name": "DescriptionStyleModel",
       "_view_count": null,
       "_view_module": "@jupyter-widgets/base",
       "_view_module_version": "1.2.0",
       "_view_name": "StyleView",
       "description_width": ""
      }
     },
     "907065ebbc284819877f9019e3042ac0": {
      "model_module": "@jupyter-widgets/controls",
      "model_module_version": "1.5.0",
      "model_name": "FloatProgressModel",
      "state": {
       "_dom_classes": [],
       "_model_module": "@jupyter-widgets/controls",
       "_model_module_version": "1.5.0",
       "_model_name": "FloatProgressModel",
       "_view_count": null,
       "_view_module": "@jupyter-widgets/controls",
       "_view_module_version": "1.5.0",
       "_view_name": "ProgressView",
       "bar_style": "success",
       "description": "",
       "description_tooltip": null,
       "layout": "IPY_MODEL_e85bcc0061c34d59acad0400e5a22de1",
       "max": 3.0,
       "min": 0.0,
       "orientation": "horizontal",
       "style": "IPY_MODEL_ddc65b003eee4902b8ab42d4064bc19f",
       "value": 3.0
      }
     },
     "90bb5d65ef234bf6b993effc12a4b911": {
      "model_module": "@jupyter-widgets/base",
      "model_module_version": "1.2.0",
      "model_name": "LayoutModel",
      "state": {
       "_model_module": "@jupyter-widgets/base",
       "_model_module_version": "1.2.0",
       "_model_name": "LayoutModel",
       "_view_count": null,
       "_view_module": "@jupyter-widgets/base",
       "_view_module_version": "1.2.0",
       "_view_name": "LayoutView",
       "align_content": null,
       "align_items": null,
       "align_self": null,
       "border": null,
       "bottom": null,
       "display": null,
       "flex": null,
       "flex_flow": null,
       "grid_area": null,
       "grid_auto_columns": null,
       "grid_auto_flow": null,
       "grid_auto_rows": null,
       "grid_column": null,
       "grid_gap": null,
       "grid_row": null,
       "grid_template_areas": null,
       "grid_template_columns": null,
       "grid_template_rows": null,
       "height": null,
       "justify_content": null,
       "justify_items": null,
       "left": null,
       "margin": null,
       "max_height": null,
       "max_width": null,
       "min_height": null,
       "min_width": null,
       "object_fit": null,
       "object_position": null,
       "order": null,
       "overflow": null,
       "overflow_x": null,
       "overflow_y": null,
       "padding": null,
       "right": null,
       "top": null,
       "visibility": null,
       "width": "20px"
      }
     },
     "919b8e62f0b044ebafc4780025d75589": {
      "model_module": "@jupyter-widgets/base",
      "model_module_version": "1.2.0",
      "model_name": "LayoutModel",
      "state": {
       "_model_module": "@jupyter-widgets/base",
       "_model_module_version": "1.2.0",
       "_model_name": "LayoutModel",
       "_view_count": null,
       "_view_module": "@jupyter-widgets/base",
       "_view_module_version": "1.2.0",
       "_view_name": "LayoutView",
       "align_content": null,
       "align_items": null,
       "align_self": null,
       "border": null,
       "bottom": null,
       "display": null,
       "flex": null,
       "flex_flow": null,
       "grid_area": null,
       "grid_auto_columns": null,
       "grid_auto_flow": null,
       "grid_auto_rows": null,
       "grid_column": null,
       "grid_gap": null,
       "grid_row": null,
       "grid_template_areas": null,
       "grid_template_columns": null,
       "grid_template_rows": null,
       "height": null,
       "justify_content": null,
       "justify_items": null,
       "left": null,
       "margin": null,
       "max_height": null,
       "max_width": null,
       "min_height": null,
       "min_width": null,
       "object_fit": null,
       "object_position": null,
       "order": null,
       "overflow": null,
       "overflow_x": null,
       "overflow_y": null,
       "padding": null,
       "right": null,
       "top": null,
       "visibility": null,
       "width": null
      }
     },
     "93a6861fb7084d45ba00ec70ab710095": {
      "model_module": "@jupyter-widgets/controls",
      "model_module_version": "1.5.0",
      "model_name": "HBoxModel",
      "state": {
       "_dom_classes": [],
       "_model_module": "@jupyter-widgets/controls",
       "_model_module_version": "1.5.0",
       "_model_name": "HBoxModel",
       "_view_count": null,
       "_view_module": "@jupyter-widgets/controls",
       "_view_module_version": "1.5.0",
       "_view_name": "HBoxView",
       "box_style": "",
       "children": [
        "IPY_MODEL_c25cd489d2bc440fa5152e53c267cb6b",
        "IPY_MODEL_caa56606bbdd4401ad37d72448bc8c17",
        "IPY_MODEL_574d279973c64918a940b57fa45b85b2"
       ],
       "layout": "IPY_MODEL_c2e40b895f3c499f8b0ad2216d59b854"
      }
     },
     "9451068769e142deab902397e88a9f7a": {
      "model_module": "@jupyter-widgets/base",
      "model_module_version": "1.2.0",
      "model_name": "LayoutModel",
      "state": {
       "_model_module": "@jupyter-widgets/base",
       "_model_module_version": "1.2.0",
       "_model_name": "LayoutModel",
       "_view_count": null,
       "_view_module": "@jupyter-widgets/base",
       "_view_module_version": "1.2.0",
       "_view_name": "LayoutView",
       "align_content": null,
       "align_items": null,
       "align_self": null,
       "border": null,
       "bottom": null,
       "display": null,
       "flex": null,
       "flex_flow": null,
       "grid_area": null,
       "grid_auto_columns": null,
       "grid_auto_flow": null,
       "grid_auto_rows": null,
       "grid_column": null,
       "grid_gap": null,
       "grid_row": null,
       "grid_template_areas": null,
       "grid_template_columns": null,
       "grid_template_rows": null,
       "height": null,
       "justify_content": null,
       "justify_items": null,
       "left": null,
       "margin": null,
       "max_height": null,
       "max_width": null,
       "min_height": null,
       "min_width": null,
       "object_fit": null,
       "object_position": null,
       "order": null,
       "overflow": null,
       "overflow_x": null,
       "overflow_y": null,
       "padding": null,
       "right": null,
       "top": null,
       "visibility": null,
       "width": null
      }
     },
     "96c0d4e92acf42439eeefe4b26b4ded4": {
      "model_module": "@jupyter-widgets/base",
      "model_module_version": "1.2.0",
      "model_name": "LayoutModel",
      "state": {
       "_model_module": "@jupyter-widgets/base",
       "_model_module_version": "1.2.0",
       "_model_name": "LayoutModel",
       "_view_count": null,
       "_view_module": "@jupyter-widgets/base",
       "_view_module_version": "1.2.0",
       "_view_name": "LayoutView",
       "align_content": null,
       "align_items": null,
       "align_self": null,
       "border": null,
       "bottom": null,
       "display": null,
       "flex": null,
       "flex_flow": null,
       "grid_area": null,
       "grid_auto_columns": null,
       "grid_auto_flow": null,
       "grid_auto_rows": null,
       "grid_column": null,
       "grid_gap": null,
       "grid_row": null,
       "grid_template_areas": null,
       "grid_template_columns": null,
       "grid_template_rows": null,
       "height": null,
       "justify_content": null,
       "justify_items": null,
       "left": null,
       "margin": null,
       "max_height": null,
       "max_width": null,
       "min_height": null,
       "min_width": null,
       "object_fit": null,
       "object_position": null,
       "order": null,
       "overflow": null,
       "overflow_x": null,
       "overflow_y": null,
       "padding": null,
       "right": null,
       "top": null,
       "visibility": null,
       "width": null
      }
     },
     "97167b0344934c87a388d991c3bf356d": {
      "model_module": "@jupyter-widgets/base",
      "model_module_version": "1.2.0",
      "model_name": "LayoutModel",
      "state": {
       "_model_module": "@jupyter-widgets/base",
       "_model_module_version": "1.2.0",
       "_model_name": "LayoutModel",
       "_view_count": null,
       "_view_module": "@jupyter-widgets/base",
       "_view_module_version": "1.2.0",
       "_view_name": "LayoutView",
       "align_content": null,
       "align_items": null,
       "align_self": null,
       "border": null,
       "bottom": null,
       "display": null,
       "flex": null,
       "flex_flow": null,
       "grid_area": null,
       "grid_auto_columns": null,
       "grid_auto_flow": null,
       "grid_auto_rows": null,
       "grid_column": null,
       "grid_gap": null,
       "grid_row": null,
       "grid_template_areas": null,
       "grid_template_columns": null,
       "grid_template_rows": null,
       "height": null,
       "justify_content": null,
       "justify_items": null,
       "left": null,
       "margin": null,
       "max_height": null,
       "max_width": null,
       "min_height": null,
       "min_width": null,
       "object_fit": null,
       "object_position": null,
       "order": null,
       "overflow": null,
       "overflow_x": null,
       "overflow_y": null,
       "padding": null,
       "right": null,
       "top": null,
       "visibility": null,
       "width": null
      }
     },
     "980a9fc8ac044c70a59b35dce87213fa": {
      "model_module": "@jupyter-widgets/controls",
      "model_module_version": "1.5.0",
      "model_name": "HBoxModel",
      "state": {
       "_dom_classes": [],
       "_model_module": "@jupyter-widgets/controls",
       "_model_module_version": "1.5.0",
       "_model_name": "HBoxModel",
       "_view_count": null,
       "_view_module": "@jupyter-widgets/controls",
       "_view_module_version": "1.5.0",
       "_view_name": "HBoxView",
       "box_style": "",
       "children": [
        "IPY_MODEL_3243a00685994452ac002c5097709216",
        "IPY_MODEL_514176dac0194030a59bd065d7393a3b",
        "IPY_MODEL_4e68defcc68a4906aff8f52e109bd89a"
       ],
       "layout": "IPY_MODEL_a2a90e9fd7474ab1a73fd5d0a006a8be"
      }
     },
     "9a7db9f582574115bd65c614c0d3ab6d": {
      "model_module": "@jupyter-widgets/controls",
      "model_module_version": "1.5.0",
      "model_name": "HTMLModel",
      "state": {
       "_dom_classes": [],
       "_model_module": "@jupyter-widgets/controls",
       "_model_module_version": "1.5.0",
       "_model_name": "HTMLModel",
       "_view_count": null,
       "_view_module": "@jupyter-widgets/controls",
       "_view_module_version": "1.5.0",
       "_view_name": "HTMLView",
       "description": "",
       "description_tooltip": null,
       "layout": "IPY_MODEL_a1f89eb2af16439187dd73a31eea4f74",
       "placeholder": "​",
       "style": "IPY_MODEL_4212d517814c4c46900d55268ae11995",
       "value": "model.safetensors: 100%"
      }
     },
     "9bc4368f41f84262a5078b3e5edf7a3a": {
      "model_module": "@jupyter-widgets/base",
      "model_module_version": "1.2.0",
      "model_name": "LayoutModel",
      "state": {
       "_model_module": "@jupyter-widgets/base",
       "_model_module_version": "1.2.0",
       "_model_name": "LayoutModel",
       "_view_count": null,
       "_view_module": "@jupyter-widgets/base",
       "_view_module_version": "1.2.0",
       "_view_name": "LayoutView",
       "align_content": null,
       "align_items": null,
       "align_self": null,
       "border": null,
       "bottom": null,
       "display": null,
       "flex": null,
       "flex_flow": null,
       "grid_area": null,
       "grid_auto_columns": null,
       "grid_auto_flow": null,
       "grid_auto_rows": null,
       "grid_column": null,
       "grid_gap": null,
       "grid_row": null,
       "grid_template_areas": null,
       "grid_template_columns": null,
       "grid_template_rows": null,
       "height": null,
       "justify_content": null,
       "justify_items": null,
       "left": null,
       "margin": null,
       "max_height": null,
       "max_width": null,
       "min_height": null,
       "min_width": null,
       "object_fit": null,
       "object_position": null,
       "order": null,
       "overflow": null,
       "overflow_x": null,
       "overflow_y": null,
       "padding": null,
       "right": null,
       "top": null,
       "visibility": null,
       "width": null
      }
     },
     "9d49533cf25b4c1283d4a4080fe352b4": {
      "model_module": "@jupyter-widgets/controls",
      "model_module_version": "1.5.0",
      "model_name": "DescriptionStyleModel",
      "state": {
       "_model_module": "@jupyter-widgets/controls",
       "_model_module_version": "1.5.0",
       "_model_name": "DescriptionStyleModel",
       "_view_count": null,
       "_view_module": "@jupyter-widgets/base",
       "_view_module_version": "1.2.0",
       "_view_name": "StyleView",
       "description_width": ""
      }
     },
     "9f58df2d9b6649b696e5e3c183d66ac6": {
      "model_module": "@jupyter-widgets/controls",
      "model_module_version": "1.5.0",
      "model_name": "DescriptionStyleModel",
      "state": {
       "_model_module": "@jupyter-widgets/controls",
       "_model_module_version": "1.5.0",
       "_model_name": "DescriptionStyleModel",
       "_view_count": null,
       "_view_module": "@jupyter-widgets/base",
       "_view_module_version": "1.2.0",
       "_view_name": "StyleView",
       "description_width": ""
      }
     },
     "9fd1eaef878046f19f3ed3c62896dbae": {
      "model_module": "@jupyter-widgets/controls",
      "model_module_version": "1.5.0",
      "model_name": "DescriptionStyleModel",
      "state": {
       "_model_module": "@jupyter-widgets/controls",
       "_model_module_version": "1.5.0",
       "_model_name": "DescriptionStyleModel",
       "_view_count": null,
       "_view_module": "@jupyter-widgets/base",
       "_view_module_version": "1.2.0",
       "_view_name": "StyleView",
       "description_width": ""
      }
     },
     "a027f58db9e94e368ee06166f390813f": {
      "model_module": "@jupyter-widgets/base",
      "model_module_version": "1.2.0",
      "model_name": "LayoutModel",
      "state": {
       "_model_module": "@jupyter-widgets/base",
       "_model_module_version": "1.2.0",
       "_model_name": "LayoutModel",
       "_view_count": null,
       "_view_module": "@jupyter-widgets/base",
       "_view_module_version": "1.2.0",
       "_view_name": "LayoutView",
       "align_content": null,
       "align_items": null,
       "align_self": null,
       "border": null,
       "bottom": null,
       "display": null,
       "flex": null,
       "flex_flow": null,
       "grid_area": null,
       "grid_auto_columns": null,
       "grid_auto_flow": null,
       "grid_auto_rows": null,
       "grid_column": null,
       "grid_gap": null,
       "grid_row": null,
       "grid_template_areas": null,
       "grid_template_columns": null,
       "grid_template_rows": null,
       "height": null,
       "justify_content": null,
       "justify_items": null,
       "left": null,
       "margin": null,
       "max_height": null,
       "max_width": null,
       "min_height": null,
       "min_width": null,
       "object_fit": null,
       "object_position": null,
       "order": null,
       "overflow": null,
       "overflow_x": null,
       "overflow_y": null,
       "padding": null,
       "right": null,
       "top": null,
       "visibility": null,
       "width": null
      }
     },
     "a106a07516c146d8b9b5443b129bbc30": {
      "model_module": "@jupyter-widgets/controls",
      "model_module_version": "1.5.0",
      "model_name": "ProgressStyleModel",
      "state": {
       "_model_module": "@jupyter-widgets/controls",
       "_model_module_version": "1.5.0",
       "_model_name": "ProgressStyleModel",
       "_view_count": null,
       "_view_module": "@jupyter-widgets/base",
       "_view_module_version": "1.2.0",
       "_view_name": "StyleView",
       "bar_color": null,
       "description_width": ""
      }
     },
     "a1f89eb2af16439187dd73a31eea4f74": {
      "model_module": "@jupyter-widgets/base",
      "model_module_version": "1.2.0",
      "model_name": "LayoutModel",
      "state": {
       "_model_module": "@jupyter-widgets/base",
       "_model_module_version": "1.2.0",
       "_model_name": "LayoutModel",
       "_view_count": null,
       "_view_module": "@jupyter-widgets/base",
       "_view_module_version": "1.2.0",
       "_view_name": "LayoutView",
       "align_content": null,
       "align_items": null,
       "align_self": null,
       "border": null,
       "bottom": null,
       "display": null,
       "flex": null,
       "flex_flow": null,
       "grid_area": null,
       "grid_auto_columns": null,
       "grid_auto_flow": null,
       "grid_auto_rows": null,
       "grid_column": null,
       "grid_gap": null,
       "grid_row": null,
       "grid_template_areas": null,
       "grid_template_columns": null,
       "grid_template_rows": null,
       "height": null,
       "justify_content": null,
       "justify_items": null,
       "left": null,
       "margin": null,
       "max_height": null,
       "max_width": null,
       "min_height": null,
       "min_width": null,
       "object_fit": null,
       "object_position": null,
       "order": null,
       "overflow": null,
       "overflow_x": null,
       "overflow_y": null,
       "padding": null,
       "right": null,
       "top": null,
       "visibility": null,
       "width": null
      }
     },
     "a2a90e9fd7474ab1a73fd5d0a006a8be": {
      "model_module": "@jupyter-widgets/base",
      "model_module_version": "1.2.0",
      "model_name": "LayoutModel",
      "state": {
       "_model_module": "@jupyter-widgets/base",
       "_model_module_version": "1.2.0",
       "_model_name": "LayoutModel",
       "_view_count": null,
       "_view_module": "@jupyter-widgets/base",
       "_view_module_version": "1.2.0",
       "_view_name": "LayoutView",
       "align_content": null,
       "align_items": null,
       "align_self": null,
       "border": null,
       "bottom": null,
       "display": null,
       "flex": null,
       "flex_flow": null,
       "grid_area": null,
       "grid_auto_columns": null,
       "grid_auto_flow": null,
       "grid_auto_rows": null,
       "grid_column": null,
       "grid_gap": null,
       "grid_row": null,
       "grid_template_areas": null,
       "grid_template_columns": null,
       "grid_template_rows": null,
       "height": null,
       "justify_content": null,
       "justify_items": null,
       "left": null,
       "margin": null,
       "max_height": null,
       "max_width": null,
       "min_height": null,
       "min_width": null,
       "object_fit": null,
       "object_position": null,
       "order": null,
       "overflow": null,
       "overflow_x": null,
       "overflow_y": null,
       "padding": null,
       "right": null,
       "top": null,
       "visibility": null,
       "width": null
      }
     },
     "a2ceb758364b4d579fd73b13cacbaca3": {
      "model_module": "@jupyter-widgets/controls",
      "model_module_version": "1.5.0",
      "model_name": "FloatProgressModel",
      "state": {
       "_dom_classes": [],
       "_model_module": "@jupyter-widgets/controls",
       "_model_module_version": "1.5.0",
       "_model_name": "FloatProgressModel",
       "_view_count": null,
       "_view_module": "@jupyter-widgets/controls",
       "_view_module_version": "1.5.0",
       "_view_name": "ProgressView",
       "bar_style": "success",
       "description": "",
       "description_tooltip": null,
       "layout": "IPY_MODEL_251b77f569b749ea890f4b57c37ac190",
       "max": 3.0,
       "min": 0.0,
       "orientation": "horizontal",
       "style": "IPY_MODEL_a106a07516c146d8b9b5443b129bbc30",
       "value": 3.0
      }
     },
     "a6d75e8475154c4f8a0e3ff312ea3a91": {
      "model_module": "@jupyter-widgets/base",
      "model_module_version": "1.2.0",
      "model_name": "LayoutModel",
      "state": {
       "_model_module": "@jupyter-widgets/base",
       "_model_module_version": "1.2.0",
       "_model_name": "LayoutModel",
       "_view_count": null,
       "_view_module": "@jupyter-widgets/base",
       "_view_module_version": "1.2.0",
       "_view_name": "LayoutView",
       "align_content": null,
       "align_items": null,
       "align_self": null,
       "border": null,
       "bottom": null,
       "display": null,
       "flex": null,
       "flex_flow": null,
       "grid_area": null,
       "grid_auto_columns": null,
       "grid_auto_flow": null,
       "grid_auto_rows": null,
       "grid_column": null,
       "grid_gap": null,
       "grid_row": null,
       "grid_template_areas": null,
       "grid_template_columns": null,
       "grid_template_rows": null,
       "height": null,
       "justify_content": null,
       "justify_items": null,
       "left": null,
       "margin": null,
       "max_height": null,
       "max_width": null,
       "min_height": null,
       "min_width": null,
       "object_fit": null,
       "object_position": null,
       "order": null,
       "overflow": null,
       "overflow_x": null,
       "overflow_y": null,
       "padding": null,
       "right": null,
       "top": null,
       "visibility": null,
       "width": null
      }
     },
     "ad4faf089eb44ac8aeb964df3973efa3": {
      "model_module": "@jupyter-widgets/controls",
      "model_module_version": "1.5.0",
      "model_name": "DescriptionStyleModel",
      "state": {
       "_model_module": "@jupyter-widgets/controls",
       "_model_module_version": "1.5.0",
       "_model_name": "DescriptionStyleModel",
       "_view_count": null,
       "_view_module": "@jupyter-widgets/base",
       "_view_module_version": "1.2.0",
       "_view_name": "StyleView",
       "description_width": ""
      }
     },
     "ad7cebea7a274a70b263dca362ca65a1": {
      "model_module": "@jupyter-widgets/controls",
      "model_module_version": "1.5.0",
      "model_name": "ProgressStyleModel",
      "state": {
       "_model_module": "@jupyter-widgets/controls",
       "_model_module_version": "1.5.0",
       "_model_name": "ProgressStyleModel",
       "_view_count": null,
       "_view_module": "@jupyter-widgets/base",
       "_view_module_version": "1.2.0",
       "_view_name": "StyleView",
       "bar_color": null,
       "description_width": ""
      }
     },
     "aec2855d05ba4c2ab445768f70082739": {
      "model_module": "@jupyter-widgets/controls",
      "model_module_version": "1.5.0",
      "model_name": "DescriptionStyleModel",
      "state": {
       "_model_module": "@jupyter-widgets/controls",
       "_model_module_version": "1.5.0",
       "_model_name": "DescriptionStyleModel",
       "_view_count": null,
       "_view_module": "@jupyter-widgets/base",
       "_view_module_version": "1.2.0",
       "_view_name": "StyleView",
       "description_width": ""
      }
     },
     "b028acc66bd3427d9b019d386562ed76": {
      "model_module": "@jupyter-widgets/controls",
      "model_module_version": "1.5.0",
      "model_name": "ProgressStyleModel",
      "state": {
       "_model_module": "@jupyter-widgets/controls",
       "_model_module_version": "1.5.0",
       "_model_name": "ProgressStyleModel",
       "_view_count": null,
       "_view_module": "@jupyter-widgets/base",
       "_view_module_version": "1.2.0",
       "_view_name": "StyleView",
       "bar_color": null,
       "description_width": ""
      }
     },
     "b096adaad3544557b0936b1d551c8fc1": {
      "model_module": "@jupyter-widgets/controls",
      "model_module_version": "1.5.0",
      "model_name": "DescriptionStyleModel",
      "state": {
       "_model_module": "@jupyter-widgets/controls",
       "_model_module_version": "1.5.0",
       "_model_name": "DescriptionStyleModel",
       "_view_count": null,
       "_view_module": "@jupyter-widgets/base",
       "_view_module_version": "1.2.0",
       "_view_name": "StyleView",
       "description_width": ""
      }
     },
     "b0a323243a4b4e50a5af0df68d509b25": {
      "model_module": "@jupyter-widgets/base",
      "model_module_version": "1.2.0",
      "model_name": "LayoutModel",
      "state": {
       "_model_module": "@jupyter-widgets/base",
       "_model_module_version": "1.2.0",
       "_model_name": "LayoutModel",
       "_view_count": null,
       "_view_module": "@jupyter-widgets/base",
       "_view_module_version": "1.2.0",
       "_view_name": "LayoutView",
       "align_content": null,
       "align_items": null,
       "align_self": null,
       "border": null,
       "bottom": null,
       "display": null,
       "flex": null,
       "flex_flow": null,
       "grid_area": null,
       "grid_auto_columns": null,
       "grid_auto_flow": null,
       "grid_auto_rows": null,
       "grid_column": null,
       "grid_gap": null,
       "grid_row": null,
       "grid_template_areas": null,
       "grid_template_columns": null,
       "grid_template_rows": null,
       "height": null,
       "justify_content": null,
       "justify_items": null,
       "left": null,
       "margin": null,
       "max_height": null,
       "max_width": null,
       "min_height": null,
       "min_width": null,
       "object_fit": null,
       "object_position": null,
       "order": null,
       "overflow": null,
       "overflow_x": null,
       "overflow_y": null,
       "padding": null,
       "right": null,
       "top": null,
       "visibility": null,
       "width": null
      }
     },
     "b2ebd40d22984a9f9ab7c37abfa048a1": {
      "model_module": "@jupyter-widgets/base",
      "model_module_version": "1.2.0",
      "model_name": "LayoutModel",
      "state": {
       "_model_module": "@jupyter-widgets/base",
       "_model_module_version": "1.2.0",
       "_model_name": "LayoutModel",
       "_view_count": null,
       "_view_module": "@jupyter-widgets/base",
       "_view_module_version": "1.2.0",
       "_view_name": "LayoutView",
       "align_content": null,
       "align_items": null,
       "align_self": null,
       "border": null,
       "bottom": null,
       "display": null,
       "flex": null,
       "flex_flow": null,
       "grid_area": null,
       "grid_auto_columns": null,
       "grid_auto_flow": null,
       "grid_auto_rows": null,
       "grid_column": null,
       "grid_gap": null,
       "grid_row": null,
       "grid_template_areas": null,
       "grid_template_columns": null,
       "grid_template_rows": null,
       "height": null,
       "justify_content": null,
       "justify_items": null,
       "left": null,
       "margin": null,
       "max_height": null,
       "max_width": null,
       "min_height": null,
       "min_width": null,
       "object_fit": null,
       "object_position": null,
       "order": null,
       "overflow": null,
       "overflow_x": null,
       "overflow_y": null,
       "padding": null,
       "right": null,
       "top": null,
       "visibility": null,
       "width": null
      }
     },
     "b349c1da1caf487fa495365feb17c058": {
      "model_module": "@jupyter-widgets/base",
      "model_module_version": "1.2.0",
      "model_name": "LayoutModel",
      "state": {
       "_model_module": "@jupyter-widgets/base",
       "_model_module_version": "1.2.0",
       "_model_name": "LayoutModel",
       "_view_count": null,
       "_view_module": "@jupyter-widgets/base",
       "_view_module_version": "1.2.0",
       "_view_name": "LayoutView",
       "align_content": null,
       "align_items": null,
       "align_self": null,
       "border": null,
       "bottom": null,
       "display": null,
       "flex": null,
       "flex_flow": null,
       "grid_area": null,
       "grid_auto_columns": null,
       "grid_auto_flow": null,
       "grid_auto_rows": null,
       "grid_column": null,
       "grid_gap": null,
       "grid_row": null,
       "grid_template_areas": null,
       "grid_template_columns": null,
       "grid_template_rows": null,
       "height": null,
       "justify_content": null,
       "justify_items": null,
       "left": null,
       "margin": null,
       "max_height": null,
       "max_width": null,
       "min_height": null,
       "min_width": null,
       "object_fit": null,
       "object_position": null,
       "order": null,
       "overflow": null,
       "overflow_x": null,
       "overflow_y": null,
       "padding": null,
       "right": null,
       "top": null,
       "visibility": null,
       "width": null
      }
     },
     "b40cea12b58c47a399feaa9e04678d66": {
      "model_module": "@jupyter-widgets/controls",
      "model_module_version": "1.5.0",
      "model_name": "FloatProgressModel",
      "state": {
       "_dom_classes": [],
       "_model_module": "@jupyter-widgets/controls",
       "_model_module_version": "1.5.0",
       "_model_name": "FloatProgressModel",
       "_view_count": null,
       "_view_module": "@jupyter-widgets/controls",
       "_view_module_version": "1.5.0",
       "_view_name": "ProgressView",
       "bar_style": "success",
       "description": "",
       "description_tooltip": null,
       "layout": "IPY_MODEL_90bb5d65ef234bf6b993effc12a4b911",
       "max": 1.0,
       "min": 0.0,
       "orientation": "horizontal",
       "style": "IPY_MODEL_2ab990ee63ff4a38892d8d6220de4a65",
       "value": 1.0
      }
     },
     "bab00b8fba3745bf889972482f884498": {
      "model_module": "@jupyter-widgets/controls",
      "model_module_version": "1.5.0",
      "model_name": "DescriptionStyleModel",
      "state": {
       "_model_module": "@jupyter-widgets/controls",
       "_model_module_version": "1.5.0",
       "_model_name": "DescriptionStyleModel",
       "_view_count": null,
       "_view_module": "@jupyter-widgets/base",
       "_view_module_version": "1.2.0",
       "_view_name": "StyleView",
       "description_width": ""
      }
     },
     "bcb5b186283e45f8af9aa6ccec2fe870": {
      "model_module": "@jupyter-widgets/base",
      "model_module_version": "1.2.0",
      "model_name": "LayoutModel",
      "state": {
       "_model_module": "@jupyter-widgets/base",
       "_model_module_version": "1.2.0",
       "_model_name": "LayoutModel",
       "_view_count": null,
       "_view_module": "@jupyter-widgets/base",
       "_view_module_version": "1.2.0",
       "_view_name": "LayoutView",
       "align_content": null,
       "align_items": null,
       "align_self": null,
       "border": null,
       "bottom": null,
       "display": null,
       "flex": null,
       "flex_flow": null,
       "grid_area": null,
       "grid_auto_columns": null,
       "grid_auto_flow": null,
       "grid_auto_rows": null,
       "grid_column": null,
       "grid_gap": null,
       "grid_row": null,
       "grid_template_areas": null,
       "grid_template_columns": null,
       "grid_template_rows": null,
       "height": null,
       "justify_content": null,
       "justify_items": null,
       "left": null,
       "margin": null,
       "max_height": null,
       "max_width": null,
       "min_height": null,
       "min_width": null,
       "object_fit": null,
       "object_position": null,
       "order": null,
       "overflow": null,
       "overflow_x": null,
       "overflow_y": null,
       "padding": null,
       "right": null,
       "top": null,
       "visibility": null,
       "width": "20px"
      }
     },
     "bd59a30018c2410f92688f69f4c4b7bd": {
      "model_module": "@jupyter-widgets/base",
      "model_module_version": "1.2.0",
      "model_name": "LayoutModel",
      "state": {
       "_model_module": "@jupyter-widgets/base",
       "_model_module_version": "1.2.0",
       "_model_name": "LayoutModel",
       "_view_count": null,
       "_view_module": "@jupyter-widgets/base",
       "_view_module_version": "1.2.0",
       "_view_name": "LayoutView",
       "align_content": null,
       "align_items": null,
       "align_self": null,
       "border": null,
       "bottom": null,
       "display": null,
       "flex": null,
       "flex_flow": null,
       "grid_area": null,
       "grid_auto_columns": null,
       "grid_auto_flow": null,
       "grid_auto_rows": null,
       "grid_column": null,
       "grid_gap": null,
       "grid_row": null,
       "grid_template_areas": null,
       "grid_template_columns": null,
       "grid_template_rows": null,
       "height": null,
       "justify_content": null,
       "justify_items": null,
       "left": null,
       "margin": null,
       "max_height": null,
       "max_width": null,
       "min_height": null,
       "min_width": null,
       "object_fit": null,
       "object_position": null,
       "order": null,
       "overflow": null,
       "overflow_x": null,
       "overflow_y": null,
       "padding": null,
       "right": null,
       "top": null,
       "visibility": null,
       "width": null
      }
     },
     "c002312ac4324f35b696239ffbf8fd10": {
      "model_module": "@jupyter-widgets/controls",
      "model_module_version": "1.5.0",
      "model_name": "HTMLModel",
      "state": {
       "_dom_classes": [],
       "_model_module": "@jupyter-widgets/controls",
       "_model_module_version": "1.5.0",
       "_model_name": "HTMLModel",
       "_view_count": null,
       "_view_module": "@jupyter-widgets/controls",
       "_view_module_version": "1.5.0",
       "_view_name": "HTMLView",
       "description": "",
       "description_tooltip": null,
       "layout": "IPY_MODEL_0a8c3adb33724911a677c1ad280a99fd",
       "placeholder": "​",
       "style": "IPY_MODEL_c3a633fc6027404796ce561f4add1332",
       "value": " 3/3 [00:00&lt;00:00, 228.47it/s]"
      }
     },
     "c1405dfd08444eafa3f50b91e47b9392": {
      "model_module": "@jupyter-widgets/controls",
      "model_module_version": "1.5.0",
      "model_name": "HTMLModel",
      "state": {
       "_dom_classes": [],
       "_model_module": "@jupyter-widgets/controls",
       "_model_module_version": "1.5.0",
       "_model_name": "HTMLModel",
       "_view_count": null,
       "_view_module": "@jupyter-widgets/controls",
       "_view_module_version": "1.5.0",
       "_view_name": "HTMLView",
       "description": "",
       "description_tooltip": null,
       "layout": "IPY_MODEL_1e2487296e29432db27201c2b5d918d9",
       "placeholder": "​",
       "style": "IPY_MODEL_8f4c60306b1b4759ab3cea568eb0d251",
       "value": " 239/0 [00:00&lt;00:00, 9986.04 examples/s]"
      }
     },
     "c15754e5e6734d02811368997aa1a928": {
      "model_module": "@jupyter-widgets/controls",
      "model_module_version": "1.5.0",
      "model_name": "DescriptionStyleModel",
      "state": {
       "_model_module": "@jupyter-widgets/controls",
       "_model_module_version": "1.5.0",
       "_model_name": "DescriptionStyleModel",
       "_view_count": null,
       "_view_module": "@jupyter-widgets/base",
       "_view_module_version": "1.2.0",
       "_view_name": "StyleView",
       "description_width": ""
      }
     },
     "c16018d4c3b54145a481411ccd9bbbd8": {
      "model_module": "@jupyter-widgets/controls",
      "model_module_version": "1.5.0",
      "model_name": "ProgressStyleModel",
      "state": {
       "_model_module": "@jupyter-widgets/controls",
       "_model_module_version": "1.5.0",
       "_model_name": "ProgressStyleModel",
       "_view_count": null,
       "_view_module": "@jupyter-widgets/base",
       "_view_module_version": "1.2.0",
       "_view_name": "StyleView",
       "bar_color": null,
       "description_width": ""
      }
     },
     "c25cd489d2bc440fa5152e53c267cb6b": {
      "model_module": "@jupyter-widgets/controls",
      "model_module_version": "1.5.0",
      "model_name": "HTMLModel",
      "state": {
       "_dom_classes": [],
       "_model_module": "@jupyter-widgets/controls",
       "_model_module_version": "1.5.0",
       "_model_name": "HTMLModel",
       "_view_count": null,
       "_view_module": "@jupyter-widgets/controls",
       "_view_module_version": "1.5.0",
       "_view_name": "HTMLView",
       "description": "",
       "description_tooltip": null,
       "layout": "IPY_MODEL_c27427f5bb5d4cd89f37e9759f46b08b",
       "placeholder": "​",
       "style": "IPY_MODEL_bab00b8fba3745bf889972482f884498",
       "value": "Map: 100%"
      }
     },
     "c27427f5bb5d4cd89f37e9759f46b08b": {
      "model_module": "@jupyter-widgets/base",
      "model_module_version": "1.2.0",
      "model_name": "LayoutModel",
      "state": {
       "_model_module": "@jupyter-widgets/base",
       "_model_module_version": "1.2.0",
       "_model_name": "LayoutModel",
       "_view_count": null,
       "_view_module": "@jupyter-widgets/base",
       "_view_module_version": "1.2.0",
       "_view_name": "LayoutView",
       "align_content": null,
       "align_items": null,
       "align_self": null,
       "border": null,
       "bottom": null,
       "display": null,
       "flex": null,
       "flex_flow": null,
       "grid_area": null,
       "grid_auto_columns": null,
       "grid_auto_flow": null,
       "grid_auto_rows": null,
       "grid_column": null,
       "grid_gap": null,
       "grid_row": null,
       "grid_template_areas": null,
       "grid_template_columns": null,
       "grid_template_rows": null,
       "height": null,
       "justify_content": null,
       "justify_items": null,
       "left": null,
       "margin": null,
       "max_height": null,
       "max_width": null,
       "min_height": null,
       "min_width": null,
       "object_fit": null,
       "object_position": null,
       "order": null,
       "overflow": null,
       "overflow_x": null,
       "overflow_y": null,
       "padding": null,
       "right": null,
       "top": null,
       "visibility": null,
       "width": null
      }
     },
     "c2e40b895f3c499f8b0ad2216d59b854": {
      "model_module": "@jupyter-widgets/base",
      "model_module_version": "1.2.0",
      "model_name": "LayoutModel",
      "state": {
       "_model_module": "@jupyter-widgets/base",
       "_model_module_version": "1.2.0",
       "_model_name": "LayoutModel",
       "_view_count": null,
       "_view_module": "@jupyter-widgets/base",
       "_view_module_version": "1.2.0",
       "_view_name": "LayoutView",
       "align_content": null,
       "align_items": null,
       "align_self": null,
       "border": null,
       "bottom": null,
       "display": null,
       "flex": null,
       "flex_flow": null,
       "grid_area": null,
       "grid_auto_columns": null,
       "grid_auto_flow": null,
       "grid_auto_rows": null,
       "grid_column": null,
       "grid_gap": null,
       "grid_row": null,
       "grid_template_areas": null,
       "grid_template_columns": null,
       "grid_template_rows": null,
       "height": null,
       "justify_content": null,
       "justify_items": null,
       "left": null,
       "margin": null,
       "max_height": null,
       "max_width": null,
       "min_height": null,
       "min_width": null,
       "object_fit": null,
       "object_position": null,
       "order": null,
       "overflow": null,
       "overflow_x": null,
       "overflow_y": null,
       "padding": null,
       "right": null,
       "top": null,
       "visibility": null,
       "width": null
      }
     },
     "c3a633fc6027404796ce561f4add1332": {
      "model_module": "@jupyter-widgets/controls",
      "model_module_version": "1.5.0",
      "model_name": "DescriptionStyleModel",
      "state": {
       "_model_module": "@jupyter-widgets/controls",
       "_model_module_version": "1.5.0",
       "_model_name": "DescriptionStyleModel",
       "_view_count": null,
       "_view_module": "@jupyter-widgets/base",
       "_view_module_version": "1.2.0",
       "_view_name": "StyleView",
       "description_width": ""
      }
     },
     "c57898e566df43dea8c00de73c6f9b9f": {
      "model_module": "@jupyter-widgets/base",
      "model_module_version": "1.2.0",
      "model_name": "LayoutModel",
      "state": {
       "_model_module": "@jupyter-widgets/base",
       "_model_module_version": "1.2.0",
       "_model_name": "LayoutModel",
       "_view_count": null,
       "_view_module": "@jupyter-widgets/base",
       "_view_module_version": "1.2.0",
       "_view_name": "LayoutView",
       "align_content": null,
       "align_items": null,
       "align_self": null,
       "border": null,
       "bottom": null,
       "display": null,
       "flex": null,
       "flex_flow": null,
       "grid_area": null,
       "grid_auto_columns": null,
       "grid_auto_flow": null,
       "grid_auto_rows": null,
       "grid_column": null,
       "grid_gap": null,
       "grid_row": null,
       "grid_template_areas": null,
       "grid_template_columns": null,
       "grid_template_rows": null,
       "height": null,
       "justify_content": null,
       "justify_items": null,
       "left": null,
       "margin": null,
       "max_height": null,
       "max_width": null,
       "min_height": null,
       "min_width": null,
       "object_fit": null,
       "object_position": null,
       "order": null,
       "overflow": null,
       "overflow_x": null,
       "overflow_y": null,
       "padding": null,
       "right": null,
       "top": null,
       "visibility": null,
       "width": null
      }
     },
     "c97da304a7784a83bdd84fb824e511b8": {
      "model_module": "@jupyter-widgets/controls",
      "model_module_version": "1.5.0",
      "model_name": "HTMLModel",
      "state": {
       "_dom_classes": [],
       "_model_module": "@jupyter-widgets/controls",
       "_model_module_version": "1.5.0",
       "_model_name": "HTMLModel",
       "_view_count": null,
       "_view_module": "@jupyter-widgets/controls",
       "_view_module_version": "1.5.0",
       "_view_name": "HTMLView",
       "description": "",
       "description_tooltip": null,
       "layout": "IPY_MODEL_8154fd99c473469eb61d1e6bb8bf1f4c",
       "placeholder": "​",
       "style": "IPY_MODEL_13cda5ef90dd4a42803ae19f61a7a22d",
       "value": " 268M/268M [00:07&lt;00:00, 40.5MB/s]"
      }
     },
     "ca9987e818e8459fbdd10ca82e535d2d": {
      "model_module": "@jupyter-widgets/controls",
      "model_module_version": "1.5.0",
      "model_name": "DescriptionStyleModel",
      "state": {
       "_model_module": "@jupyter-widgets/controls",
       "_model_module_version": "1.5.0",
       "_model_name": "DescriptionStyleModel",
       "_view_count": null,
       "_view_module": "@jupyter-widgets/base",
       "_view_module_version": "1.2.0",
       "_view_name": "StyleView",
       "description_width": ""
      }
     },
     "caa56606bbdd4401ad37d72448bc8c17": {
      "model_module": "@jupyter-widgets/controls",
      "model_module_version": "1.5.0",
      "model_name": "FloatProgressModel",
      "state": {
       "_dom_classes": [],
       "_model_module": "@jupyter-widgets/controls",
       "_model_module_version": "1.5.0",
       "_model_name": "FloatProgressModel",
       "_view_count": null,
       "_view_module": "@jupyter-widgets/controls",
       "_view_module_version": "1.5.0",
       "_view_name": "ProgressView",
       "bar_style": "success",
       "description": "",
       "description_tooltip": null,
       "layout": "IPY_MODEL_61cb2797021a481890b025faaf8b8f63",
       "max": 714.0,
       "min": 0.0,
       "orientation": "horizontal",
       "style": "IPY_MODEL_b028acc66bd3427d9b019d386562ed76",
       "value": 714.0
      }
     },
     "ccdf654cdce248b6b8ecd9216cc53be3": {
      "model_module": "@jupyter-widgets/controls",
      "model_module_version": "1.5.0",
      "model_name": "FloatProgressModel",
      "state": {
       "_dom_classes": [],
       "_model_module": "@jupyter-widgets/controls",
       "_model_module_version": "1.5.0",
       "_model_name": "FloatProgressModel",
       "_view_count": null,
       "_view_module": "@jupyter-widgets/controls",
       "_view_module_version": "1.5.0",
       "_view_name": "ProgressView",
       "bar_style": "success",
       "description": "",
       "description_tooltip": null,
       "layout": "IPY_MODEL_bd59a30018c2410f92688f69f4c4b7bd",
       "max": 414.0,
       "min": 0.0,
       "orientation": "horizontal",
       "style": "IPY_MODEL_155752cc788f46fc9565b7169bd133df",
       "value": 414.0
      }
     },
     "cec40829bd0d4f398ba33d8a41ba89a8": {
      "model_module": "@jupyter-widgets/controls",
      "model_module_version": "1.5.0",
      "model_name": "DescriptionStyleModel",
      "state": {
       "_model_module": "@jupyter-widgets/controls",
       "_model_module_version": "1.5.0",
       "_model_name": "DescriptionStyleModel",
       "_view_count": null,
       "_view_module": "@jupyter-widgets/base",
       "_view_module_version": "1.2.0",
       "_view_name": "StyleView",
       "description_width": ""
      }
     },
     "cf79571230b241c8b7a143bd6a385884": {
      "model_module": "@jupyter-widgets/controls",
      "model_module_version": "1.5.0",
      "model_name": "HTMLModel",
      "state": {
       "_dom_classes": [],
       "_model_module": "@jupyter-widgets/controls",
       "_model_module_version": "1.5.0",
       "_model_name": "HTMLModel",
       "_view_count": null,
       "_view_module": "@jupyter-widgets/controls",
       "_view_module_version": "1.5.0",
       "_view_name": "HTMLView",
       "description": "",
       "description_tooltip": null,
       "layout": "IPY_MODEL_96c0d4e92acf42439eeefe4b26b4ded4",
       "placeholder": "​",
       "style": "IPY_MODEL_cec40829bd0d4f398ba33d8a41ba89a8",
       "value": "Generating validation split: "
      }
     },
     "cf7eca7af7c744dbb087f1d2569ea1a2": {
      "model_module": "@jupyter-widgets/controls",
      "model_module_version": "1.5.0",
      "model_name": "HBoxModel",
      "state": {
       "_dom_classes": [],
       "_model_module": "@jupyter-widgets/controls",
       "_model_module_version": "1.5.0",
       "_model_name": "HBoxModel",
       "_view_count": null,
       "_view_module": "@jupyter-widgets/controls",
       "_view_module_version": "1.5.0",
       "_view_name": "HBoxView",
       "box_style": "",
       "children": [
        "IPY_MODEL_da870d91580644099b80c22a1ca7567e",
        "IPY_MODEL_3dc3244ee9ff4af6856939a293fbc745",
        "IPY_MODEL_1475c09610bf40abbc50a3fe5f3065c3"
       ],
       "layout": "IPY_MODEL_c57898e566df43dea8c00de73c6f9b9f"
      }
     },
     "d388d26ea8b24375a85837b04bded0f9": {
      "model_module": "@jupyter-widgets/controls",
      "model_module_version": "1.5.0",
      "model_name": "ProgressStyleModel",
      "state": {
       "_model_module": "@jupyter-widgets/controls",
       "_model_module_version": "1.5.0",
       "_model_name": "ProgressStyleModel",
       "_view_count": null,
       "_view_module": "@jupyter-widgets/base",
       "_view_module_version": "1.2.0",
       "_view_name": "StyleView",
       "bar_color": null,
       "description_width": ""
      }
     },
     "d640ba50d10b4ae6881de3594f297a65": {
      "model_module": "@jupyter-widgets/controls",
      "model_module_version": "1.5.0",
      "model_name": "DescriptionStyleModel",
      "state": {
       "_model_module": "@jupyter-widgets/controls",
       "_model_module_version": "1.5.0",
       "_model_name": "DescriptionStyleModel",
       "_view_count": null,
       "_view_module": "@jupyter-widgets/base",
       "_view_module_version": "1.2.0",
       "_view_name": "StyleView",
       "description_width": ""
      }
     },
     "da870d91580644099b80c22a1ca7567e": {
      "model_module": "@jupyter-widgets/controls",
      "model_module_version": "1.5.0",
      "model_name": "HTMLModel",
      "state": {
       "_dom_classes": [],
       "_model_module": "@jupyter-widgets/controls",
       "_model_module_version": "1.5.0",
       "_model_name": "HTMLModel",
       "_view_count": null,
       "_view_module": "@jupyter-widgets/controls",
       "_view_module_version": "1.5.0",
       "_view_name": "HTMLView",
       "description": "",
       "description_tooltip": null,
       "layout": "IPY_MODEL_33fafedb7dad4414bcf0531cc626963e",
       "placeholder": "​",
       "style": "IPY_MODEL_36f1408aed8e44d69881e2bf931bd0ba",
       "value": "Map: 100%"
      }
     },
     "dc012c0c38fe469ebfa1eac793285050": {
      "model_module": "@jupyter-widgets/controls",
      "model_module_version": "1.5.0",
      "model_name": "DescriptionStyleModel",
      "state": {
       "_model_module": "@jupyter-widgets/controls",
       "_model_module_version": "1.5.0",
       "_model_name": "DescriptionStyleModel",
       "_view_count": null,
       "_view_module": "@jupyter-widgets/base",
       "_view_module_version": "1.2.0",
       "_view_name": "StyleView",
       "description_width": ""
      }
     },
     "dcf96c63f5814a0a97b0d6d87fa3d85b": {
      "model_module": "@jupyter-widgets/controls",
      "model_module_version": "1.5.0",
      "model_name": "FloatProgressModel",
      "state": {
       "_dom_classes": [],
       "_model_module": "@jupyter-widgets/controls",
       "_model_module_version": "1.5.0",
       "_model_name": "FloatProgressModel",
       "_view_count": null,
       "_view_module": "@jupyter-widgets/controls",
       "_view_module_version": "1.5.0",
       "_view_name": "ProgressView",
       "bar_style": "success",
       "description": "",
       "description_tooltip": null,
       "layout": "IPY_MODEL_8ae4ca00d76a4542a1a5e92eb10646f5",
       "max": 1346910.0,
       "min": 0.0,
       "orientation": "horizontal",
       "style": "IPY_MODEL_f6c9ebc12e414a72834255328f83b3f3",
       "value": 1346910.0
      }
     },
     "ddc65b003eee4902b8ab42d4064bc19f": {
      "model_module": "@jupyter-widgets/controls",
      "model_module_version": "1.5.0",
      "model_name": "ProgressStyleModel",
      "state": {
       "_model_module": "@jupyter-widgets/controls",
       "_model_module_version": "1.5.0",
       "_model_name": "ProgressStyleModel",
       "_view_count": null,
       "_view_module": "@jupyter-widgets/base",
       "_view_module_version": "1.2.0",
       "_view_name": "StyleView",
       "bar_color": null,
       "description_width": ""
      }
     },
     "def3d215420548058ca0667ad3d97bfb": {
      "model_module": "@jupyter-widgets/controls",
      "model_module_version": "1.5.0",
      "model_name": "HTMLModel",
      "state": {
       "_dom_classes": [],
       "_model_module": "@jupyter-widgets/controls",
       "_model_module_version": "1.5.0",
       "_model_name": "HTMLModel",
       "_view_count": null,
       "_view_module": "@jupyter-widgets/controls",
       "_view_module_version": "1.5.0",
       "_view_name": "HTMLView",
       "description": "",
       "description_tooltip": null,
       "layout": "IPY_MODEL_a027f58db9e94e368ee06166f390813f",
       "placeholder": "​",
       "style": "IPY_MODEL_f413881a6fd5469caac5d1d07ed5f509",
       "value": "special_tokens_map.json: 100%"
      }
     },
     "df6cbe8087cb42cb8dd1aabd099b418e": {
      "model_module": "@jupyter-widgets/base",
      "model_module_version": "1.2.0",
      "model_name": "LayoutModel",
      "state": {
       "_model_module": "@jupyter-widgets/base",
       "_model_module_version": "1.2.0",
       "_model_name": "LayoutModel",
       "_view_count": null,
       "_view_module": "@jupyter-widgets/base",
       "_view_module_version": "1.2.0",
       "_view_name": "LayoutView",
       "align_content": null,
       "align_items": null,
       "align_self": null,
       "border": null,
       "bottom": null,
       "display": null,
       "flex": null,
       "flex_flow": null,
       "grid_area": null,
       "grid_auto_columns": null,
       "grid_auto_flow": null,
       "grid_auto_rows": null,
       "grid_column": null,
       "grid_gap": null,
       "grid_row": null,
       "grid_template_areas": null,
       "grid_template_columns": null,
       "grid_template_rows": null,
       "height": null,
       "justify_content": null,
       "justify_items": null,
       "left": null,
       "margin": null,
       "max_height": null,
       "max_width": null,
       "min_height": null,
       "min_width": null,
       "object_fit": null,
       "object_position": null,
       "order": null,
       "overflow": null,
       "overflow_x": null,
       "overflow_y": null,
       "padding": null,
       "right": null,
       "top": null,
       "visibility": null,
       "width": null
      }
     },
     "e0a94056886341ebafc0ceb0d306f32c": {
      "model_module": "@jupyter-widgets/controls",
      "model_module_version": "1.5.0",
      "model_name": "HTMLModel",
      "state": {
       "_dom_classes": [],
       "_model_module": "@jupyter-widgets/controls",
       "_model_module_version": "1.5.0",
       "_model_name": "HTMLModel",
       "_view_count": null,
       "_view_module": "@jupyter-widgets/controls",
       "_view_module_version": "1.5.0",
       "_view_name": "HTMLView",
       "description": "",
       "description_tooltip": null,
       "layout": "IPY_MODEL_67caacecf9aa40eba7fd85cb208ab1a6",
       "placeholder": "​",
       "style": "IPY_MODEL_ad4faf089eb44ac8aeb964df3973efa3",
       "value": "Downloading data files: 100%"
      }
     },
     "e3e1552f27da4a4e9a925e1ae1d47250": {
      "model_module": "@jupyter-widgets/controls",
      "model_module_version": "1.5.0",
      "model_name": "HBoxModel",
      "state": {
       "_dom_classes": [],
       "_model_module": "@jupyter-widgets/controls",
       "_model_module_version": "1.5.0",
       "_model_name": "HBoxModel",
       "_view_count": null,
       "_view_module": "@jupyter-widgets/controls",
       "_view_module_version": "1.5.0",
       "_view_name": "HBoxView",
       "box_style": "",
       "children": [
        "IPY_MODEL_69bd2f79b34a4484afb3c39d17ad4176",
        "IPY_MODEL_dcf96c63f5814a0a97b0d6d87fa3d85b",
        "IPY_MODEL_497eb238a8114bcf8fc1af416cc8d399"
       ],
       "layout": "IPY_MODEL_5dd410e116f54f9bb4437b6b16320fe5"
      }
     },
     "e85bcc0061c34d59acad0400e5a22de1": {
      "model_module": "@jupyter-widgets/base",
      "model_module_version": "1.2.0",
      "model_name": "LayoutModel",
      "state": {
       "_model_module": "@jupyter-widgets/base",
       "_model_module_version": "1.2.0",
       "_model_name": "LayoutModel",
       "_view_count": null,
       "_view_module": "@jupyter-widgets/base",
       "_view_module_version": "1.2.0",
       "_view_name": "LayoutView",
       "align_content": null,
       "align_items": null,
       "align_self": null,
       "border": null,
       "bottom": null,
       "display": null,
       "flex": null,
       "flex_flow": null,
       "grid_area": null,
       "grid_auto_columns": null,
       "grid_auto_flow": null,
       "grid_auto_rows": null,
       "grid_column": null,
       "grid_gap": null,
       "grid_row": null,
       "grid_template_areas": null,
       "grid_template_columns": null,
       "grid_template_rows": null,
       "height": null,
       "justify_content": null,
       "justify_items": null,
       "left": null,
       "margin": null,
       "max_height": null,
       "max_width": null,
       "min_height": null,
       "min_width": null,
       "object_fit": null,
       "object_position": null,
       "order": null,
       "overflow": null,
       "overflow_x": null,
       "overflow_y": null,
       "padding": null,
       "right": null,
       "top": null,
       "visibility": null,
       "width": null
      }
     },
     "ea673ac2a9d94930b542aa02c2b8291b": {
      "model_module": "@jupyter-widgets/controls",
      "model_module_version": "1.5.0",
      "model_name": "DescriptionStyleModel",
      "state": {
       "_model_module": "@jupyter-widgets/controls",
       "_model_module_version": "1.5.0",
       "_model_name": "DescriptionStyleModel",
       "_view_count": null,
       "_view_module": "@jupyter-widgets/base",
       "_view_module_version": "1.2.0",
       "_view_name": "StyleView",
       "description_width": ""
      }
     },
     "ec632d1658bc462fbe51755a8ed86640": {
      "model_module": "@jupyter-widgets/base",
      "model_module_version": "1.2.0",
      "model_name": "LayoutModel",
      "state": {
       "_model_module": "@jupyter-widgets/base",
       "_model_module_version": "1.2.0",
       "_model_name": "LayoutModel",
       "_view_count": null,
       "_view_module": "@jupyter-widgets/base",
       "_view_module_version": "1.2.0",
       "_view_name": "LayoutView",
       "align_content": null,
       "align_items": null,
       "align_self": null,
       "border": null,
       "bottom": null,
       "display": null,
       "flex": null,
       "flex_flow": null,
       "grid_area": null,
       "grid_auto_columns": null,
       "grid_auto_flow": null,
       "grid_auto_rows": null,
       "grid_column": null,
       "grid_gap": null,
       "grid_row": null,
       "grid_template_areas": null,
       "grid_template_columns": null,
       "grid_template_rows": null,
       "height": null,
       "justify_content": null,
       "justify_items": null,
       "left": null,
       "margin": null,
       "max_height": null,
       "max_width": null,
       "min_height": null,
       "min_width": null,
       "object_fit": null,
       "object_position": null,
       "order": null,
       "overflow": null,
       "overflow_x": null,
       "overflow_y": null,
       "padding": null,
       "right": null,
       "top": null,
       "visibility": null,
       "width": null
      }
     },
     "f1ab97f475fd44c5932a3bf9c57e0b00": {
      "model_module": "@jupyter-widgets/controls",
      "model_module_version": "1.5.0",
      "model_name": "DescriptionStyleModel",
      "state": {
       "_model_module": "@jupyter-widgets/controls",
       "_model_module_version": "1.5.0",
       "_model_name": "DescriptionStyleModel",
       "_view_count": null,
       "_view_module": "@jupyter-widgets/base",
       "_view_module_version": "1.2.0",
       "_view_name": "StyleView",
       "description_width": ""
      }
     },
     "f305fa15de5b4cb1b1590cbbbdb46583": {
      "model_module": "@jupyter-widgets/controls",
      "model_module_version": "1.5.0",
      "model_name": "DescriptionStyleModel",
      "state": {
       "_model_module": "@jupyter-widgets/controls",
       "_model_module_version": "1.5.0",
       "_model_name": "DescriptionStyleModel",
       "_view_count": null,
       "_view_module": "@jupyter-widgets/base",
       "_view_module_version": "1.2.0",
       "_view_name": "StyleView",
       "description_width": ""
      }
     },
     "f413881a6fd5469caac5d1d07ed5f509": {
      "model_module": "@jupyter-widgets/controls",
      "model_module_version": "1.5.0",
      "model_name": "DescriptionStyleModel",
      "state": {
       "_model_module": "@jupyter-widgets/controls",
       "_model_module_version": "1.5.0",
       "_model_name": "DescriptionStyleModel",
       "_view_count": null,
       "_view_module": "@jupyter-widgets/base",
       "_view_module_version": "1.2.0",
       "_view_name": "StyleView",
       "description_width": ""
      }
     },
     "f55d2d3c78244b78b1f6ea3726ec5cee": {
      "model_module": "@jupyter-widgets/controls",
      "model_module_version": "1.5.0",
      "model_name": "DescriptionStyleModel",
      "state": {
       "_model_module": "@jupyter-widgets/controls",
       "_model_module_version": "1.5.0",
       "_model_name": "DescriptionStyleModel",
       "_view_count": null,
       "_view_module": "@jupyter-widgets/base",
       "_view_module_version": "1.2.0",
       "_view_name": "StyleView",
       "description_width": ""
      }
     },
     "f60367e292584ab6b6cfc058d9a32c8d": {
      "model_module": "@jupyter-widgets/controls",
      "model_module_version": "1.5.0",
      "model_name": "HTMLModel",
      "state": {
       "_dom_classes": [],
       "_model_module": "@jupyter-widgets/controls",
       "_model_module_version": "1.5.0",
       "_model_name": "HTMLModel",
       "_view_count": null,
       "_view_module": "@jupyter-widgets/controls",
       "_view_module_version": "1.5.0",
       "_view_name": "HTMLView",
       "description": "",
       "description_tooltip": null,
       "layout": "IPY_MODEL_fe17db16f70b4a1dac9380719230622d",
       "placeholder": "​",
       "style": "IPY_MODEL_f1ab97f475fd44c5932a3bf9c57e0b00",
       "value": " 239/239 [00:00&lt;00:00, 6778.59 examples/s]"
      }
     },
     "f6c9ebc12e414a72834255328f83b3f3": {
      "model_module": "@jupyter-widgets/controls",
      "model_module_version": "1.5.0",
      "model_name": "ProgressStyleModel",
      "state": {
       "_model_module": "@jupyter-widgets/controls",
       "_model_module_version": "1.5.0",
       "_model_name": "ProgressStyleModel",
       "_view_count": null,
       "_view_module": "@jupyter-widgets/base",
       "_view_module_version": "1.2.0",
       "_view_name": "StyleView",
       "bar_color": null,
       "description_width": ""
      }
     },
     "f7ee38a77ec34a0eb076deb1bb2eeb67": {
      "model_module": "@jupyter-widgets/base",
      "model_module_version": "1.2.0",
      "model_name": "LayoutModel",
      "state": {
       "_model_module": "@jupyter-widgets/base",
       "_model_module_version": "1.2.0",
       "_model_name": "LayoutModel",
       "_view_count": null,
       "_view_module": "@jupyter-widgets/base",
       "_view_module_version": "1.2.0",
       "_view_name": "LayoutView",
       "align_content": null,
       "align_items": null,
       "align_self": null,
       "border": null,
       "bottom": null,
       "display": null,
       "flex": null,
       "flex_flow": null,
       "grid_area": null,
       "grid_auto_columns": null,
       "grid_auto_flow": null,
       "grid_auto_rows": null,
       "grid_column": null,
       "grid_gap": null,
       "grid_row": null,
       "grid_template_areas": null,
       "grid_template_columns": null,
       "grid_template_rows": null,
       "height": null,
       "justify_content": null,
       "justify_items": null,
       "left": null,
       "margin": null,
       "max_height": null,
       "max_width": null,
       "min_height": null,
       "min_width": null,
       "object_fit": null,
       "object_position": null,
       "order": null,
       "overflow": null,
       "overflow_x": null,
       "overflow_y": null,
       "padding": null,
       "right": null,
       "top": null,
       "visibility": null,
       "width": null
      }
     },
     "f7ff4284ea004729876cf6d80bdf6b7b": {
      "model_module": "@jupyter-widgets/controls",
      "model_module_version": "1.5.0",
      "model_name": "HTMLModel",
      "state": {
       "_dom_classes": [],
       "_model_module": "@jupyter-widgets/controls",
       "_model_module_version": "1.5.0",
       "_model_name": "HTMLModel",
       "_view_count": null,
       "_view_module": "@jupyter-widgets/controls",
       "_view_module_version": "1.5.0",
       "_view_name": "HTMLView",
       "description": "",
       "description_tooltip": null,
       "layout": "IPY_MODEL_787c3b890ca9423a9e6bea6f9c234315",
       "placeholder": "​",
       "style": "IPY_MODEL_9f58df2d9b6649b696e5e3c183d66ac6",
       "value": "Generating train split: "
      }
     },
     "faf9d16acdac4660b293d6b77257e040": {
      "model_module": "@jupyter-widgets/base",
      "model_module_version": "1.2.0",
      "model_name": "LayoutModel",
      "state": {
       "_model_module": "@jupyter-widgets/base",
       "_model_module_version": "1.2.0",
       "_model_name": "LayoutModel",
       "_view_count": null,
       "_view_module": "@jupyter-widgets/base",
       "_view_module_version": "1.2.0",
       "_view_name": "LayoutView",
       "align_content": null,
       "align_items": null,
       "align_self": null,
       "border": null,
       "bottom": null,
       "display": null,
       "flex": null,
       "flex_flow": null,
       "grid_area": null,
       "grid_auto_columns": null,
       "grid_auto_flow": null,
       "grid_auto_rows": null,
       "grid_column": null,
       "grid_gap": null,
       "grid_row": null,
       "grid_template_areas": null,
       "grid_template_columns": null,
       "grid_template_rows": null,
       "height": null,
       "justify_content": null,
       "justify_items": null,
       "left": null,
       "margin": null,
       "max_height": null,
       "max_width": null,
       "min_height": null,
       "min_width": null,
       "object_fit": null,
       "object_position": null,
       "order": null,
       "overflow": null,
       "overflow_x": null,
       "overflow_y": null,
       "padding": null,
       "right": null,
       "top": null,
       "visibility": null,
       "width": null
      }
     },
     "fb708438f3954a24a0c28c8f28a5ea76": {
      "model_module": "@jupyter-widgets/controls",
      "model_module_version": "1.5.0",
      "model_name": "ProgressStyleModel",
      "state": {
       "_model_module": "@jupyter-widgets/controls",
       "_model_module_version": "1.5.0",
       "_model_name": "ProgressStyleModel",
       "_view_count": null,
       "_view_module": "@jupyter-widgets/base",
       "_view_module_version": "1.2.0",
       "_view_name": "StyleView",
       "bar_color": null,
       "description_width": ""
      }
     },
     "fbd2f0d697764f21abc00bb6342091fe": {
      "model_module": "@jupyter-widgets/controls",
      "model_module_version": "1.5.0",
      "model_name": "HTMLModel",
      "state": {
       "_dom_classes": [],
       "_model_module": "@jupyter-widgets/controls",
       "_model_module_version": "1.5.0",
       "_model_name": "HTMLModel",
       "_view_count": null,
       "_view_module": "@jupyter-widgets/controls",
       "_view_module_version": "1.5.0",
       "_view_name": "HTMLView",
       "description": "",
       "description_tooltip": null,
       "layout": "IPY_MODEL_b0a323243a4b4e50a5af0df68d509b25",
       "placeholder": "​",
       "style": "IPY_MODEL_f55d2d3c78244b78b1f6ea3726ec5cee",
       "value": " 3/3 [00:00&lt;00:00, 82.38it/s]"
      }
     },
     "fc9897384abc4051a147bf61579a196d": {
      "model_module": "@jupyter-widgets/controls",
      "model_module_version": "1.5.0",
      "model_name": "HBoxModel",
      "state": {
       "_dom_classes": [],
       "_model_module": "@jupyter-widgets/controls",
       "_model_module_version": "1.5.0",
       "_model_name": "HBoxModel",
       "_view_count": null,
       "_view_module": "@jupyter-widgets/controls",
       "_view_module_version": "1.5.0",
       "_view_name": "HBoxView",
       "box_style": "",
       "children": [
        "IPY_MODEL_e0a94056886341ebafc0ceb0d306f32c",
        "IPY_MODEL_8f415a82087e4353ad9dffd141760a1a",
        "IPY_MODEL_c002312ac4324f35b696239ffbf8fd10"
       ],
       "layout": "IPY_MODEL_97167b0344934c87a388d991c3bf356d"
      }
     },
     "fdc3d9461dfb448690a9936f09bc8616": {
      "model_module": "@jupyter-widgets/controls",
      "model_module_version": "1.5.0",
      "model_name": "HBoxModel",
      "state": {
       "_dom_classes": [],
       "_model_module": "@jupyter-widgets/controls",
       "_model_module_version": "1.5.0",
       "_model_name": "HBoxModel",
       "_view_count": null,
       "_view_module": "@jupyter-widgets/controls",
       "_view_module_version": "1.5.0",
       "_view_name": "HBoxView",
       "box_style": "",
       "children": [
        "IPY_MODEL_42797fd131db4e6aaaa8ed28aa3e1d6d",
        "IPY_MODEL_907065ebbc284819877f9019e3042ac0",
        "IPY_MODEL_fbd2f0d697764f21abc00bb6342091fe"
       ],
       "layout": "IPY_MODEL_642a5d8c682a41779ed6dd1cb818de88"
      }
     },
     "fe0f0058ae2b4b95937ccf5d3c47d90e": {
      "model_module": "@jupyter-widgets/controls",
      "model_module_version": "1.5.0",
      "model_name": "FloatProgressModel",
      "state": {
       "_dom_classes": [],
       "_model_module": "@jupyter-widgets/controls",
       "_model_module_version": "1.5.0",
       "_model_name": "FloatProgressModel",
       "_view_count": null,
       "_view_module": "@jupyter-widgets/controls",
       "_view_module_version": "1.5.0",
       "_view_name": "ProgressView",
       "bar_style": "success",
       "description": "",
       "description_tooltip": null,
       "layout": "IPY_MODEL_4631ab8b5e804ef885916ecf690359b7",
       "max": 239.0,
       "min": 0.0,
       "orientation": "horizontal",
       "style": "IPY_MODEL_d388d26ea8b24375a85837b04bded0f9",
       "value": 239.0
      }
     },
     "fe17db16f70b4a1dac9380719230622d": {
      "model_module": "@jupyter-widgets/base",
      "model_module_version": "1.2.0",
      "model_name": "LayoutModel",
      "state": {
       "_model_module": "@jupyter-widgets/base",
       "_model_module_version": "1.2.0",
       "_model_name": "LayoutModel",
       "_view_count": null,
       "_view_module": "@jupyter-widgets/base",
       "_view_module_version": "1.2.0",
       "_view_name": "LayoutView",
       "align_content": null,
       "align_items": null,
       "align_self": null,
       "border": null,
       "bottom": null,
       "display": null,
       "flex": null,
       "flex_flow": null,
       "grid_area": null,
       "grid_auto_columns": null,
       "grid_auto_flow": null,
       "grid_auto_rows": null,
       "grid_column": null,
       "grid_gap": null,
       "grid_row": null,
       "grid_template_areas": null,
       "grid_template_columns": null,
       "grid_template_rows": null,
       "height": null,
       "justify_content": null,
       "justify_items": null,
       "left": null,
       "margin": null,
       "max_height": null,
       "max_width": null,
       "min_height": null,
       "min_width": null,
       "object_fit": null,
       "object_position": null,
       "order": null,
       "overflow": null,
       "overflow_x": null,
       "overflow_y": null,
       "padding": null,
       "right": null,
       "top": null,
       "visibility": null,
       "width": null
      }
     },
     "ff50f38140c34d9da6398c36d7045e39": {
      "model_module": "@jupyter-widgets/controls",
      "model_module_version": "1.5.0",
      "model_name": "HTMLModel",
      "state": {
       "_dom_classes": [],
       "_model_module": "@jupyter-widgets/controls",
       "_model_module_version": "1.5.0",
       "_model_name": "HTMLModel",
       "_view_count": null,
       "_view_module": "@jupyter-widgets/controls",
       "_view_module_version": "1.5.0",
       "_view_name": "HTMLView",
       "description": "",
       "description_tooltip": null,
       "layout": "IPY_MODEL_0397c42bea2d4e5b8007d528a0ee99de",
       "placeholder": "​",
       "style": "IPY_MODEL_76a183fd77074d8bac9da8902095b1d3",
       "value": " 3/3 [00:00&lt;00:00, 345.77it/s]"
      }
     }
    },
    "version_major": 2,
    "version_minor": 0
   }
  }
 },
 "nbformat": 4,
 "nbformat_minor": 5
}
